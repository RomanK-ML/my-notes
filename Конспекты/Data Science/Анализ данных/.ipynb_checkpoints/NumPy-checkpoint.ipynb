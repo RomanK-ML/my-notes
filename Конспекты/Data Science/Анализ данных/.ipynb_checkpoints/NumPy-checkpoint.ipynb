{
 "cells": [
  {
   "cell_type": "markdown",
   "id": "d05c2656",
   "metadata": {},
   "source": [
    "# Документация NumPy"
   ]
  },
  {
   "cell_type": "code",
   "execution_count": 2,
   "id": "8085762d",
   "metadata": {},
   "outputs": [],
   "source": [
    "import numpy as np"
   ]
  },
  {
   "cell_type": "markdown",
   "id": "291c789c",
   "metadata": {},
   "source": [
    "### Квадратный корень"
   ]
  },
  {
   "cell_type": "code",
   "execution_count": 3,
   "id": "8a007be7",
   "metadata": {},
   "outputs": [
    {
     "data": {
      "text/plain": [
       "4.358898943540674"
      ]
     },
     "execution_count": 3,
     "metadata": {},
     "output_type": "execute_result"
    }
   ],
   "source": [
    "np.sqrt(19)"
   ]
  },
  {
   "cell_type": "markdown",
   "id": "e24ca94b",
   "metadata": {},
   "source": [
    "### Логарифм"
   ]
  },
  {
   "cell_type": "code",
   "execution_count": 4,
   "id": "b5774753",
   "metadata": {},
   "outputs": [
    {
     "data": {
      "text/plain": [
       "2.302585092994046"
      ]
     },
     "execution_count": 4,
     "metadata": {},
     "output_type": "execute_result"
    }
   ],
   "source": [
    "np.log(10)"
   ]
  },
  {
   "cell_type": "markdown",
   "id": "a90e4a90",
   "metadata": {},
   "source": [
    "### Среднее арифмитическое"
   ]
  },
  {
   "cell_type": "code",
   "execution_count": 5,
   "id": "a86c29c8",
   "metadata": {},
   "outputs": [
    {
     "data": {
      "text/plain": [
       "36.666666666666664"
      ]
     },
     "execution_count": 5,
     "metadata": {},
     "output_type": "execute_result"
    }
   ],
   "source": [
    "np.mean([20, 34, 56])"
   ]
  },
  {
   "cell_type": "markdown",
   "id": "45750cab",
   "metadata": {},
   "source": [
    "### Медиана"
   ]
  },
  {
   "cell_type": "code",
   "execution_count": 6,
   "id": "0cd35aa4",
   "metadata": {},
   "outputs": [
    {
     "data": {
      "text/plain": [
       "34.0"
      ]
     },
     "execution_count": 6,
     "metadata": {},
     "output_type": "execute_result"
    }
   ],
   "source": [
    "np.median([20, 34, 56])"
   ]
  },
  {
   "cell_type": "markdown",
   "id": "7079e846",
   "metadata": {},
   "source": [
    "### Создание массива"
   ]
  },
  {
   "cell_type": "code",
   "execution_count": 7,
   "id": "afa407e8",
   "metadata": {},
   "outputs": [
    {
     "data": {
      "text/plain": [
       "array([23, 35, 65])"
      ]
     },
     "execution_count": 7,
     "metadata": {},
     "output_type": "execute_result"
    }
   ],
   "source": [
    "np.array([23, 35, 65])"
   ]
  },
  {
   "cell_type": "code",
   "execution_count": 8,
   "id": "532e9f9b",
   "metadata": {},
   "outputs": [
    {
     "data": {
      "text/plain": [
       "array([[23, 58, 34],\n",
       "       [67, 81, 49]])"
      ]
     },
     "execution_count": 8,
     "metadata": {},
     "output_type": "execute_result"
    }
   ],
   "source": [
    "np.array([[23, 58, 34],\n",
    "         [67, 81, 49]])"
   ]
  },
  {
   "cell_type": "code",
   "execution_count": 17,
   "id": "08197b65",
   "metadata": {},
   "outputs": [
    {
     "data": {
      "text/plain": [
       "array([list([0, 0, 1]), list([0, 1])], dtype=object)"
      ]
     },
     "execution_count": 17,
     "metadata": {},
     "output_type": "execute_result"
    }
   ],
   "source": [
    "np.array([[0, 0, 1],\n",
    "         [0, 1]], dtype='object')"
   ]
  },
  {
   "cell_type": "code",
   "execution_count": 11,
   "id": "f79eb4a0",
   "metadata": {},
   "outputs": [
    {
     "data": {
      "text/plain": [
       "array([['Ann', 'Kate'],\n",
       "       ['23', '24']], dtype='<U21')"
      ]
     },
     "execution_count": 11,
     "metadata": {},
     "output_type": "execute_result"
    }
   ],
   "source": [
    "np.array([['Ann', 'Kate'],\n",
    "          [23, 24]])"
   ]
  },
  {
   "cell_type": "markdown",
   "id": "073c0b9c",
   "metadata": {},
   "source": [
    "###  Создание массива от m до n"
   ]
  },
  {
   "cell_type": "code",
   "execution_count": 40,
   "id": "680e47d4",
   "metadata": {},
   "outputs": [
    {
     "data": {
      "text/plain": [
       "array([2, 3, 4, 5, 6, 7, 8])"
      ]
     },
     "execution_count": 40,
     "metadata": {},
     "output_type": "execute_result"
    }
   ],
   "source": [
    "np.arange(2, 9)"
   ]
  },
  {
   "cell_type": "code",
   "execution_count": 41,
   "id": "e0eb3c11",
   "metadata": {},
   "outputs": [
    {
     "data": {
      "text/plain": [
       "array([2, 5, 8])"
      ]
     },
     "execution_count": 41,
     "metadata": {},
     "output_type": "execute_result"
    }
   ],
   "source": [
    "np.arange(2, 9, 3)"
   ]
  },
  {
   "cell_type": "code",
   "execution_count": 42,
   "id": "60a76aff",
   "metadata": {},
   "outputs": [
    {
     "data": {
      "text/plain": [
       "array([2. , 2.5, 3. , 3.5, 4. , 4.5, 5. , 5.5, 6. , 6.5, 7. , 7.5, 8. ,\n",
       "       8.5])"
      ]
     },
     "execution_count": 42,
     "metadata": {},
     "output_type": "execute_result"
    }
   ],
   "source": [
    "np.arange(2, 9, 0.5)"
   ]
  },
  {
   "cell_type": "markdown",
   "id": "d82734af",
   "metadata": {},
   "source": [
    "### Создание массива из нулей"
   ]
  },
  {
   "cell_type": "code",
   "execution_count": 44,
   "id": "446b31f1",
   "metadata": {},
   "outputs": [
    {
     "data": {
      "text/plain": [
       "array([[0., 0., 0.],\n",
       "       [0., 0., 0.],\n",
       "       [0., 0., 0.]])"
      ]
     },
     "execution_count": 44,
     "metadata": {},
     "output_type": "execute_result"
    }
   ],
   "source": [
    "np.zeros((3, 3))"
   ]
  },
  {
   "cell_type": "markdown",
   "id": "bbe21fae",
   "metadata": {},
   "source": [
    "### Создание массива из едениц"
   ]
  },
  {
   "cell_type": "code",
   "execution_count": 45,
   "id": "ca30be51",
   "metadata": {},
   "outputs": [
    {
     "data": {
      "text/plain": [
       "array([[1., 1., 1.],\n",
       "       [1., 1., 1.],\n",
       "       [1., 1., 1.]])"
      ]
     },
     "execution_count": 45,
     "metadata": {},
     "output_type": "execute_result"
    }
   ],
   "source": [
    "np.ones((3, 3))"
   ]
  },
  {
   "cell_type": "markdown",
   "id": "63049b6c",
   "metadata": {},
   "source": [
    "### Создание еденичной матрицы"
   ]
  },
  {
   "cell_type": "code",
   "execution_count": 46,
   "id": "66712b3d",
   "metadata": {},
   "outputs": [
    {
     "data": {
      "text/plain": [
       "array([[1., 0., 0., 0., 0., 0.],\n",
       "       [0., 1., 0., 0., 0., 0.],\n",
       "       [0., 0., 1., 0., 0., 0.],\n",
       "       [0., 0., 0., 1., 0., 0.],\n",
       "       [0., 0., 0., 0., 1., 0.],\n",
       "       [0., 0., 0., 0., 0., 1.]])"
      ]
     },
     "execution_count": 46,
     "metadata": {},
     "output_type": "execute_result"
    }
   ],
   "source": [
    "np.eye(6)"
   ]
  },
  {
   "cell_type": "markdown",
   "id": "95b70709",
   "metadata": {},
   "source": [
    "### Логический массив"
   ]
  },
  {
   "cell_type": "code",
   "execution_count": 49,
   "id": "48c072fb",
   "metadata": {},
   "outputs": [
    {
     "data": {
      "text/plain": [
       "array([[False,  True,  True,  True,  True],\n",
       "       [ True,  True,  True,  True,  True],\n",
       "       [ True,  True,  True,  True, False]])"
      ]
     },
     "execution_count": 49,
     "metadata": {},
     "output_type": "execute_result"
    }
   ],
   "source": [
    "ar1 = np.array([[15, 23, 32, 36, 52],\n",
    "              [68, 34, 55, 78, 20],\n",
    "              [25,  67, 33, 45, 14]])\n",
    "ar1 >= 16"
   ]
  },
  {
   "cell_type": "code",
   "execution_count": 51,
   "id": "b8ed62bc",
   "metadata": {},
   "outputs": [
    {
     "data": {
      "text/plain": [
       "array([[False,  True,  True,  True,  True],\n",
       "       [False,  True,  True, False,  True],\n",
       "       [ True, False,  True,  True, False]])"
      ]
     },
     "execution_count": 51,
     "metadata": {},
     "output_type": "execute_result"
    }
   ],
   "source": [
    "(ar1 >= 18) & (ar1 < 60)"
   ]
  },
  {
   "cell_type": "markdown",
   "id": "e9318405",
   "metadata": {},
   "source": [
    "### Умножение массивов"
   ]
  },
  {
   "cell_type": "code",
   "execution_count": 13,
   "id": "cd50346b",
   "metadata": {},
   "outputs": [
    {
     "data": {
      "text/plain": [
       "array([62., 48., 37.])"
      ]
     },
     "execution_count": 13,
     "metadata": {},
     "output_type": "execute_result"
    }
   ],
   "source": [
    "np.array([0.62, 0.48, 0.37]) * 100"
   ]
  },
  {
   "cell_type": "markdown",
   "id": "b7a52ab9",
   "metadata": {},
   "source": [
    "### Деление массивов"
   ]
  },
  {
   "cell_type": "code",
   "execution_count": 15,
   "id": "39b6fce3",
   "metadata": {},
   "outputs": [
    {
     "data": {
      "text/plain": [
       "array([0.31 , 0.24 , 0.185])"
      ]
     },
     "execution_count": 15,
     "metadata": {},
     "output_type": "execute_result"
    }
   ],
   "source": [
    "np.array([0.62, 0.48, 0.37]) / 2"
   ]
  },
  {
   "cell_type": "markdown",
   "id": "df2cc298",
   "metadata": {},
   "source": [
    "### Сложение массивов"
   ]
  },
  {
   "cell_type": "code",
   "execution_count": 14,
   "id": "8138575a",
   "metadata": {},
   "outputs": [
    {
     "data": {
      "text/plain": [
       "array([ 7, 11, 15])"
      ]
     },
     "execution_count": 14,
     "metadata": {},
     "output_type": "execute_result"
    }
   ],
   "source": [
    "np.array([5, 7, 9]) + np.array([2, 4, 6])"
   ]
  },
  {
   "cell_type": "markdown",
   "id": "027bff66",
   "metadata": {},
   "source": [
    "### Возведение в степень"
   ]
  },
  {
   "cell_type": "code",
   "execution_count": 16,
   "id": "2623ab06",
   "metadata": {},
   "outputs": [
    {
     "data": {
      "text/plain": [
       "array([25, 49, 81])"
      ]
     },
     "execution_count": 16,
     "metadata": {},
     "output_type": "execute_result"
    }
   ],
   "source": [
    "np.array([5, 7, 9]) **2"
   ]
  },
  {
   "cell_type": "markdown",
   "id": "6a0a5fba",
   "metadata": {},
   "source": [
    "### Размерность массива"
   ]
  },
  {
   "cell_type": "code",
   "execution_count": 18,
   "id": "f3c4f739",
   "metadata": {},
   "outputs": [
    {
     "data": {
      "text/plain": [
       "2"
      ]
     },
     "execution_count": 18,
     "metadata": {},
     "output_type": "execute_result"
    }
   ],
   "source": [
    "m = np.array([[2, 5],\n",
    "             [7, 9],\n",
    "             [4, 6]])\n",
    "m.ndim"
   ]
  },
  {
   "cell_type": "markdown",
   "id": "4135db9a",
   "metadata": {},
   "source": [
    "### Вид массива"
   ]
  },
  {
   "cell_type": "code",
   "execution_count": 19,
   "id": "cfbe7a1c",
   "metadata": {},
   "outputs": [
    {
     "data": {
      "text/plain": [
       "(3, 2)"
      ]
     },
     "execution_count": 19,
     "metadata": {},
     "output_type": "execute_result"
    }
   ],
   "source": [
    "m.shape"
   ]
  },
  {
   "cell_type": "markdown",
   "id": "65627100",
   "metadata": {},
   "source": [
    "### Число элементов"
   ]
  },
  {
   "cell_type": "code",
   "execution_count": 52,
   "id": "ad5a3f6a",
   "metadata": {},
   "outputs": [
    {
     "data": {
      "text/plain": [
       "6"
      ]
     },
     "execution_count": 52,
     "metadata": {},
     "output_type": "execute_result"
    }
   ],
   "source": [
    "m.size"
   ]
  },
  {
   "cell_type": "markdown",
   "id": "e8b4f1ba",
   "metadata": {},
   "source": [
    "### Сумма всех элементов массива"
   ]
  },
  {
   "cell_type": "code",
   "execution_count": 55,
   "id": "293df30e",
   "metadata": {},
   "outputs": [
    {
     "data": {
      "text/plain": [
       "33"
      ]
     },
     "execution_count": 55,
     "metadata": {},
     "output_type": "execute_result"
    }
   ],
   "source": [
    "m.sum()"
   ]
  },
  {
   "cell_type": "markdown",
   "id": "a184ecab",
   "metadata": {},
   "source": [
    "### Произведение всех элементов массива"
   ]
  },
  {
   "cell_type": "code",
   "execution_count": 71,
   "id": "178b0ba8",
   "metadata": {},
   "outputs": [
    {
     "data": {
      "text/plain": [
       "15120"
      ]
     },
     "execution_count": 71,
     "metadata": {},
     "output_type": "execute_result"
    }
   ],
   "source": [
    "m.prod()"
   ]
  },
  {
   "cell_type": "markdown",
   "id": "a308bbde",
   "metadata": {},
   "source": [
    "### Обращение по индексу"
   ]
  },
  {
   "cell_type": "code",
   "execution_count": 22,
   "id": "1642d9bd",
   "metadata": {},
   "outputs": [
    {
     "data": {
      "text/plain": [
       "9"
      ]
     },
     "execution_count": 22,
     "metadata": {},
     "output_type": "execute_result"
    }
   ],
   "source": [
    "m[1][1]"
   ]
  },
  {
   "cell_type": "code",
   "execution_count": 23,
   "id": "60e897e4",
   "metadata": {},
   "outputs": [
    {
     "data": {
      "text/plain": [
       "9"
      ]
     },
     "execution_count": 23,
     "metadata": {},
     "output_type": "execute_result"
    }
   ],
   "source": [
    "m[1, 1]"
   ]
  },
  {
   "cell_type": "code",
   "execution_count": 24,
   "id": "fd8793f2",
   "metadata": {},
   "outputs": [
    {
     "data": {
      "text/plain": [
       "array([4, 6])"
      ]
     },
     "execution_count": 24,
     "metadata": {},
     "output_type": "execute_result"
    }
   ],
   "source": [
    "m[2]"
   ]
  },
  {
   "cell_type": "markdown",
   "id": "05c62145",
   "metadata": {},
   "source": [
    "### Срезы массива"
   ]
  },
  {
   "cell_type": "code",
   "execution_count": 25,
   "id": "45cb515c",
   "metadata": {},
   "outputs": [
    {
     "data": {
      "text/plain": [
       "array([[2, 5],\n",
       "       [7, 9]])"
      ]
     },
     "execution_count": 25,
     "metadata": {},
     "output_type": "execute_result"
    }
   ],
   "source": [
    "m[0:2]"
   ]
  },
  {
   "cell_type": "code",
   "execution_count": 26,
   "id": "edf089c8",
   "metadata": {},
   "outputs": [
    {
     "data": {
      "text/plain": [
       "array([[7, 9],\n",
       "       [4, 6]])"
      ]
     },
     "execution_count": 26,
     "metadata": {},
     "output_type": "execute_result"
    }
   ],
   "source": [
    "m[1:]"
   ]
  },
  {
   "cell_type": "code",
   "execution_count": 27,
   "id": "8e3670d6",
   "metadata": {},
   "outputs": [
    {
     "data": {
      "text/plain": [
       "array([[2, 5]])"
      ]
     },
     "execution_count": 27,
     "metadata": {},
     "output_type": "execute_result"
    }
   ],
   "source": [
    "m[:1]"
   ]
  },
  {
   "cell_type": "code",
   "execution_count": 28,
   "id": "1bf4996c",
   "metadata": {},
   "outputs": [
    {
     "data": {
      "text/plain": [
       "array([[2, 5],\n",
       "       [7, 9],\n",
       "       [4, 6]])"
      ]
     },
     "execution_count": 28,
     "metadata": {},
     "output_type": "execute_result"
    }
   ],
   "source": [
    "m[:]"
   ]
  },
  {
   "cell_type": "code",
   "execution_count": 30,
   "id": "961ec20b",
   "metadata": {},
   "outputs": [
    {
     "data": {
      "text/plain": [
       "array([[2, 5],\n",
       "       [4, 6]])"
      ]
     },
     "execution_count": 30,
     "metadata": {},
     "output_type": "execute_result"
    }
   ],
   "source": [
    "m[0:3:2]"
   ]
  },
  {
   "cell_type": "code",
   "execution_count": 31,
   "id": "300c8772",
   "metadata": {},
   "outputs": [
    {
     "data": {
      "text/plain": [
       "array([[2, 5],\n",
       "       [4, 6]])"
      ]
     },
     "execution_count": 31,
     "metadata": {},
     "output_type": "execute_result"
    }
   ],
   "source": [
    "m[::2]"
   ]
  },
  {
   "cell_type": "code",
   "execution_count": 33,
   "id": "e02a261a",
   "metadata": {},
   "outputs": [
    {
     "data": {
      "text/plain": [
       "array([[4, 6],\n",
       "       [7, 9],\n",
       "       [2, 5]])"
      ]
     },
     "execution_count": 33,
     "metadata": {},
     "output_type": "execute_result"
    }
   ],
   "source": [
    "m[::-1]"
   ]
  },
  {
   "cell_type": "markdown",
   "id": "2d016280",
   "metadata": {},
   "source": [
    "### Минимум в массиве"
   ]
  },
  {
   "cell_type": "code",
   "execution_count": 35,
   "id": "1b521d3f",
   "metadata": {},
   "outputs": [
    {
     "data": {
      "text/plain": [
       "3"
      ]
     },
     "execution_count": 35,
     "metadata": {},
     "output_type": "execute_result"
    }
   ],
   "source": [
    "marks = np.array([6, 7, 3, 4, 9, 35, 12])\n",
    "marks.min()"
   ]
  },
  {
   "cell_type": "markdown",
   "id": "01a7cedc",
   "metadata": {},
   "source": [
    "### Минимум в массиве (индекс)"
   ]
  },
  {
   "cell_type": "code",
   "execution_count": 38,
   "id": "3822acef",
   "metadata": {},
   "outputs": [
    {
     "data": {
      "text/plain": [
       "2"
      ]
     },
     "execution_count": 38,
     "metadata": {},
     "output_type": "execute_result"
    }
   ],
   "source": [
    "marks.argmin()"
   ]
  },
  {
   "cell_type": "markdown",
   "id": "56f55d15",
   "metadata": {},
   "source": [
    "### Максимум в массиве"
   ]
  },
  {
   "cell_type": "code",
   "execution_count": 36,
   "id": "3da6980f",
   "metadata": {},
   "outputs": [
    {
     "data": {
      "text/plain": [
       "35"
      ]
     },
     "execution_count": 36,
     "metadata": {},
     "output_type": "execute_result"
    }
   ],
   "source": [
    "marks.max()"
   ]
  },
  {
   "cell_type": "markdown",
   "id": "ed2c0b4a",
   "metadata": {},
   "source": [
    "### Максимум в массиве (индекс)"
   ]
  },
  {
   "cell_type": "code",
   "execution_count": 37,
   "id": "9c9f4464",
   "metadata": {},
   "outputs": [
    {
     "data": {
      "text/plain": [
       "5"
      ]
     },
     "execution_count": 37,
     "metadata": {},
     "output_type": "execute_result"
    }
   ],
   "source": [
    "marks.argmax()"
   ]
  },
  {
   "cell_type": "markdown",
   "id": "12c6d62b",
   "metadata": {},
   "source": [
    "### Изменить размерность массива"
   ]
  },
  {
   "cell_type": "code",
   "execution_count": 56,
   "id": "9d1c8db9",
   "metadata": {},
   "outputs": [
    {
     "data": {
      "text/plain": [
       "array([[ 3,  5],\n",
       "       [ 7,  9],\n",
       "       [ 8, 10]])"
      ]
     },
     "execution_count": 56,
     "metadata": {},
     "output_type": "execute_result"
    }
   ],
   "source": [
    "sc = np.array([3, 5, 7, 9,  8, 10])\n",
    "sc.reshape(3, 2)"
   ]
  },
  {
   "cell_type": "markdown",
   "id": "65bee2bc",
   "metadata": {},
   "source": [
    "### Определить число измерений  массива"
   ]
  },
  {
   "cell_type": "code",
   "execution_count": 59,
   "id": "cf6784f4",
   "metadata": {},
   "outputs": [
    {
     "data": {
      "text/plain": [
       "2"
      ]
     },
     "execution_count": 59,
     "metadata": {},
     "output_type": "execute_result"
    }
   ],
   "source": [
    "score = np.array([[ 3,  5],\n",
    "       [ 7,  9],\n",
    "       [ 8, 10]])\n",
    "score.ndim"
   ]
  },
  {
   "cell_type": "markdown",
   "id": "971a329b",
   "metadata": {},
   "source": [
    "### Транспонирование массива"
   ]
  },
  {
   "cell_type": "code",
   "execution_count": 60,
   "id": "ba0767ca",
   "metadata": {},
   "outputs": [
    {
     "data": {
      "text/plain": [
       "array([[ 3,  7,  8],\n",
       "       [ 5,  9, 10]])"
      ]
     },
     "execution_count": 60,
     "metadata": {},
     "output_type": "execute_result"
    }
   ],
   "source": [
    "score.transpose()"
   ]
  },
  {
   "cell_type": "markdown",
   "id": "3362be80",
   "metadata": {},
   "source": [
    "### Преобразовать в одномерный массив"
   ]
  },
  {
   "cell_type": "code",
   "execution_count": 61,
   "id": "65400ff8",
   "metadata": {},
   "outputs": [
    {
     "data": {
      "text/plain": [
       "array([ 3,  5,  7,  9,  8, 10])"
      ]
     },
     "execution_count": 61,
     "metadata": {},
     "output_type": "execute_result"
    }
   ],
   "source": [
    "score.ravel()"
   ]
  },
  {
   "cell_type": "markdown",
   "id": "35277ede",
   "metadata": {},
   "source": [
    "### Округление значений массива"
   ]
  },
  {
   "cell_type": "code",
   "execution_count": 65,
   "id": "0db1be82",
   "metadata": {},
   "outputs": [
    {
     "data": {
      "text/plain": [
       "array([1.7, 4.7, 8.4, 3.9])"
      ]
     },
     "execution_count": 65,
     "metadata": {},
     "output_type": "execute_result"
    }
   ],
   "source": [
    "M = np.array([1.6787, 4.7003, 8.4453, 3.9385])\n",
    "M.round(1)"
   ]
  },
  {
   "cell_type": "code",
   "execution_count": 66,
   "id": "3a5a873c",
   "metadata": {},
   "outputs": [
    {
     "data": {
      "text/plain": [
       "array([1.68, 4.7 , 8.45, 3.94])"
      ]
     },
     "execution_count": 66,
     "metadata": {},
     "output_type": "execute_result"
    }
   ],
   "source": [
    "M.round(2)"
   ]
  },
  {
   "cell_type": "markdown",
   "id": "2122137f",
   "metadata": {},
   "source": [
    "### Округлить до целого числа в меньшую сторону"
   ]
  },
  {
   "cell_type": "code",
   "execution_count": 67,
   "id": "1bd382cb",
   "metadata": {},
   "outputs": [
    {
     "data": {
      "text/plain": [
       "array([1., 4., 8., 3.])"
      ]
     },
     "execution_count": 67,
     "metadata": {},
     "output_type": "execute_result"
    }
   ],
   "source": [
    "np.floor(M)"
   ]
  },
  {
   "cell_type": "markdown",
   "id": "bdf8b3e1",
   "metadata": {},
   "source": [
    "### Округлить до целого числа в большую сторону"
   ]
  },
  {
   "cell_type": "code",
   "execution_count": 68,
   "id": "877b29f1",
   "metadata": {},
   "outputs": [
    {
     "data": {
      "text/plain": [
       "array([2., 5., 9., 4.])"
      ]
     },
     "execution_count": 68,
     "metadata": {},
     "output_type": "execute_result"
    }
   ],
   "source": [
    "np.ceil(M)"
   ]
  },
  {
   "cell_type": "markdown",
   "id": "dfe4d0ca",
   "metadata": {},
   "source": [
    "### Добавить число к каждому элементу"
   ]
  },
  {
   "cell_type": "code",
   "execution_count": 69,
   "id": "d1692bc9",
   "metadata": {},
   "outputs": [
    {
     "data": {
      "text/plain": [
       "array([ 3.6787,  6.7003, 10.4453,  5.9385])"
      ]
     },
     "execution_count": 69,
     "metadata": {},
     "output_type": "execute_result"
    }
   ],
   "source": [
    "np.add(M, 2)"
   ]
  },
  {
   "cell_type": "markdown",
   "id": "42611711",
   "metadata": {},
   "source": [
    "### Отнять число у каждого элемента"
   ]
  },
  {
   "cell_type": "code",
   "execution_count": 70,
   "id": "b2f4f05b",
   "metadata": {},
   "outputs": [
    {
     "data": {
      "text/plain": [
       "array([0.6787, 3.7003, 7.4453, 2.9385])"
      ]
     },
     "execution_count": 70,
     "metadata": {},
     "output_type": "execute_result"
    }
   ],
   "source": [
    "np.subtract(M, 1)"
   ]
  },
  {
   "cell_type": "markdown",
   "id": "23d5ea34",
   "metadata": {},
   "source": [
    "### Преобразовать массив в строку"
   ]
  },
  {
   "cell_type": "code",
   "execution_count": 90,
   "id": "23e4b1e7",
   "metadata": {},
   "outputs": [
    {
     "data": {
      "text/plain": [
       "\"[('Anna', 19, 168.) ('Sam', 23, 180.) ('Pam', 23, 180.)]\""
      ]
     },
     "execution_count": 90,
     "metadata": {},
     "output_type": "execute_result"
    }
   ],
   "source": [
    "ar1 = np.array([('Anna', 19, 168), ('Sam', 23, 180), ('Pam', 23, 180)],\n",
    "                dtype = [('name', 'U10'), ('age', int), ('height', float)])\n",
    "np.array2string(ar1)"
   ]
  },
  {
   "cell_type": "markdown",
   "id": "8ba543d9",
   "metadata": {},
   "source": [
    "### Преобразовать в список"
   ]
  },
  {
   "cell_type": "code",
   "execution_count": 91,
   "id": "ec4ffff7",
   "metadata": {},
   "outputs": [
    {
     "data": {
      "text/plain": [
       "[('Anna', 19, 168.0), ('Sam', 23, 180.0), ('Pam', 23, 180.0)]"
      ]
     },
     "execution_count": 91,
     "metadata": {},
     "output_type": "execute_result"
    }
   ],
   "source": [
    "ar1.tolist()"
   ]
  },
  {
   "cell_type": "markdown",
   "id": "3fdfab2d",
   "metadata": {},
   "source": [
    "### Формат даты  времени"
   ]
  },
  {
   "cell_type": "code",
   "execution_count": 74,
   "id": "453c0189",
   "metadata": {},
   "outputs": [
    {
     "data": {
      "text/plain": [
       "numpy.datetime64('2022-05-01')"
      ]
     },
     "execution_count": 74,
     "metadata": {},
     "output_type": "execute_result"
    }
   ],
   "source": [
    "d1 = \"2022-05-01\"\n",
    "d2 = \"2022-05-11\"\n",
    "np.datetime64(d1)"
   ]
  },
  {
   "cell_type": "markdown",
   "id": "a5f3db60",
   "metadata": {},
   "source": [
    "###  Вычитание дат"
   ]
  },
  {
   "cell_type": "code",
   "execution_count": 75,
   "id": "79d191fe",
   "metadata": {},
   "outputs": [
    {
     "data": {
      "text/plain": [
       "numpy.timedelta64(10,'D')"
      ]
     },
     "execution_count": 75,
     "metadata": {},
     "output_type": "execute_result"
    }
   ],
   "source": [
    "np.datetime64(d2) - np.datetime64(d1)"
   ]
  },
  {
   "cell_type": "markdown",
   "id": "ff9470d5",
   "metadata": {},
   "source": [
    "### Структурированные списки"
   ]
  },
  {
   "cell_type": "code",
   "execution_count": 79,
   "id": "1f4bc52f",
   "metadata": {},
   "outputs": [
    {
     "name": "stdout",
     "output_type": "stream",
     "text": [
      "[('Anna', 19, 168.) ('Sam', 23, 180.) ('Pam', 23, 180.)]\n"
     ]
    }
   ],
   "source": [
    "info = np.array([('Anna', 19, 168), ('Sam', 23, 180), ('Pam', 23, 180)],\n",
    "                dtype = [('name', 'U10'), ('age', int), ('height', float)])\n",
    "print(info)"
   ]
  },
  {
   "cell_type": "code",
   "execution_count": 83,
   "id": "a9b5973b",
   "metadata": {},
   "outputs": [
    {
     "data": {
      "text/plain": [
       "19"
      ]
     },
     "execution_count": 83,
     "metadata": {},
     "output_type": "execute_result"
    }
   ],
   "source": [
    "info['age'][0]"
   ]
  },
  {
   "cell_type": "code",
   "execution_count": 81,
   "id": "537e2367",
   "metadata": {},
   "outputs": [
    {
     "data": {
      "text/plain": [
       "array([19, 23, 23])"
      ]
     },
     "execution_count": 81,
     "metadata": {},
     "output_type": "execute_result"
    }
   ],
   "source": [
    "info['age']"
   ]
  },
  {
   "cell_type": "code",
   "execution_count": 82,
   "id": "6b5bb447",
   "metadata": {},
   "outputs": [
    {
     "data": {
      "text/plain": [
       "array([(19, 168.), (23, 180.), (23, 180.)],\n",
       "      dtype={'names':['age','height'], 'formats':['<i8','<f8'], 'offsets':[40,48], 'itemsize':56})"
      ]
     },
     "execution_count": 82,
     "metadata": {},
     "output_type": "execute_result"
    }
   ],
   "source": [
    "info[['age', 'height']]"
   ]
  },
  {
   "cell_type": "markdown",
   "id": "f6a57217",
   "metadata": {},
   "source": [
    "### Сохранение массива"
   ]
  },
  {
   "cell_type": "code",
   "execution_count": 84,
   "id": "670a3791",
   "metadata": {},
   "outputs": [],
   "source": [
    "np.save(\"info.npy\", info)"
   ]
  },
  {
   "cell_type": "code",
   "execution_count": 88,
   "id": "d7758480",
   "metadata": {},
   "outputs": [],
   "source": [
    "ages = np.array([61, 73, 18, 92])\n",
    "np.savetxt(\"ages.txt\", ages)"
   ]
  },
  {
   "cell_type": "markdown",
   "id": "e632d9ae",
   "metadata": {},
   "source": [
    "### Загрузка  массива"
   ]
  },
  {
   "cell_type": "code",
   "execution_count": 86,
   "id": "e5a06535",
   "metadata": {},
   "outputs": [
    {
     "data": {
      "text/plain": [
       "array([('Anna', 19, 168.), ('Sam', 23, 180.), ('Pam', 23, 180.)],\n",
       "      dtype=[('name', '<U10'), ('age', '<i8'), ('height', '<f8')])"
      ]
     },
     "execution_count": 86,
     "metadata": {},
     "output_type": "execute_result"
    }
   ],
   "source": [
    "new = np.load(\"info.npy\")\n",
    "new"
   ]
  },
  {
   "cell_type": "code",
   "execution_count": null,
   "id": "4af9248c",
   "metadata": {},
   "outputs": [],
   "source": []
  }
 ],
 "metadata": {
  "kernelspec": {
   "display_name": "Python 3 (ipykernel)",
   "language": "python",
   "name": "python3"
  },
  "language_info": {
   "codemirror_mode": {
    "name": "ipython",
    "version": 3
   },
   "file_extension": ".py",
   "mimetype": "text/x-python",
   "name": "python",
   "nbconvert_exporter": "python",
   "pygments_lexer": "ipython3",
   "version": "3.9.12"
  }
 },
 "nbformat": 4,
 "nbformat_minor": 5
}
