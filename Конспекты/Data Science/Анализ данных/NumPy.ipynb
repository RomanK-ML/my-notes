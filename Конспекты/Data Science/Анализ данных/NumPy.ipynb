{
 "cells": [
  {
   "cell_type": "markdown",
   "id": "6091cf8d",
   "metadata": {},
   "source": [
    "# Документация NumPy"
   ]
  },
  {
   "cell_type": "code",
   "execution_count": 2,
   "id": "8085762d",
   "metadata": {},
   "outputs": [],
   "source": [
    "import numpy as np"
   ]
  },
  {
   "cell_type": "markdown",
   "id": "d5e1f591",
   "metadata": {},
   "source": [
    "### Квадратный корень"
   ]
  },
  {
   "cell_type": "code",
   "execution_count": 3,
   "id": "2b54e52e",
   "metadata": {},
   "outputs": [
    {
     "data": {
      "text/plain": [
       "4.358898943540674"
      ]
     },
     "execution_count": 3,
     "metadata": {},
     "output_type": "execute_result"
    }
   ],
   "source": [
    "np.sqrt(19)"
   ]
  },
  {
   "cell_type": "markdown",
   "id": "dd84d3c9",
   "metadata": {},
   "source": [
    "### Логарифм"
   ]
  },
  {
   "cell_type": "code",
   "execution_count": 4,
   "id": "b5774753",
   "metadata": {},
   "outputs": [
    {
     "data": {
      "text/plain": [
       "2.302585092994046"
      ]
     },
     "execution_count": 4,
     "metadata": {},
     "output_type": "execute_result"
    }
   ],
   "source": [
    "np.log(10)"
   ]
  },
  {
   "cell_type": "markdown",
   "id": "e13c30bd",
   "metadata": {},
   "source": [
    "### Среднее арифмитическое"
   ]
  },
  {
   "cell_type": "code",
   "execution_count": 5,
   "id": "71cf28dd",
   "metadata": {},
   "outputs": [
    {
     "data": {
      "text/plain": [
       "36.666666666666664"
      ]
     },
     "execution_count": 5,
     "metadata": {},
     "output_type": "execute_result"
    }
   ],
   "source": [
    "np.mean([20, 34, 56])"
   ]
  },
  {
   "cell_type": "markdown",
   "id": "f029e19e",
   "metadata": {},
   "source": [
    "### Медиана"
   ]
  },
  {
   "cell_type": "code",
   "execution_count": 6,
   "id": "3b876bf3",
   "metadata": {},
   "outputs": [
    {
     "data": {
      "text/plain": [
       "34.0"
      ]
     },
     "execution_count": 6,
     "metadata": {},
     "output_type": "execute_result"
    }
   ],
   "source": [
    "np.median([20, 34, 56])"
   ]
  },
  {
   "cell_type": "markdown",
   "id": "fed1bcf3",
   "metadata": {},
   "source": [
    "### Создание массива"
   ]
  },
  {
   "cell_type": "code",
   "execution_count": 7,
   "id": "f97a1fcd",
   "metadata": {},
   "outputs": [
    {
     "data": {
      "text/plain": [
       "array([23, 35, 65])"
      ]
     },
     "execution_count": 7,
     "metadata": {},
     "output_type": "execute_result"
    }
   ],
   "source": [
    "np.array([23, 35, 65])"
   ]
  },
  {
   "cell_type": "code",
   "execution_count": 8,
   "id": "f3113bea",
   "metadata": {},
   "outputs": [
    {
     "data": {
      "text/plain": [
       "array([[23, 58, 34],\n",
       "       [67, 81, 49]])"
      ]
     },
     "execution_count": 8,
     "metadata": {},
     "output_type": "execute_result"
    }
   ],
   "source": [
    "np.array([[23, 58, 34],\n",
    "         [67, 81, 49]])"
   ]
  },
  {
   "cell_type": "code",
   "execution_count": 17,
   "id": "0ce12ee3",
   "metadata": {},
   "outputs": [
    {
     "data": {
      "text/plain": [
       "array([list([0, 0, 1]), list([0, 1])], dtype=object)"
      ]
     },
     "execution_count": 17,
     "metadata": {},
     "output_type": "execute_result"
    }
   ],
   "source": [
    "np.array([[0, 0, 1],\n",
    "         [0, 1]], dtype='object')"
   ]
  },
  {
   "cell_type": "code",
   "execution_count": 11,
   "id": "48081035",
   "metadata": {},
   "outputs": [
    {
     "data": {
      "text/plain": [
       "array([['Ann', 'Kate'],\n",
       "       ['23', '24']], dtype='<U21')"
      ]
     },
     "execution_count": 11,
     "metadata": {},
     "output_type": "execute_result"
    }
   ],
   "source": [
    "np.array([['Ann', 'Kate'],\n",
    "          [23, 24]])"
   ]
  },
  {
   "cell_type": "markdown",
   "id": "8fd07c8b",
   "metadata": {},
   "source": [
    "###  Создание массива от m до n"
   ]
  },
  {
   "cell_type": "code",
   "execution_count": 40,
   "id": "59d98c67",
   "metadata": {},
   "outputs": [
    {
     "data": {
      "text/plain": [
       "array([2, 3, 4, 5, 6, 7, 8])"
      ]
     },
     "execution_count": 40,
     "metadata": {},
     "output_type": "execute_result"
    }
   ],
   "source": [
    "np.arange(2, 9)"
   ]
  },
  {
   "cell_type": "code",
   "execution_count": 41,
   "id": "259d5015",
   "metadata": {},
   "outputs": [
    {
     "data": {
      "text/plain": [
       "array([2, 5, 8])"
      ]
     },
     "execution_count": 41,
     "metadata": {},
     "output_type": "execute_result"
    }
   ],
   "source": [
    "np.arange(2, 9, 3)"
   ]
  },
  {
   "cell_type": "code",
   "execution_count": 42,
   "id": "df228beb",
   "metadata": {},
   "outputs": [
    {
     "data": {
      "text/plain": [
       "array([2. , 2.5, 3. , 3.5, 4. , 4.5, 5. , 5.5, 6. , 6.5, 7. , 7.5, 8. ,\n",
       "       8.5])"
      ]
     },
     "execution_count": 42,
     "metadata": {},
     "output_type": "execute_result"
    }
   ],
   "source": [
    "np.arange(2, 9, 0.5)"
   ]
  },
  {
   "cell_type": "markdown",
   "id": "627e826c",
   "metadata": {},
   "source": [
    "### Создание массива из нулей"
   ]
  },
  {
   "cell_type": "code",
   "execution_count": 44,
   "id": "7a1dd9ef",
   "metadata": {},
   "outputs": [
    {
     "data": {
      "text/plain": [
       "array([[0., 0., 0.],\n",
       "       [0., 0., 0.],\n",
       "       [0., 0., 0.]])"
      ]
     },
     "execution_count": 44,
     "metadata": {},
     "output_type": "execute_result"
    }
   ],
   "source": [
    "np.zeros((3, 3))"
   ]
  },
  {
   "cell_type": "markdown",
   "id": "c2deed61",
   "metadata": {},
   "source": [
    "### Создание массива из едениц"
   ]
  },
  {
   "cell_type": "code",
   "execution_count": 45,
   "id": "28c1bb22",
   "metadata": {},
   "outputs": [
    {
     "data": {
      "text/plain": [
       "array([[1., 1., 1.],\n",
       "       [1., 1., 1.],\n",
       "       [1., 1., 1.]])"
      ]
     },
     "execution_count": 45,
     "metadata": {},
     "output_type": "execute_result"
    }
   ],
   "source": [
    "np.ones((3, 3))"
   ]
  },
  {
   "cell_type": "markdown",
   "id": "1f1ad89b",
   "metadata": {},
   "source": [
    "### Создание еденичной матрицы"
   ]
  },
  {
   "cell_type": "code",
   "execution_count": 46,
   "id": "cfad1f25",
   "metadata": {},
   "outputs": [
    {
     "data": {
      "text/plain": [
       "array([[1., 0., 0., 0., 0., 0.],\n",
       "       [0., 1., 0., 0., 0., 0.],\n",
       "       [0., 0., 1., 0., 0., 0.],\n",
       "       [0., 0., 0., 1., 0., 0.],\n",
       "       [0., 0., 0., 0., 1., 0.],\n",
       "       [0., 0., 0., 0., 0., 1.]])"
      ]
     },
     "execution_count": 46,
     "metadata": {},
     "output_type": "execute_result"
    }
   ],
   "source": [
    "np.eye(6)"
   ]
  },
  {
   "cell_type": "markdown",
   "id": "293bc32b",
   "metadata": {},
   "source": [
    "### Логический массив"
   ]
  },
  {
   "cell_type": "code",
   "execution_count": 49,
   "id": "56f79334",
   "metadata": {},
   "outputs": [
    {
     "data": {
      "text/plain": [
       "array([[False,  True,  True,  True,  True],\n",
       "       [ True,  True,  True,  True,  True],\n",
       "       [ True,  True,  True,  True, False]])"
      ]
     },
     "execution_count": 49,
     "metadata": {},
     "output_type": "execute_result"
    }
   ],
   "source": [
    "ar1 = np.array([[15, 23, 32, 36, 52],\n",
    "              [68, 34, 55, 78, 20],\n",
    "              [25,  67, 33, 45, 14]])\n",
    "ar1 >= 16"
   ]
  },
  {
   "cell_type": "code",
   "execution_count": 51,
   "id": "0b02f40f",
   "metadata": {},
   "outputs": [
    {
     "data": {
      "text/plain": [
       "array([[False,  True,  True,  True,  True],\n",
       "       [False,  True,  True, False,  True],\n",
       "       [ True, False,  True,  True, False]])"
      ]
     },
     "execution_count": 51,
     "metadata": {},
     "output_type": "execute_result"
    }
   ],
   "source": [
    "(ar1 >= 18) & (ar1 < 60)"
   ]
  },
  {
   "cell_type": "markdown",
   "id": "5b1a3167",
   "metadata": {},
   "source": [
    "### Умножение массивов"
   ]
  },
  {
   "cell_type": "code",
   "execution_count": 13,
   "id": "da0ef1a0",
   "metadata": {},
   "outputs": [
    {
     "data": {
      "text/plain": [
       "array([62., 48., 37.])"
      ]
     },
     "execution_count": 13,
     "metadata": {},
     "output_type": "execute_result"
    }
   ],
   "source": [
    "np.array([0.62, 0.48, 0.37]) * 100"
   ]
  },
  {
   "cell_type": "markdown",
   "id": "82b4eb3a",
   "metadata": {},
   "source": [
    "### Деление массивов"
   ]
  },
  {
   "cell_type": "code",
   "execution_count": 15,
   "id": "16213090",
   "metadata": {},
   "outputs": [
    {
     "data": {
      "text/plain": [
       "array([0.31 , 0.24 , 0.185])"
      ]
     },
     "execution_count": 15,
     "metadata": {},
     "output_type": "execute_result"
    }
   ],
   "source": [
    "np.array([0.62, 0.48, 0.37]) / 2"
   ]
  },
  {
   "cell_type": "markdown",
   "id": "d077a199",
   "metadata": {},
   "source": [
    "### Сложение массивов"
   ]
  },
  {
   "cell_type": "code",
   "execution_count": 14,
   "id": "397c4fa0",
   "metadata": {},
   "outputs": [
    {
     "data": {
      "text/plain": [
       "array([ 7, 11, 15])"
      ]
     },
     "execution_count": 14,
     "metadata": {},
     "output_type": "execute_result"
    }
   ],
   "source": [
    "np.array([5, 7, 9]) + np.array([2, 4, 6])"
   ]
  },
  {
   "cell_type": "markdown",
   "id": "e1ac68de",
   "metadata": {},
   "source": [
    "### Возведение в степень"
   ]
  },
  {
   "cell_type": "code",
   "execution_count": 16,
   "id": "da0338b2",
   "metadata": {},
   "outputs": [
    {
     "data": {
      "text/plain": [
       "array([25, 49, 81])"
      ]
     },
     "execution_count": 16,
     "metadata": {},
     "output_type": "execute_result"
    }
   ],
   "source": [
    "np.array([5, 7, 9]) **2"
   ]
  },
  {
   "cell_type": "markdown",
   "id": "52e1f0e0",
   "metadata": {},
   "source": [
    "### Размерность массива"
   ]
  },
  {
   "cell_type": "code",
   "execution_count": 18,
   "id": "d4c114a6",
   "metadata": {},
   "outputs": [
    {
     "data": {
      "text/plain": [
       "2"
      ]
     },
     "execution_count": 18,
     "metadata": {},
     "output_type": "execute_result"
    }
   ],
   "source": [
    "m = np.array([[2, 5],\n",
    "             [7, 9],\n",
    "             [4, 6]])\n",
    "m.ndim"
   ]
  },
  {
   "cell_type": "markdown",
   "id": "2a2aead3",
   "metadata": {},
   "source": [
    "### Вид массива"
   ]
  },
  {
   "cell_type": "code",
   "execution_count": 19,
   "id": "8d17570d",
   "metadata": {},
   "outputs": [
    {
     "data": {
      "text/plain": [
       "(3, 2)"
      ]
     },
     "execution_count": 19,
     "metadata": {},
     "output_type": "execute_result"
    }
   ],
   "source": [
    "m.shape"
   ]
  },
  {
   "cell_type": "markdown",
   "id": "cfd3bcb9",
   "metadata": {},
   "source": [
    "### Число элементов"
   ]
  },
  {
   "cell_type": "code",
   "execution_count": 52,
   "id": "944c2752",
   "metadata": {},
   "outputs": [
    {
     "data": {
      "text/plain": [
       "6"
      ]
     },
     "execution_count": 52,
     "metadata": {},
     "output_type": "execute_result"
    }
   ],
   "source": [
    "m.size"
   ]
  },
  {
   "cell_type": "markdown",
   "id": "fb3c38f5",
   "metadata": {},
   "source": [
    "### Сумма всех элементов массива"
   ]
  },
  {
   "cell_type": "code",
   "execution_count": 55,
   "id": "f036973d",
   "metadata": {},
   "outputs": [
    {
     "data": {
      "text/plain": [
       "33"
      ]
     },
     "execution_count": 55,
     "metadata": {},
     "output_type": "execute_result"
    }
   ],
   "source": [
    "m.sum()"
   ]
  },
  {
   "cell_type": "markdown",
   "id": "a036027e",
   "metadata": {},
   "source": [
    "### Произведение всех элементов массива"
   ]
  },
  {
   "cell_type": "code",
   "execution_count": 71,
   "id": "b5da817b",
   "metadata": {},
   "outputs": [
    {
     "data": {
      "text/plain": [
       "15120"
      ]
     },
     "execution_count": 71,
     "metadata": {},
     "output_type": "execute_result"
    }
   ],
   "source": [
    "m.prod()"
   ]
  },
  {
   "cell_type": "markdown",
   "id": "f145b351",
   "metadata": {},
   "source": [
    "### Обращение по индексу"
   ]
  },
  {
   "cell_type": "code",
   "execution_count": 22,
   "id": "74dba13c",
   "metadata": {},
   "outputs": [
    {
     "data": {
      "text/plain": [
       "9"
      ]
     },
     "execution_count": 22,
     "metadata": {},
     "output_type": "execute_result"
    }
   ],
   "source": [
    "m[1][1]"
   ]
  },
  {
   "cell_type": "code",
   "execution_count": 23,
   "id": "c7082b67",
   "metadata": {},
   "outputs": [
    {
     "data": {
      "text/plain": [
       "9"
      ]
     },
     "execution_count": 23,
     "metadata": {},
     "output_type": "execute_result"
    }
   ],
   "source": [
    "m[1, 1]"
   ]
  },
  {
   "cell_type": "code",
   "execution_count": 24,
   "id": "0c8dc00e",
   "metadata": {},
   "outputs": [
    {
     "data": {
      "text/plain": [
       "array([4, 6])"
      ]
     },
     "execution_count": 24,
     "metadata": {},
     "output_type": "execute_result"
    }
   ],
   "source": [
    "m[2]"
   ]
  },
  {
   "cell_type": "markdown",
   "id": "51ff781b",
   "metadata": {},
   "source": [
    "### Срезы массива"
   ]
  },
  {
   "cell_type": "code",
   "execution_count": 25,
   "id": "902fad49",
   "metadata": {},
   "outputs": [
    {
     "data": {
      "text/plain": [
       "array([[2, 5],\n",
       "       [7, 9]])"
      ]
     },
     "execution_count": 25,
     "metadata": {},
     "output_type": "execute_result"
    }
   ],
   "source": [
    "m[0:2]"
   ]
  },
  {
   "cell_type": "code",
   "execution_count": 26,
   "id": "105df256",
   "metadata": {},
   "outputs": [
    {
     "data": {
      "text/plain": [
       "array([[7, 9],\n",
       "       [4, 6]])"
      ]
     },
     "execution_count": 26,
     "metadata": {},
     "output_type": "execute_result"
    }
   ],
   "source": [
    "m[1:]"
   ]
  },
  {
   "cell_type": "code",
   "execution_count": 27,
   "id": "a99a9b1b",
   "metadata": {},
   "outputs": [
    {
     "data": {
      "text/plain": [
       "array([[2, 5]])"
      ]
     },
     "execution_count": 27,
     "metadata": {},
     "output_type": "execute_result"
    }
   ],
   "source": [
    "m[:1]"
   ]
  },
  {
   "cell_type": "code",
   "execution_count": 28,
   "id": "68a044af",
   "metadata": {},
   "outputs": [
    {
     "data": {
      "text/plain": [
       "array([[2, 5],\n",
       "       [7, 9],\n",
       "       [4, 6]])"
      ]
     },
     "execution_count": 28,
     "metadata": {},
     "output_type": "execute_result"
    }
   ],
   "source": [
    "m[:]"
   ]
  },
  {
   "cell_type": "code",
   "execution_count": 30,
   "id": "0eede5f6",
   "metadata": {},
   "outputs": [
    {
     "data": {
      "text/plain": [
       "array([[2, 5],\n",
       "       [4, 6]])"
      ]
     },
     "execution_count": 30,
     "metadata": {},
     "output_type": "execute_result"
    }
   ],
   "source": [
    "m[0:3:2]"
   ]
  },
  {
   "cell_type": "code",
   "execution_count": 31,
   "id": "04ac667e",
   "metadata": {},
   "outputs": [
    {
     "data": {
      "text/plain": [
       "array([[2, 5],\n",
       "       [4, 6]])"
      ]
     },
     "execution_count": 31,
     "metadata": {},
     "output_type": "execute_result"
    }
   ],
   "source": [
    "m[::2]"
   ]
  },
  {
   "cell_type": "code",
   "execution_count": 33,
   "id": "3df2ee5c",
   "metadata": {},
   "outputs": [
    {
     "data": {
      "text/plain": [
       "array([[4, 6],\n",
       "       [7, 9],\n",
       "       [2, 5]])"
      ]
     },
     "execution_count": 33,
     "metadata": {},
     "output_type": "execute_result"
    }
   ],
   "source": [
    "m[::-1]"
   ]
  },
  {
   "cell_type": "markdown",
   "id": "0f75a997",
   "metadata": {},
   "source": [
    "### Минимум в массиве"
   ]
  },
  {
   "cell_type": "code",
   "execution_count": 35,
   "id": "e20218a0",
   "metadata": {},
   "outputs": [
    {
     "data": {
      "text/plain": [
       "3"
      ]
     },
     "execution_count": 35,
     "metadata": {},
     "output_type": "execute_result"
    }
   ],
   "source": [
    "marks = np.array([6, 7, 3, 4, 9, 35, 12])\n",
    "marks.min()"
   ]
  },
  {
   "cell_type": "markdown",
   "id": "31e1e47b",
   "metadata": {},
   "source": [
    "### Минимум в массиве (индекс)"
   ]
  },
  {
   "cell_type": "code",
   "execution_count": 38,
   "id": "a82684c9",
   "metadata": {},
   "outputs": [
    {
     "data": {
      "text/plain": [
       "2"
      ]
     },
     "execution_count": 38,
     "metadata": {},
     "output_type": "execute_result"
    }
   ],
   "source": [
    "marks.argmin()"
   ]
  },
  {
   "cell_type": "markdown",
   "id": "0680be35",
   "metadata": {},
   "source": [
    "### Максимум в массиве"
   ]
  },
  {
   "cell_type": "code",
   "execution_count": 36,
   "id": "48d17715",
   "metadata": {},
   "outputs": [
    {
     "data": {
      "text/plain": [
       "35"
      ]
     },
     "execution_count": 36,
     "metadata": {},
     "output_type": "execute_result"
    }
   ],
   "source": [
    "marks.max()"
   ]
  },
  {
   "cell_type": "markdown",
   "id": "55d0d913",
   "metadata": {},
   "source": [
    "### Максимум в массиве (индекс)"
   ]
  },
  {
   "cell_type": "code",
   "execution_count": 37,
   "id": "debed426",
   "metadata": {},
   "outputs": [
    {
     "data": {
      "text/plain": [
       "5"
      ]
     },
     "execution_count": 37,
     "metadata": {},
     "output_type": "execute_result"
    }
   ],
   "source": [
    "marks.argmax()"
   ]
  },
  {
   "cell_type": "markdown",
   "id": "a2627d78",
   "metadata": {},
   "source": [
    "### Изменить размерность массива"
   ]
  },
  {
   "cell_type": "code",
   "execution_count": 56,
   "id": "aba892e0",
   "metadata": {},
   "outputs": [
    {
     "data": {
      "text/plain": [
       "array([[ 3,  5],\n",
       "       [ 7,  9],\n",
       "       [ 8, 10]])"
      ]
     },
     "execution_count": 56,
     "metadata": {},
     "output_type": "execute_result"
    }
   ],
   "source": [
    "sc = np.array([3, 5, 7, 9,  8, 10])\n",
    "sc.reshape(3, 2)"
   ]
  },
  {
   "cell_type": "markdown",
   "id": "8e429f2c",
   "metadata": {},
   "source": [
    "### Определить число измерений  массива"
   ]
  },
  {
   "cell_type": "code",
   "execution_count": 59,
   "id": "596b1563",
   "metadata": {},
   "outputs": [
    {
     "data": {
      "text/plain": [
       "2"
      ]
     },
     "execution_count": 59,
     "metadata": {},
     "output_type": "execute_result"
    }
   ],
   "source": [
    "score = np.array([[ 3,  5],\n",
    "       [ 7,  9],\n",
    "       [ 8, 10]])\n",
    "score.ndim"
   ]
  },
  {
   "cell_type": "markdown",
   "id": "655cf28c",
   "metadata": {},
   "source": [
    "### Транспонирование массива"
   ]
  },
  {
   "cell_type": "code",
   "execution_count": 60,
   "id": "4a18b194",
   "metadata": {},
   "outputs": [
    {
     "data": {
      "text/plain": [
       "array([[ 3,  7,  8],\n",
       "       [ 5,  9, 10]])"
      ]
     },
     "execution_count": 60,
     "metadata": {},
     "output_type": "execute_result"
    }
   ],
   "source": [
    "score.transpose()"
   ]
  },
  {
   "cell_type": "markdown",
   "id": "457d4b1c",
   "metadata": {},
   "source": [
    "### Преобразовать в одномерный массив"
   ]
  },
  {
   "cell_type": "code",
   "execution_count": 61,
   "id": "11a0cd19",
   "metadata": {},
   "outputs": [
    {
     "data": {
      "text/plain": [
       "array([ 3,  5,  7,  9,  8, 10])"
      ]
     },
     "execution_count": 61,
     "metadata": {},
     "output_type": "execute_result"
    }
   ],
   "source": [
    "score.ravel()"
   ]
  },
  {
   "cell_type": "markdown",
   "id": "d1be220c",
   "metadata": {},
   "source": [
    "### Округление значений массива"
   ]
  },
  {
   "cell_type": "code",
   "execution_count": 65,
   "id": "73d932ab",
   "metadata": {},
   "outputs": [
    {
     "data": {
      "text/plain": [
       "array([1.7, 4.7, 8.4, 3.9])"
      ]
     },
     "execution_count": 65,
     "metadata": {},
     "output_type": "execute_result"
    }
   ],
   "source": [
    "M = np.array([1.6787, 4.7003, 8.4453, 3.9385])\n",
    "M.round(1)"
   ]
  },
  {
   "cell_type": "code",
   "execution_count": 66,
   "id": "d5aeeb6a",
   "metadata": {},
   "outputs": [
    {
     "data": {
      "text/plain": [
       "array([1.68, 4.7 , 8.45, 3.94])"
      ]
     },
     "execution_count": 66,
     "metadata": {},
     "output_type": "execute_result"
    }
   ],
   "source": [
    "M.round(2)"
   ]
  },
  {
   "cell_type": "markdown",
   "id": "86416f04",
   "metadata": {},
   "source": [
    "### Округлить до целого числа в меньшую сторону"
   ]
  },
  {
   "cell_type": "code",
   "execution_count": 67,
   "id": "2eaf61b0",
   "metadata": {},
   "outputs": [
    {
     "data": {
      "text/plain": [
       "array([1., 4., 8., 3.])"
      ]
     },
     "execution_count": 67,
     "metadata": {},
     "output_type": "execute_result"
    }
   ],
   "source": [
    "np.floor(M)"
   ]
  },
  {
   "cell_type": "markdown",
   "id": "5fcb01a8",
   "metadata": {},
   "source": [
    "### Округлить до целого числа в большую сторону"
   ]
  },
  {
   "cell_type": "code",
   "execution_count": 68,
   "id": "23e958d1",
   "metadata": {},
   "outputs": [
    {
     "data": {
      "text/plain": [
       "array([2., 5., 9., 4.])"
      ]
     },
     "execution_count": 68,
     "metadata": {},
     "output_type": "execute_result"
    }
   ],
   "source": [
    "np.ceil(M)"
   ]
  },
  {
   "cell_type": "markdown",
   "id": "04f5f094",
   "metadata": {},
   "source": [
    "### Добавить число к каждому элементу"
   ]
  },
  {
   "cell_type": "code",
   "execution_count": 69,
   "id": "4e304774",
   "metadata": {},
   "outputs": [
    {
     "data": {
      "text/plain": [
       "array([ 3.6787,  6.7003, 10.4453,  5.9385])"
      ]
     },
     "execution_count": 69,
     "metadata": {},
     "output_type": "execute_result"
    }
   ],
   "source": [
    "np.add(M, 2)"
   ]
  },
  {
   "cell_type": "markdown",
   "id": "21de1c13",
   "metadata": {},
   "source": [
    "### Отнять число у каждого элемента"
   ]
  },
  {
   "cell_type": "code",
   "execution_count": 70,
   "id": "b24de048",
   "metadata": {},
   "outputs": [
    {
     "data": {
      "text/plain": [
       "array([0.6787, 3.7003, 7.4453, 2.9385])"
      ]
     },
     "execution_count": 70,
     "metadata": {},
     "output_type": "execute_result"
    }
   ],
   "source": [
    "np.subtract(M, 1)"
   ]
  },
  {
   "cell_type": "markdown",
   "id": "34e84a75",
   "metadata": {},
   "source": [
    "### Преобразовать массив в строку"
   ]
  },
  {
   "cell_type": "code",
   "execution_count": 90,
   "id": "19932504",
   "metadata": {},
   "outputs": [
    {
     "data": {
      "text/plain": [
       "\"[('Anna', 19, 168.) ('Sam', 23, 180.) ('Pam', 23, 180.)]\""
      ]
     },
     "execution_count": 90,
     "metadata": {},
     "output_type": "execute_result"
    }
   ],
   "source": [
    "ar1 = np.array([('Anna', 19, 168), ('Sam', 23, 180), ('Pam', 23, 180)],\n",
    "                dtype = [('name', 'U10'), ('age', int), ('height', float)])\n",
    "np.array2string(ar1)"
   ]
  },
  {
   "cell_type": "markdown",
   "id": "2de71349",
   "metadata": {},
   "source": [
    "### Преобразовать в список"
   ]
  },
  {
   "cell_type": "code",
   "execution_count": 91,
   "id": "1ebc12c5",
   "metadata": {},
   "outputs": [
    {
     "data": {
      "text/plain": [
       "[('Anna', 19, 168.0), ('Sam', 23, 180.0), ('Pam', 23, 180.0)]"
      ]
     },
     "execution_count": 91,
     "metadata": {},
     "output_type": "execute_result"
    }
   ],
   "source": [
    "ar1.tolist()"
   ]
  },
  {
   "cell_type": "markdown",
   "id": "52d475dd",
   "metadata": {},
   "source": [
    "### Формат даты  времени"
   ]
  },
  {
   "cell_type": "code",
   "execution_count": 74,
   "id": "ec1fe760",
   "metadata": {},
   "outputs": [
    {
     "data": {
      "text/plain": [
       "numpy.datetime64('2022-05-01')"
      ]
     },
     "execution_count": 74,
     "metadata": {},
     "output_type": "execute_result"
    }
   ],
   "source": [
    "d1 = \"2022-05-01\"\n",
    "d2 = \"2022-05-11\"\n",
    "np.datetime64(d1)"
   ]
  },
  {
   "cell_type": "markdown",
   "id": "152a8014",
   "metadata": {},
   "source": [
    "###  Вычитание дат"
   ]
  },
  {
   "cell_type": "code",
   "execution_count": 75,
   "id": "cb76d757",
   "metadata": {},
   "outputs": [
    {
     "data": {
      "text/plain": [
       "numpy.timedelta64(10,'D')"
      ]
     },
     "execution_count": 75,
     "metadata": {},
     "output_type": "execute_result"
    }
   ],
   "source": [
    "np.datetime64(d2) - np.datetime64(d1)"
   ]
  },
  {
   "cell_type": "markdown",
   "id": "ce6c84ba",
   "metadata": {},
   "source": [
    "### Структурированные списки"
   ]
  },
  {
   "cell_type": "code",
   "execution_count": 79,
   "id": "fc362182",
   "metadata": {},
   "outputs": [
    {
     "name": "stdout",
     "output_type": "stream",
     "text": [
      "[('Anna', 19, 168.) ('Sam', 23, 180.) ('Pam', 23, 180.)]\n"
     ]
    }
   ],
   "source": [
    "info = np.array([('Anna', 19, 168), ('Sam', 23, 180), ('Pam', 23, 180)],\n",
    "                dtype = [('name', 'U10'), ('age', int), ('height', float)])\n",
    "print(info)"
   ]
  },
  {
   "cell_type": "code",
   "execution_count": 83,
   "id": "3ff4f7dd",
   "metadata": {},
   "outputs": [
    {
     "data": {
      "text/plain": [
       "19"
      ]
     },
     "execution_count": 83,
     "metadata": {},
     "output_type": "execute_result"
    }
   ],
   "source": [
    "info['age'][0]"
   ]
  },
  {
   "cell_type": "code",
   "execution_count": 81,
   "id": "271d39f5",
   "metadata": {},
   "outputs": [
    {
     "data": {
      "text/plain": [
       "array([19, 23, 23])"
      ]
     },
     "execution_count": 81,
     "metadata": {},
     "output_type": "execute_result"
    }
   ],
   "source": [
    "info['age']"
   ]
  },
  {
   "cell_type": "code",
   "execution_count": 82,
   "id": "2226bf4c",
   "metadata": {},
   "outputs": [
    {
     "data": {
      "text/plain": [
       "array([(19, 168.), (23, 180.), (23, 180.)],\n",
       "      dtype={'names':['age','height'], 'formats':['<i8','<f8'], 'offsets':[40,48], 'itemsize':56})"
      ]
     },
     "execution_count": 82,
     "metadata": {},
     "output_type": "execute_result"
    }
   ],
   "source": [
    "info[['age', 'height']]"
   ]
  },
  {
   "cell_type": "markdown",
   "id": "ca7d417b",
   "metadata": {},
   "source": [
    "### Сохранение массива"
   ]
  },
  {
   "cell_type": "code",
   "execution_count": 84,
   "id": "1258399f",
   "metadata": {},
   "outputs": [],
   "source": [
    "np.save(\"info.npy\", info)"
   ]
  },
  {
   "cell_type": "code",
   "execution_count": 88,
   "id": "170f62ee",
   "metadata": {},
   "outputs": [],
   "source": [
    "ages = np.array([61, 73, 18, 92])\n",
    "np.savetxt(\"ages.txt\", ages)"
   ]
  },
  {
   "cell_type": "markdown",
   "id": "b7bfd51f",
   "metadata": {},
   "source": [
    "### Загрузка  массива"
   ]
  },
  {
   "cell_type": "code",
   "execution_count": 86,
   "id": "6d1d549d",
   "metadata": {},
   "outputs": [
    {
     "data": {
      "text/plain": [
       "array([('Anna', 19, 168.), ('Sam', 23, 180.), ('Pam', 23, 180.)],\n",
       "      dtype=[('name', '<U10'), ('age', '<i8'), ('height', '<f8')])"
      ]
     },
     "execution_count": 86,
     "metadata": {},
     "output_type": "execute_result"
    }
   ],
   "source": [
    "new = np.load(\"info.npy\")\n",
    "new"
   ]
  },
  {
   "cell_type": "code",
   "execution_count": null,
   "id": "96e6f75e",
   "metadata": {},
   "outputs": [],
   "source": []
  }
 ],
 "metadata": {
  "kernelspec": {
   "display_name": "Python 3 (ipykernel)",
   "language": "python",
   "name": "python3"
  },
  "language_info": {
   "codemirror_mode": {
    "name": "ipython",
    "version": 3
   },
   "file_extension": ".py",
   "mimetype": "text/x-python",
   "name": "python",
   "nbconvert_exporter": "python",
   "pygments_lexer": "ipython3",
   "version": "3.9.12"
  }
 },
 "nbformat": 4,
 "nbformat_minor": 5
}
