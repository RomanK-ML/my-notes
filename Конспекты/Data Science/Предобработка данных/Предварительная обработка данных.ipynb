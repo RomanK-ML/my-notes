{
 "cells": [
  {
   "cell_type": "code",
   "execution_count": 150,
   "id": "8e762a41-8c62-4f78-a763-354332386676",
   "metadata": {},
   "outputs": [],
   "source": [
    "import numpy as np\n",
    "import pandas as pd\n",
    "import seaborn as sns\n",
    "import matplotlib.pyplot as plt\n",
    "from sklearn.impute import SimpleImputer\n",
    "from sklearn.impute import MissingIndicator\n",
    "from sklearn.impute import KNNImputer\n",
    "from sklearn.preprocessing import StandardScaler\n",
    "from sklearn.linear_model import Lasso\n",
    "from sklearn.pipeline import Pipeline\n",
    "from sklearn.model_selection import GridSearchCV\n",
    "from sklearn.ensemble import RandomForestRegressor\n",
    "from sklearn.experimental import enable_iterative_imputer\n",
    "from sklearn.impute import IterativeImputer\n",
    "from IPython.display import Image\n",
    "%matplotlib inline \n",
    "sns.set(style=\"ticks\")"
   ]
  },
  {
   "cell_type": "markdown",
   "id": "be5dcd01-b964-45f7-a02a-ca26c86b8017",
   "metadata": {
    "tags": []
   },
   "source": [
    "# Порядок"
   ]
  },
  {
   "cell_type": "markdown",
   "id": "2176dcd1-00f8-4c7e-a7e2-8adc35752602",
   "metadata": {},
   "source": [
    "## Анализ набора данных, типов признаков и характеристик признаков"
   ]
  },
  {
   "cell_type": "markdown",
   "id": "bb3db284-b2e7-4ff6-83ab-fae47407a0a8",
   "metadata": {},
   "source": [
    "## Генерация дополнительных признаков"
   ]
  },
  {
   "cell_type": "markdown",
   "id": "736cd73f-d920-422d-bb49-945d1a08ad5d",
   "metadata": {
    "tags": []
   },
   "source": [
    "## Устранение пропусков в данных"
   ]
  },
  {
   "cell_type": "markdown",
   "id": "e1b499d7-ef20-4441-b1bd-7f78fd5b0b4a",
   "metadata": {
    "tags": []
   },
   "source": [
    "### Загрузка данных"
   ]
  },
  {
   "cell_type": "code",
   "execution_count": 5,
   "id": "9c0607b8-76ec-499a-b0a4-2484552bdb7c",
   "metadata": {},
   "outputs": [
    {
     "data": {
      "text/html": [
       "<div>\n",
       "<style scoped>\n",
       "    .dataframe tbody tr th:only-of-type {\n",
       "        vertical-align: middle;\n",
       "    }\n",
       "\n",
       "    .dataframe tbody tr th {\n",
       "        vertical-align: top;\n",
       "    }\n",
       "\n",
       "    .dataframe thead th {\n",
       "        text-align: right;\n",
       "    }\n",
       "</style>\n",
       "<table border=\"1\" class=\"dataframe\">\n",
       "  <thead>\n",
       "    <tr style=\"text-align: right;\">\n",
       "      <th></th>\n",
       "      <th>Id</th>\n",
       "      <th>MSSubClass</th>\n",
       "      <th>MSZoning</th>\n",
       "      <th>LotFrontage</th>\n",
       "      <th>LotArea</th>\n",
       "      <th>Street</th>\n",
       "      <th>Alley</th>\n",
       "      <th>LotShape</th>\n",
       "      <th>LandContour</th>\n",
       "      <th>Utilities</th>\n",
       "      <th>...</th>\n",
       "      <th>PoolArea</th>\n",
       "      <th>PoolQC</th>\n",
       "      <th>Fence</th>\n",
       "      <th>MiscFeature</th>\n",
       "      <th>MiscVal</th>\n",
       "      <th>MoSold</th>\n",
       "      <th>YrSold</th>\n",
       "      <th>SaleType</th>\n",
       "      <th>SaleCondition</th>\n",
       "      <th>SalePrice</th>\n",
       "    </tr>\n",
       "  </thead>\n",
       "  <tbody>\n",
       "    <tr>\n",
       "      <th>0</th>\n",
       "      <td>1</td>\n",
       "      <td>60</td>\n",
       "      <td>RL</td>\n",
       "      <td>65.0</td>\n",
       "      <td>8450</td>\n",
       "      <td>Pave</td>\n",
       "      <td>NaN</td>\n",
       "      <td>Reg</td>\n",
       "      <td>Lvl</td>\n",
       "      <td>AllPub</td>\n",
       "      <td>...</td>\n",
       "      <td>0</td>\n",
       "      <td>NaN</td>\n",
       "      <td>NaN</td>\n",
       "      <td>NaN</td>\n",
       "      <td>0</td>\n",
       "      <td>2</td>\n",
       "      <td>2008</td>\n",
       "      <td>WD</td>\n",
       "      <td>Normal</td>\n",
       "      <td>208500</td>\n",
       "    </tr>\n",
       "    <tr>\n",
       "      <th>1</th>\n",
       "      <td>2</td>\n",
       "      <td>20</td>\n",
       "      <td>RL</td>\n",
       "      <td>80.0</td>\n",
       "      <td>9600</td>\n",
       "      <td>Pave</td>\n",
       "      <td>NaN</td>\n",
       "      <td>Reg</td>\n",
       "      <td>Lvl</td>\n",
       "      <td>AllPub</td>\n",
       "      <td>...</td>\n",
       "      <td>0</td>\n",
       "      <td>NaN</td>\n",
       "      <td>NaN</td>\n",
       "      <td>NaN</td>\n",
       "      <td>0</td>\n",
       "      <td>5</td>\n",
       "      <td>2007</td>\n",
       "      <td>WD</td>\n",
       "      <td>Normal</td>\n",
       "      <td>181500</td>\n",
       "    </tr>\n",
       "    <tr>\n",
       "      <th>2</th>\n",
       "      <td>3</td>\n",
       "      <td>60</td>\n",
       "      <td>RL</td>\n",
       "      <td>68.0</td>\n",
       "      <td>11250</td>\n",
       "      <td>Pave</td>\n",
       "      <td>NaN</td>\n",
       "      <td>IR1</td>\n",
       "      <td>Lvl</td>\n",
       "      <td>AllPub</td>\n",
       "      <td>...</td>\n",
       "      <td>0</td>\n",
       "      <td>NaN</td>\n",
       "      <td>NaN</td>\n",
       "      <td>NaN</td>\n",
       "      <td>0</td>\n",
       "      <td>9</td>\n",
       "      <td>2008</td>\n",
       "      <td>WD</td>\n",
       "      <td>Normal</td>\n",
       "      <td>223500</td>\n",
       "    </tr>\n",
       "    <tr>\n",
       "      <th>3</th>\n",
       "      <td>4</td>\n",
       "      <td>70</td>\n",
       "      <td>RL</td>\n",
       "      <td>60.0</td>\n",
       "      <td>9550</td>\n",
       "      <td>Pave</td>\n",
       "      <td>NaN</td>\n",
       "      <td>IR1</td>\n",
       "      <td>Lvl</td>\n",
       "      <td>AllPub</td>\n",
       "      <td>...</td>\n",
       "      <td>0</td>\n",
       "      <td>NaN</td>\n",
       "      <td>NaN</td>\n",
       "      <td>NaN</td>\n",
       "      <td>0</td>\n",
       "      <td>2</td>\n",
       "      <td>2006</td>\n",
       "      <td>WD</td>\n",
       "      <td>Abnorml</td>\n",
       "      <td>140000</td>\n",
       "    </tr>\n",
       "    <tr>\n",
       "      <th>4</th>\n",
       "      <td>5</td>\n",
       "      <td>60</td>\n",
       "      <td>RL</td>\n",
       "      <td>84.0</td>\n",
       "      <td>14260</td>\n",
       "      <td>Pave</td>\n",
       "      <td>NaN</td>\n",
       "      <td>IR1</td>\n",
       "      <td>Lvl</td>\n",
       "      <td>AllPub</td>\n",
       "      <td>...</td>\n",
       "      <td>0</td>\n",
       "      <td>NaN</td>\n",
       "      <td>NaN</td>\n",
       "      <td>NaN</td>\n",
       "      <td>0</td>\n",
       "      <td>12</td>\n",
       "      <td>2008</td>\n",
       "      <td>WD</td>\n",
       "      <td>Normal</td>\n",
       "      <td>250000</td>\n",
       "    </tr>\n",
       "    <tr>\n",
       "      <th>...</th>\n",
       "      <td>...</td>\n",
       "      <td>...</td>\n",
       "      <td>...</td>\n",
       "      <td>...</td>\n",
       "      <td>...</td>\n",
       "      <td>...</td>\n",
       "      <td>...</td>\n",
       "      <td>...</td>\n",
       "      <td>...</td>\n",
       "      <td>...</td>\n",
       "      <td>...</td>\n",
       "      <td>...</td>\n",
       "      <td>...</td>\n",
       "      <td>...</td>\n",
       "      <td>...</td>\n",
       "      <td>...</td>\n",
       "      <td>...</td>\n",
       "      <td>...</td>\n",
       "      <td>...</td>\n",
       "      <td>...</td>\n",
       "      <td>...</td>\n",
       "    </tr>\n",
       "    <tr>\n",
       "      <th>1455</th>\n",
       "      <td>1456</td>\n",
       "      <td>60</td>\n",
       "      <td>RL</td>\n",
       "      <td>62.0</td>\n",
       "      <td>7917</td>\n",
       "      <td>Pave</td>\n",
       "      <td>NaN</td>\n",
       "      <td>Reg</td>\n",
       "      <td>Lvl</td>\n",
       "      <td>AllPub</td>\n",
       "      <td>...</td>\n",
       "      <td>0</td>\n",
       "      <td>NaN</td>\n",
       "      <td>NaN</td>\n",
       "      <td>NaN</td>\n",
       "      <td>0</td>\n",
       "      <td>8</td>\n",
       "      <td>2007</td>\n",
       "      <td>WD</td>\n",
       "      <td>Normal</td>\n",
       "      <td>175000</td>\n",
       "    </tr>\n",
       "    <tr>\n",
       "      <th>1456</th>\n",
       "      <td>1457</td>\n",
       "      <td>20</td>\n",
       "      <td>RL</td>\n",
       "      <td>85.0</td>\n",
       "      <td>13175</td>\n",
       "      <td>Pave</td>\n",
       "      <td>NaN</td>\n",
       "      <td>Reg</td>\n",
       "      <td>Lvl</td>\n",
       "      <td>AllPub</td>\n",
       "      <td>...</td>\n",
       "      <td>0</td>\n",
       "      <td>NaN</td>\n",
       "      <td>MnPrv</td>\n",
       "      <td>NaN</td>\n",
       "      <td>0</td>\n",
       "      <td>2</td>\n",
       "      <td>2010</td>\n",
       "      <td>WD</td>\n",
       "      <td>Normal</td>\n",
       "      <td>210000</td>\n",
       "    </tr>\n",
       "    <tr>\n",
       "      <th>1457</th>\n",
       "      <td>1458</td>\n",
       "      <td>70</td>\n",
       "      <td>RL</td>\n",
       "      <td>66.0</td>\n",
       "      <td>9042</td>\n",
       "      <td>Pave</td>\n",
       "      <td>NaN</td>\n",
       "      <td>Reg</td>\n",
       "      <td>Lvl</td>\n",
       "      <td>AllPub</td>\n",
       "      <td>...</td>\n",
       "      <td>0</td>\n",
       "      <td>NaN</td>\n",
       "      <td>GdPrv</td>\n",
       "      <td>Shed</td>\n",
       "      <td>2500</td>\n",
       "      <td>5</td>\n",
       "      <td>2010</td>\n",
       "      <td>WD</td>\n",
       "      <td>Normal</td>\n",
       "      <td>266500</td>\n",
       "    </tr>\n",
       "    <tr>\n",
       "      <th>1458</th>\n",
       "      <td>1459</td>\n",
       "      <td>20</td>\n",
       "      <td>RL</td>\n",
       "      <td>68.0</td>\n",
       "      <td>9717</td>\n",
       "      <td>Pave</td>\n",
       "      <td>NaN</td>\n",
       "      <td>Reg</td>\n",
       "      <td>Lvl</td>\n",
       "      <td>AllPub</td>\n",
       "      <td>...</td>\n",
       "      <td>0</td>\n",
       "      <td>NaN</td>\n",
       "      <td>NaN</td>\n",
       "      <td>NaN</td>\n",
       "      <td>0</td>\n",
       "      <td>4</td>\n",
       "      <td>2010</td>\n",
       "      <td>WD</td>\n",
       "      <td>Normal</td>\n",
       "      <td>142125</td>\n",
       "    </tr>\n",
       "    <tr>\n",
       "      <th>1459</th>\n",
       "      <td>1460</td>\n",
       "      <td>20</td>\n",
       "      <td>RL</td>\n",
       "      <td>75.0</td>\n",
       "      <td>9937</td>\n",
       "      <td>Pave</td>\n",
       "      <td>NaN</td>\n",
       "      <td>Reg</td>\n",
       "      <td>Lvl</td>\n",
       "      <td>AllPub</td>\n",
       "      <td>...</td>\n",
       "      <td>0</td>\n",
       "      <td>NaN</td>\n",
       "      <td>NaN</td>\n",
       "      <td>NaN</td>\n",
       "      <td>0</td>\n",
       "      <td>6</td>\n",
       "      <td>2008</td>\n",
       "      <td>WD</td>\n",
       "      <td>Normal</td>\n",
       "      <td>147500</td>\n",
       "    </tr>\n",
       "  </tbody>\n",
       "</table>\n",
       "<p>1460 rows × 81 columns</p>\n",
       "</div>"
      ],
      "text/plain": [
       "        Id  MSSubClass MSZoning  LotFrontage  LotArea Street Alley LotShape  \\\n",
       "0        1          60       RL         65.0     8450   Pave   NaN      Reg   \n",
       "1        2          20       RL         80.0     9600   Pave   NaN      Reg   \n",
       "2        3          60       RL         68.0    11250   Pave   NaN      IR1   \n",
       "3        4          70       RL         60.0     9550   Pave   NaN      IR1   \n",
       "4        5          60       RL         84.0    14260   Pave   NaN      IR1   \n",
       "...    ...         ...      ...          ...      ...    ...   ...      ...   \n",
       "1455  1456          60       RL         62.0     7917   Pave   NaN      Reg   \n",
       "1456  1457          20       RL         85.0    13175   Pave   NaN      Reg   \n",
       "1457  1458          70       RL         66.0     9042   Pave   NaN      Reg   \n",
       "1458  1459          20       RL         68.0     9717   Pave   NaN      Reg   \n",
       "1459  1460          20       RL         75.0     9937   Pave   NaN      Reg   \n",
       "\n",
       "     LandContour Utilities  ... PoolArea PoolQC  Fence MiscFeature MiscVal  \\\n",
       "0            Lvl    AllPub  ...        0    NaN    NaN         NaN       0   \n",
       "1            Lvl    AllPub  ...        0    NaN    NaN         NaN       0   \n",
       "2            Lvl    AllPub  ...        0    NaN    NaN         NaN       0   \n",
       "3            Lvl    AllPub  ...        0    NaN    NaN         NaN       0   \n",
       "4            Lvl    AllPub  ...        0    NaN    NaN         NaN       0   \n",
       "...          ...       ...  ...      ...    ...    ...         ...     ...   \n",
       "1455         Lvl    AllPub  ...        0    NaN    NaN         NaN       0   \n",
       "1456         Lvl    AllPub  ...        0    NaN  MnPrv         NaN       0   \n",
       "1457         Lvl    AllPub  ...        0    NaN  GdPrv        Shed    2500   \n",
       "1458         Lvl    AllPub  ...        0    NaN    NaN         NaN       0   \n",
       "1459         Lvl    AllPub  ...        0    NaN    NaN         NaN       0   \n",
       "\n",
       "     MoSold YrSold  SaleType  SaleCondition  SalePrice  \n",
       "0         2   2008        WD         Normal     208500  \n",
       "1         5   2007        WD         Normal     181500  \n",
       "2         9   2008        WD         Normal     223500  \n",
       "3         2   2006        WD        Abnorml     140000  \n",
       "4        12   2008        WD         Normal     250000  \n",
       "...     ...    ...       ...            ...        ...  \n",
       "1455      8   2007        WD         Normal     175000  \n",
       "1456      2   2010        WD         Normal     210000  \n",
       "1457      5   2010        WD         Normal     266500  \n",
       "1458      4   2010        WD         Normal     142125  \n",
       "1459      6   2008        WD         Normal     147500  \n",
       "\n",
       "[1460 rows x 81 columns]"
      ]
     },
     "execution_count": 5,
     "metadata": {},
     "output_type": "execute_result"
    }
   ],
   "source": [
    "data = pd.read_csv(\"data/house_prices_train.csv\", sep=\",\")\n",
    "data"
   ]
  },
  {
   "cell_type": "code",
   "execution_count": 6,
   "id": "656c97e5-7685-454f-b5fe-1d4073599341",
   "metadata": {},
   "outputs": [
    {
     "data": {
      "text/plain": [
       "(1460, 81)"
      ]
     },
     "execution_count": 6,
     "metadata": {},
     "output_type": "execute_result"
    }
   ],
   "source": [
    "data.shape"
   ]
  },
  {
   "cell_type": "code",
   "execution_count": 8,
   "id": "ed90f4ba-1f44-4de1-8d48-b230bf88ec50",
   "metadata": {},
   "outputs": [
    {
     "data": {
      "text/plain": [
       "Id                 int64\n",
       "MSSubClass         int64\n",
       "MSZoning          object\n",
       "LotFrontage      float64\n",
       "LotArea            int64\n",
       "                  ...   \n",
       "MoSold             int64\n",
       "YrSold             int64\n",
       "SaleType          object\n",
       "SaleCondition     object\n",
       "SalePrice          int64\n",
       "Length: 81, dtype: object"
      ]
     },
     "execution_count": 8,
     "metadata": {},
     "output_type": "execute_result"
    }
   ],
   "source": [
    "data.dtypes"
   ]
  },
  {
   "cell_type": "code",
   "execution_count": 11,
   "id": "adb9d5f3-db5d-49a8-ae7d-416ec3ab99bc",
   "metadata": {},
   "outputs": [
    {
     "name": "stdout",
     "output_type": "stream",
     "text": [
      "<class 'pandas.core.frame.DataFrame'>\n",
      "RangeIndex: 1460 entries, 0 to 1459\n",
      "Data columns (total 81 columns):\n",
      " #   Column         Non-Null Count  Dtype  \n",
      "---  ------         --------------  -----  \n",
      " 0   Id             1460 non-null   int64  \n",
      " 1   MSSubClass     1460 non-null   int64  \n",
      " 2   MSZoning       1460 non-null   object \n",
      " 3   LotFrontage    1201 non-null   float64\n",
      " 4   LotArea        1460 non-null   int64  \n",
      " 5   Street         1460 non-null   object \n",
      " 6   Alley          91 non-null     object \n",
      " 7   LotShape       1460 non-null   object \n",
      " 8   LandContour    1460 non-null   object \n",
      " 9   Utilities      1460 non-null   object \n",
      " 10  LotConfig      1460 non-null   object \n",
      " 11  LandSlope      1460 non-null   object \n",
      " 12  Neighborhood   1460 non-null   object \n",
      " 13  Condition1     1460 non-null   object \n",
      " 14  Condition2     1460 non-null   object \n",
      " 15  BldgType       1460 non-null   object \n",
      " 16  HouseStyle     1460 non-null   object \n",
      " 17  OverallQual    1460 non-null   int64  \n",
      " 18  OverallCond    1460 non-null   int64  \n",
      " 19  YearBuilt      1460 non-null   int64  \n",
      " 20  YearRemodAdd   1460 non-null   int64  \n",
      " 21  RoofStyle      1460 non-null   object \n",
      " 22  RoofMatl       1460 non-null   object \n",
      " 23  Exterior1st    1460 non-null   object \n",
      " 24  Exterior2nd    1460 non-null   object \n",
      " 25  MasVnrType     1452 non-null   object \n",
      " 26  MasVnrArea     1452 non-null   float64\n",
      " 27  ExterQual      1460 non-null   object \n",
      " 28  ExterCond      1460 non-null   object \n",
      " 29  Foundation     1460 non-null   object \n",
      " 30  BsmtQual       1423 non-null   object \n",
      " 31  BsmtCond       1423 non-null   object \n",
      " 32  BsmtExposure   1422 non-null   object \n",
      " 33  BsmtFinType1   1423 non-null   object \n",
      " 34  BsmtFinSF1     1460 non-null   int64  \n",
      " 35  BsmtFinType2   1422 non-null   object \n",
      " 36  BsmtFinSF2     1460 non-null   int64  \n",
      " 37  BsmtUnfSF      1460 non-null   int64  \n",
      " 38  TotalBsmtSF    1460 non-null   int64  \n",
      " 39  Heating        1460 non-null   object \n",
      " 40  HeatingQC      1460 non-null   object \n",
      " 41  CentralAir     1460 non-null   object \n",
      " 42  Electrical     1459 non-null   object \n",
      " 43  1stFlrSF       1460 non-null   int64  \n",
      " 44  2ndFlrSF       1460 non-null   int64  \n",
      " 45  LowQualFinSF   1460 non-null   int64  \n",
      " 46  GrLivArea      1460 non-null   int64  \n",
      " 47  BsmtFullBath   1460 non-null   int64  \n",
      " 48  BsmtHalfBath   1460 non-null   int64  \n",
      " 49  FullBath       1460 non-null   int64  \n",
      " 50  HalfBath       1460 non-null   int64  \n",
      " 51  BedroomAbvGr   1460 non-null   int64  \n",
      " 52  KitchenAbvGr   1460 non-null   int64  \n",
      " 53  KitchenQual    1460 non-null   object \n",
      " 54  TotRmsAbvGrd   1460 non-null   int64  \n",
      " 55  Functional     1460 non-null   object \n",
      " 56  Fireplaces     1460 non-null   int64  \n",
      " 57  FireplaceQu    770 non-null    object \n",
      " 58  GarageType     1379 non-null   object \n",
      " 59  GarageYrBlt    1379 non-null   float64\n",
      " 60  GarageFinish   1379 non-null   object \n",
      " 61  GarageCars     1460 non-null   int64  \n",
      " 62  GarageArea     1460 non-null   int64  \n",
      " 63  GarageQual     1379 non-null   object \n",
      " 64  GarageCond     1379 non-null   object \n",
      " 65  PavedDrive     1460 non-null   object \n",
      " 66  WoodDeckSF     1460 non-null   int64  \n",
      " 67  OpenPorchSF    1460 non-null   int64  \n",
      " 68  EnclosedPorch  1460 non-null   int64  \n",
      " 69  3SsnPorch      1460 non-null   int64  \n",
      " 70  ScreenPorch    1460 non-null   int64  \n",
      " 71  PoolArea       1460 non-null   int64  \n",
      " 72  PoolQC         7 non-null      object \n",
      " 73  Fence          281 non-null    object \n",
      " 74  MiscFeature    54 non-null     object \n",
      " 75  MiscVal        1460 non-null   int64  \n",
      " 76  MoSold         1460 non-null   int64  \n",
      " 77  YrSold         1460 non-null   int64  \n",
      " 78  SaleType       1460 non-null   object \n",
      " 79  SaleCondition  1460 non-null   object \n",
      " 80  SalePrice      1460 non-null   int64  \n",
      "dtypes: float64(3), int64(35), object(43)\n",
      "memory usage: 924.0+ KB\n"
     ]
    }
   ],
   "source": [
    "data.info()"
   ]
  },
  {
   "cell_type": "code",
   "execution_count": 14,
   "id": "5c07a5df-7289-485e-a0f5-6438b9ff99dd",
   "metadata": {},
   "outputs": [
    {
     "data": {
      "text/plain": [
       "Id                 0\n",
       "MSSubClass         0\n",
       "MSZoning           0\n",
       "LotFrontage      259\n",
       "LotArea            0\n",
       "                ... \n",
       "MoSold             0\n",
       "YrSold             0\n",
       "SaleType           0\n",
       "SaleCondition      0\n",
       "SalePrice          0\n",
       "Length: 81, dtype: int64"
      ]
     },
     "execution_count": 14,
     "metadata": {},
     "output_type": "execute_result"
    }
   ],
   "source": [
    "data.isnull().sum()"
   ]
  },
  {
   "cell_type": "markdown",
   "id": "5188a3f6-ccf9-4e79-a298-e443b94bd05d",
   "metadata": {},
   "source": [
    "### Удаление пропущенных значений"
   ]
  },
  {
   "cell_type": "markdown",
   "id": "1dd12c87-c324-44bd-a3b1-9ee06791dce3",
   "metadata": {},
   "source": [
    "**Допущение:** пропуски распределены случайным образом.\n",
    "\n",
    "**Когда рекомендуется использовать?**\n",
    "\n",
    "- Если пропущенных данных слишком много и возникает опасность нарушить распределение исходных данных при заполнении пропусков. Рекомендуется удалять признак (колонку) целиком.\n",
    "- Если датасет большой и пропущенных данных относительно немного, то рекомендуется удалять строки, содержащие пропуски в данных.\n",
    "- Под \"немного\" в идеальном случае понимается 5% от выборки.\n",
    "\n",
    "**Преимущества:**\n",
    "\n",
    "- Простота реализации.\n",
    "- При случайном распределении пропусков сохраняются параметры распределения исходных данных.\n",
    "\n",
    "**Недостатки:**\n",
    "\n",
    "- Может быть удален большой фрагмент данных при неудачном распределении пропусков в нескольких столбцах.\n",
    "- Если пропуски распределены не случайно, то можно удалить значимые данные."
   ]
  },
  {
   "cell_type": "markdown",
   "id": "ff39fb54-3f78-45d4-9875-9bf30c073cce",
   "metadata": {},
   "source": [
    "#### Удаление колонок, содержащих пустые значения"
   ]
  },
  {
   "cell_type": "code",
   "execution_count": 15,
   "id": "0d2bc0d6-88b4-4673-9b5f-3175ae373efa",
   "metadata": {},
   "outputs": [
    {
     "data": {
      "text/plain": [
       "((1460, 81), (1460, 62))"
      ]
     },
     "execution_count": 15,
     "metadata": {},
     "output_type": "execute_result"
    }
   ],
   "source": [
    "# Удаление колонок, содержащих пустые значения\n",
    "data_new_1 = data.dropna(axis=1, how='any')\n",
    "(data.shape, data_new_1.shape)"
   ]
  },
  {
   "cell_type": "markdown",
   "id": "d596f9d1-b1d0-4bcf-bd96-d00498b0b245",
   "metadata": {},
   "source": [
    "#### Удаление строк, содержащих пустые значения"
   ]
  },
  {
   "cell_type": "code",
   "execution_count": 16,
   "id": "45475d8d-ed94-4f20-acb4-f58ebf1f6b37",
   "metadata": {},
   "outputs": [
    {
     "data": {
      "text/plain": [
       "((1460, 81), (0, 81))"
      ]
     },
     "execution_count": 16,
     "metadata": {},
     "output_type": "execute_result"
    }
   ],
   "source": [
    "# Удаление строк, содержащих пустые значения\n",
    "data_new_2 = data.dropna(axis=0, how='any')\n",
    "(data.shape, data_new_2.shape)"
   ]
  },
  {
   "cell_type": "markdown",
   "id": "c2228bd9-0ea7-4dda-8d8f-ca387a5edf3c",
   "metadata": {},
   "source": [
    "#### Удаление может производиться для группы строк или колонок"
   ]
  },
  {
   "cell_type": "code",
   "execution_count": 84,
   "id": "1a77bdf5-6be9-46a9-ab6b-c67a571fc890",
   "metadata": {},
   "outputs": [
    {
     "data": {
      "text/plain": [
       "((1460, 81), (1097, 4))"
      ]
     },
     "execution_count": 84,
     "metadata": {},
     "output_type": "execute_result"
    }
   ],
   "source": [
    "# Колонки для которых удаляются пропуски\n",
    "hcols_with_na_temp = ['LotFrontage', 'GarageYrBlt', 'BsmtQual', 'MasVnrArea']\n",
    "\n",
    "# Удаление пропусков\n",
    "data_new_group = data[hcols_with_na_temp].dropna()\n",
    "(data.shape, data_new_group.shape)"
   ]
  },
  {
   "cell_type": "markdown",
   "id": "edc65830-3c15-46e8-91e9-4a8b9b7fc296",
   "metadata": {},
   "source": [
    "### Заполнение всех пропущенных значений нулями"
   ]
  },
  {
   "cell_type": "code",
   "execution_count": 17,
   "id": "960c1769-88fa-4ecf-9121-768a2204f5c4",
   "metadata": {},
   "outputs": [
    {
     "data": {
      "text/html": [
       "<div>\n",
       "<style scoped>\n",
       "    .dataframe tbody tr th:only-of-type {\n",
       "        vertical-align: middle;\n",
       "    }\n",
       "\n",
       "    .dataframe tbody tr th {\n",
       "        vertical-align: top;\n",
       "    }\n",
       "\n",
       "    .dataframe thead th {\n",
       "        text-align: right;\n",
       "    }\n",
       "</style>\n",
       "<table border=\"1\" class=\"dataframe\">\n",
       "  <thead>\n",
       "    <tr style=\"text-align: right;\">\n",
       "      <th></th>\n",
       "      <th>Id</th>\n",
       "      <th>MSSubClass</th>\n",
       "      <th>MSZoning</th>\n",
       "      <th>LotFrontage</th>\n",
       "      <th>LotArea</th>\n",
       "      <th>Street</th>\n",
       "      <th>Alley</th>\n",
       "      <th>LotShape</th>\n",
       "      <th>LandContour</th>\n",
       "      <th>Utilities</th>\n",
       "      <th>...</th>\n",
       "      <th>PoolArea</th>\n",
       "      <th>PoolQC</th>\n",
       "      <th>Fence</th>\n",
       "      <th>MiscFeature</th>\n",
       "      <th>MiscVal</th>\n",
       "      <th>MoSold</th>\n",
       "      <th>YrSold</th>\n",
       "      <th>SaleType</th>\n",
       "      <th>SaleCondition</th>\n",
       "      <th>SalePrice</th>\n",
       "    </tr>\n",
       "  </thead>\n",
       "  <tbody>\n",
       "    <tr>\n",
       "      <th>0</th>\n",
       "      <td>1</td>\n",
       "      <td>60</td>\n",
       "      <td>RL</td>\n",
       "      <td>65.0</td>\n",
       "      <td>8450</td>\n",
       "      <td>Pave</td>\n",
       "      <td>0</td>\n",
       "      <td>Reg</td>\n",
       "      <td>Lvl</td>\n",
       "      <td>AllPub</td>\n",
       "      <td>...</td>\n",
       "      <td>0</td>\n",
       "      <td>0</td>\n",
       "      <td>0</td>\n",
       "      <td>0</td>\n",
       "      <td>0</td>\n",
       "      <td>2</td>\n",
       "      <td>2008</td>\n",
       "      <td>WD</td>\n",
       "      <td>Normal</td>\n",
       "      <td>208500</td>\n",
       "    </tr>\n",
       "    <tr>\n",
       "      <th>1</th>\n",
       "      <td>2</td>\n",
       "      <td>20</td>\n",
       "      <td>RL</td>\n",
       "      <td>80.0</td>\n",
       "      <td>9600</td>\n",
       "      <td>Pave</td>\n",
       "      <td>0</td>\n",
       "      <td>Reg</td>\n",
       "      <td>Lvl</td>\n",
       "      <td>AllPub</td>\n",
       "      <td>...</td>\n",
       "      <td>0</td>\n",
       "      <td>0</td>\n",
       "      <td>0</td>\n",
       "      <td>0</td>\n",
       "      <td>0</td>\n",
       "      <td>5</td>\n",
       "      <td>2007</td>\n",
       "      <td>WD</td>\n",
       "      <td>Normal</td>\n",
       "      <td>181500</td>\n",
       "    </tr>\n",
       "    <tr>\n",
       "      <th>2</th>\n",
       "      <td>3</td>\n",
       "      <td>60</td>\n",
       "      <td>RL</td>\n",
       "      <td>68.0</td>\n",
       "      <td>11250</td>\n",
       "      <td>Pave</td>\n",
       "      <td>0</td>\n",
       "      <td>IR1</td>\n",
       "      <td>Lvl</td>\n",
       "      <td>AllPub</td>\n",
       "      <td>...</td>\n",
       "      <td>0</td>\n",
       "      <td>0</td>\n",
       "      <td>0</td>\n",
       "      <td>0</td>\n",
       "      <td>0</td>\n",
       "      <td>9</td>\n",
       "      <td>2008</td>\n",
       "      <td>WD</td>\n",
       "      <td>Normal</td>\n",
       "      <td>223500</td>\n",
       "    </tr>\n",
       "    <tr>\n",
       "      <th>3</th>\n",
       "      <td>4</td>\n",
       "      <td>70</td>\n",
       "      <td>RL</td>\n",
       "      <td>60.0</td>\n",
       "      <td>9550</td>\n",
       "      <td>Pave</td>\n",
       "      <td>0</td>\n",
       "      <td>IR1</td>\n",
       "      <td>Lvl</td>\n",
       "      <td>AllPub</td>\n",
       "      <td>...</td>\n",
       "      <td>0</td>\n",
       "      <td>0</td>\n",
       "      <td>0</td>\n",
       "      <td>0</td>\n",
       "      <td>0</td>\n",
       "      <td>2</td>\n",
       "      <td>2006</td>\n",
       "      <td>WD</td>\n",
       "      <td>Abnorml</td>\n",
       "      <td>140000</td>\n",
       "    </tr>\n",
       "    <tr>\n",
       "      <th>4</th>\n",
       "      <td>5</td>\n",
       "      <td>60</td>\n",
       "      <td>RL</td>\n",
       "      <td>84.0</td>\n",
       "      <td>14260</td>\n",
       "      <td>Pave</td>\n",
       "      <td>0</td>\n",
       "      <td>IR1</td>\n",
       "      <td>Lvl</td>\n",
       "      <td>AllPub</td>\n",
       "      <td>...</td>\n",
       "      <td>0</td>\n",
       "      <td>0</td>\n",
       "      <td>0</td>\n",
       "      <td>0</td>\n",
       "      <td>0</td>\n",
       "      <td>12</td>\n",
       "      <td>2008</td>\n",
       "      <td>WD</td>\n",
       "      <td>Normal</td>\n",
       "      <td>250000</td>\n",
       "    </tr>\n",
       "  </tbody>\n",
       "</table>\n",
       "<p>5 rows × 81 columns</p>\n",
       "</div>"
      ],
      "text/plain": [
       "   Id  MSSubClass MSZoning  LotFrontage  LotArea Street Alley LotShape  \\\n",
       "0   1          60       RL         65.0     8450   Pave     0      Reg   \n",
       "1   2          20       RL         80.0     9600   Pave     0      Reg   \n",
       "2   3          60       RL         68.0    11250   Pave     0      IR1   \n",
       "3   4          70       RL         60.0     9550   Pave     0      IR1   \n",
       "4   5          60       RL         84.0    14260   Pave     0      IR1   \n",
       "\n",
       "  LandContour Utilities  ... PoolArea PoolQC Fence MiscFeature MiscVal MoSold  \\\n",
       "0         Lvl    AllPub  ...        0      0     0           0       0      2   \n",
       "1         Lvl    AllPub  ...        0      0     0           0       0      5   \n",
       "2         Lvl    AllPub  ...        0      0     0           0       0      9   \n",
       "3         Lvl    AllPub  ...        0      0     0           0       0      2   \n",
       "4         Lvl    AllPub  ...        0      0     0           0       0     12   \n",
       "\n",
       "  YrSold  SaleType  SaleCondition  SalePrice  \n",
       "0   2008        WD         Normal     208500  \n",
       "1   2007        WD         Normal     181500  \n",
       "2   2008        WD         Normal     223500  \n",
       "3   2006        WD        Abnorml     140000  \n",
       "4   2008        WD         Normal     250000  \n",
       "\n",
       "[5 rows x 81 columns]"
      ]
     },
     "execution_count": 17,
     "metadata": {},
     "output_type": "execute_result"
    }
   ],
   "source": [
    "# Заполнение всех пропущенных значений нулями\n",
    "# В данном случае это некорректно, так как нулями заполняются в том числе категориальные колонки\n",
    "data_new_3 = data.fillna(0)\n",
    "data_new_3.head()"
   ]
  },
  {
   "cell_type": "markdown",
   "id": "29c792b3-945e-42ed-9c70-f010fc4caba9",
   "metadata": {},
   "source": [
    "### \"Внедрение значений\" - импьютация (imputation)"
   ]
  },
  {
   "cell_type": "markdown",
   "id": "056bbbc9-e0b0-4b0f-a1a9-dda89974ef92",
   "metadata": {},
   "source": [
    "В этом случае данные которые находятся в соседних признаках (колонках) не учитываются при заполнении.\n",
    "\n",
    "**Заполнение (внедрение) значений или импьютация (imputation)** - это заполнение пропущенных значений их статистическими оценками.\n",
    "\n",
    "**Для числовых признаков:**\n",
    "\n",
    "- Заполнение показателями центра распределения.\n",
    "- Заполнение константой. Полезно в случае \"неслучайного\" распределения пропусков.\n",
    "- Заполнение \"хвостом распределения\".\n",
    "\n",
    "**Для категориальных признаков:**\n",
    "\n",
    "- Заполнение наиболее распространенным значением категории (аналогом моды).\n",
    "- Введение отдельного значения категории для пропущенных значений.\n",
    "\n",
    "**Для числовых и категориальных признаков:**\n",
    "\n",
    "- Добавления флага пропусков.\n",
    "- Заполнение случайным значением признака. Метод обычно применяют на больших выборках. Преимуществом является то, что он сохраняет дисперсию исходной выборки."
   ]
  },
  {
   "cell_type": "markdown",
   "id": "d24274f4-0b7b-4ffa-bb61-36abc7aa5452",
   "metadata": {},
   "source": [
    "#### Заполнение показателями центра распределения и константой для числовых признаков."
   ]
  },
  {
   "cell_type": "markdown",
   "id": "0168e64e-91ce-4bc2-bb55-0000a1020f10",
   "metadata": {},
   "source": [
    "В случае нормального распределения математическое ожидание, медиана и мода совпадают:"
   ]
  },
  {
   "cell_type": "code",
   "execution_count": 92,
   "id": "22f3ada3-253d-4a31-a20b-979057a8be0d",
   "metadata": {},
   "outputs": [
    {
     "data": {
      "image/png": "[encoded data removed]",
      "text/plain": [
       "<IPython.core.display.Image object>"
      ]
     },
     "execution_count": 92,
     "metadata": {
      "image/png": {
       "width": "30%"
      }
     },
     "output_type": "execute_result"
    }
   ],
   "source": [
    "from IPython.display import Image\n",
    "\n",
    "Image('img/normal_dist.png', width=\"30%\")"
   ]
  },
  {
   "cell_type": "markdown",
   "id": "79bb300f-4439-4163-9eb7-dbceb5bdb35f",
   "metadata": {},
   "source": [
    "Для ассиметричных распределений эти показатели различаются:"
   ]
  },
  {
   "cell_type": "code",
   "execution_count": 91,
   "id": "ebcb6b1e-1a68-45ac-8d3d-6917eeeddad0",
   "metadata": {},
   "outputs": [
    {
     "data": {
      "image/png": "[encoded data removed]",
      "text/plain": [
       "<IPython.core.display.Image object>"
      ]
     },
     "execution_count": 91,
     "metadata": {
      "image/png": {
       "width": "30%"
      }
     },
     "output_type": "execute_result"
    }
   ],
   "source": [
    "Image('img/center_skewed.png', width='30%')"
   ]
  },
  {
   "cell_type": "markdown",
   "id": "dba89541-8c22-4e5a-948f-15957413eab7",
   "metadata": {},
   "source": [
    "**Когда рекомендуется использовать?**\n",
    "\n",
    "- Если пропуски распределены случайным образом.\n",
    "- В идеальном случае пропусков не более 5% от выборки.\n",
    "\n",
    "**Какой показатель центра распределения лучше использовать?**\n",
    "\n",
    "- Если распределение одномодальное, то лучше использовать моду, иначе математическое ожидание или медиану.\n",
    "- Не существует однозначного предпочтения между математическим ожиданием или медианой. Но медиана более устойчива к выбросам в данных.\n",
    "\n",
    "Для внедрение) значений может быть использован класс SimpleImputer.\n",
    "\n",
    "Для фильтрации пропущенных значений может быть использован класс MissingIndicator."
   ]
  },
  {
   "cell_type": "code",
   "execution_count": 110,
   "id": "436c3a12-231a-4b23-b17e-7a1bcecf5067",
   "metadata": {},
   "outputs": [
    {
     "name": "stdout",
     "output_type": "stream",
     "text": [
      "Исходный массив:\n",
      "[[nan  1.  3.]\n",
      " [ 4.  0. nan]\n",
      " [ 8.  1.  0.]]\n",
      "Маска пропущенных значений:\n",
      "[[ True False]\n",
      " [False  True]\n",
      " [False False]]\n"
     ]
    }
   ],
   "source": [
    "from sklearn.impute import SimpleImputer\n",
    "from sklearn.impute import MissingIndicator\n",
    "\n",
    "# Пример работы MissingIndicator\n",
    "# Фильтр для проверки заполнения пустых значений\n",
    "temp_x1 = np.array([[np.nan, 1, 3], [4, 0, np.nan], [8, 1, 0]])\n",
    "print('Исходный массив:')\n",
    "print(temp_x1)\n",
    "indicator = MissingIndicator()\n",
    "temp_x1_transformed = indicator.fit_transform(temp_x1)\n",
    "print('Маска пропущенных значений:')\n",
    "print(temp_x1_transformed)"
   ]
  },
  {
   "cell_type": "code",
   "execution_count": 95,
   "id": "c47fbf0e-164a-4cf3-afca-a789bff470ba",
   "metadata": {},
   "outputs": [],
   "source": [
    "def impute_column(dataset, column, strategy_param, fill_value_param=None):\n",
    "    \"\"\"\n",
    "    Заполнение пропусков в одном признаке\n",
    "    \"\"\"\n",
    "    temp_data = dataset[[column]].values\n",
    "    size = temp_data.shape[0]\n",
    "    \n",
    "    indicator = MissingIndicator()\n",
    "    mask_missing_values_only = indicator.fit_transform(temp_data)\n",
    "    \n",
    "    imputer = SimpleImputer(strategy=strategy_param, \n",
    "                            fill_value=fill_value_param)\n",
    "    all_data = imputer.fit_transform(temp_data)\n",
    "    \n",
    "    missed_data = temp_data[mask_missing_values_only]\n",
    "    filled_data = all_data[mask_missing_values_only]\n",
    "    \n",
    "    return all_data.reshape((size,)), filled_data, missed_data"
   ]
  },
  {
   "cell_type": "code",
   "execution_count": 103,
   "id": "987c22dc-ab84-4c68-9f7f-e3d9307509b1",
   "metadata": {},
   "outputs": [
    {
     "data": {
      "text/plain": [
       "array([196.,   0., 162., ...,   0.,   0.,   0.])"
      ]
     },
     "execution_count": 103,
     "metadata": {},
     "output_type": "execute_result"
    }
   ],
   "source": [
    "all_data, filled_data, missed_data = impute_column(data, 'MasVnrArea', 'mean')\n",
    "all_data"
   ]
  },
  {
   "cell_type": "code",
   "execution_count": 104,
   "id": "563a5556-aa13-4717-b943-67e9375671ff",
   "metadata": {},
   "outputs": [
    {
     "data": {
      "text/plain": [
       "array([103.68526171, 103.68526171, 103.68526171, 103.68526171,\n",
       "       103.68526171, 103.68526171, 103.68526171, 103.68526171])"
      ]
     },
     "execution_count": 104,
     "metadata": {},
     "output_type": "execute_result"
    }
   ],
   "source": [
    "filled_data"
   ]
  },
  {
   "cell_type": "code",
   "execution_count": 105,
   "id": "66599a51-6668-4de8-9b5a-f188001bcec3",
   "metadata": {},
   "outputs": [
    {
     "data": {
      "text/plain": [
       "array([nan, nan, nan, nan, nan, nan, nan, nan])"
      ]
     },
     "execution_count": 105,
     "metadata": {},
     "output_type": "execute_result"
    }
   ],
   "source": [
    "missed_data"
   ]
  },
  {
   "cell_type": "code",
   "execution_count": 106,
   "id": "570d4595-b945-41be-a064-53d1307791c9",
   "metadata": {},
   "outputs": [],
   "source": [
    "def research_impute_numeric_column(dataset, num_column, const_value=None):\n",
    "    strategy_params = ['mean', 'median', 'most_frequent', 'constant']\n",
    "    strategy_params_names = ['Среднее', 'Медиана', 'Мода']\n",
    "    strategy_params_names.append('Константа = ' + str(const_value))\n",
    "    \n",
    "    original_temp_data = dataset[[num_column]].values\n",
    "    size = original_temp_data.shape[0]\n",
    "    original_data = original_temp_data.reshape((size,))\n",
    "    \n",
    "    new_df = pd.DataFrame({'Исходные данные':original_data})\n",
    "       \n",
    "    for i in range(len(strategy_params)):\n",
    "        strategy = strategy_params[i]\n",
    "        col_name = strategy_params_names[i]\n",
    "        if (strategy!='constant') or (strategy == 'constant' and const_value!=None):\n",
    "            if strategy == 'constant':\n",
    "                temp_data, _, _ = impute_column(dataset, num_column, strategy, fill_value_param=const_value)\n",
    "            else:\n",
    "                temp_data, _, _ = impute_column(dataset, num_column, strategy)\n",
    "            new_df[col_name] = temp_data\n",
    "        \n",
    "    sns.kdeplot(data=new_df)"
   ]
  },
  {
   "cell_type": "markdown",
   "id": "8c1531a0-2030-4b1f-92cd-6361e4a49b7b",
   "metadata": {},
   "source": [
    "С помощью класса SimpleImputer можно проводить импьютацию различными показателями центра распределения"
   ]
  },
  {
   "cell_type": "code",
   "execution_count": 107,
   "id": "074d82ce-2be2-472d-a223-804e97954332",
   "metadata": {},
   "outputs": [
    {
     "data": {
      "image/png": "[encoded data removed]",
      "text/plain": [
       "<Figure size 432x288 with 1 Axes>"
      ]
     },
     "metadata": {
      "needs_background": "light"
     },
     "output_type": "display_data"
    }
   ],
   "source": [
    "research_impute_numeric_column(data, 'GarageYrBlt', 1950)"
   ]
  },
  {
   "cell_type": "code",
   "execution_count": 108,
   "id": "f1b4933b-a9db-4f37-83d6-722359f28443",
   "metadata": {},
   "outputs": [
    {
     "data": {
      "image/png": "[encoded data removed]",
      "text/plain": [
       "<Figure size 432x288 with 1 Axes>"
      ]
     },
     "metadata": {
      "needs_background": "light"
     },
     "output_type": "display_data"
    }
   ],
   "source": [
    "research_impute_numeric_column(data, 'LotFrontage')"
   ]
  },
  {
   "cell_type": "code",
   "execution_count": 109,
   "id": "98a6c215-7d89-4922-9f1f-57870b2a20e0",
   "metadata": {},
   "outputs": [
    {
     "data": {
      "image/png": "[encoded data removed]",
      "text/plain": [
       "<Figure size 432x288 with 1 Axes>"
      ]
     },
     "metadata": {
      "needs_background": "light"
     },
     "output_type": "display_data"
    }
   ],
   "source": [
    "research_impute_numeric_column(data, 'MasVnrArea')"
   ]
  },
  {
   "cell_type": "markdown",
   "id": "57b396a8-63fb-41f8-a48e-6389a367a9c2",
   "metadata": {},
   "source": [
    "#### Заполнение \"хвостом распределения\" для числовых признаков"
   ]
  },
  {
   "cell_type": "markdown",
   "id": "b4fef757-6272-4bf5-a802-6041d916d853",
   "metadata": {},
   "source": [
    "**Допущение:** пропуски распределены НЕ случайным образом. Мы хотим выделить пропущенные значения из остальных значений.\n",
    "\n",
    "**Преимущества:**\n",
    "\n",
    "- Простота реализации.\n",
    "- Выделяет пропущенные значения из остальных значений.\n",
    "\n",
    "**Недостатки:**\n",
    "\n",
    "- Нарушение параметров исходного распределения.\n",
    "- Поскольку значения на краю распределения фактически являются аномалиями (выбросами), то данный подход может пересекаться с алгоритмами поиска аномалий.\n",
    "\n",
    "**Как вычислить \"хвост распределения\"?**\n",
    "\n",
    "Если распределение данных признака $f$ напоминает нормальное:\n",
    "\n",
    "$$\n",
    "extreme\\_value = mean(f)+3⋅std(f)\n",
    "$$\n",
    "Для ассиметричного распределения:\n",
    "$$\n",
    "IQR = Q3−Q1\n",
    "$$\n",
    "$IQR$ − interquartile range.\n",
    "$$\n",
    "extreme\\_value=Q3+K⋅IQR\n",
    "$$\n",
    "\n",
    "Значение ***K*** обычно выбирается равным **1,5**. Но для экстремальных выбросов выбирают ***K*** = **3**."
   ]
  },
  {
   "cell_type": "code",
   "execution_count": 111,
   "id": "77eae2b3-581e-4d33-8fd0-840023d31597",
   "metadata": {},
   "outputs": [
    {
     "data": {
      "text/plain": [
       "142.9042136914762"
      ]
     },
     "execution_count": 111,
     "metadata": {},
     "output_type": "execute_result"
    }
   ],
   "source": [
    "# Похоже на нормальное\n",
    "LotFrontage_ev = data['LotFrontage'].mean() + 3*data['LotFrontage'].std()\n",
    "LotFrontage_ev"
   ]
  },
  {
   "cell_type": "code",
   "execution_count": 112,
   "id": "b625e8b6-547b-4474-a48b-8aae31bd652c",
   "metadata": {},
   "outputs": [
    {
     "data": {
      "image/png": "[encoded data removed]",
      "text/plain": [
       "<Figure size 432x288 with 1 Axes>"
      ]
     },
     "metadata": {
      "needs_background": "light"
     },
     "output_type": "display_data"
    }
   ],
   "source": [
    "research_impute_numeric_column(data, 'LotFrontage', LotFrontage_ev)"
   ]
  },
  {
   "cell_type": "code",
   "execution_count": 114,
   "id": "669341ca-ee79-4b3f-8651-20936de47d0d",
   "metadata": {},
   "outputs": [
    {
     "name": "stdout",
     "output_type": "stream",
     "text": [
      "IQR=166.0, extreme_value=664.0\n"
     ]
    }
   ],
   "source": [
    "# Ассиметричное\n",
    "IQR = data['MasVnrArea'].quantile(0.75) - data['MasVnrArea'].quantile(0.25)\n",
    "MasVnrArea_ev1 = data['MasVnrArea'].quantile(0.75) + 3*IQR\n",
    "print('IQR={}, extreme_value={}'.format(IQR, MasVnrArea_ev1))"
   ]
  },
  {
   "cell_type": "code",
   "execution_count": 115,
   "id": "1b8c34e8-7512-46f8-9510-a51e02cc645c",
   "metadata": {},
   "outputs": [
    {
     "data": {
      "image/png": "[encoded data removed]",
      "text/plain": [
       "<Figure size 432x288 with 1 Axes>"
      ]
     },
     "metadata": {
      "needs_background": "light"
     },
     "output_type": "display_data"
    }
   ],
   "source": [
    "research_impute_numeric_column(data, 'MasVnrArea', MasVnrArea_ev1)"
   ]
  },
  {
   "cell_type": "code",
   "execution_count": 116,
   "id": "4989a029-938f-4347-8a4a-8d163cbe5beb",
   "metadata": {},
   "outputs": [
    {
     "name": "stdout",
     "output_type": "stream",
     "text": [
      "IQR=166.0, extreme_value=415.0\n"
     ]
    }
   ],
   "source": [
    "MasVnrArea_ev2 = data['MasVnrArea'].quantile(0.75) + 1.5*IQR\n",
    "print('IQR={}, extreme_value={}'.format(IQR, MasVnrArea_ev2))"
   ]
  },
  {
   "cell_type": "code",
   "execution_count": 118,
   "id": "c211149a-1ff0-418b-8a4c-acce52720220",
   "metadata": {},
   "outputs": [
    {
     "data": {
      "image/png": "[encoded data removed]",
      "text/plain": [
       "<Figure size 432x288 with 1 Axes>"
      ]
     },
     "metadata": {
      "needs_background": "light"
     },
     "output_type": "display_data"
    }
   ],
   "source": [
    "research_impute_numeric_column(data, 'MasVnrArea', MasVnrArea_ev2)"
   ]
  },
  {
   "cell_type": "code",
   "execution_count": 119,
   "id": "db9cbd08-2aa6-4484-b2c7-779bca1a4b90",
   "metadata": {},
   "outputs": [],
   "source": [
    "IQR_lf = data['LotFrontage'].quantile(0.75) - data['LotFrontage'].quantile(0.25)\n",
    "LotFrontage_ev1 = data['LotFrontage'].quantile(0.75) + 1.5*IQR_lf\n",
    "LotFrontage_ev2 = data['LotFrontage'].quantile(0.75) + 3*IQR_lf"
   ]
  },
  {
   "cell_type": "code",
   "execution_count": 120,
   "id": "a8c11498-a8cb-4765-b810-78025f8c148d",
   "metadata": {},
   "outputs": [
    {
     "data": {
      "image/png": "[encoded data removed]",
      "text/plain": [
       "<Figure size 432x288 with 1 Axes>"
      ]
     },
     "metadata": {
      "needs_background": "light"
     },
     "output_type": "display_data"
    }
   ],
   "source": [
    "research_impute_numeric_column(data, 'LotFrontage', LotFrontage_ev1)"
   ]
  },
  {
   "cell_type": "code",
   "execution_count": 121,
   "id": "507494f1-b505-4d2c-9416-96fe58490daa",
   "metadata": {},
   "outputs": [
    {
     "data": {
      "image/png": "[encoded data removed]",
      "text/plain": [
       "<Figure size 432x288 with 1 Axes>"
      ]
     },
     "metadata": {
      "needs_background": "light"
     },
     "output_type": "display_data"
    }
   ],
   "source": [
    "research_impute_numeric_column(data, 'LotFrontage', LotFrontage_ev2)"
   ]
  },
  {
   "cell_type": "markdown",
   "id": "00fae0f8-0845-4e12-a45c-f6691b894d75",
   "metadata": {},
   "source": [
    "#### Заполнение наиболее распространенным значением категории для категориальных признаков"
   ]
  },
  {
   "cell_type": "markdown",
   "id": "44a24cf0-21a3-4152-bbaf-29ebd75f5926",
   "metadata": {},
   "source": [
    "**Допущение:** пропуски распределены случайным образом. Заполнение пропусков наиболее распространенным значением категории в наименьшей степени повлияет на исходное распределение."
   ]
  },
  {
   "cell_type": "code",
   "execution_count": 124,
   "id": "40206687-8bc2-4fb4-bdca-b6d55dbe3678",
   "metadata": {},
   "outputs": [],
   "source": [
    "data_cat_cols = ['GarageType', 'PoolQC', 'Fence']\n",
    "data_cat_new = data[data_cat_cols].copy()"
   ]
  },
  {
   "cell_type": "code",
   "execution_count": 126,
   "id": "64310d55-f718-4021-84a7-e745211fe549",
   "metadata": {},
   "outputs": [],
   "source": [
    "GarageType_cat_new_temp, _, _ = impute_column(data_cat_new, 'GarageType', 'most_frequent')\n",
    "PoolQC_cat_new_temp, _, _ = impute_column(data_cat_new, 'PoolQC', 'most_frequent')\n",
    "Fence_cat_new_temp, _, _ = impute_column(data_cat_new, 'Fence', 'most_frequent')"
   ]
  },
  {
   "cell_type": "code",
   "execution_count": 127,
   "id": "7b549db6-bda8-4674-a821-2181f191803c",
   "metadata": {},
   "outputs": [],
   "source": [
    "data_cat_new['GarageType'] = GarageType_cat_new_temp\n",
    "data_cat_new['PoolQC'] = PoolQC_cat_new_temp\n",
    "data_cat_new['Fence'] = Fence_cat_new_temp"
   ]
  },
  {
   "cell_type": "code",
   "execution_count": 129,
   "id": "58c5cde6-7357-4966-bd52-18f1257cbedf",
   "metadata": {},
   "outputs": [],
   "source": [
    "def plot_hist_diff(old_ds, new_ds, cols):\n",
    "    \"\"\"\n",
    "    Разница между распределениями до и после устранения пропусков\n",
    "    \"\"\"\n",
    "    for c in cols:   \n",
    "        fig = plt.figure()\n",
    "        ax = fig.add_subplot(111)\n",
    "        ax.title.set_text('Поле - ' + str(c))\n",
    "        old_ds[c].hist(bins=50, ax=ax, density=True, color='green')\n",
    "        new_ds[c].hist(bins=50, ax=ax, color='blue', density=True, alpha=0.5)\n",
    "        plt.show()"
   ]
  },
  {
   "cell_type": "code",
   "execution_count": 130,
   "id": "116234c8-9ebb-4c75-b677-2d044a4c4125",
   "metadata": {},
   "outputs": [
    {
     "data": {
      "image/png": "[encoded data removed]",
      "text/plain": [
       "<Figure size 432x288 with 1 Axes>"
      ]
     },
     "metadata": {
      "needs_background": "light"
     },
     "output_type": "display_data"
    },
    {
     "data": {
      "image/png": "[encoded data removed]",
      "text/plain": [
       "<Figure size 432x288 with 1 Axes>"
      ]
     },
     "metadata": {
      "needs_background": "light"
     },
     "output_type": "display_data"
    },
    {
     "data": {
      "image/png": "[encoded data removed]",
      "text/plain": [
       "<Figure size 432x288 with 1 Axes>"
      ]
     },
     "metadata": {
      "needs_background": "light"
     },
     "output_type": "display_data"
    }
   ],
   "source": [
    "plot_hist_diff(data, data_cat_new, data_cat_cols)"
   ]
  },
  {
   "cell_type": "markdown",
   "id": "ec37cf64-5953-4590-b5a6-172aad93c928",
   "metadata": {},
   "source": [
    "#### Введение отдельного значения категории для пропущенных значений для категориальных признаков"
   ]
  },
  {
   "cell_type": "markdown",
   "id": "7e3fb367-883f-4474-bad1-42199fdbcb08",
   "metadata": {},
   "source": [
    "**Основное преимущество подхода** состоит в том, что не дается никаких предположений о распределении пропущенных значений."
   ]
  },
  {
   "cell_type": "code",
   "execution_count": 131,
   "id": "9e593502-1da8-4e18-bb69-7bc1b8b243c6",
   "metadata": {},
   "outputs": [],
   "source": [
    "data_cat_na = data[data_cat_cols].copy()"
   ]
  },
  {
   "cell_type": "code",
   "execution_count": 132,
   "id": "e7b25f27-1f6c-4142-bb9b-fa734852cd30",
   "metadata": {},
   "outputs": [],
   "source": [
    "GarageType_cat_na_temp, _, _ = impute_column(data_cat_na, 'GarageType', 'constant', fill_value_param='NA')\n",
    "PoolQC_cat_na_temp, _, _ = impute_column(data_cat_na, 'PoolQC', 'constant', fill_value_param='NA')\n",
    "Fence_cat_na_temp, _, _ = impute_column(data_cat_na, 'Fence', 'constant', fill_value_param='NA')"
   ]
  },
  {
   "cell_type": "code",
   "execution_count": 133,
   "id": "dd3cb285-df72-4db3-8282-19ad341b7c85",
   "metadata": {},
   "outputs": [],
   "source": [
    "data_cat_na['GarageType'] = GarageType_cat_na_temp\n",
    "data_cat_na['PoolQC'] = PoolQC_cat_na_temp\n",
    "data_cat_na['Fence'] = Fence_cat_na_temp"
   ]
  },
  {
   "cell_type": "code",
   "execution_count": 135,
   "id": "c271d014-050f-4cad-a243-3b501699c77e",
   "metadata": {},
   "outputs": [
    {
     "data": {
      "image/png": "[encoded data removed]",
      "text/plain": [
       "<Figure size 432x288 with 1 Axes>"
      ]
     },
     "metadata": {
      "needs_background": "light"
     },
     "output_type": "display_data"
    },
    {
     "data": {
      "image/png": "[encoded data removed]",
      "text/plain": [
       "<Figure size 432x288 with 1 Axes>"
      ]
     },
     "metadata": {
      "needs_background": "light"
     },
     "output_type": "display_data"
    },
    {
     "data": {
      "image/png": "[encoded data removed]",
      "text/plain": [
       "<Figure size 432x288 with 1 Axes>"
      ]
     },
     "metadata": {
      "needs_background": "light"
     },
     "output_type": "display_data"
    }
   ],
   "source": [
    "plot_hist_diff(data, data_cat_na, data_cat_cols)"
   ]
  },
  {
   "cell_type": "markdown",
   "id": "372dc291-67f6-4958-89f7-bd83898ff961",
   "metadata": {},
   "source": [
    "#### Добавления флага пропусков для любых признаков"
   ]
  },
  {
   "cell_type": "markdown",
   "id": "0af3992b-b142-4575-a63d-58c2a58b0614",
   "metadata": {},
   "source": [
    "Для каждой колонки данных вводится дополнительная бинарная колонка, в которой пустым значениям признака соответствует 1.\n",
    "\n",
    "**Преимущества:**\n",
    "\n",
    "- Модель получает дополнительную информацию о том, насколько мы уверены в наших данных. Особенно хорошо этот подход работает для деревьев решений и производных моделей.\n",
    "**Недостатки:**\n",
    "\n",
    "- Расширяется признаковое пространство.\n",
    "- Заполнять пропуски для исходных колонок все равно необходимо.\n",
    "- Флаги для разных колонок могут сильно коррелировать между собой."
   ]
  },
  {
   "cell_type": "code",
   "execution_count": 136,
   "id": "4ea3b8fc-7c7b-4f7b-b496-7787239d8068",
   "metadata": {},
   "outputs": [
    {
     "data": {
      "text/html": [
       "<div>\n",
       "<style scoped>\n",
       "    .dataframe tbody tr th:only-of-type {\n",
       "        vertical-align: middle;\n",
       "    }\n",
       "\n",
       "    .dataframe tbody tr th {\n",
       "        vertical-align: top;\n",
       "    }\n",
       "\n",
       "    .dataframe thead th {\n",
       "        text-align: right;\n",
       "    }\n",
       "</style>\n",
       "<table border=\"1\" class=\"dataframe\">\n",
       "  <thead>\n",
       "    <tr style=\"text-align: right;\">\n",
       "      <th></th>\n",
       "      <th>PoolQC</th>\n",
       "    </tr>\n",
       "  </thead>\n",
       "  <tbody>\n",
       "    <tr>\n",
       "      <th>0</th>\n",
       "      <td>NaN</td>\n",
       "    </tr>\n",
       "    <tr>\n",
       "      <th>1</th>\n",
       "      <td>NaN</td>\n",
       "    </tr>\n",
       "    <tr>\n",
       "      <th>2</th>\n",
       "      <td>NaN</td>\n",
       "    </tr>\n",
       "    <tr>\n",
       "      <th>3</th>\n",
       "      <td>NaN</td>\n",
       "    </tr>\n",
       "    <tr>\n",
       "      <th>4</th>\n",
       "      <td>NaN</td>\n",
       "    </tr>\n",
       "  </tbody>\n",
       "</table>\n",
       "</div>"
      ],
      "text/plain": [
       "  PoolQC\n",
       "0    NaN\n",
       "1    NaN\n",
       "2    NaN\n",
       "3    NaN\n",
       "4    NaN"
      ]
     },
     "execution_count": 136,
     "metadata": {},
     "output_type": "execute_result"
    }
   ],
   "source": [
    "data_mis = data[['PoolQC']].copy()\n",
    "data_mis.head()"
   ]
  },
  {
   "cell_type": "code",
   "execution_count": 137,
   "id": "05bfcc01-df65-411d-8416-bf775c9b5465",
   "metadata": {},
   "outputs": [
    {
     "data": {
      "text/plain": [
       "array([[ True],\n",
       "       [ True],\n",
       "       [ True],\n",
       "       ...,\n",
       "       [ True],\n",
       "       [ True],\n",
       "       [ True]])"
      ]
     },
     "execution_count": 137,
     "metadata": {},
     "output_type": "execute_result"
    }
   ],
   "source": [
    "indicator = MissingIndicator()\n",
    "PoolQC_missing = indicator.fit_transform(data_mis[['PoolQC']])\n",
    "PoolQC_missing"
   ]
  },
  {
   "cell_type": "code",
   "execution_count": 138,
   "id": "628ef755-4ad3-4c8b-a655-35dcb348ade2",
   "metadata": {},
   "outputs": [
    {
     "data": {
      "text/plain": [
       "[1, 1, 1, 1, 1, 1, 1, 1, 1, 1]"
      ]
     },
     "execution_count": 138,
     "metadata": {},
     "output_type": "execute_result"
    }
   ],
   "source": [
    "PoolQC_missing_int = [1 if i==True else 0 for i in PoolQC_missing]\n",
    "PoolQC_missing_int[:10]"
   ]
  },
  {
   "cell_type": "code",
   "execution_count": 141,
   "id": "b4686c84-de38-40c6-92a6-ba74de8b5297",
   "metadata": {},
   "outputs": [
    {
     "data": {
      "text/html": [
       "<div>\n",
       "<style scoped>\n",
       "    .dataframe tbody tr th:only-of-type {\n",
       "        vertical-align: middle;\n",
       "    }\n",
       "\n",
       "    .dataframe tbody tr th {\n",
       "        vertical-align: top;\n",
       "    }\n",
       "\n",
       "    .dataframe thead th {\n",
       "        text-align: right;\n",
       "    }\n",
       "</style>\n",
       "<table border=\"1\" class=\"dataframe\">\n",
       "  <thead>\n",
       "    <tr style=\"text-align: right;\">\n",
       "      <th></th>\n",
       "      <th>PoolQC</th>\n",
       "      <th>PoolQC_missing</th>\n",
       "    </tr>\n",
       "  </thead>\n",
       "  <tbody>\n",
       "    <tr>\n",
       "      <th>0</th>\n",
       "      <td>NaN</td>\n",
       "      <td>1</td>\n",
       "    </tr>\n",
       "    <tr>\n",
       "      <th>1</th>\n",
       "      <td>NaN</td>\n",
       "      <td>1</td>\n",
       "    </tr>\n",
       "    <tr>\n",
       "      <th>2</th>\n",
       "      <td>NaN</td>\n",
       "      <td>1</td>\n",
       "    </tr>\n",
       "    <tr>\n",
       "      <th>3</th>\n",
       "      <td>NaN</td>\n",
       "      <td>1</td>\n",
       "    </tr>\n",
       "    <tr>\n",
       "      <th>4</th>\n",
       "      <td>NaN</td>\n",
       "      <td>1</td>\n",
       "    </tr>\n",
       "  </tbody>\n",
       "</table>\n",
       "</div>"
      ],
      "text/plain": [
       "  PoolQC  PoolQC_missing\n",
       "0    NaN               1\n",
       "1    NaN               1\n",
       "2    NaN               1\n",
       "3    NaN               1\n",
       "4    NaN               1"
      ]
     },
     "execution_count": 141,
     "metadata": {},
     "output_type": "execute_result"
    }
   ],
   "source": [
    "data_mis['PoolQC_missing'] = PoolQC_missing_int\n",
    "data_mis.head()"
   ]
  },
  {
   "cell_type": "markdown",
   "id": "cafbf08d-5264-41d0-a56c-0e0c90c5a936",
   "metadata": {},
   "source": [
    "### Заполнение значений для нескольких признаков"
   ]
  },
  {
   "cell_type": "markdown",
   "id": "50a669d6-62ad-46cb-ab24-dffa19d7008a",
   "metadata": {},
   "source": [
    "В этом случае данные которые находятся в соседних признаках (колонках) учитываются при заполнении.\n",
    "\n",
    "Идея состоит в том, что признаки могут зависеть между собой и такие зависимости необходимо использовать при заполнении пропусков.\n",
    "\n",
    "В этом случае мы решаем отдельную задачу машинного обучения, рассматривая пропущенный признак как целевой (y), а остальные признаки как исходные (X).\n",
    "\n",
    "Для решения задачи можно использовать различные методы машинного обучения. На практике чаще всего используется **метод ближайших соседей.**\n",
    "\n",
    "Также проблема состоит в том, что практически все признаки могут содержать пропуски и для их заполнения другие признаки необходимо предварительно импьютировать известными методами. (возникает подобие циклических ссылок).\n",
    "\n",
    "Для решения этой задачи используется метод **MICE (multivariate Imputation of Chained Equations)**. Существует расширение этого метода **MissForest** в котором используется случайный лес."
   ]
  },
  {
   "cell_type": "markdown",
   "id": "f96bce16-1608-4740-9ecb-51d337a61c0e",
   "metadata": {},
   "source": [
    "#### Импьютация с использованием метода ближайших соседей"
   ]
  },
  {
   "cell_type": "markdown",
   "id": "c4991d5f-2d5d-481b-8288-dc20f5a788d7",
   "metadata": {},
   "source": [
    "Используется класс KNNImputer."
   ]
  },
  {
   "cell_type": "code",
   "execution_count": 147,
   "id": "504a9540-ec58-4e17-af24-6b410353fddb",
   "metadata": {},
   "outputs": [],
   "source": [
    "from sklearn.impute import KNNImputer\n",
    "\n",
    "knnimpute_cols = [\n",
    "    'MSSubClass', 'LotFrontage', 'LotArea', 'OverallQual',\n",
    "    'OverallCond', 'YearBuilt', 'YearRemodAdd', 'MasVnrArea',\n",
    "    'BsmtFinSF1', 'BsmtFinSF2', 'BsmtUnfSF', 'TotalBsmtSF',\n",
    "    '1stFlrSF', '2ndFlrSF', 'LowQualFinSF', 'GrLivArea',\n",
    "    'BsmtFullBath', 'BsmtHalfBath', 'FullBath', 'HalfBath',\n",
    "    'BedroomAbvGr', 'KitchenAbvGr', 'TotRmsAbvGrd',\n",
    "    'Fireplaces', 'GarageYrBlt', 'GarageCars', 'GarageArea',\n",
    "    'WoodDeckSF',  'OpenPorchSF', 'EnclosedPorch', '3SsnPorch',\n",
    "    'ScreenPorch', 'PoolArea', 'MiscVal', 'MoSold', 'YrSold',\n",
    "    'SalePrice'\n",
    "]"
   ]
  },
  {
   "cell_type": "code",
   "execution_count": 143,
   "id": "e1501ad9-3430-45c7-a281-7c9f1931fc48",
   "metadata": {},
   "outputs": [
    {
     "data": {
      "text/html": [
       "<div>\n",
       "<style scoped>\n",
       "    .dataframe tbody tr th:only-of-type {\n",
       "        vertical-align: middle;\n",
       "    }\n",
       "\n",
       "    .dataframe tbody tr th {\n",
       "        vertical-align: top;\n",
       "    }\n",
       "\n",
       "    .dataframe thead th {\n",
       "        text-align: right;\n",
       "    }\n",
       "</style>\n",
       "<table border=\"1\" class=\"dataframe\">\n",
       "  <thead>\n",
       "    <tr style=\"text-align: right;\">\n",
       "      <th></th>\n",
       "      <th>MSSubClass</th>\n",
       "      <th>LotFrontage</th>\n",
       "      <th>LotArea</th>\n",
       "      <th>OverallQual</th>\n",
       "      <th>OverallCond</th>\n",
       "      <th>YearBuilt</th>\n",
       "      <th>YearRemodAdd</th>\n",
       "      <th>MasVnrArea</th>\n",
       "      <th>BsmtFinSF1</th>\n",
       "      <th>BsmtFinSF2</th>\n",
       "      <th>...</th>\n",
       "      <th>WoodDeckSF</th>\n",
       "      <th>OpenPorchSF</th>\n",
       "      <th>EnclosedPorch</th>\n",
       "      <th>3SsnPorch</th>\n",
       "      <th>ScreenPorch</th>\n",
       "      <th>PoolArea</th>\n",
       "      <th>MiscVal</th>\n",
       "      <th>MoSold</th>\n",
       "      <th>YrSold</th>\n",
       "      <th>SalePrice</th>\n",
       "    </tr>\n",
       "  </thead>\n",
       "  <tbody>\n",
       "    <tr>\n",
       "      <th>0</th>\n",
       "      <td>60</td>\n",
       "      <td>65.0</td>\n",
       "      <td>8450</td>\n",
       "      <td>7</td>\n",
       "      <td>5</td>\n",
       "      <td>2003</td>\n",
       "      <td>2003</td>\n",
       "      <td>196.0</td>\n",
       "      <td>706</td>\n",
       "      <td>0</td>\n",
       "      <td>...</td>\n",
       "      <td>0</td>\n",
       "      <td>61</td>\n",
       "      <td>0</td>\n",
       "      <td>0</td>\n",
       "      <td>0</td>\n",
       "      <td>0</td>\n",
       "      <td>0</td>\n",
       "      <td>2</td>\n",
       "      <td>2008</td>\n",
       "      <td>208500</td>\n",
       "    </tr>\n",
       "    <tr>\n",
       "      <th>1</th>\n",
       "      <td>20</td>\n",
       "      <td>80.0</td>\n",
       "      <td>9600</td>\n",
       "      <td>6</td>\n",
       "      <td>8</td>\n",
       "      <td>1976</td>\n",
       "      <td>1976</td>\n",
       "      <td>0.0</td>\n",
       "      <td>978</td>\n",
       "      <td>0</td>\n",
       "      <td>...</td>\n",
       "      <td>298</td>\n",
       "      <td>0</td>\n",
       "      <td>0</td>\n",
       "      <td>0</td>\n",
       "      <td>0</td>\n",
       "      <td>0</td>\n",
       "      <td>0</td>\n",
       "      <td>5</td>\n",
       "      <td>2007</td>\n",
       "      <td>181500</td>\n",
       "    </tr>\n",
       "    <tr>\n",
       "      <th>2</th>\n",
       "      <td>60</td>\n",
       "      <td>68.0</td>\n",
       "      <td>11250</td>\n",
       "      <td>7</td>\n",
       "      <td>5</td>\n",
       "      <td>2001</td>\n",
       "      <td>2002</td>\n",
       "      <td>162.0</td>\n",
       "      <td>486</td>\n",
       "      <td>0</td>\n",
       "      <td>...</td>\n",
       "      <td>0</td>\n",
       "      <td>42</td>\n",
       "      <td>0</td>\n",
       "      <td>0</td>\n",
       "      <td>0</td>\n",
       "      <td>0</td>\n",
       "      <td>0</td>\n",
       "      <td>9</td>\n",
       "      <td>2008</td>\n",
       "      <td>223500</td>\n",
       "    </tr>\n",
       "    <tr>\n",
       "      <th>3</th>\n",
       "      <td>70</td>\n",
       "      <td>60.0</td>\n",
       "      <td>9550</td>\n",
       "      <td>7</td>\n",
       "      <td>5</td>\n",
       "      <td>1915</td>\n",
       "      <td>1970</td>\n",
       "      <td>0.0</td>\n",
       "      <td>216</td>\n",
       "      <td>0</td>\n",
       "      <td>...</td>\n",
       "      <td>0</td>\n",
       "      <td>35</td>\n",
       "      <td>272</td>\n",
       "      <td>0</td>\n",
       "      <td>0</td>\n",
       "      <td>0</td>\n",
       "      <td>0</td>\n",
       "      <td>2</td>\n",
       "      <td>2006</td>\n",
       "      <td>140000</td>\n",
       "    </tr>\n",
       "    <tr>\n",
       "      <th>4</th>\n",
       "      <td>60</td>\n",
       "      <td>84.0</td>\n",
       "      <td>14260</td>\n",
       "      <td>8</td>\n",
       "      <td>5</td>\n",
       "      <td>2000</td>\n",
       "      <td>2000</td>\n",
       "      <td>350.0</td>\n",
       "      <td>655</td>\n",
       "      <td>0</td>\n",
       "      <td>...</td>\n",
       "      <td>192</td>\n",
       "      <td>84</td>\n",
       "      <td>0</td>\n",
       "      <td>0</td>\n",
       "      <td>0</td>\n",
       "      <td>0</td>\n",
       "      <td>0</td>\n",
       "      <td>12</td>\n",
       "      <td>2008</td>\n",
       "      <td>250000</td>\n",
       "    </tr>\n",
       "  </tbody>\n",
       "</table>\n",
       "<p>5 rows × 37 columns</p>\n",
       "</div>"
      ],
      "text/plain": [
       "   MSSubClass  LotFrontage  LotArea  OverallQual  OverallCond  YearBuilt  \\\n",
       "0          60         65.0     8450            7            5       2003   \n",
       "1          20         80.0     9600            6            8       1976   \n",
       "2          60         68.0    11250            7            5       2001   \n",
       "3          70         60.0     9550            7            5       1915   \n",
       "4          60         84.0    14260            8            5       2000   \n",
       "\n",
       "   YearRemodAdd  MasVnrArea  BsmtFinSF1  BsmtFinSF2  ...  WoodDeckSF  \\\n",
       "0          2003       196.0         706           0  ...           0   \n",
       "1          1976         0.0         978           0  ...         298   \n",
       "2          2002       162.0         486           0  ...           0   \n",
       "3          1970         0.0         216           0  ...           0   \n",
       "4          2000       350.0         655           0  ...         192   \n",
       "\n",
       "   OpenPorchSF  EnclosedPorch  3SsnPorch  ScreenPorch  PoolArea  MiscVal  \\\n",
       "0           61              0          0            0         0        0   \n",
       "1            0              0          0            0         0        0   \n",
       "2           42              0          0            0         0        0   \n",
       "3           35            272          0            0         0        0   \n",
       "4           84              0          0            0         0        0   \n",
       "\n",
       "   MoSold  YrSold  SalePrice  \n",
       "0       2    2008     208500  \n",
       "1       5    2007     181500  \n",
       "2       9    2008     223500  \n",
       "3       2    2006     140000  \n",
       "4      12    2008     250000  \n",
       "\n",
       "[5 rows x 37 columns]"
      ]
     },
     "execution_count": 143,
     "metadata": {},
     "output_type": "execute_result"
    }
   ],
   "source": [
    "knnimpute_data = data[knnimpute_cols].copy()\n",
    "knnimpute_data.head()"
   ]
  },
  {
   "cell_type": "code",
   "execution_count": 145,
   "id": "74e59c42-93db-4d5c-acb4-15b76f4ff721",
   "metadata": {},
   "outputs": [
    {
     "data": {
      "text/plain": [
       "MSSubClass         0\n",
       "LotFrontage      259\n",
       "LotArea            0\n",
       "OverallQual        0\n",
       "OverallCond        0\n",
       "YearBuilt          0\n",
       "YearRemodAdd       0\n",
       "MasVnrArea         8\n",
       "BsmtFinSF1         0\n",
       "BsmtFinSF2         0\n",
       "BsmtUnfSF          0\n",
       "TotalBsmtSF        0\n",
       "1stFlrSF           0\n",
       "2ndFlrSF           0\n",
       "LowQualFinSF       0\n",
       "GrLivArea          0\n",
       "BsmtFullBath       0\n",
       "BsmtHalfBath       0\n",
       "FullBath           0\n",
       "HalfBath           0\n",
       "BedroomAbvGr       0\n",
       "KitchenAbvGr       0\n",
       "TotRmsAbvGrd       0\n",
       "Fireplaces         0\n",
       "GarageYrBlt       81\n",
       "GarageCars         0\n",
       "GarageArea         0\n",
       "WoodDeckSF         0\n",
       "OpenPorchSF        0\n",
       "EnclosedPorch      0\n",
       "3SsnPorch          0\n",
       "ScreenPorch        0\n",
       "PoolArea           0\n",
       "MiscVal            0\n",
       "MoSold             0\n",
       "YrSold             0\n",
       "SalePrice          0\n",
       "dtype: int64"
      ]
     },
     "execution_count": 145,
     "metadata": {},
     "output_type": "execute_result"
    }
   ],
   "source": [
    "# Признаки с пропусками\n",
    "knnimpute_data.isnull().sum()"
   ]
  },
  {
   "cell_type": "code",
   "execution_count": 149,
   "id": "474699e3-3f3e-4908-8c80-564141a480bd",
   "metadata": {},
   "outputs": [
    {
     "data": {
      "text/html": [
       "<div>\n",
       "<style scoped>\n",
       "    .dataframe tbody tr th:only-of-type {\n",
       "        vertical-align: middle;\n",
       "    }\n",
       "\n",
       "    .dataframe tbody tr th {\n",
       "        vertical-align: top;\n",
       "    }\n",
       "\n",
       "    .dataframe thead th {\n",
       "        text-align: right;\n",
       "    }\n",
       "</style>\n",
       "<table border=\"1\" class=\"dataframe\">\n",
       "  <thead>\n",
       "    <tr style=\"text-align: right;\">\n",
       "      <th></th>\n",
       "      <th>MSSubClass</th>\n",
       "      <th>LotFrontage</th>\n",
       "      <th>LotArea</th>\n",
       "      <th>OverallQual</th>\n",
       "      <th>OverallCond</th>\n",
       "      <th>YearBuilt</th>\n",
       "      <th>YearRemodAdd</th>\n",
       "      <th>MasVnrArea</th>\n",
       "      <th>BsmtFinSF1</th>\n",
       "      <th>BsmtFinSF2</th>\n",
       "      <th>...</th>\n",
       "      <th>WoodDeckSF</th>\n",
       "      <th>OpenPorchSF</th>\n",
       "      <th>EnclosedPorch</th>\n",
       "      <th>3SsnPorch</th>\n",
       "      <th>ScreenPorch</th>\n",
       "      <th>PoolArea</th>\n",
       "      <th>MiscVal</th>\n",
       "      <th>MoSold</th>\n",
       "      <th>YrSold</th>\n",
       "      <th>SalePrice</th>\n",
       "    </tr>\n",
       "  </thead>\n",
       "  <tbody>\n",
       "    <tr>\n",
       "      <th>0</th>\n",
       "      <td>60.0</td>\n",
       "      <td>65.0</td>\n",
       "      <td>8450.0</td>\n",
       "      <td>7.0</td>\n",
       "      <td>5.0</td>\n",
       "      <td>2003.0</td>\n",
       "      <td>2003.0</td>\n",
       "      <td>196.0</td>\n",
       "      <td>706.0</td>\n",
       "      <td>0.0</td>\n",
       "      <td>...</td>\n",
       "      <td>0.0</td>\n",
       "      <td>61.0</td>\n",
       "      <td>0.0</td>\n",
       "      <td>0.0</td>\n",
       "      <td>0.0</td>\n",
       "      <td>0.0</td>\n",
       "      <td>0.0</td>\n",
       "      <td>2.0</td>\n",
       "      <td>2008.0</td>\n",
       "      <td>208500.0</td>\n",
       "    </tr>\n",
       "    <tr>\n",
       "      <th>1</th>\n",
       "      <td>20.0</td>\n",
       "      <td>80.0</td>\n",
       "      <td>9600.0</td>\n",
       "      <td>6.0</td>\n",
       "      <td>8.0</td>\n",
       "      <td>1976.0</td>\n",
       "      <td>1976.0</td>\n",
       "      <td>0.0</td>\n",
       "      <td>978.0</td>\n",
       "      <td>0.0</td>\n",
       "      <td>...</td>\n",
       "      <td>298.0</td>\n",
       "      <td>0.0</td>\n",
       "      <td>0.0</td>\n",
       "      <td>0.0</td>\n",
       "      <td>0.0</td>\n",
       "      <td>0.0</td>\n",
       "      <td>0.0</td>\n",
       "      <td>5.0</td>\n",
       "      <td>2007.0</td>\n",
       "      <td>181500.0</td>\n",
       "    </tr>\n",
       "    <tr>\n",
       "      <th>2</th>\n",
       "      <td>60.0</td>\n",
       "      <td>68.0</td>\n",
       "      <td>11250.0</td>\n",
       "      <td>7.0</td>\n",
       "      <td>5.0</td>\n",
       "      <td>2001.0</td>\n",
       "      <td>2002.0</td>\n",
       "      <td>162.0</td>\n",
       "      <td>486.0</td>\n",
       "      <td>0.0</td>\n",
       "      <td>...</td>\n",
       "      <td>0.0</td>\n",
       "      <td>42.0</td>\n",
       "      <td>0.0</td>\n",
       "      <td>0.0</td>\n",
       "      <td>0.0</td>\n",
       "      <td>0.0</td>\n",
       "      <td>0.0</td>\n",
       "      <td>9.0</td>\n",
       "      <td>2008.0</td>\n",
       "      <td>223500.0</td>\n",
       "    </tr>\n",
       "    <tr>\n",
       "      <th>3</th>\n",
       "      <td>70.0</td>\n",
       "      <td>60.0</td>\n",
       "      <td>9550.0</td>\n",
       "      <td>7.0</td>\n",
       "      <td>5.0</td>\n",
       "      <td>1915.0</td>\n",
       "      <td>1970.0</td>\n",
       "      <td>0.0</td>\n",
       "      <td>216.0</td>\n",
       "      <td>0.0</td>\n",
       "      <td>...</td>\n",
       "      <td>0.0</td>\n",
       "      <td>35.0</td>\n",
       "      <td>272.0</td>\n",
       "      <td>0.0</td>\n",
       "      <td>0.0</td>\n",
       "      <td>0.0</td>\n",
       "      <td>0.0</td>\n",
       "      <td>2.0</td>\n",
       "      <td>2006.0</td>\n",
       "      <td>140000.0</td>\n",
       "    </tr>\n",
       "    <tr>\n",
       "      <th>4</th>\n",
       "      <td>60.0</td>\n",
       "      <td>84.0</td>\n",
       "      <td>14260.0</td>\n",
       "      <td>8.0</td>\n",
       "      <td>5.0</td>\n",
       "      <td>2000.0</td>\n",
       "      <td>2000.0</td>\n",
       "      <td>350.0</td>\n",
       "      <td>655.0</td>\n",
       "      <td>0.0</td>\n",
       "      <td>...</td>\n",
       "      <td>192.0</td>\n",
       "      <td>84.0</td>\n",
       "      <td>0.0</td>\n",
       "      <td>0.0</td>\n",
       "      <td>0.0</td>\n",
       "      <td>0.0</td>\n",
       "      <td>0.0</td>\n",
       "      <td>12.0</td>\n",
       "      <td>2008.0</td>\n",
       "      <td>250000.0</td>\n",
       "    </tr>\n",
       "  </tbody>\n",
       "</table>\n",
       "<p>5 rows × 37 columns</p>\n",
       "</div>"
      ],
      "text/plain": [
       "   MSSubClass  LotFrontage  LotArea  OverallQual  OverallCond  YearBuilt  \\\n",
       "0        60.0         65.0   8450.0          7.0          5.0     2003.0   \n",
       "1        20.0         80.0   9600.0          6.0          8.0     1976.0   \n",
       "2        60.0         68.0  11250.0          7.0          5.0     2001.0   \n",
       "3        70.0         60.0   9550.0          7.0          5.0     1915.0   \n",
       "4        60.0         84.0  14260.0          8.0          5.0     2000.0   \n",
       "\n",
       "   YearRemodAdd  MasVnrArea  BsmtFinSF1  BsmtFinSF2  ...  WoodDeckSF  \\\n",
       "0        2003.0       196.0       706.0         0.0  ...         0.0   \n",
       "1        1976.0         0.0       978.0         0.0  ...       298.0   \n",
       "2        2002.0       162.0       486.0         0.0  ...         0.0   \n",
       "3        1970.0         0.0       216.0         0.0  ...         0.0   \n",
       "4        2000.0       350.0       655.0         0.0  ...       192.0   \n",
       "\n",
       "   OpenPorchSF  EnclosedPorch  3SsnPorch  ScreenPorch  PoolArea  MiscVal  \\\n",
       "0         61.0            0.0        0.0          0.0       0.0      0.0   \n",
       "1          0.0            0.0        0.0          0.0       0.0      0.0   \n",
       "2         42.0            0.0        0.0          0.0       0.0      0.0   \n",
       "3         35.0          272.0        0.0          0.0       0.0      0.0   \n",
       "4         84.0            0.0        0.0          0.0       0.0      0.0   \n",
       "\n",
       "   MoSold  YrSold  SalePrice  \n",
       "0     2.0  2008.0   208500.0  \n",
       "1     5.0  2007.0   181500.0  \n",
       "2     9.0  2008.0   223500.0  \n",
       "3     2.0  2006.0   140000.0  \n",
       "4    12.0  2008.0   250000.0  \n",
       "\n",
       "[5 rows x 37 columns]"
      ]
     },
     "execution_count": 149,
     "metadata": {},
     "output_type": "execute_result"
    }
   ],
   "source": [
    "knnimputer = KNNImputer(\n",
    "    n_neighbors=5, \n",
    "    weights='distance', \n",
    "    metric='nan_euclidean', \n",
    "    add_indicator=False, \n",
    ")\n",
    "knnimpute_data_imputed_temp = knnimputer.fit_transform(knnimpute_data)\n",
    "knnimpute_data_imputed = pd.DataFrame(knnimpute_data_imputed_temp, columns=knnimpute_data.columns)\n",
    "knnimpute_data_imputed.head()"
   ]
  },
  {
   "cell_type": "code",
   "execution_count": 151,
   "id": "e98552d1-1c46-401e-8a25-a65997c980a6",
   "metadata": {},
   "outputs": [
    {
     "data": {
      "text/plain": [
       "MSSubClass       0\n",
       "LotFrontage      0\n",
       "LotArea          0\n",
       "OverallQual      0\n",
       "OverallCond      0\n",
       "YearBuilt        0\n",
       "YearRemodAdd     0\n",
       "MasVnrArea       0\n",
       "BsmtFinSF1       0\n",
       "BsmtFinSF2       0\n",
       "BsmtUnfSF        0\n",
       "TotalBsmtSF      0\n",
       "1stFlrSF         0\n",
       "2ndFlrSF         0\n",
       "LowQualFinSF     0\n",
       "GrLivArea        0\n",
       "BsmtFullBath     0\n",
       "BsmtHalfBath     0\n",
       "FullBath         0\n",
       "HalfBath         0\n",
       "BedroomAbvGr     0\n",
       "KitchenAbvGr     0\n",
       "TotRmsAbvGrd     0\n",
       "Fireplaces       0\n",
       "GarageYrBlt      0\n",
       "GarageCars       0\n",
       "GarageArea       0\n",
       "WoodDeckSF       0\n",
       "OpenPorchSF      0\n",
       "EnclosedPorch    0\n",
       "3SsnPorch        0\n",
       "ScreenPorch      0\n",
       "PoolArea         0\n",
       "MiscVal          0\n",
       "MoSold           0\n",
       "YrSold           0\n",
       "SalePrice        0\n",
       "dtype: int64"
      ]
     },
     "execution_count": 151,
     "metadata": {},
     "output_type": "execute_result"
    }
   ],
   "source": [
    "# Пропуски заполнены\n",
    "knnimpute_data_imputed.isnull().sum()"
   ]
  },
  {
   "cell_type": "code",
   "execution_count": 152,
   "id": "db60129d-488f-407d-9097-26083cab697e",
   "metadata": {},
   "outputs": [
    {
     "data": {
      "text/plain": [
       "<AxesSubplot:ylabel='Density'>"
      ]
     },
     "execution_count": 152,
     "metadata": {},
     "output_type": "execute_result"
    },
    {
     "data": {
      "image/png": "[encoded data removed]",
      "text/plain": [
       "<Figure size 432x288 with 1 Axes>"
      ]
     },
     "metadata": {},
     "output_type": "display_data"
    }
   ],
   "source": [
    "LotFrontage_df = pd.DataFrame({'original': knnimpute_data['LotFrontage'].values})\n",
    "LotFrontage_df['KNN_5'] = knnimpute_data_imputed['LotFrontage']\n",
    "sns.kdeplot(data=LotFrontage_df)"
   ]
  },
  {
   "cell_type": "code",
   "execution_count": 153,
   "id": "1533131d-8b88-4f7b-8d75-abfaa59b752d",
   "metadata": {},
   "outputs": [
    {
     "data": {
      "text/plain": [
       "<AxesSubplot:ylabel='Density'>"
      ]
     },
     "execution_count": 153,
     "metadata": {},
     "output_type": "execute_result"
    },
    {
     "data": {
      "image/png": "[encoded data removed]",
      "text/plain": [
       "<Figure size 432x288 with 1 Axes>"
      ]
     },
     "metadata": {},
     "output_type": "display_data"
    }
   ],
   "source": [
    "GarageYrBlt_df = pd.DataFrame({'original': knnimpute_data['GarageYrBlt'].values})\n",
    "GarageYrBlt_df['KNN_5'] = knnimpute_data_imputed['GarageYrBlt']\n",
    "sns.kdeplot(data=GarageYrBlt_df)"
   ]
  },
  {
   "cell_type": "markdown",
   "id": "45363c28-9d2a-43c6-969a-0791ef6513d7",
   "metadata": {},
   "source": [
    "##### Подбор гиперпараметров"
   ]
  },
  {
   "cell_type": "markdown",
   "id": "9272682c-338d-4c13-bf2a-88a0abb7f86e",
   "metadata": {},
   "source": [
    "Так как для импьютации используется модель KNN, то возникает необходимость подбора гиперпараметров. В этом случае необходимо создать полный пайплайн машинного обучения и оптимизировать параметры всего пайплайна."
   ]
  },
  {
   "cell_type": "code",
   "execution_count": 154,
   "id": "3581a2f6-b4a0-4ce0-8b97-3ebf0500b7f5",
   "metadata": {},
   "outputs": [],
   "source": [
    "pipe = Pipeline(steps=[\n",
    "    ('imputer', KNNImputer(\n",
    "        n_neighbors=5,\n",
    "        weights='distance',\n",
    "        add_indicator=False)),\n",
    "    ('scaler', StandardScaler()),\n",
    "    ('regressor', Lasso(max_iter=2000)),\n",
    "])"
   ]
  },
  {
   "cell_type": "code",
   "execution_count": 155,
   "id": "66f9dfa5-42ac-4d2a-a66a-3e96e1341f31",
   "metadata": {},
   "outputs": [],
   "source": [
    "param_grid = {\n",
    "    'imputer__n_neighbors': [3,5,10],\n",
    "    'imputer__weights': ['uniform', 'distance'],\n",
    "    'imputer__add_indicator': [True, False],\n",
    "    'regressor__alpha': [10, 100, 200],\n",
    "}"
   ]
  },
  {
   "cell_type": "code",
   "execution_count": 156,
   "id": "4e190603-5f99-4099-9e8a-166f8a64c51a",
   "metadata": {},
   "outputs": [],
   "source": [
    "grid_search = GridSearchCV(pipe, param_grid, cv=5, n_jobs=-1, scoring='r2')"
   ]
  },
  {
   "cell_type": "code",
   "execution_count": 157,
   "id": "91964faa-af1d-4bd4-a493-7d84fa68da0e",
   "metadata": {},
   "outputs": [
    {
     "data": {
      "text/plain": [
       "GridSearchCV(cv=5,\n",
       "             estimator=Pipeline(steps=[('imputer',\n",
       "                                        KNNImputer(weights='distance')),\n",
       "                                       ('scaler', StandardScaler()),\n",
       "                                       ('regressor', Lasso(max_iter=2000))]),\n",
       "             n_jobs=-1,\n",
       "             param_grid={'imputer__add_indicator': [True, False],\n",
       "                         'imputer__n_neighbors': [3, 5, 10],\n",
       "                         'imputer__weights': ['uniform', 'distance'],\n",
       "                         'regressor__alpha': [10, 100, 200]},\n",
       "             scoring='r2')"
      ]
     },
     "execution_count": 157,
     "metadata": {},
     "output_type": "execute_result"
    }
   ],
   "source": [
    "grid_search.fit(knnimpute_data, data['SalePrice'])"
   ]
  },
  {
   "cell_type": "code",
   "execution_count": 158,
   "id": "1bab5e90-1ec1-437b-8122-6eb29a97a17c",
   "metadata": {},
   "outputs": [
    {
     "data": {
      "text/plain": [
       "{'imputer__add_indicator': True,\n",
       " 'imputer__n_neighbors': 3,\n",
       " 'imputer__weights': 'uniform',\n",
       " 'regressor__alpha': 10}"
      ]
     },
     "execution_count": 158,
     "metadata": {},
     "output_type": "execute_result"
    }
   ],
   "source": [
    "grid_search.best_params_"
   ]
  },
  {
   "cell_type": "code",
   "execution_count": 161,
   "id": "6e5d86f3-f279-43db-ac11-a5599f5546ae",
   "metadata": {},
   "outputs": [
    {
     "data": {
      "text/html": [
       "<div>\n",
       "<style scoped>\n",
       "    .dataframe tbody tr th:only-of-type {\n",
       "        vertical-align: middle;\n",
       "    }\n",
       "\n",
       "    .dataframe tbody tr th {\n",
       "        vertical-align: top;\n",
       "    }\n",
       "\n",
       "    .dataframe thead th {\n",
       "        text-align: right;\n",
       "    }\n",
       "</style>\n",
       "<table border=\"1\" class=\"dataframe\">\n",
       "  <thead>\n",
       "    <tr style=\"text-align: right;\">\n",
       "      <th></th>\n",
       "      <th>MSSubClass</th>\n",
       "      <th>LotFrontage</th>\n",
       "      <th>LotArea</th>\n",
       "      <th>OverallQual</th>\n",
       "      <th>OverallCond</th>\n",
       "      <th>YearBuilt</th>\n",
       "      <th>YearRemodAdd</th>\n",
       "      <th>MasVnrArea</th>\n",
       "      <th>BsmtFinSF1</th>\n",
       "      <th>BsmtFinSF2</th>\n",
       "      <th>...</th>\n",
       "      <th>WoodDeckSF</th>\n",
       "      <th>OpenPorchSF</th>\n",
       "      <th>EnclosedPorch</th>\n",
       "      <th>3SsnPorch</th>\n",
       "      <th>ScreenPorch</th>\n",
       "      <th>PoolArea</th>\n",
       "      <th>MiscVal</th>\n",
       "      <th>MoSold</th>\n",
       "      <th>YrSold</th>\n",
       "      <th>SalePrice</th>\n",
       "    </tr>\n",
       "  </thead>\n",
       "  <tbody>\n",
       "    <tr>\n",
       "      <th>0</th>\n",
       "      <td>60.0</td>\n",
       "      <td>65.0</td>\n",
       "      <td>8450.0</td>\n",
       "      <td>7.0</td>\n",
       "      <td>5.0</td>\n",
       "      <td>2003.0</td>\n",
       "      <td>2003.0</td>\n",
       "      <td>196.0</td>\n",
       "      <td>706.0</td>\n",
       "      <td>0.0</td>\n",
       "      <td>...</td>\n",
       "      <td>0.0</td>\n",
       "      <td>61.0</td>\n",
       "      <td>0.0</td>\n",
       "      <td>0.0</td>\n",
       "      <td>0.0</td>\n",
       "      <td>0.0</td>\n",
       "      <td>0.0</td>\n",
       "      <td>2.0</td>\n",
       "      <td>2008.0</td>\n",
       "      <td>208500.0</td>\n",
       "    </tr>\n",
       "    <tr>\n",
       "      <th>1</th>\n",
       "      <td>20.0</td>\n",
       "      <td>80.0</td>\n",
       "      <td>9600.0</td>\n",
       "      <td>6.0</td>\n",
       "      <td>8.0</td>\n",
       "      <td>1976.0</td>\n",
       "      <td>1976.0</td>\n",
       "      <td>0.0</td>\n",
       "      <td>978.0</td>\n",
       "      <td>0.0</td>\n",
       "      <td>...</td>\n",
       "      <td>298.0</td>\n",
       "      <td>0.0</td>\n",
       "      <td>0.0</td>\n",
       "      <td>0.0</td>\n",
       "      <td>0.0</td>\n",
       "      <td>0.0</td>\n",
       "      <td>0.0</td>\n",
       "      <td>5.0</td>\n",
       "      <td>2007.0</td>\n",
       "      <td>181500.0</td>\n",
       "    </tr>\n",
       "    <tr>\n",
       "      <th>2</th>\n",
       "      <td>60.0</td>\n",
       "      <td>68.0</td>\n",
       "      <td>11250.0</td>\n",
       "      <td>7.0</td>\n",
       "      <td>5.0</td>\n",
       "      <td>2001.0</td>\n",
       "      <td>2002.0</td>\n",
       "      <td>162.0</td>\n",
       "      <td>486.0</td>\n",
       "      <td>0.0</td>\n",
       "      <td>...</td>\n",
       "      <td>0.0</td>\n",
       "      <td>42.0</td>\n",
       "      <td>0.0</td>\n",
       "      <td>0.0</td>\n",
       "      <td>0.0</td>\n",
       "      <td>0.0</td>\n",
       "      <td>0.0</td>\n",
       "      <td>9.0</td>\n",
       "      <td>2008.0</td>\n",
       "      <td>223500.0</td>\n",
       "    </tr>\n",
       "    <tr>\n",
       "      <th>3</th>\n",
       "      <td>70.0</td>\n",
       "      <td>60.0</td>\n",
       "      <td>9550.0</td>\n",
       "      <td>7.0</td>\n",
       "      <td>5.0</td>\n",
       "      <td>1915.0</td>\n",
       "      <td>1970.0</td>\n",
       "      <td>0.0</td>\n",
       "      <td>216.0</td>\n",
       "      <td>0.0</td>\n",
       "      <td>...</td>\n",
       "      <td>0.0</td>\n",
       "      <td>35.0</td>\n",
       "      <td>272.0</td>\n",
       "      <td>0.0</td>\n",
       "      <td>0.0</td>\n",
       "      <td>0.0</td>\n",
       "      <td>0.0</td>\n",
       "      <td>2.0</td>\n",
       "      <td>2006.0</td>\n",
       "      <td>140000.0</td>\n",
       "    </tr>\n",
       "    <tr>\n",
       "      <th>4</th>\n",
       "      <td>60.0</td>\n",
       "      <td>84.0</td>\n",
       "      <td>14260.0</td>\n",
       "      <td>8.0</td>\n",
       "      <td>5.0</td>\n",
       "      <td>2000.0</td>\n",
       "      <td>2000.0</td>\n",
       "      <td>350.0</td>\n",
       "      <td>655.0</td>\n",
       "      <td>0.0</td>\n",
       "      <td>...</td>\n",
       "      <td>192.0</td>\n",
       "      <td>84.0</td>\n",
       "      <td>0.0</td>\n",
       "      <td>0.0</td>\n",
       "      <td>0.0</td>\n",
       "      <td>0.0</td>\n",
       "      <td>0.0</td>\n",
       "      <td>12.0</td>\n",
       "      <td>2008.0</td>\n",
       "      <td>250000.0</td>\n",
       "    </tr>\n",
       "  </tbody>\n",
       "</table>\n",
       "<p>5 rows × 37 columns</p>\n",
       "</div>"
      ],
      "text/plain": [
       "   MSSubClass  LotFrontage  LotArea  OverallQual  OverallCond  YearBuilt  \\\n",
       "0        60.0         65.0   8450.0          7.0          5.0     2003.0   \n",
       "1        20.0         80.0   9600.0          6.0          8.0     1976.0   \n",
       "2        60.0         68.0  11250.0          7.0          5.0     2001.0   \n",
       "3        70.0         60.0   9550.0          7.0          5.0     1915.0   \n",
       "4        60.0         84.0  14260.0          8.0          5.0     2000.0   \n",
       "\n",
       "   YearRemodAdd  MasVnrArea  BsmtFinSF1  BsmtFinSF2  ...  WoodDeckSF  \\\n",
       "0        2003.0       196.0       706.0         0.0  ...         0.0   \n",
       "1        1976.0         0.0       978.0         0.0  ...       298.0   \n",
       "2        2002.0       162.0       486.0         0.0  ...         0.0   \n",
       "3        1970.0         0.0       216.0         0.0  ...         0.0   \n",
       "4        2000.0       350.0       655.0         0.0  ...       192.0   \n",
       "\n",
       "   OpenPorchSF  EnclosedPorch  3SsnPorch  ScreenPorch  PoolArea  MiscVal  \\\n",
       "0         61.0            0.0        0.0          0.0       0.0      0.0   \n",
       "1          0.0            0.0        0.0          0.0       0.0      0.0   \n",
       "2         42.0            0.0        0.0          0.0       0.0      0.0   \n",
       "3         35.0          272.0        0.0          0.0       0.0      0.0   \n",
       "4         84.0            0.0        0.0          0.0       0.0      0.0   \n",
       "\n",
       "   MoSold  YrSold  SalePrice  \n",
       "0     2.0  2008.0   208500.0  \n",
       "1     5.0  2007.0   181500.0  \n",
       "2     9.0  2008.0   223500.0  \n",
       "3     2.0  2006.0   140000.0  \n",
       "4    12.0  2008.0   250000.0  \n",
       "\n",
       "[5 rows x 37 columns]"
      ]
     },
     "execution_count": 161,
     "metadata": {},
     "output_type": "execute_result"
    }
   ],
   "source": [
    "knnimputer2 = KNNImputer(\n",
    "    n_neighbors=grid_search.best_params_['imputer__n_neighbors'], \n",
    "    weights=grid_search.best_params_['imputer__weights'], \n",
    "    metric='nan_euclidean', \n",
    "    add_indicator=False, \n",
    ")\n",
    "knnimpute_data_imputed_temp2 = knnimputer2.fit_transform(knnimpute_data)\n",
    "knnimpute_data_imputed2 = pd.DataFrame(knnimpute_hdata_imputed_temp2, columns=knnimpute_data.columns)\n",
    "knnimpute_data_imputed2.head()"
   ]
  },
  {
   "cell_type": "code",
   "execution_count": 162,
   "id": "2951c822-16fb-4f6f-8ffa-c0de2e89c172",
   "metadata": {},
   "outputs": [
    {
     "data": {
      "text/plain": [
       "<AxesSubplot:ylabel='Density'>"
      ]
     },
     "execution_count": 162,
     "metadata": {},
     "output_type": "execute_result"
    },
    {
     "data": {
      "image/png": "[encoded data removed]",
      "text/plain": [
       "<Figure size 432x288 with 1 Axes>"
      ]
     },
     "metadata": {},
     "output_type": "display_data"
    }
   ],
   "source": [
    "LotFrontage_df['KNN_after_gridsearch'] = knnimpute_data_imputed2['LotFrontage']\n",
    "sns.kdeplot(data=LotFrontage_df)"
   ]
  },
  {
   "cell_type": "code",
   "execution_count": 163,
   "id": "67118d73-28f3-4b8c-bcaf-2651daec9d52",
   "metadata": {},
   "outputs": [
    {
     "data": {
      "text/plain": [
       "<AxesSubplot:ylabel='Density'>"
      ]
     },
     "execution_count": 163,
     "metadata": {},
     "output_type": "execute_result"
    },
    {
     "data": {
      "image/png": "[encoded data removed]",
      "text/plain": [
       "<Figure size 432x288 with 1 Axes>"
      ]
     },
     "metadata": {},
     "output_type": "display_data"
    }
   ],
   "source": [
    "GarageYrBlt_df['KNN_after_gridsearch'] = knnimpute_data_imputed2['GarageYrBlt']\n",
    "sns.kdeplot(data=GarageYrBlt_df)"
   ]
  },
  {
   "cell_type": "markdown",
   "id": "f60688e9-84f7-4de3-9f92-d1854af62ec0",
   "metadata": {},
   "source": [
    "#### Метод MICE (multivariate Imputation of Chained Equations)"
   ]
  },
  {
   "cell_type": "markdown",
   "id": "5ea7fef5-1d47-4df1-aefb-f035a4bb46d8",
   "metadata": {},
   "source": [
    "Описание метода и его реализация в пакете statsmodels.\n",
    "\n",
    "**Основные шаги метода:**\n",
    "\n",
    "1. Используем произвольную импьютацию для всех колонок (например, для числовых колонок - средним значением).\n",
    "2. Для первой колонки подставляем обратно пустые значения.\n",
    "3. Пропущенные значения в первой колонке предсказываются с помощью модели машинного обучения на основе остальных значений.\n",
    "4. Предсказанные значения подставляются в первую колонку.\n",
    "5. Действия выше выполняются в цикле для всех колонок.\n",
    "6. Действия выше выполняются заданное количество раз. Предполагается что на каждой итерации мы постепенно уточняем значения, соответствующие пропускам.\n",
    "\n",
    "Рассмотрим реализацию MissForest с использованием IterativeImputer."
   ]
  },
  {
   "cell_type": "code",
   "execution_count": 164,
   "id": "14395b0c-d2f3-4e8b-8d18-325a092871cb",
   "metadata": {},
   "outputs": [],
   "source": [
    "imputer_missForest = IterativeImputer(\n",
    "    estimator=RandomForestRegressor(n_estimators=10, random_state=0),\n",
    "    max_iter=10,\n",
    "    random_state=0)"
   ]
  },
  {
   "cell_type": "code",
   "execution_count": 165,
   "id": "1a627351-302f-44b5-a5a1-85038f1f17bb",
   "metadata": {},
   "outputs": [
    {
     "name": "stdout",
     "output_type": "stream",
     "text": [
      "CPU times: user 4.15 s, sys: 0 ns, total: 4.15 s\n",
      "Wall time: 4.28 s\n"
     ]
    }
   ],
   "source": [
    "%%time\n",
    "missForest_data_imputed_temp = imputer_missForest.fit_transform(knnimpute_data)"
   ]
  },
  {
   "cell_type": "code",
   "execution_count": 166,
   "id": "624fad3f-ec27-4a1a-a684-0d9d763e0e45",
   "metadata": {},
   "outputs": [
    {
     "data": {
      "text/html": [
       "<div>\n",
       "<style scoped>\n",
       "    .dataframe tbody tr th:only-of-type {\n",
       "        vertical-align: middle;\n",
       "    }\n",
       "\n",
       "    .dataframe tbody tr th {\n",
       "        vertical-align: top;\n",
       "    }\n",
       "\n",
       "    .dataframe thead th {\n",
       "        text-align: right;\n",
       "    }\n",
       "</style>\n",
       "<table border=\"1\" class=\"dataframe\">\n",
       "  <thead>\n",
       "    <tr style=\"text-align: right;\">\n",
       "      <th></th>\n",
       "      <th>MSSubClass</th>\n",
       "      <th>LotFrontage</th>\n",
       "      <th>LotArea</th>\n",
       "      <th>OverallQual</th>\n",
       "      <th>OverallCond</th>\n",
       "      <th>YearBuilt</th>\n",
       "      <th>YearRemodAdd</th>\n",
       "      <th>MasVnrArea</th>\n",
       "      <th>BsmtFinSF1</th>\n",
       "      <th>BsmtFinSF2</th>\n",
       "      <th>...</th>\n",
       "      <th>WoodDeckSF</th>\n",
       "      <th>OpenPorchSF</th>\n",
       "      <th>EnclosedPorch</th>\n",
       "      <th>3SsnPorch</th>\n",
       "      <th>ScreenPorch</th>\n",
       "      <th>PoolArea</th>\n",
       "      <th>MiscVal</th>\n",
       "      <th>MoSold</th>\n",
       "      <th>YrSold</th>\n",
       "      <th>SalePrice</th>\n",
       "    </tr>\n",
       "  </thead>\n",
       "  <tbody>\n",
       "    <tr>\n",
       "      <th>0</th>\n",
       "      <td>60.0</td>\n",
       "      <td>65.0</td>\n",
       "      <td>8450.0</td>\n",
       "      <td>7.0</td>\n",
       "      <td>5.0</td>\n",
       "      <td>2003.0</td>\n",
       "      <td>2003.0</td>\n",
       "      <td>196.0</td>\n",
       "      <td>706.0</td>\n",
       "      <td>0.0</td>\n",
       "      <td>...</td>\n",
       "      <td>0.0</td>\n",
       "      <td>61.0</td>\n",
       "      <td>0.0</td>\n",
       "      <td>0.0</td>\n",
       "      <td>0.0</td>\n",
       "      <td>0.0</td>\n",
       "      <td>0.0</td>\n",
       "      <td>2.0</td>\n",
       "      <td>2008.0</td>\n",
       "      <td>208500.0</td>\n",
       "    </tr>\n",
       "    <tr>\n",
       "      <th>1</th>\n",
       "      <td>20.0</td>\n",
       "      <td>80.0</td>\n",
       "      <td>9600.0</td>\n",
       "      <td>6.0</td>\n",
       "      <td>8.0</td>\n",
       "      <td>1976.0</td>\n",
       "      <td>1976.0</td>\n",
       "      <td>0.0</td>\n",
       "      <td>978.0</td>\n",
       "      <td>0.0</td>\n",
       "      <td>...</td>\n",
       "      <td>298.0</td>\n",
       "      <td>0.0</td>\n",
       "      <td>0.0</td>\n",
       "      <td>0.0</td>\n",
       "      <td>0.0</td>\n",
       "      <td>0.0</td>\n",
       "      <td>0.0</td>\n",
       "      <td>5.0</td>\n",
       "      <td>2007.0</td>\n",
       "      <td>181500.0</td>\n",
       "    </tr>\n",
       "    <tr>\n",
       "      <th>2</th>\n",
       "      <td>60.0</td>\n",
       "      <td>68.0</td>\n",
       "      <td>11250.0</td>\n",
       "      <td>7.0</td>\n",
       "      <td>5.0</td>\n",
       "      <td>2001.0</td>\n",
       "      <td>2002.0</td>\n",
       "      <td>162.0</td>\n",
       "      <td>486.0</td>\n",
       "      <td>0.0</td>\n",
       "      <td>...</td>\n",
       "      <td>0.0</td>\n",
       "      <td>42.0</td>\n",
       "      <td>0.0</td>\n",
       "      <td>0.0</td>\n",
       "      <td>0.0</td>\n",
       "      <td>0.0</td>\n",
       "      <td>0.0</td>\n",
       "      <td>9.0</td>\n",
       "      <td>2008.0</td>\n",
       "      <td>223500.0</td>\n",
       "    </tr>\n",
       "    <tr>\n",
       "      <th>3</th>\n",
       "      <td>70.0</td>\n",
       "      <td>60.0</td>\n",
       "      <td>9550.0</td>\n",
       "      <td>7.0</td>\n",
       "      <td>5.0</td>\n",
       "      <td>1915.0</td>\n",
       "      <td>1970.0</td>\n",
       "      <td>0.0</td>\n",
       "      <td>216.0</td>\n",
       "      <td>0.0</td>\n",
       "      <td>...</td>\n",
       "      <td>0.0</td>\n",
       "      <td>35.0</td>\n",
       "      <td>272.0</td>\n",
       "      <td>0.0</td>\n",
       "      <td>0.0</td>\n",
       "      <td>0.0</td>\n",
       "      <td>0.0</td>\n",
       "      <td>2.0</td>\n",
       "      <td>2006.0</td>\n",
       "      <td>140000.0</td>\n",
       "    </tr>\n",
       "    <tr>\n",
       "      <th>4</th>\n",
       "      <td>60.0</td>\n",
       "      <td>84.0</td>\n",
       "      <td>14260.0</td>\n",
       "      <td>8.0</td>\n",
       "      <td>5.0</td>\n",
       "      <td>2000.0</td>\n",
       "      <td>2000.0</td>\n",
       "      <td>350.0</td>\n",
       "      <td>655.0</td>\n",
       "      <td>0.0</td>\n",
       "      <td>...</td>\n",
       "      <td>192.0</td>\n",
       "      <td>84.0</td>\n",
       "      <td>0.0</td>\n",
       "      <td>0.0</td>\n",
       "      <td>0.0</td>\n",
       "      <td>0.0</td>\n",
       "      <td>0.0</td>\n",
       "      <td>12.0</td>\n",
       "      <td>2008.0</td>\n",
       "      <td>250000.0</td>\n",
       "    </tr>\n",
       "  </tbody>\n",
       "</table>\n",
       "<p>5 rows × 37 columns</p>\n",
       "</div>"
      ],
      "text/plain": [
       "   MSSubClass  LotFrontage  LotArea  OverallQual  OverallCond  YearBuilt  \\\n",
       "0        60.0         65.0   8450.0          7.0          5.0     2003.0   \n",
       "1        20.0         80.0   9600.0          6.0          8.0     1976.0   \n",
       "2        60.0         68.0  11250.0          7.0          5.0     2001.0   \n",
       "3        70.0         60.0   9550.0          7.0          5.0     1915.0   \n",
       "4        60.0         84.0  14260.0          8.0          5.0     2000.0   \n",
       "\n",
       "   YearRemodAdd  MasVnrArea  BsmtFinSF1  BsmtFinSF2  ...  WoodDeckSF  \\\n",
       "0        2003.0       196.0       706.0         0.0  ...         0.0   \n",
       "1        1976.0         0.0       978.0         0.0  ...       298.0   \n",
       "2        2002.0       162.0       486.0         0.0  ...         0.0   \n",
       "3        1970.0         0.0       216.0         0.0  ...         0.0   \n",
       "4        2000.0       350.0       655.0         0.0  ...       192.0   \n",
       "\n",
       "   OpenPorchSF  EnclosedPorch  3SsnPorch  ScreenPorch  PoolArea  MiscVal  \\\n",
       "0         61.0            0.0        0.0          0.0       0.0      0.0   \n",
       "1          0.0            0.0        0.0          0.0       0.0      0.0   \n",
       "2         42.0            0.0        0.0          0.0       0.0      0.0   \n",
       "3         35.0          272.0        0.0          0.0       0.0      0.0   \n",
       "4         84.0            0.0        0.0          0.0       0.0      0.0   \n",
       "\n",
       "   MoSold  YrSold  SalePrice  \n",
       "0     2.0  2008.0   208500.0  \n",
       "1     5.0  2007.0   181500.0  \n",
       "2     9.0  2008.0   223500.0  \n",
       "3     2.0  2006.0   140000.0  \n",
       "4    12.0  2008.0   250000.0  \n",
       "\n",
       "[5 rows x 37 columns]"
      ]
     },
     "execution_count": 166,
     "metadata": {},
     "output_type": "execute_result"
    }
   ],
   "source": [
    "missForest_data_imputed = pd.DataFrame(missForest_data_imputed_temp, columns=knnimpute_data.columns)\n",
    "missForest_data_imputed.head()"
   ]
  },
  {
   "cell_type": "code",
   "execution_count": 167,
   "id": "0c0af8a1-2b56-475d-bebe-ac8a314ca337",
   "metadata": {},
   "outputs": [
    {
     "data": {
      "text/plain": [
       "<AxesSubplot:ylabel='Density'>"
      ]
     },
     "execution_count": 167,
     "metadata": {},
     "output_type": "execute_result"
    },
    {
     "data": {
      "image/png": "[encoded data removed]",
      "text/plain": [
       "<Figure size 432x288 with 1 Axes>"
      ]
     },
     "metadata": {},
     "output_type": "display_data"
    }
   ],
   "source": [
    "LotFrontage_df['MissForest'] = missForest_data_imputed['LotFrontage']\n",
    "sns.kdeplot(data=LotFrontage_df)"
   ]
  },
  {
   "cell_type": "code",
   "execution_count": 168,
   "id": "e517421e-193a-4aa7-bab9-05a92ab4c08c",
   "metadata": {},
   "outputs": [
    {
     "data": {
      "text/plain": [
       "<AxesSubplot:ylabel='Density'>"
      ]
     },
     "execution_count": 168,
     "metadata": {},
     "output_type": "execute_result"
    },
    {
     "data": {
      "image/png": "[encoded data removed]",
      "text/plain": [
       "<Figure size 432x288 with 1 Axes>"
      ]
     },
     "metadata": {},
     "output_type": "display_data"
    }
   ],
   "source": [
    "GarageYrBlt_df['MissForest'] = missForest_data_imputed['GarageYrBlt']\n",
    "sns.kdeplot(data=GarageYrBlt_df)"
   ]
  },
  {
   "cell_type": "markdown",
   "id": "0073b5e5-37dc-4420-a9e1-de82d272f478",
   "metadata": {},
   "source": [
    "Методы KNNImputer и MissForest также реализованы в библиотеке missingpy."
   ]
  },
  {
   "cell_type": "markdown",
   "id": "acf1e07f-4645-4929-823b-08a4e41e249d",
   "metadata": {
    "tags": []
   },
   "source": [
    "## Кодирование категориальных признаков"
   ]
  },
  {
   "cell_type": "markdown",
   "id": "b131b848-e689-48b3-933f-d4be59f1bbf3",
   "metadata": {},
   "source": [
    "### Загрузка данных"
   ]
  },
  {
   "cell_type": "code",
   "execution_count": 169,
   "id": "1fb71cc0-c8ce-4d0c-a4a2-324a6b8ca5f0",
   "metadata": {},
   "outputs": [],
   "source": [
    "data_loaded = pd.read_csv('data/titanic.csv', sep=\",\")"
   ]
  },
  {
   "cell_type": "code",
   "execution_count": 170,
   "id": "665b6b60-cd8c-4e64-9619-dbfc7591b84a",
   "metadata": {},
   "outputs": [
    {
     "data": {
      "text/plain": [
       "(891, 12)"
      ]
     },
     "execution_count": 170,
     "metadata": {},
     "output_type": "execute_result"
    }
   ],
   "source": [
    "# размер набора данных\n",
    "data_loaded.shape"
   ]
  },
  {
   "cell_type": "code",
   "execution_count": 171,
   "id": "d0097f99-5f9e-46c3-a8c8-6f4096583ef0",
   "metadata": {},
   "outputs": [
    {
     "data": {
      "text/html": [
       "<div>\n",
       "<style scoped>\n",
       "    .dataframe tbody tr th:only-of-type {\n",
       "        vertical-align: middle;\n",
       "    }\n",
       "\n",
       "    .dataframe tbody tr th {\n",
       "        vertical-align: top;\n",
       "    }\n",
       "\n",
       "    .dataframe thead th {\n",
       "        text-align: right;\n",
       "    }\n",
       "</style>\n",
       "<table border=\"1\" class=\"dataframe\">\n",
       "  <thead>\n",
       "    <tr style=\"text-align: right;\">\n",
       "      <th></th>\n",
       "      <th>PassengerId</th>\n",
       "      <th>Survived</th>\n",
       "      <th>Pclass</th>\n",
       "      <th>Name</th>\n",
       "      <th>Sex</th>\n",
       "      <th>Age</th>\n",
       "      <th>SibSp</th>\n",
       "      <th>Parch</th>\n",
       "      <th>Ticket</th>\n",
       "      <th>Fare</th>\n",
       "      <th>Cabin</th>\n",
       "      <th>Embarked</th>\n",
       "    </tr>\n",
       "  </thead>\n",
       "  <tbody>\n",
       "    <tr>\n",
       "      <th>0</th>\n",
       "      <td>1</td>\n",
       "      <td>0</td>\n",
       "      <td>3</td>\n",
       "      <td>Braund, Mr. Owen Harris</td>\n",
       "      <td>male</td>\n",
       "      <td>22.0</td>\n",
       "      <td>1</td>\n",
       "      <td>0</td>\n",
       "      <td>A/5 21171</td>\n",
       "      <td>7.2500</td>\n",
       "      <td>NaN</td>\n",
       "      <td>S</td>\n",
       "    </tr>\n",
       "    <tr>\n",
       "      <th>1</th>\n",
       "      <td>2</td>\n",
       "      <td>1</td>\n",
       "      <td>1</td>\n",
       "      <td>Cumings, Mrs. John Bradley (Florence Briggs Th...</td>\n",
       "      <td>female</td>\n",
       "      <td>38.0</td>\n",
       "      <td>1</td>\n",
       "      <td>0</td>\n",
       "      <td>PC 17599</td>\n",
       "      <td>71.2833</td>\n",
       "      <td>C85</td>\n",
       "      <td>C</td>\n",
       "    </tr>\n",
       "    <tr>\n",
       "      <th>2</th>\n",
       "      <td>3</td>\n",
       "      <td>1</td>\n",
       "      <td>3</td>\n",
       "      <td>Heikkinen, Miss. Laina</td>\n",
       "      <td>female</td>\n",
       "      <td>26.0</td>\n",
       "      <td>0</td>\n",
       "      <td>0</td>\n",
       "      <td>STON/O2. 3101282</td>\n",
       "      <td>7.9250</td>\n",
       "      <td>NaN</td>\n",
       "      <td>S</td>\n",
       "    </tr>\n",
       "    <tr>\n",
       "      <th>3</th>\n",
       "      <td>4</td>\n",
       "      <td>1</td>\n",
       "      <td>1</td>\n",
       "      <td>Futrelle, Mrs. Jacques Heath (Lily May Peel)</td>\n",
       "      <td>female</td>\n",
       "      <td>35.0</td>\n",
       "      <td>1</td>\n",
       "      <td>0</td>\n",
       "      <td>113803</td>\n",
       "      <td>53.1000</td>\n",
       "      <td>C123</td>\n",
       "      <td>S</td>\n",
       "    </tr>\n",
       "    <tr>\n",
       "      <th>4</th>\n",
       "      <td>5</td>\n",
       "      <td>0</td>\n",
       "      <td>3</td>\n",
       "      <td>Allen, Mr. William Henry</td>\n",
       "      <td>male</td>\n",
       "      <td>35.0</td>\n",
       "      <td>0</td>\n",
       "      <td>0</td>\n",
       "      <td>373450</td>\n",
       "      <td>8.0500</td>\n",
       "      <td>NaN</td>\n",
       "      <td>S</td>\n",
       "    </tr>\n",
       "  </tbody>\n",
       "</table>\n",
       "</div>"
      ],
      "text/plain": [
       "   PassengerId  Survived  Pclass  \\\n",
       "0            1         0       3   \n",
       "1            2         1       1   \n",
       "2            3         1       3   \n",
       "3            4         1       1   \n",
       "4            5         0       3   \n",
       "\n",
       "                                                Name     Sex   Age  SibSp  \\\n",
       "0                            Braund, Mr. Owen Harris    male  22.0      1   \n",
       "1  Cumings, Mrs. John Bradley (Florence Briggs Th...  female  38.0      1   \n",
       "2                             Heikkinen, Miss. Laina  female  26.0      0   \n",
       "3       Futrelle, Mrs. Jacques Heath (Lily May Peel)  female  35.0      1   \n",
       "4                           Allen, Mr. William Henry    male  35.0      0   \n",
       "\n",
       "   Parch            Ticket     Fare Cabin Embarked  \n",
       "0      0         A/5 21171   7.2500   NaN        S  \n",
       "1      0          PC 17599  71.2833   C85        C  \n",
       "2      0  STON/O2. 3101282   7.9250   NaN        S  \n",
       "3      0            113803  53.1000  C123        S  \n",
       "4      0            373450   8.0500   NaN        S  "
      ]
     },
     "execution_count": 171,
     "metadata": {},
     "output_type": "execute_result"
    }
   ],
   "source": [
    "data_loaded.head()"
   ]
  },
  {
   "cell_type": "code",
   "execution_count": 172,
   "id": "1d472e15-2aca-4492-9e6d-1228aa9a3025",
   "metadata": {},
   "outputs": [
    {
     "data": {
      "text/plain": [
       "[('PassengerId', ('int64', 0)),\n",
       " ('Survived', ('int64', 0)),\n",
       " ('Pclass', ('int64', 0)),\n",
       " ('Name', ('object', 0)),\n",
       " ('Sex', ('object', 0)),\n",
       " ('Age', ('float64', 177)),\n",
       " ('SibSp', ('int64', 0)),\n",
       " ('Parch', ('int64', 0)),\n",
       " ('Ticket', ('object', 0)),\n",
       " ('Fare', ('float64', 0)),\n",
       " ('Cabin', ('object', 687)),\n",
       " ('Embarked', ('object', 2))]"
      ]
     },
     "execution_count": 172,
     "metadata": {},
     "output_type": "execute_result"
    }
   ],
   "source": [
    "data_features = list(zip(\n",
    "# признаки\n",
    "[i for i in data_loaded.columns],\n",
    "zip(\n",
    "    # типы колонок\n",
    "    [str(i) for i in data_loaded.dtypes],\n",
    "    # проверим есть ли пропущенные значения\n",
    "    [i for i in data_loaded.isnull().sum()]\n",
    ")))\n",
    "# Признаки с типом данных и количеством пропусков\n",
    "data_features"
   ]
  },
  {
   "cell_type": "code",
   "execution_count": 173,
   "id": "b160b5be-a334-4a4b-b1ec-6f22657ff073",
   "metadata": {},
   "outputs": [
    {
     "data": {
      "text/html": [
       "<div>\n",
       "<style scoped>\n",
       "    .dataframe tbody tr th:only-of-type {\n",
       "        vertical-align: middle;\n",
       "    }\n",
       "\n",
       "    .dataframe tbody tr th {\n",
       "        vertical-align: top;\n",
       "    }\n",
       "\n",
       "    .dataframe thead th {\n",
       "        text-align: right;\n",
       "    }\n",
       "</style>\n",
       "<table border=\"1\" class=\"dataframe\">\n",
       "  <thead>\n",
       "    <tr style=\"text-align: right;\">\n",
       "      <th></th>\n",
       "      <th>Pclass</th>\n",
       "      <th>Age</th>\n",
       "      <th>SibSp</th>\n",
       "      <th>Parch</th>\n",
       "      <th>Fare</th>\n",
       "      <th>Sex</th>\n",
       "      <th>Cabin</th>\n",
       "      <th>Embarked</th>\n",
       "      <th>Survived</th>\n",
       "    </tr>\n",
       "  </thead>\n",
       "  <tbody>\n",
       "    <tr>\n",
       "      <th>0</th>\n",
       "      <td>3</td>\n",
       "      <td>22.0</td>\n",
       "      <td>1</td>\n",
       "      <td>0</td>\n",
       "      <td>7.2500</td>\n",
       "      <td>male</td>\n",
       "      <td>NaN</td>\n",
       "      <td>S</td>\n",
       "      <td>0</td>\n",
       "    </tr>\n",
       "    <tr>\n",
       "      <th>1</th>\n",
       "      <td>1</td>\n",
       "      <td>38.0</td>\n",
       "      <td>1</td>\n",
       "      <td>0</td>\n",
       "      <td>71.2833</td>\n",
       "      <td>female</td>\n",
       "      <td>C85</td>\n",
       "      <td>C</td>\n",
       "      <td>1</td>\n",
       "    </tr>\n",
       "    <tr>\n",
       "      <th>2</th>\n",
       "      <td>3</td>\n",
       "      <td>26.0</td>\n",
       "      <td>0</td>\n",
       "      <td>0</td>\n",
       "      <td>7.9250</td>\n",
       "      <td>female</td>\n",
       "      <td>NaN</td>\n",
       "      <td>S</td>\n",
       "      <td>1</td>\n",
       "    </tr>\n",
       "    <tr>\n",
       "      <th>3</th>\n",
       "      <td>1</td>\n",
       "      <td>35.0</td>\n",
       "      <td>1</td>\n",
       "      <td>0</td>\n",
       "      <td>53.1000</td>\n",
       "      <td>female</td>\n",
       "      <td>C123</td>\n",
       "      <td>S</td>\n",
       "      <td>1</td>\n",
       "    </tr>\n",
       "    <tr>\n",
       "      <th>4</th>\n",
       "      <td>3</td>\n",
       "      <td>35.0</td>\n",
       "      <td>0</td>\n",
       "      <td>0</td>\n",
       "      <td>8.0500</td>\n",
       "      <td>male</td>\n",
       "      <td>NaN</td>\n",
       "      <td>S</td>\n",
       "      <td>0</td>\n",
       "    </tr>\n",
       "  </tbody>\n",
       "</table>\n",
       "</div>"
      ],
      "text/plain": [
       "   Pclass   Age  SibSp  Parch     Fare     Sex Cabin Embarked  Survived\n",
       "0       3  22.0      1      0   7.2500    male   NaN        S         0\n",
       "1       1  38.0      1      0  71.2833  female   C85        C         1\n",
       "2       3  26.0      0      0   7.9250  female   NaN        S         1\n",
       "3       1  35.0      1      0  53.1000  female  C123        S         1\n",
       "4       3  35.0      0      0   8.0500    male   NaN        S         0"
      ]
     },
     "execution_count": 173,
     "metadata": {},
     "output_type": "execute_result"
    }
   ],
   "source": [
    "# Используем только некоторые признаки\n",
    "cols_filter = ['Pclass', 'Age', 'SibSp', 'Parch', 'Fare',\n",
    "        'Sex', 'Cabin', 'Embarked', 'Survived']\n",
    "data = data_loaded[cols_filter]\n",
    "data.head()"
   ]
  },
  {
   "cell_type": "code",
   "execution_count": 174,
   "id": "ed8ad3fb-c52a-4d99-a4cf-aa6d6b29f4af",
   "metadata": {},
   "outputs": [
    {
     "name": "stderr",
     "output_type": "stream",
     "text": [
      "/tmp/ipykernel_11413/1775296338.py:2: SettingWithCopyWarning: \n",
      "A value is trying to be set on a copy of a slice from a DataFrame\n",
      "\n",
      "See the caveats in the documentation: https://pandas.pydata.org/pandas-docs/stable/user_guide/indexing.html#returning-a-view-versus-a-copy\n",
      "  data.dropna(subset=['Fare', 'Embarked'], inplace=True)\n"
     ]
    }
   ],
   "source": [
    "# Заполним пропуски\n",
    "data.dropna(subset=['Fare', 'Embarked'], inplace=True)"
   ]
  },
  {
   "cell_type": "code",
   "execution_count": 175,
   "id": "1d94fbe7-f96d-4a16-8f3a-5659e1c30aaa",
   "metadata": {},
   "outputs": [
    {
     "name": "stderr",
     "output_type": "stream",
     "text": [
      "/tmp/ipykernel_11413/1396300600.py:3: SettingWithCopyWarning: \n",
      "A value is trying to be set on a copy of a slice from a DataFrame.\n",
      "Try using .loc[row_indexer,col_indexer] = value instead\n",
      "\n",
      "See the caveats in the documentation: https://pandas.pydata.org/pandas-docs/stable/user_guide/indexing.html#returning-a-view-versus-a-copy\n",
      "  data['Cabin'] = data['Cabin'].astype(str).str[0]\n"
     ]
    }
   ],
   "source": [
    "# От каюты оставляет только первую букву \n",
    "# и убираем каюты типа Т так как их мало\n",
    "data['Cabin'] = data['Cabin'].astype(str).str[0]\n",
    "data = data[data['Cabin'] != 'T']"
   ]
  },
  {
   "cell_type": "code",
   "execution_count": 176,
   "id": "f3bc9ff6-5420-4579-8488-41e9eb7c0065",
   "metadata": {},
   "outputs": [
    {
     "name": "stderr",
     "output_type": "stream",
     "text": [
      "/tmp/ipykernel_11413/2056891666.py:3: SettingWithCopyWarning: \n",
      "A value is trying to be set on a copy of a slice from a DataFrame\n",
      "\n",
      "See the caveats in the documentation: https://pandas.pydata.org/pandas-docs/stable/user_guide/indexing.html#returning-a-view-versus-a-copy\n",
      "  df[variable].fillna(value, inplace=True)\n"
     ]
    }
   ],
   "source": [
    "# Заполним пропуски возраста средними значениями\n",
    "def impute_na(df, variable, value):\n",
    "    df[variable].fillna(value, inplace=True)\n",
    "impute_na(data, 'Age', data['Age'].mean())"
   ]
  },
  {
   "cell_type": "code",
   "execution_count": 177,
   "id": "9fe63032-b6dc-4d3f-a791-fe0efe8d547d",
   "metadata": {},
   "outputs": [
    {
     "data": {
      "text/plain": [
       "Pclass      0\n",
       "Age         0\n",
       "SibSp       0\n",
       "Parch       0\n",
       "Fare        0\n",
       "Sex         0\n",
       "Cabin       0\n",
       "Embarked    0\n",
       "Survived    0\n",
       "dtype: int64"
      ]
     },
     "execution_count": 177,
     "metadata": {},
     "output_type": "execute_result"
    }
   ],
   "source": [
    "# Убедимся что нет пустых значений\n",
    "data.isnull().sum()"
   ]
  },
  {
   "cell_type": "markdown",
   "id": "9a17f8c7-ff11-4b28-a4c2-e256d84551e6",
   "metadata": {},
   "source": [
    "### Кодирование категорий целочисленными значениями - label encoding"
   ]
  },
  {
   "cell_type": "markdown",
   "id": "3935f8a5-3517-46e6-8310-7ac1f03f37ac",
   "metadata": {},
   "source": [
    "Label Encoding (LE), который также называют integer encoding, предполагает, что значения категорий заменяются целыми числами в случайном порядке.\n",
    "\n",
    "**Преимущества:**\n",
    "- Простота реализации.\n",
    "- Не расширяется признаковое пространство (не появляется дополнительных колонок).\n",
    "**Недостатки:**\n",
    "- Не использует информацию о распределении значений категорий.\n",
    "- Не подходит для линейных моделей, так как создает фиктивное отношение порядка между значениями.\n",
    "\n",
    "В scikit-learn для такого кодирования используется два класса :\n",
    "\n",
    "- LabelEncoder - который ориентирован на применение к одному признаку. Этот класс прежде всего предназначен для кодирования целевого признака, но может быть также использован для последовательного кодирования отдельных нецелевых признаков.\n",
    "- OrdinalEncoder - который ориентирован на применение к матрице объект-признак, то есть для кодирования матрицы нецелевых признаков."
   ]
  },
  {
   "cell_type": "markdown",
   "id": "d0c99b4c-a5c7-4203-9094-f0de8990c372",
   "metadata": {},
   "source": [
    "#### Использование LabelEncoder"
   ]
  },
  {
   "cell_type": "code",
   "execution_count": 178,
   "id": "bde7f37e-f1cb-4552-b8e6-13989d9c02e7",
   "metadata": {},
   "outputs": [
    {
     "data": {
      "text/plain": [
       "array(['n', 'C', 'E', 'G', 'D', 'A', 'B', 'F'], dtype=object)"
      ]
     },
     "execution_count": 178,
     "metadata": {},
     "output_type": "execute_result"
    }
   ],
   "source": [
    "from sklearn.preprocessing import LabelEncoder\n",
    "\n",
    "le = LabelEncoder()\n",
    "cat_enc_le = le.fit_transform(data['Cabin'])\n",
    "data['Cabin'].unique()"
   ]
  },
  {
   "cell_type": "code",
   "execution_count": 179,
   "id": "2865698d-b420-4f30-a702-869205c63561",
   "metadata": {},
   "outputs": [
    {
     "data": {
      "text/plain": [
       "array([0, 1, 2, 3, 4, 5, 6, 7])"
      ]
     },
     "execution_count": 179,
     "metadata": {},
     "output_type": "execute_result"
    }
   ],
   "source": [
    "np.unique(cat_enc_le)"
   ]
  },
  {
   "cell_type": "code",
   "execution_count": 180,
   "id": "da611826-93be-4253-9418-a873ee0b2f58",
   "metadata": {},
   "outputs": [
    {
     "data": {
      "text/plain": [
       "array(['A', 'B', 'C', 'D'], dtype=object)"
      ]
     },
     "execution_count": 180,
     "metadata": {},
     "output_type": "execute_result"
    }
   ],
   "source": [
    "le.inverse_transform([0, 1, 2, 3])"
   ]
  },
  {
   "cell_type": "markdown",
   "id": "3bff68f9-1b8c-4ccb-aa74-227e4fdfb95e",
   "metadata": {},
   "source": [
    "Для целочисленного кодирования также можно использовать метод ordinal библиотеки Category Encoders. Для того чтобы учесть возможное отношение порядка между значениями категорий, в качестве параметра mapping можно передавать словарь соответствий между значениями категорий и кодирующими их числами."
   ]
  },
  {
   "cell_type": "code",
   "execution_count": 182,
   "id": "6f5ec7c5-c5bc-4970-82ed-5af93ca0e0dc",
   "metadata": {},
   "outputs": [
    {
     "data": {
      "text/html": [
       "<div>\n",
       "<style scoped>\n",
       "    .dataframe tbody tr th:only-of-type {\n",
       "        vertical-align: middle;\n",
       "    }\n",
       "\n",
       "    .dataframe tbody tr th {\n",
       "        vertical-align: top;\n",
       "    }\n",
       "\n",
       "    .dataframe thead th {\n",
       "        text-align: right;\n",
       "    }\n",
       "</style>\n",
       "<table border=\"1\" class=\"dataframe\">\n",
       "  <thead>\n",
       "    <tr style=\"text-align: right;\">\n",
       "      <th></th>\n",
       "      <th>Pclass</th>\n",
       "      <th>Age</th>\n",
       "      <th>SibSp</th>\n",
       "      <th>Parch</th>\n",
       "      <th>Fare</th>\n",
       "      <th>Sex</th>\n",
       "      <th>Cabin</th>\n",
       "      <th>Embarked</th>\n",
       "      <th>Survived</th>\n",
       "    </tr>\n",
       "  </thead>\n",
       "  <tbody>\n",
       "    <tr>\n",
       "      <th>0</th>\n",
       "      <td>3</td>\n",
       "      <td>22.000000</td>\n",
       "      <td>1</td>\n",
       "      <td>0</td>\n",
       "      <td>7.2500</td>\n",
       "      <td>male</td>\n",
       "      <td>n</td>\n",
       "      <td>S</td>\n",
       "      <td>0</td>\n",
       "    </tr>\n",
       "    <tr>\n",
       "      <th>1</th>\n",
       "      <td>1</td>\n",
       "      <td>38.000000</td>\n",
       "      <td>1</td>\n",
       "      <td>0</td>\n",
       "      <td>71.2833</td>\n",
       "      <td>female</td>\n",
       "      <td>C</td>\n",
       "      <td>C</td>\n",
       "      <td>1</td>\n",
       "    </tr>\n",
       "    <tr>\n",
       "      <th>2</th>\n",
       "      <td>3</td>\n",
       "      <td>26.000000</td>\n",
       "      <td>0</td>\n",
       "      <td>0</td>\n",
       "      <td>7.9250</td>\n",
       "      <td>female</td>\n",
       "      <td>n</td>\n",
       "      <td>S</td>\n",
       "      <td>1</td>\n",
       "    </tr>\n",
       "    <tr>\n",
       "      <th>3</th>\n",
       "      <td>1</td>\n",
       "      <td>35.000000</td>\n",
       "      <td>1</td>\n",
       "      <td>0</td>\n",
       "      <td>53.1000</td>\n",
       "      <td>female</td>\n",
       "      <td>C</td>\n",
       "      <td>S</td>\n",
       "      <td>1</td>\n",
       "    </tr>\n",
       "    <tr>\n",
       "      <th>4</th>\n",
       "      <td>3</td>\n",
       "      <td>35.000000</td>\n",
       "      <td>0</td>\n",
       "      <td>0</td>\n",
       "      <td>8.0500</td>\n",
       "      <td>male</td>\n",
       "      <td>n</td>\n",
       "      <td>S</td>\n",
       "      <td>0</td>\n",
       "    </tr>\n",
       "    <tr>\n",
       "      <th>...</th>\n",
       "      <td>...</td>\n",
       "      <td>...</td>\n",
       "      <td>...</td>\n",
       "      <td>...</td>\n",
       "      <td>...</td>\n",
       "      <td>...</td>\n",
       "      <td>...</td>\n",
       "      <td>...</td>\n",
       "      <td>...</td>\n",
       "    </tr>\n",
       "    <tr>\n",
       "      <th>886</th>\n",
       "      <td>2</td>\n",
       "      <td>27.000000</td>\n",
       "      <td>0</td>\n",
       "      <td>0</td>\n",
       "      <td>13.0000</td>\n",
       "      <td>male</td>\n",
       "      <td>n</td>\n",
       "      <td>S</td>\n",
       "      <td>0</td>\n",
       "    </tr>\n",
       "    <tr>\n",
       "      <th>887</th>\n",
       "      <td>1</td>\n",
       "      <td>19.000000</td>\n",
       "      <td>0</td>\n",
       "      <td>0</td>\n",
       "      <td>30.0000</td>\n",
       "      <td>female</td>\n",
       "      <td>B</td>\n",
       "      <td>S</td>\n",
       "      <td>1</td>\n",
       "    </tr>\n",
       "    <tr>\n",
       "      <th>888</th>\n",
       "      <td>3</td>\n",
       "      <td>29.620492</td>\n",
       "      <td>1</td>\n",
       "      <td>2</td>\n",
       "      <td>23.4500</td>\n",
       "      <td>female</td>\n",
       "      <td>n</td>\n",
       "      <td>S</td>\n",
       "      <td>0</td>\n",
       "    </tr>\n",
       "    <tr>\n",
       "      <th>889</th>\n",
       "      <td>1</td>\n",
       "      <td>26.000000</td>\n",
       "      <td>0</td>\n",
       "      <td>0</td>\n",
       "      <td>30.0000</td>\n",
       "      <td>male</td>\n",
       "      <td>C</td>\n",
       "      <td>C</td>\n",
       "      <td>1</td>\n",
       "    </tr>\n",
       "    <tr>\n",
       "      <th>890</th>\n",
       "      <td>3</td>\n",
       "      <td>32.000000</td>\n",
       "      <td>0</td>\n",
       "      <td>0</td>\n",
       "      <td>7.7500</td>\n",
       "      <td>male</td>\n",
       "      <td>n</td>\n",
       "      <td>Q</td>\n",
       "      <td>0</td>\n",
       "    </tr>\n",
       "  </tbody>\n",
       "</table>\n",
       "<p>888 rows × 9 columns</p>\n",
       "</div>"
      ],
      "text/plain": [
       "     Pclass        Age  SibSp  Parch     Fare     Sex Cabin Embarked  Survived\n",
       "0         3  22.000000      1      0   7.2500    male     n        S         0\n",
       "1         1  38.000000      1      0  71.2833  female     C        C         1\n",
       "2         3  26.000000      0      0   7.9250  female     n        S         1\n",
       "3         1  35.000000      1      0  53.1000  female     C        S         1\n",
       "4         3  35.000000      0      0   8.0500    male     n        S         0\n",
       "..      ...        ...    ...    ...      ...     ...   ...      ...       ...\n",
       "886       2  27.000000      0      0  13.0000    male     n        S         0\n",
       "887       1  19.000000      0      0  30.0000  female     B        S         1\n",
       "888       3  29.620492      1      2  23.4500  female     n        S         0\n",
       "889       1  26.000000      0      0  30.0000    male     C        C         1\n",
       "890       3  32.000000      0      0   7.7500    male     n        Q         0\n",
       "\n",
       "[888 rows x 9 columns]"
      ]
     },
     "execution_count": 182,
     "metadata": {},
     "output_type": "execute_result"
    }
   ],
   "source": [
    "data"
   ]
  },
  {
   "cell_type": "markdown",
   "id": "42efd240-18f7-44bc-8ec3-6f183a40411e",
   "metadata": {},
   "source": [
    "#### Использование OrdinalEncoder"
   ]
  },
  {
   "cell_type": "code",
   "execution_count": 187,
   "id": "6118c668-650d-4015-aaf1-3657f5515047",
   "metadata": {},
   "outputs": [
    {
     "name": "stdout",
     "output_type": "stream",
     "text": [
      "[0. 1.]\n",
      "[0. 1. 2. 3. 4. 5. 6. 7.]\n",
      "[0. 1. 2.]\n"
     ]
    }
   ],
   "source": [
    "from sklearn.preprocessing import OrdinalEncoder\n",
    "\n",
    "data_oe = data[['Sex', 'Cabin', 'Embarked']]\n",
    "oe = OrdinalEncoder()\n",
    "cat_enc_oe = oe.fit_transform(data_oe)\n",
    "print(np.unique(cat_enc_oe[:, 0]))\n",
    "print(np.unique(cat_enc_oe[:, 1]))\n",
    "print(np.unique(cat_enc_oe[:, 2]))"
   ]
  },
  {
   "cell_type": "code",
   "execution_count": 190,
   "id": "6e58fd6a-999f-4a5c-8bdb-4b7b814450e6",
   "metadata": {},
   "outputs": [
    {
     "data": {
      "text/plain": [
       "[array(['female', 'male'], dtype=object),\n",
       " array(['A', 'B', 'C', 'D', 'E', 'F', 'G', 'n'], dtype=object),\n",
       " array(['C', 'Q', 'S'], dtype=object)]"
      ]
     },
     "execution_count": 190,
     "metadata": {},
     "output_type": "execute_result"
    }
   ],
   "source": [
    "# Наименования категорий в соответствии с порядковыми номерами\n",
    "oe.categories_"
   ]
  },
  {
   "cell_type": "code",
   "execution_count": 189,
   "id": "0475da5c-5953-4521-88c2-7ff1051338e0",
   "metadata": {},
   "outputs": [
    {
     "data": {
      "text/plain": [
       "array([['male', 'n', 'S'],\n",
       "       ['female', 'C', 'C'],\n",
       "       ['female', 'n', 'S'],\n",
       "       ...,\n",
       "       ['female', 'n', 'S'],\n",
       "       ['male', 'C', 'C'],\n",
       "       ['male', 'n', 'Q']], dtype=object)"
      ]
     },
     "execution_count": 189,
     "metadata": {},
     "output_type": "execute_result"
    }
   ],
   "source": [
    "# Обратное преобразование\n",
    "oe.inverse_transform(cat_enc_oe)"
   ]
  },
  {
   "cell_type": "markdown",
   "id": "5bc8f3aa-2ed5-4c35-b716-29531b314ba7",
   "metadata": {},
   "source": [
    "#### Проблемы использования LabelEncoder и OrdinalEncoder"
   ]
  },
  {
   "cell_type": "markdown",
   "id": "e3f9f43a-d3e3-4290-9036-e34b2953eb44",
   "metadata": {},
   "source": [
    "Необходимо отметить, что LabelEncoder и OrdinalEncoder могут использоваться только для категориальных признаков в номинальных шкалах (для которых отсутствует порядок), например города, страны, названия рек и т.д.\n",
    "\n",
    "Это связано с тем, что задать какой-либо порядок при кодировании с помощью LabelEncoder и OrdinalEncoder невозможно, они сортируют категории в лексикографическом порядке.\n",
    "\n",
    "При этом кодирование целыми числами создает фиктивное отношение порядка (1 < 2 < 3 < ...) которого не было в исходных номинальных шкалах. Данное отношение порядка может негативно повлиять на построение модели машинного обучения."
   ]
  },
  {
   "cell_type": "markdown",
   "id": "24d14b06-704a-47cd-9a16-627c7fb103a9",
   "metadata": {},
   "source": [
    "### Кодирование шкал порядка"
   ]
  },
  {
   "cell_type": "markdown",
   "id": "e24dfac7-207b-458c-8307-e6004d019d11",
   "metadata": {},
   "source": [
    "Библиотека scikit-learn не предоставляет готового решения для кодирования шкал порядка, но можно воспользоваться функцией map для отдельных объектов Series."
   ]
  },
  {
   "cell_type": "code",
   "execution_count": 61,
   "id": "433faf4f-17d8-4cf7-b020-f8dc5b29771a",
   "metadata": {},
   "outputs": [],
   "source": [
    "# пример шкалы порядка 'small' < 'medium' < 'large'\n",
    "sizes = ['small', 'medium', 'large', 'small', 'medium', 'large', 'small', 'medium', 'large']"
   ]
  },
  {
   "cell_type": "code",
   "execution_count": 62,
   "id": "1b70dee6-f147-483b-83fa-3f8c443ec978",
   "metadata": {},
   "outputs": [
    {
     "data": {
      "text/html": [
       "<div>\n",
       "<style scoped>\n",
       "    .dataframe tbody tr th:only-of-type {\n",
       "        vertical-align: middle;\n",
       "    }\n",
       "\n",
       "    .dataframe tbody tr th {\n",
       "        vertical-align: top;\n",
       "    }\n",
       "\n",
       "    .dataframe thead th {\n",
       "        text-align: right;\n",
       "    }\n",
       "</style>\n",
       "<table border=\"1\" class=\"dataframe\">\n",
       "  <thead>\n",
       "    <tr style=\"text-align: right;\">\n",
       "      <th></th>\n",
       "      <th>sizes</th>\n",
       "    </tr>\n",
       "  </thead>\n",
       "  <tbody>\n",
       "    <tr>\n",
       "      <th>0</th>\n",
       "      <td>small</td>\n",
       "    </tr>\n",
       "    <tr>\n",
       "      <th>1</th>\n",
       "      <td>medium</td>\n",
       "    </tr>\n",
       "    <tr>\n",
       "      <th>2</th>\n",
       "      <td>large</td>\n",
       "    </tr>\n",
       "    <tr>\n",
       "      <th>3</th>\n",
       "      <td>small</td>\n",
       "    </tr>\n",
       "    <tr>\n",
       "      <th>4</th>\n",
       "      <td>medium</td>\n",
       "    </tr>\n",
       "    <tr>\n",
       "      <th>5</th>\n",
       "      <td>large</td>\n",
       "    </tr>\n",
       "    <tr>\n",
       "      <th>6</th>\n",
       "      <td>small</td>\n",
       "    </tr>\n",
       "    <tr>\n",
       "      <th>7</th>\n",
       "      <td>medium</td>\n",
       "    </tr>\n",
       "    <tr>\n",
       "      <th>8</th>\n",
       "      <td>large</td>\n",
       "    </tr>\n",
       "  </tbody>\n",
       "</table>\n",
       "</div>"
      ],
      "text/plain": [
       "    sizes\n",
       "0   small\n",
       "1  medium\n",
       "2   large\n",
       "3   small\n",
       "4  medium\n",
       "5   large\n",
       "6   small\n",
       "7  medium\n",
       "8   large"
      ]
     },
     "execution_count": 62,
     "metadata": {},
     "output_type": "execute_result"
    }
   ],
   "source": [
    "pd_sizes = pd.DataFrame(data={'sizes':sizes})\n",
    "pd_sizes"
   ]
  },
  {
   "cell_type": "code",
   "execution_count": 63,
   "id": "2a93df33-a0a0-4fa3-a9ae-00426511b014",
   "metadata": {},
   "outputs": [
    {
     "data": {
      "text/html": [
       "<div>\n",
       "<style scoped>\n",
       "    .dataframe tbody tr th:only-of-type {\n",
       "        vertical-align: middle;\n",
       "    }\n",
       "\n",
       "    .dataframe tbody tr th {\n",
       "        vertical-align: top;\n",
       "    }\n",
       "\n",
       "    .dataframe thead th {\n",
       "        text-align: right;\n",
       "    }\n",
       "</style>\n",
       "<table border=\"1\" class=\"dataframe\">\n",
       "  <thead>\n",
       "    <tr style=\"text-align: right;\">\n",
       "      <th></th>\n",
       "      <th>sizes</th>\n",
       "      <th>sizes_codes</th>\n",
       "    </tr>\n",
       "  </thead>\n",
       "  <tbody>\n",
       "    <tr>\n",
       "      <th>0</th>\n",
       "      <td>small</td>\n",
       "      <td>1</td>\n",
       "    </tr>\n",
       "    <tr>\n",
       "      <th>1</th>\n",
       "      <td>medium</td>\n",
       "      <td>2</td>\n",
       "    </tr>\n",
       "    <tr>\n",
       "      <th>2</th>\n",
       "      <td>large</td>\n",
       "      <td>3</td>\n",
       "    </tr>\n",
       "    <tr>\n",
       "      <th>3</th>\n",
       "      <td>small</td>\n",
       "      <td>1</td>\n",
       "    </tr>\n",
       "    <tr>\n",
       "      <th>4</th>\n",
       "      <td>medium</td>\n",
       "      <td>2</td>\n",
       "    </tr>\n",
       "    <tr>\n",
       "      <th>5</th>\n",
       "      <td>large</td>\n",
       "      <td>3</td>\n",
       "    </tr>\n",
       "    <tr>\n",
       "      <th>6</th>\n",
       "      <td>small</td>\n",
       "      <td>1</td>\n",
       "    </tr>\n",
       "    <tr>\n",
       "      <th>7</th>\n",
       "      <td>medium</td>\n",
       "      <td>2</td>\n",
       "    </tr>\n",
       "    <tr>\n",
       "      <th>8</th>\n",
       "      <td>large</td>\n",
       "      <td>3</td>\n",
       "    </tr>\n",
       "  </tbody>\n",
       "</table>\n",
       "</div>"
      ],
      "text/plain": [
       "    sizes  sizes_codes\n",
       "0   small            1\n",
       "1  medium            2\n",
       "2   large            3\n",
       "3   small            1\n",
       "4  medium            2\n",
       "5   large            3\n",
       "6   small            1\n",
       "7  medium            2\n",
       "8   large            3"
      ]
     },
     "execution_count": 63,
     "metadata": {},
     "output_type": "execute_result"
    }
   ],
   "source": [
    "pd_sizes['sizes_codes'] = pd_sizes['sizes'].map({'small':1, 'medium':2, 'large':3})\n",
    "pd_sizes"
   ]
  },
  {
   "cell_type": "code",
   "execution_count": 65,
   "id": "7f789b5e-13a7-44dd-9805-d6f816cfe695",
   "metadata": {},
   "outputs": [
    {
     "data": {
      "text/html": [
       "<div>\n",
       "<style scoped>\n",
       "    .dataframe tbody tr th:only-of-type {\n",
       "        vertical-align: middle;\n",
       "    }\n",
       "\n",
       "    .dataframe tbody tr th {\n",
       "        vertical-align: top;\n",
       "    }\n",
       "\n",
       "    .dataframe thead th {\n",
       "        text-align: right;\n",
       "    }\n",
       "</style>\n",
       "<table border=\"1\" class=\"dataframe\">\n",
       "  <thead>\n",
       "    <tr style=\"text-align: right;\">\n",
       "      <th></th>\n",
       "      <th>sizes</th>\n",
       "      <th>sizes_codes</th>\n",
       "      <th>sizes_decoded</th>\n",
       "    </tr>\n",
       "  </thead>\n",
       "  <tbody>\n",
       "    <tr>\n",
       "      <th>0</th>\n",
       "      <td>small</td>\n",
       "      <td>1</td>\n",
       "      <td>small</td>\n",
       "    </tr>\n",
       "    <tr>\n",
       "      <th>1</th>\n",
       "      <td>medium</td>\n",
       "      <td>2</td>\n",
       "      <td>medium</td>\n",
       "    </tr>\n",
       "    <tr>\n",
       "      <th>2</th>\n",
       "      <td>large</td>\n",
       "      <td>3</td>\n",
       "      <td>large</td>\n",
       "    </tr>\n",
       "    <tr>\n",
       "      <th>3</th>\n",
       "      <td>small</td>\n",
       "      <td>1</td>\n",
       "      <td>small</td>\n",
       "    </tr>\n",
       "    <tr>\n",
       "      <th>4</th>\n",
       "      <td>medium</td>\n",
       "      <td>2</td>\n",
       "      <td>medium</td>\n",
       "    </tr>\n",
       "    <tr>\n",
       "      <th>5</th>\n",
       "      <td>large</td>\n",
       "      <td>3</td>\n",
       "      <td>large</td>\n",
       "    </tr>\n",
       "    <tr>\n",
       "      <th>6</th>\n",
       "      <td>small</td>\n",
       "      <td>1</td>\n",
       "      <td>small</td>\n",
       "    </tr>\n",
       "    <tr>\n",
       "      <th>7</th>\n",
       "      <td>medium</td>\n",
       "      <td>2</td>\n",
       "      <td>medium</td>\n",
       "    </tr>\n",
       "    <tr>\n",
       "      <th>8</th>\n",
       "      <td>large</td>\n",
       "      <td>3</td>\n",
       "      <td>large</td>\n",
       "    </tr>\n",
       "  </tbody>\n",
       "</table>\n",
       "</div>"
      ],
      "text/plain": [
       "    sizes  sizes_codes sizes_decoded\n",
       "0   small            1         small\n",
       "1  medium            2        medium\n",
       "2   large            3         large\n",
       "3   small            1         small\n",
       "4  medium            2        medium\n",
       "5   large            3         large\n",
       "6   small            1         small\n",
       "7  medium            2        medium\n",
       "8   large            3         large"
      ]
     },
     "execution_count": 65,
     "metadata": {},
     "output_type": "execute_result"
    }
   ],
   "source": [
    "pd_sizes['sizes_decoded'] = pd_sizes['sizes_codes'].map({1:'small', 2:'medium', 3:'large'})\n",
    "pd_sizes"
   ]
  },
  {
   "cell_type": "code",
   "execution_count": null,
   "id": "40812ce8-f251-41a3-9f8e-a21588e72375",
   "metadata": {},
   "outputs": [],
   "source": []
  },
  {
   "cell_type": "code",
   "execution_count": null,
   "id": "f8641a58-aa93-4e11-8b38-9593ad552879",
   "metadata": {},
   "outputs": [],
   "source": []
  },
  {
   "cell_type": "code",
   "execution_count": null,
   "id": "edea719a-ab42-4ead-b614-1fad096e2caa",
   "metadata": {},
   "outputs": [],
   "source": []
  },
  {
   "cell_type": "code",
   "execution_count": null,
   "id": "ad6b1cfd-57a1-42a1-8d48-41264e0c01fe",
   "metadata": {},
   "outputs": [],
   "source": []
  },
  {
   "cell_type": "markdown",
   "id": "882ffa97-323a-4ea1-b459-c6564602b813",
   "metadata": {},
   "source": [
    "### Кодирование категорий наборами бинарных значений - one-hot encoding"
   ]
  },
  {
   "cell_type": "markdown",
   "id": "ceff3b3d-4898-44d1-8587-b224fc89d039",
   "metadata": {},
   "source": [
    "One-hot encoding предполагает, что значение категории заменяется на отдельную колонку, которая содержит бинарные значения.\n",
    "\n",
    "**Преимущества:**\n",
    "- Простота реализации.\n",
    "- Подходит для любых моделей, так как НЕ создает фиктивное отношение порядка между значениями.\n",
    "**Недостатки:**\n",
    "- Расширяется признаковое пространство."
   ]
  },
  {
   "cell_type": "markdown",
   "id": "d5d52f2b-afc4-4431-b8b5-3cccd704990f",
   "metadata": {},
   "source": [
    "#### Использование библиотеки scikit-learn"
   ]
  },
  {
   "cell_type": "code",
   "execution_count": 192,
   "id": "a8b91142-3b7f-417b-ac16-8d231b1ebf87",
   "metadata": {},
   "outputs": [
    {
     "data": {
      "text/plain": [
       "<888x8 sparse matrix of type '<class 'numpy.float64'>'\n",
       "\twith 888 stored elements in Compressed Sparse Row format>"
      ]
     },
     "execution_count": 192,
     "metadata": {},
     "output_type": "execute_result"
    }
   ],
   "source": [
    "from sklearn.preprocessing import OneHotEncoder\n",
    "\n",
    "ohe = OneHotEncoder()\n",
    "cat_enc_ohe = ohe.fit_transform(data[['Cabin']])\n",
    "cat_enc_ohe"
   ]
  },
  {
   "cell_type": "code",
   "execution_count": 193,
   "id": "b7c5446f-014a-4615-8272-67bc7358d61b",
   "metadata": {},
   "outputs": [
    {
     "data": {
      "text/plain": [
       "matrix([[0., 0., 0., 0., 0., 0., 0., 1.],\n",
       "        [0., 0., 1., 0., 0., 0., 0., 0.],\n",
       "        [0., 0., 0., 0., 0., 0., 0., 1.],\n",
       "        [0., 0., 1., 0., 0., 0., 0., 0.],\n",
       "        [0., 0., 0., 0., 0., 0., 0., 1.],\n",
       "        [0., 0., 0., 0., 0., 0., 0., 1.],\n",
       "        [0., 0., 0., 0., 1., 0., 0., 0.],\n",
       "        [0., 0., 0., 0., 0., 0., 0., 1.],\n",
       "        [0., 0., 0., 0., 0., 0., 0., 1.],\n",
       "        [0., 0., 0., 0., 0., 0., 0., 1.]])"
      ]
     },
     "execution_count": 193,
     "metadata": {},
     "output_type": "execute_result"
    }
   ],
   "source": [
    "cat_enc_ohe.todense()[0:10]"
   ]
  },
  {
   "cell_type": "markdown",
   "id": "3ec78335-05e8-4ddd-b08a-3d46f8de70c1",
   "metadata": {},
   "source": [
    "#### Pandas get_dummies - быстрый вариант one-hot кодирования\n",
    "\n",
    "Преимущество в том, что возвращается Pandas DataFrame."
   ]
  },
  {
   "cell_type": "code",
   "execution_count": 194,
   "id": "3e132c3b-8d27-4f07-90d3-de17eefcdc9b",
   "metadata": {},
   "outputs": [
    {
     "data": {
      "text/html": [
       "<div>\n",
       "<style scoped>\n",
       "    .dataframe tbody tr th:only-of-type {\n",
       "        vertical-align: middle;\n",
       "    }\n",
       "\n",
       "    .dataframe tbody tr th {\n",
       "        vertical-align: top;\n",
       "    }\n",
       "\n",
       "    .dataframe thead th {\n",
       "        text-align: right;\n",
       "    }\n",
       "</style>\n",
       "<table border=\"1\" class=\"dataframe\">\n",
       "  <thead>\n",
       "    <tr style=\"text-align: right;\">\n",
       "      <th></th>\n",
       "      <th>Cabin_A</th>\n",
       "      <th>Cabin_B</th>\n",
       "      <th>Cabin_C</th>\n",
       "      <th>Cabin_D</th>\n",
       "      <th>Cabin_E</th>\n",
       "      <th>Cabin_F</th>\n",
       "      <th>Cabin_G</th>\n",
       "      <th>Cabin_n</th>\n",
       "    </tr>\n",
       "  </thead>\n",
       "  <tbody>\n",
       "    <tr>\n",
       "      <th>0</th>\n",
       "      <td>0</td>\n",
       "      <td>0</td>\n",
       "      <td>0</td>\n",
       "      <td>0</td>\n",
       "      <td>0</td>\n",
       "      <td>0</td>\n",
       "      <td>0</td>\n",
       "      <td>1</td>\n",
       "    </tr>\n",
       "    <tr>\n",
       "      <th>1</th>\n",
       "      <td>0</td>\n",
       "      <td>0</td>\n",
       "      <td>1</td>\n",
       "      <td>0</td>\n",
       "      <td>0</td>\n",
       "      <td>0</td>\n",
       "      <td>0</td>\n",
       "      <td>0</td>\n",
       "    </tr>\n",
       "    <tr>\n",
       "      <th>2</th>\n",
       "      <td>0</td>\n",
       "      <td>0</td>\n",
       "      <td>0</td>\n",
       "      <td>0</td>\n",
       "      <td>0</td>\n",
       "      <td>0</td>\n",
       "      <td>0</td>\n",
       "      <td>1</td>\n",
       "    </tr>\n",
       "    <tr>\n",
       "      <th>3</th>\n",
       "      <td>0</td>\n",
       "      <td>0</td>\n",
       "      <td>1</td>\n",
       "      <td>0</td>\n",
       "      <td>0</td>\n",
       "      <td>0</td>\n",
       "      <td>0</td>\n",
       "      <td>0</td>\n",
       "    </tr>\n",
       "    <tr>\n",
       "      <th>4</th>\n",
       "      <td>0</td>\n",
       "      <td>0</td>\n",
       "      <td>0</td>\n",
       "      <td>0</td>\n",
       "      <td>0</td>\n",
       "      <td>0</td>\n",
       "      <td>0</td>\n",
       "      <td>1</td>\n",
       "    </tr>\n",
       "  </tbody>\n",
       "</table>\n",
       "</div>"
      ],
      "text/plain": [
       "   Cabin_A  Cabin_B  Cabin_C  Cabin_D  Cabin_E  Cabin_F  Cabin_G  Cabin_n\n",
       "0        0        0        0        0        0        0        0        1\n",
       "1        0        0        1        0        0        0        0        0\n",
       "2        0        0        0        0        0        0        0        1\n",
       "3        0        0        1        0        0        0        0        0\n",
       "4        0        0        0        0        0        0        0        1"
      ]
     },
     "execution_count": 194,
     "metadata": {},
     "output_type": "execute_result"
    }
   ],
   "source": [
    "pd.get_dummies(data[['Cabin']]).head()"
   ]
  },
  {
   "cell_type": "code",
   "execution_count": 195,
   "id": "35c044a1-6a17-4829-bd45-ced9b32f8db1",
   "metadata": {},
   "outputs": [
    {
     "data": {
      "text/html": [
       "<div>\n",
       "<style scoped>\n",
       "    .dataframe tbody tr th:only-of-type {\n",
       "        vertical-align: middle;\n",
       "    }\n",
       "\n",
       "    .dataframe tbody tr th {\n",
       "        vertical-align: top;\n",
       "    }\n",
       "\n",
       "    .dataframe thead th {\n",
       "        text-align: right;\n",
       "    }\n",
       "</style>\n",
       "<table border=\"1\" class=\"dataframe\">\n",
       "  <thead>\n",
       "    <tr style=\"text-align: right;\">\n",
       "      <th></th>\n",
       "      <th>Cabin_A</th>\n",
       "      <th>Cabin_B</th>\n",
       "      <th>Cabin_C</th>\n",
       "      <th>Cabin_D</th>\n",
       "      <th>Cabin_E</th>\n",
       "      <th>Cabin_F</th>\n",
       "      <th>Cabin_G</th>\n",
       "      <th>Cabin_n</th>\n",
       "      <th>Cabin_nan</th>\n",
       "    </tr>\n",
       "  </thead>\n",
       "  <tbody>\n",
       "    <tr>\n",
       "      <th>0</th>\n",
       "      <td>0</td>\n",
       "      <td>0</td>\n",
       "      <td>0</td>\n",
       "      <td>0</td>\n",
       "      <td>0</td>\n",
       "      <td>0</td>\n",
       "      <td>0</td>\n",
       "      <td>1</td>\n",
       "      <td>0</td>\n",
       "    </tr>\n",
       "    <tr>\n",
       "      <th>1</th>\n",
       "      <td>0</td>\n",
       "      <td>0</td>\n",
       "      <td>1</td>\n",
       "      <td>0</td>\n",
       "      <td>0</td>\n",
       "      <td>0</td>\n",
       "      <td>0</td>\n",
       "      <td>0</td>\n",
       "      <td>0</td>\n",
       "    </tr>\n",
       "    <tr>\n",
       "      <th>2</th>\n",
       "      <td>0</td>\n",
       "      <td>0</td>\n",
       "      <td>0</td>\n",
       "      <td>0</td>\n",
       "      <td>0</td>\n",
       "      <td>0</td>\n",
       "      <td>0</td>\n",
       "      <td>1</td>\n",
       "      <td>0</td>\n",
       "    </tr>\n",
       "    <tr>\n",
       "      <th>3</th>\n",
       "      <td>0</td>\n",
       "      <td>0</td>\n",
       "      <td>1</td>\n",
       "      <td>0</td>\n",
       "      <td>0</td>\n",
       "      <td>0</td>\n",
       "      <td>0</td>\n",
       "      <td>0</td>\n",
       "      <td>0</td>\n",
       "    </tr>\n",
       "    <tr>\n",
       "      <th>4</th>\n",
       "      <td>0</td>\n",
       "      <td>0</td>\n",
       "      <td>0</td>\n",
       "      <td>0</td>\n",
       "      <td>0</td>\n",
       "      <td>0</td>\n",
       "      <td>0</td>\n",
       "      <td>1</td>\n",
       "      <td>0</td>\n",
       "    </tr>\n",
       "  </tbody>\n",
       "</table>\n",
       "</div>"
      ],
      "text/plain": [
       "   Cabin_A  Cabin_B  Cabin_C  Cabin_D  Cabin_E  Cabin_F  Cabin_G  Cabin_n  \\\n",
       "0        0        0        0        0        0        0        0        1   \n",
       "1        0        0        1        0        0        0        0        0   \n",
       "2        0        0        0        0        0        0        0        1   \n",
       "3        0        0        1        0        0        0        0        0   \n",
       "4        0        0        0        0        0        0        0        1   \n",
       "\n",
       "   Cabin_nan  \n",
       "0          0  \n",
       "1          0  \n",
       "2          0  \n",
       "3          0  \n",
       "4          0  "
      ]
     },
     "execution_count": 195,
     "metadata": {},
     "output_type": "execute_result"
    }
   ],
   "source": [
    "# Добавление отдельной колонки, признака пустых значений\n",
    "pd.get_dummies(data[['Cabin']], dummy_na=True).head()"
   ]
  },
  {
   "cell_type": "markdown",
   "id": "7ef012e4-ebba-47f1-a7ee-74e86781f7b8",
   "metadata": {},
   "source": [
    "#### Использование библиотеки [Сategory Encoders](https://contrib.scikit-learn.org/category_encoders/index.html)"
   ]
  },
  {
   "cell_type": "code",
   "execution_count": 197,
   "id": "5785b178-5fcb-4432-a14b-d0837a1f1e9c",
   "metadata": {},
   "outputs": [
    {
     "data": {
      "text/html": [
       "<div>\n",
       "<style scoped>\n",
       "    .dataframe tbody tr th:only-of-type {\n",
       "        vertical-align: middle;\n",
       "    }\n",
       "\n",
       "    .dataframe tbody tr th {\n",
       "        vertical-align: top;\n",
       "    }\n",
       "\n",
       "    .dataframe thead th {\n",
       "        text-align: right;\n",
       "    }\n",
       "</style>\n",
       "<table border=\"1\" class=\"dataframe\">\n",
       "  <thead>\n",
       "    <tr style=\"text-align: right;\">\n",
       "      <th></th>\n",
       "      <th>Age</th>\n",
       "      <th>Cabin_1</th>\n",
       "      <th>Cabin_2</th>\n",
       "      <th>Cabin_3</th>\n",
       "      <th>Cabin_4</th>\n",
       "      <th>Cabin_5</th>\n",
       "      <th>Cabin_6</th>\n",
       "      <th>Cabin_7</th>\n",
       "      <th>Cabin_8</th>\n",
       "      <th>Embarked_1</th>\n",
       "      <th>Embarked_2</th>\n",
       "      <th>Embarked_3</th>\n",
       "      <th>Fare</th>\n",
       "      <th>Parch</th>\n",
       "      <th>Pclass</th>\n",
       "      <th>Sex_1</th>\n",
       "      <th>Sex_2</th>\n",
       "      <th>SibSp</th>\n",
       "    </tr>\n",
       "  </thead>\n",
       "  <tbody>\n",
       "    <tr>\n",
       "      <th>0</th>\n",
       "      <td>22.000000</td>\n",
       "      <td>1</td>\n",
       "      <td>0</td>\n",
       "      <td>0</td>\n",
       "      <td>0</td>\n",
       "      <td>0</td>\n",
       "      <td>0</td>\n",
       "      <td>0</td>\n",
       "      <td>0</td>\n",
       "      <td>1</td>\n",
       "      <td>0</td>\n",
       "      <td>0</td>\n",
       "      <td>7.2500</td>\n",
       "      <td>0</td>\n",
       "      <td>3</td>\n",
       "      <td>1</td>\n",
       "      <td>0</td>\n",
       "      <td>1</td>\n",
       "    </tr>\n",
       "    <tr>\n",
       "      <th>1</th>\n",
       "      <td>38.000000</td>\n",
       "      <td>0</td>\n",
       "      <td>1</td>\n",
       "      <td>0</td>\n",
       "      <td>0</td>\n",
       "      <td>0</td>\n",
       "      <td>0</td>\n",
       "      <td>0</td>\n",
       "      <td>0</td>\n",
       "      <td>0</td>\n",
       "      <td>1</td>\n",
       "      <td>0</td>\n",
       "      <td>71.2833</td>\n",
       "      <td>0</td>\n",
       "      <td>1</td>\n",
       "      <td>0</td>\n",
       "      <td>1</td>\n",
       "      <td>1</td>\n",
       "    </tr>\n",
       "    <tr>\n",
       "      <th>2</th>\n",
       "      <td>26.000000</td>\n",
       "      <td>1</td>\n",
       "      <td>0</td>\n",
       "      <td>0</td>\n",
       "      <td>0</td>\n",
       "      <td>0</td>\n",
       "      <td>0</td>\n",
       "      <td>0</td>\n",
       "      <td>0</td>\n",
       "      <td>1</td>\n",
       "      <td>0</td>\n",
       "      <td>0</td>\n",
       "      <td>7.9250</td>\n",
       "      <td>0</td>\n",
       "      <td>3</td>\n",
       "      <td>0</td>\n",
       "      <td>1</td>\n",
       "      <td>0</td>\n",
       "    </tr>\n",
       "    <tr>\n",
       "      <th>3</th>\n",
       "      <td>35.000000</td>\n",
       "      <td>0</td>\n",
       "      <td>1</td>\n",
       "      <td>0</td>\n",
       "      <td>0</td>\n",
       "      <td>0</td>\n",
       "      <td>0</td>\n",
       "      <td>0</td>\n",
       "      <td>0</td>\n",
       "      <td>1</td>\n",
       "      <td>0</td>\n",
       "      <td>0</td>\n",
       "      <td>53.1000</td>\n",
       "      <td>0</td>\n",
       "      <td>1</td>\n",
       "      <td>0</td>\n",
       "      <td>1</td>\n",
       "      <td>1</td>\n",
       "    </tr>\n",
       "    <tr>\n",
       "      <th>4</th>\n",
       "      <td>35.000000</td>\n",
       "      <td>1</td>\n",
       "      <td>0</td>\n",
       "      <td>0</td>\n",
       "      <td>0</td>\n",
       "      <td>0</td>\n",
       "      <td>0</td>\n",
       "      <td>0</td>\n",
       "      <td>0</td>\n",
       "      <td>1</td>\n",
       "      <td>0</td>\n",
       "      <td>0</td>\n",
       "      <td>8.0500</td>\n",
       "      <td>0</td>\n",
       "      <td>3</td>\n",
       "      <td>1</td>\n",
       "      <td>0</td>\n",
       "      <td>0</td>\n",
       "    </tr>\n",
       "    <tr>\n",
       "      <th>...</th>\n",
       "      <td>...</td>\n",
       "      <td>...</td>\n",
       "      <td>...</td>\n",
       "      <td>...</td>\n",
       "      <td>...</td>\n",
       "      <td>...</td>\n",
       "      <td>...</td>\n",
       "      <td>...</td>\n",
       "      <td>...</td>\n",
       "      <td>...</td>\n",
       "      <td>...</td>\n",
       "      <td>...</td>\n",
       "      <td>...</td>\n",
       "      <td>...</td>\n",
       "      <td>...</td>\n",
       "      <td>...</td>\n",
       "      <td>...</td>\n",
       "      <td>...</td>\n",
       "    </tr>\n",
       "    <tr>\n",
       "      <th>886</th>\n",
       "      <td>27.000000</td>\n",
       "      <td>1</td>\n",
       "      <td>0</td>\n",
       "      <td>0</td>\n",
       "      <td>0</td>\n",
       "      <td>0</td>\n",
       "      <td>0</td>\n",
       "      <td>0</td>\n",
       "      <td>0</td>\n",
       "      <td>1</td>\n",
       "      <td>0</td>\n",
       "      <td>0</td>\n",
       "      <td>13.0000</td>\n",
       "      <td>0</td>\n",
       "      <td>2</td>\n",
       "      <td>1</td>\n",
       "      <td>0</td>\n",
       "      <td>0</td>\n",
       "    </tr>\n",
       "    <tr>\n",
       "      <th>887</th>\n",
       "      <td>19.000000</td>\n",
       "      <td>0</td>\n",
       "      <td>0</td>\n",
       "      <td>0</td>\n",
       "      <td>0</td>\n",
       "      <td>0</td>\n",
       "      <td>0</td>\n",
       "      <td>1</td>\n",
       "      <td>0</td>\n",
       "      <td>1</td>\n",
       "      <td>0</td>\n",
       "      <td>0</td>\n",
       "      <td>30.0000</td>\n",
       "      <td>0</td>\n",
       "      <td>1</td>\n",
       "      <td>0</td>\n",
       "      <td>1</td>\n",
       "      <td>0</td>\n",
       "    </tr>\n",
       "    <tr>\n",
       "      <th>888</th>\n",
       "      <td>29.620492</td>\n",
       "      <td>1</td>\n",
       "      <td>0</td>\n",
       "      <td>0</td>\n",
       "      <td>0</td>\n",
       "      <td>0</td>\n",
       "      <td>0</td>\n",
       "      <td>0</td>\n",
       "      <td>0</td>\n",
       "      <td>1</td>\n",
       "      <td>0</td>\n",
       "      <td>0</td>\n",
       "      <td>23.4500</td>\n",
       "      <td>2</td>\n",
       "      <td>3</td>\n",
       "      <td>0</td>\n",
       "      <td>1</td>\n",
       "      <td>1</td>\n",
       "    </tr>\n",
       "    <tr>\n",
       "      <th>889</th>\n",
       "      <td>26.000000</td>\n",
       "      <td>0</td>\n",
       "      <td>1</td>\n",
       "      <td>0</td>\n",
       "      <td>0</td>\n",
       "      <td>0</td>\n",
       "      <td>0</td>\n",
       "      <td>0</td>\n",
       "      <td>0</td>\n",
       "      <td>0</td>\n",
       "      <td>1</td>\n",
       "      <td>0</td>\n",
       "      <td>30.0000</td>\n",
       "      <td>0</td>\n",
       "      <td>1</td>\n",
       "      <td>1</td>\n",
       "      <td>0</td>\n",
       "      <td>0</td>\n",
       "    </tr>\n",
       "    <tr>\n",
       "      <th>890</th>\n",
       "      <td>32.000000</td>\n",
       "      <td>1</td>\n",
       "      <td>0</td>\n",
       "      <td>0</td>\n",
       "      <td>0</td>\n",
       "      <td>0</td>\n",
       "      <td>0</td>\n",
       "      <td>0</td>\n",
       "      <td>0</td>\n",
       "      <td>0</td>\n",
       "      <td>0</td>\n",
       "      <td>1</td>\n",
       "      <td>7.7500</td>\n",
       "      <td>0</td>\n",
       "      <td>3</td>\n",
       "      <td>1</td>\n",
       "      <td>0</td>\n",
       "      <td>0</td>\n",
       "    </tr>\n",
       "  </tbody>\n",
       "</table>\n",
       "<p>888 rows × 18 columns</p>\n",
       "</div>"
      ],
      "text/plain": [
       "           Age  Cabin_1  Cabin_2  Cabin_3  Cabin_4  Cabin_5  Cabin_6  Cabin_7  \\\n",
       "0    22.000000        1        0        0        0        0        0        0   \n",
       "1    38.000000        0        1        0        0        0        0        0   \n",
       "2    26.000000        1        0        0        0        0        0        0   \n",
       "3    35.000000        0        1        0        0        0        0        0   \n",
       "4    35.000000        1        0        0        0        0        0        0   \n",
       "..         ...      ...      ...      ...      ...      ...      ...      ...   \n",
       "886  27.000000        1        0        0        0        0        0        0   \n",
       "887  19.000000        0        0        0        0        0        0        1   \n",
       "888  29.620492        1        0        0        0        0        0        0   \n",
       "889  26.000000        0        1        0        0        0        0        0   \n",
       "890  32.000000        1        0        0        0        0        0        0   \n",
       "\n",
       "     Cabin_8  Embarked_1  Embarked_2  Embarked_3     Fare  Parch  Pclass  \\\n",
       "0          0           1           0           0   7.2500      0       3   \n",
       "1          0           0           1           0  71.2833      0       1   \n",
       "2          0           1           0           0   7.9250      0       3   \n",
       "3          0           1           0           0  53.1000      0       1   \n",
       "4          0           1           0           0   8.0500      0       3   \n",
       "..       ...         ...         ...         ...      ...    ...     ...   \n",
       "886        0           1           0           0  13.0000      0       2   \n",
       "887        0           1           0           0  30.0000      0       1   \n",
       "888        0           1           0           0  23.4500      2       3   \n",
       "889        0           0           1           0  30.0000      0       1   \n",
       "890        0           0           0           1   7.7500      0       3   \n",
       "\n",
       "     Sex_1  Sex_2  SibSp  \n",
       "0        1      0      1  \n",
       "1        0      1      1  \n",
       "2        0      1      0  \n",
       "3        0      1      1  \n",
       "4        1      0      0  \n",
       "..     ...    ...    ...  \n",
       "886      1      0      0  \n",
       "887      0      1      0  \n",
       "888      0      1      1  \n",
       "889      1      0      0  \n",
       "890      1      0      0  \n",
       "\n",
       "[888 rows x 18 columns]"
      ]
     },
     "execution_count": 197,
     "metadata": {},
     "output_type": "execute_result"
    }
   ],
   "source": [
    "from category_encoders.one_hot import OneHotEncoder as ce_OneHotEncoder\n",
    "\n",
    "ce_OneHotEncoder1 = ce_OneHotEncoder()\n",
    "data_OHE = ce_OneHotEncoder1.fit_transform(data[data.columns.difference(['Survived'])])\n",
    "data_OHE"
   ]
  },
  {
   "cell_type": "markdown",
   "id": "18432ac2-803b-4085-a318-9d88817010c6",
   "metadata": {},
   "source": [
    "### Count (frequency) encoding"
   ]
  },
  {
   "cell_type": "markdown",
   "id": "30b22cef-4873-4f00-b48e-cd61f5097887",
   "metadata": {},
   "source": [
    "![Count (frequency) encoding](img/count_frequency_encoding.png)\n",
    "\n",
    "Count encoding предполагает что значение категории заменяется на количество раз, которое оно встречается в категории.\n",
    "\n",
    "В случае frequency encoding вместо количества используется доля (процент) от количества записей.\n",
    "\n",
    "**Преимущества:**\n",
    "- Простота реализации.\n",
    "- Не расширяется признаковое пространство.\n",
    "**Недостатки:**\n",
    "- Если два значения встречаются одинаковое количество раз, то они будут заменены на одно и то же количество и становятся неразличимы."
   ]
  },
  {
   "cell_type": "markdown",
   "id": "1eb94068-1b1b-4abd-88b6-d155fce71e98",
   "metadata": {},
   "source": [
    "#### Использование библиотеки [Сategory Encoders](https://contrib.scikit-learn.org/category_encoders/index.html)"
   ]
  },
  {
   "cell_type": "code",
   "execution_count": 198,
   "id": "bfa566b4-abb1-432c-a1b7-4f88fb08dae4",
   "metadata": {},
   "outputs": [
    {
     "data": {
      "text/html": [
       "<div>\n",
       "<style scoped>\n",
       "    .dataframe tbody tr th:only-of-type {\n",
       "        vertical-align: middle;\n",
       "    }\n",
       "\n",
       "    .dataframe tbody tr th {\n",
       "        vertical-align: top;\n",
       "    }\n",
       "\n",
       "    .dataframe thead th {\n",
       "        text-align: right;\n",
       "    }\n",
       "</style>\n",
       "<table border=\"1\" class=\"dataframe\">\n",
       "  <thead>\n",
       "    <tr style=\"text-align: right;\">\n",
       "      <th></th>\n",
       "      <th>Age</th>\n",
       "      <th>Cabin</th>\n",
       "      <th>Embarked</th>\n",
       "      <th>Fare</th>\n",
       "      <th>Parch</th>\n",
       "      <th>Pclass</th>\n",
       "      <th>Sex</th>\n",
       "      <th>SibSp</th>\n",
       "    </tr>\n",
       "  </thead>\n",
       "  <tbody>\n",
       "    <tr>\n",
       "      <th>0</th>\n",
       "      <td>22.000000</td>\n",
       "      <td>687</td>\n",
       "      <td>643</td>\n",
       "      <td>7.2500</td>\n",
       "      <td>0</td>\n",
       "      <td>3</td>\n",
       "      <td>576</td>\n",
       "      <td>1</td>\n",
       "    </tr>\n",
       "    <tr>\n",
       "      <th>1</th>\n",
       "      <td>38.000000</td>\n",
       "      <td>59</td>\n",
       "      <td>168</td>\n",
       "      <td>71.2833</td>\n",
       "      <td>0</td>\n",
       "      <td>1</td>\n",
       "      <td>312</td>\n",
       "      <td>1</td>\n",
       "    </tr>\n",
       "    <tr>\n",
       "      <th>2</th>\n",
       "      <td>26.000000</td>\n",
       "      <td>687</td>\n",
       "      <td>643</td>\n",
       "      <td>7.9250</td>\n",
       "      <td>0</td>\n",
       "      <td>3</td>\n",
       "      <td>312</td>\n",
       "      <td>0</td>\n",
       "    </tr>\n",
       "    <tr>\n",
       "      <th>3</th>\n",
       "      <td>35.000000</td>\n",
       "      <td>59</td>\n",
       "      <td>643</td>\n",
       "      <td>53.1000</td>\n",
       "      <td>0</td>\n",
       "      <td>1</td>\n",
       "      <td>312</td>\n",
       "      <td>1</td>\n",
       "    </tr>\n",
       "    <tr>\n",
       "      <th>4</th>\n",
       "      <td>35.000000</td>\n",
       "      <td>687</td>\n",
       "      <td>643</td>\n",
       "      <td>8.0500</td>\n",
       "      <td>0</td>\n",
       "      <td>3</td>\n",
       "      <td>576</td>\n",
       "      <td>0</td>\n",
       "    </tr>\n",
       "    <tr>\n",
       "      <th>...</th>\n",
       "      <td>...</td>\n",
       "      <td>...</td>\n",
       "      <td>...</td>\n",
       "      <td>...</td>\n",
       "      <td>...</td>\n",
       "      <td>...</td>\n",
       "      <td>...</td>\n",
       "      <td>...</td>\n",
       "    </tr>\n",
       "    <tr>\n",
       "      <th>886</th>\n",
       "      <td>27.000000</td>\n",
       "      <td>687</td>\n",
       "      <td>643</td>\n",
       "      <td>13.0000</td>\n",
       "      <td>0</td>\n",
       "      <td>2</td>\n",
       "      <td>576</td>\n",
       "      <td>0</td>\n",
       "    </tr>\n",
       "    <tr>\n",
       "      <th>887</th>\n",
       "      <td>19.000000</td>\n",
       "      <td>45</td>\n",
       "      <td>643</td>\n",
       "      <td>30.0000</td>\n",
       "      <td>0</td>\n",
       "      <td>1</td>\n",
       "      <td>312</td>\n",
       "      <td>0</td>\n",
       "    </tr>\n",
       "    <tr>\n",
       "      <th>888</th>\n",
       "      <td>29.620492</td>\n",
       "      <td>687</td>\n",
       "      <td>643</td>\n",
       "      <td>23.4500</td>\n",
       "      <td>2</td>\n",
       "      <td>3</td>\n",
       "      <td>312</td>\n",
       "      <td>1</td>\n",
       "    </tr>\n",
       "    <tr>\n",
       "      <th>889</th>\n",
       "      <td>26.000000</td>\n",
       "      <td>59</td>\n",
       "      <td>168</td>\n",
       "      <td>30.0000</td>\n",
       "      <td>0</td>\n",
       "      <td>1</td>\n",
       "      <td>576</td>\n",
       "      <td>0</td>\n",
       "    </tr>\n",
       "    <tr>\n",
       "      <th>890</th>\n",
       "      <td>32.000000</td>\n",
       "      <td>687</td>\n",
       "      <td>77</td>\n",
       "      <td>7.7500</td>\n",
       "      <td>0</td>\n",
       "      <td>3</td>\n",
       "      <td>576</td>\n",
       "      <td>0</td>\n",
       "    </tr>\n",
       "  </tbody>\n",
       "</table>\n",
       "<p>888 rows × 8 columns</p>\n",
       "</div>"
      ],
      "text/plain": [
       "           Age  Cabin  Embarked     Fare  Parch  Pclass  Sex  SibSp\n",
       "0    22.000000    687       643   7.2500      0       3  576      1\n",
       "1    38.000000     59       168  71.2833      0       1  312      1\n",
       "2    26.000000    687       643   7.9250      0       3  312      0\n",
       "3    35.000000     59       643  53.1000      0       1  312      1\n",
       "4    35.000000    687       643   8.0500      0       3  576      0\n",
       "..         ...    ...       ...      ...    ...     ...  ...    ...\n",
       "886  27.000000    687       643  13.0000      0       2  576      0\n",
       "887  19.000000     45       643  30.0000      0       1  312      0\n",
       "888  29.620492    687       643  23.4500      2       3  312      1\n",
       "889  26.000000     59       168  30.0000      0       1  576      0\n",
       "890  32.000000    687        77   7.7500      0       3  576      0\n",
       "\n",
       "[888 rows x 8 columns]"
      ]
     },
     "execution_count": 198,
     "metadata": {},
     "output_type": "execute_result"
    }
   ],
   "source": [
    "from category_encoders.count import CountEncoder as ce_CountEncoder\n",
    "\n",
    "ce_CountEncoder1 = ce_CountEncoder()\n",
    "data_COUNT_ENC = ce_CountEncoder1.fit_transform(data[data.columns.difference(['Survived'])])\n",
    "data_COUNT_ENC"
   ]
  },
  {
   "cell_type": "code",
   "execution_count": 199,
   "id": "ea6629df-bd19-47c5-8e45-7e96ac28f3b4",
   "metadata": {},
   "outputs": [
    {
     "data": {
      "text/plain": [
       "array(['n', 'C', 'E', 'G', 'D', 'A', 'B', 'F'], dtype=object)"
      ]
     },
     "execution_count": 199,
     "metadata": {},
     "output_type": "execute_result"
    }
   ],
   "source": [
    "data['Cabin'].unique()"
   ]
  },
  {
   "cell_type": "code",
   "execution_count": 200,
   "id": "95434d4c-de3c-4879-8b75-3fdfb9ac0827",
   "metadata": {},
   "outputs": [
    {
     "data": {
      "text/plain": [
       "array([687,  59,  32,   4,  33,  15,  45,  13])"
      ]
     },
     "execution_count": 200,
     "metadata": {},
     "output_type": "execute_result"
    }
   ],
   "source": [
    "data_COUNT_ENC['Cabin'].unique()"
   ]
  },
  {
   "cell_type": "code",
   "execution_count": 202,
   "id": "0f006331-f9e5-4ea2-b07b-715637d69f08",
   "metadata": {},
   "outputs": [
    {
     "data": {
      "text/html": [
       "<div>\n",
       "<style scoped>\n",
       "    .dataframe tbody tr th:only-of-type {\n",
       "        vertical-align: middle;\n",
       "    }\n",
       "\n",
       "    .dataframe tbody tr th {\n",
       "        vertical-align: top;\n",
       "    }\n",
       "\n",
       "    .dataframe thead th {\n",
       "        text-align: right;\n",
       "    }\n",
       "</style>\n",
       "<table border=\"1\" class=\"dataframe\">\n",
       "  <thead>\n",
       "    <tr style=\"text-align: right;\">\n",
       "      <th></th>\n",
       "      <th>Age</th>\n",
       "      <th>Cabin</th>\n",
       "      <th>Embarked</th>\n",
       "      <th>Fare</th>\n",
       "      <th>Parch</th>\n",
       "      <th>Pclass</th>\n",
       "      <th>Sex</th>\n",
       "      <th>SibSp</th>\n",
       "    </tr>\n",
       "  </thead>\n",
       "  <tbody>\n",
       "    <tr>\n",
       "      <th>0</th>\n",
       "      <td>22.000000</td>\n",
       "      <td>0.773649</td>\n",
       "      <td>0.724099</td>\n",
       "      <td>7.2500</td>\n",
       "      <td>0</td>\n",
       "      <td>3</td>\n",
       "      <td>0.648649</td>\n",
       "      <td>1</td>\n",
       "    </tr>\n",
       "    <tr>\n",
       "      <th>1</th>\n",
       "      <td>38.000000</td>\n",
       "      <td>0.066441</td>\n",
       "      <td>0.189189</td>\n",
       "      <td>71.2833</td>\n",
       "      <td>0</td>\n",
       "      <td>1</td>\n",
       "      <td>0.351351</td>\n",
       "      <td>1</td>\n",
       "    </tr>\n",
       "    <tr>\n",
       "      <th>2</th>\n",
       "      <td>26.000000</td>\n",
       "      <td>0.773649</td>\n",
       "      <td>0.724099</td>\n",
       "      <td>7.9250</td>\n",
       "      <td>0</td>\n",
       "      <td>3</td>\n",
       "      <td>0.351351</td>\n",
       "      <td>0</td>\n",
       "    </tr>\n",
       "    <tr>\n",
       "      <th>3</th>\n",
       "      <td>35.000000</td>\n",
       "      <td>0.066441</td>\n",
       "      <td>0.724099</td>\n",
       "      <td>53.1000</td>\n",
       "      <td>0</td>\n",
       "      <td>1</td>\n",
       "      <td>0.351351</td>\n",
       "      <td>1</td>\n",
       "    </tr>\n",
       "    <tr>\n",
       "      <th>4</th>\n",
       "      <td>35.000000</td>\n",
       "      <td>0.773649</td>\n",
       "      <td>0.724099</td>\n",
       "      <td>8.0500</td>\n",
       "      <td>0</td>\n",
       "      <td>3</td>\n",
       "      <td>0.648649</td>\n",
       "      <td>0</td>\n",
       "    </tr>\n",
       "    <tr>\n",
       "      <th>...</th>\n",
       "      <td>...</td>\n",
       "      <td>...</td>\n",
       "      <td>...</td>\n",
       "      <td>...</td>\n",
       "      <td>...</td>\n",
       "      <td>...</td>\n",
       "      <td>...</td>\n",
       "      <td>...</td>\n",
       "    </tr>\n",
       "    <tr>\n",
       "      <th>886</th>\n",
       "      <td>27.000000</td>\n",
       "      <td>0.773649</td>\n",
       "      <td>0.724099</td>\n",
       "      <td>13.0000</td>\n",
       "      <td>0</td>\n",
       "      <td>2</td>\n",
       "      <td>0.648649</td>\n",
       "      <td>0</td>\n",
       "    </tr>\n",
       "    <tr>\n",
       "      <th>887</th>\n",
       "      <td>19.000000</td>\n",
       "      <td>0.050676</td>\n",
       "      <td>0.724099</td>\n",
       "      <td>30.0000</td>\n",
       "      <td>0</td>\n",
       "      <td>1</td>\n",
       "      <td>0.351351</td>\n",
       "      <td>0</td>\n",
       "    </tr>\n",
       "    <tr>\n",
       "      <th>888</th>\n",
       "      <td>29.620492</td>\n",
       "      <td>0.773649</td>\n",
       "      <td>0.724099</td>\n",
       "      <td>23.4500</td>\n",
       "      <td>2</td>\n",
       "      <td>3</td>\n",
       "      <td>0.351351</td>\n",
       "      <td>1</td>\n",
       "    </tr>\n",
       "    <tr>\n",
       "      <th>889</th>\n",
       "      <td>26.000000</td>\n",
       "      <td>0.066441</td>\n",
       "      <td>0.189189</td>\n",
       "      <td>30.0000</td>\n",
       "      <td>0</td>\n",
       "      <td>1</td>\n",
       "      <td>0.648649</td>\n",
       "      <td>0</td>\n",
       "    </tr>\n",
       "    <tr>\n",
       "      <th>890</th>\n",
       "      <td>32.000000</td>\n",
       "      <td>0.773649</td>\n",
       "      <td>0.086712</td>\n",
       "      <td>7.7500</td>\n",
       "      <td>0</td>\n",
       "      <td>3</td>\n",
       "      <td>0.648649</td>\n",
       "      <td>0</td>\n",
       "    </tr>\n",
       "  </tbody>\n",
       "</table>\n",
       "<p>888 rows × 8 columns</p>\n",
       "</div>"
      ],
      "text/plain": [
       "           Age     Cabin  Embarked     Fare  Parch  Pclass       Sex  SibSp\n",
       "0    22.000000  0.773649  0.724099   7.2500      0       3  0.648649      1\n",
       "1    38.000000  0.066441  0.189189  71.2833      0       1  0.351351      1\n",
       "2    26.000000  0.773649  0.724099   7.9250      0       3  0.351351      0\n",
       "3    35.000000  0.066441  0.724099  53.1000      0       1  0.351351      1\n",
       "4    35.000000  0.773649  0.724099   8.0500      0       3  0.648649      0\n",
       "..         ...       ...       ...      ...    ...     ...       ...    ...\n",
       "886  27.000000  0.773649  0.724099  13.0000      0       2  0.648649      0\n",
       "887  19.000000  0.050676  0.724099  30.0000      0       1  0.351351      0\n",
       "888  29.620492  0.773649  0.724099  23.4500      2       3  0.351351      1\n",
       "889  26.000000  0.066441  0.189189  30.0000      0       1  0.648649      0\n",
       "890  32.000000  0.773649  0.086712   7.7500      0       3  0.648649      0\n",
       "\n",
       "[888 rows x 8 columns]"
      ]
     },
     "execution_count": 202,
     "metadata": {},
     "output_type": "execute_result"
    }
   ],
   "source": [
    "ce_CountEncoder2 = ce_CountEncoder(normalize=True)\n",
    "data_FREQ_ENC = ce_CountEncoder2.fit_transform(data[data.columns.difference(['Survived'])])\n",
    "data_FREQ_ENC"
   ]
  },
  {
   "cell_type": "code",
   "execution_count": 203,
   "id": "dcc54402-300f-4da7-911c-84a804232f5f",
   "metadata": {},
   "outputs": [
    {
     "data": {
      "text/plain": [
       "array([0.77364865, 0.06644144, 0.03603604, 0.0045045 , 0.03716216,\n",
       "       0.01689189, 0.05067568, 0.01463964])"
      ]
     },
     "execution_count": 203,
     "metadata": {},
     "output_type": "execute_result"
    }
   ],
   "source": [
    "data_FREQ_ENC['Cabin'].unique()"
   ]
  },
  {
   "cell_type": "markdown",
   "id": "9d3e29b2-a456-4c21-a6db-58bc54bf0be3",
   "metadata": {
    "toc-hr-collapsed": true
   },
   "source": [
    "### Target (Mean) encoding"
   ]
  },
  {
   "cell_type": "markdown",
   "id": "e332a6e7-5e14-4ae5-aed4-12bb0e6d07bb",
   "metadata": {},
   "source": [
    "![Target (Mean) encoding](img/target_encoding.png)\n",
    "\n",
    "Target encoding предполагает что значение категории заменяется на ранг, соответствующий среднему значению целевого признака для этой категории.\n",
    "\n",
    "В случае Mean encoding в кодируемый признак подставляется усредненное значение целевого признака.\n",
    "\n",
    "Фактически, ранг зависит от вероятности появления целевого признака, при условии, что кодируемый признак принимает определенное значение.\n",
    "\n",
    "Кодирование признака управляется значением целевого признака, возникает монотонная зависимость между кодируемым признаком и целевым признаком.\n",
    "\n",
    "**Преимущества:**\n",
    "- Наличие монотонной зависимости.\n",
    "- Не расширяется признаковое пространство.\n",
    "**Недостатки:**\n",
    "- Может привести к переобучению.\n",
    "- Сложность использования с библиотеками кросс-валидации."
   ]
  },
  {
   "cell_type": "markdown",
   "id": "a65f9ac2-1af3-422e-8362-32b2edbea9b2",
   "metadata": {},
   "source": [
    "#### Использование библиотеки [Сategory Encoders](https://contrib.scikit-learn.org/category_encoders/index.html)"
   ]
  },
  {
   "cell_type": "code",
   "execution_count": 204,
   "id": "36522d2a-6577-45a1-b045-a6937a659950",
   "metadata": {},
   "outputs": [
    {
     "name": "stderr",
     "output_type": "stream",
     "text": [
      "/home/roman/anaconda3/lib/python3.9/site-packages/category_encoders/target_encoder.py:92: FutureWarning: Default parameter min_samples_leaf will change in version 2.6.See https://github.com/scikit-learn-contrib/category_encoders/issues/327\n",
      "  warnings.warn(\"Default parameter min_samples_leaf will change in version 2.6.\"\n",
      "/home/roman/anaconda3/lib/python3.9/site-packages/category_encoders/target_encoder.py:97: FutureWarning: Default parameter smoothing will change in version 2.6.See https://github.com/scikit-learn-contrib/category_encoders/issues/327\n",
      "  warnings.warn(\"Default parameter smoothing will change in version 2.6.\"\n"
     ]
    },
    {
     "data": {
      "text/html": [
       "<div>\n",
       "<style scoped>\n",
       "    .dataframe tbody tr th:only-of-type {\n",
       "        vertical-align: middle;\n",
       "    }\n",
       "\n",
       "    .dataframe tbody tr th {\n",
       "        vertical-align: top;\n",
       "    }\n",
       "\n",
       "    .dataframe thead th {\n",
       "        text-align: right;\n",
       "    }\n",
       "</style>\n",
       "<table border=\"1\" class=\"dataframe\">\n",
       "  <thead>\n",
       "    <tr style=\"text-align: right;\">\n",
       "      <th></th>\n",
       "      <th>Age</th>\n",
       "      <th>Cabin</th>\n",
       "      <th>Embarked</th>\n",
       "      <th>Fare</th>\n",
       "      <th>Parch</th>\n",
       "      <th>Pclass</th>\n",
       "      <th>Sex</th>\n",
       "      <th>SibSp</th>\n",
       "    </tr>\n",
       "  </thead>\n",
       "  <tbody>\n",
       "    <tr>\n",
       "      <th>0</th>\n",
       "      <td>22.000000</td>\n",
       "      <td>0.299854</td>\n",
       "      <td>0.337481</td>\n",
       "      <td>7.2500</td>\n",
       "      <td>0</td>\n",
       "      <td>3</td>\n",
       "      <td>0.189236</td>\n",
       "      <td>1</td>\n",
       "    </tr>\n",
       "    <tr>\n",
       "      <th>1</th>\n",
       "      <td>38.000000</td>\n",
       "      <td>0.593220</td>\n",
       "      <td>0.553571</td>\n",
       "      <td>71.2833</td>\n",
       "      <td>0</td>\n",
       "      <td>1</td>\n",
       "      <td>0.740385</td>\n",
       "      <td>1</td>\n",
       "    </tr>\n",
       "    <tr>\n",
       "      <th>2</th>\n",
       "      <td>26.000000</td>\n",
       "      <td>0.299854</td>\n",
       "      <td>0.337481</td>\n",
       "      <td>7.9250</td>\n",
       "      <td>0</td>\n",
       "      <td>3</td>\n",
       "      <td>0.740385</td>\n",
       "      <td>0</td>\n",
       "    </tr>\n",
       "    <tr>\n",
       "      <th>3</th>\n",
       "      <td>35.000000</td>\n",
       "      <td>0.593220</td>\n",
       "      <td>0.337481</td>\n",
       "      <td>53.1000</td>\n",
       "      <td>0</td>\n",
       "      <td>1</td>\n",
       "      <td>0.740385</td>\n",
       "      <td>1</td>\n",
       "    </tr>\n",
       "    <tr>\n",
       "      <th>4</th>\n",
       "      <td>35.000000</td>\n",
       "      <td>0.299854</td>\n",
       "      <td>0.337481</td>\n",
       "      <td>8.0500</td>\n",
       "      <td>0</td>\n",
       "      <td>3</td>\n",
       "      <td>0.189236</td>\n",
       "      <td>0</td>\n",
       "    </tr>\n",
       "    <tr>\n",
       "      <th>...</th>\n",
       "      <td>...</td>\n",
       "      <td>...</td>\n",
       "      <td>...</td>\n",
       "      <td>...</td>\n",
       "      <td>...</td>\n",
       "      <td>...</td>\n",
       "      <td>...</td>\n",
       "      <td>...</td>\n",
       "    </tr>\n",
       "    <tr>\n",
       "      <th>886</th>\n",
       "      <td>27.000000</td>\n",
       "      <td>0.299854</td>\n",
       "      <td>0.337481</td>\n",
       "      <td>13.0000</td>\n",
       "      <td>0</td>\n",
       "      <td>2</td>\n",
       "      <td>0.189236</td>\n",
       "      <td>0</td>\n",
       "    </tr>\n",
       "    <tr>\n",
       "      <th>887</th>\n",
       "      <td>19.000000</td>\n",
       "      <td>0.733333</td>\n",
       "      <td>0.337481</td>\n",
       "      <td>30.0000</td>\n",
       "      <td>0</td>\n",
       "      <td>1</td>\n",
       "      <td>0.740385</td>\n",
       "      <td>0</td>\n",
       "    </tr>\n",
       "    <tr>\n",
       "      <th>888</th>\n",
       "      <td>29.620492</td>\n",
       "      <td>0.299854</td>\n",
       "      <td>0.337481</td>\n",
       "      <td>23.4500</td>\n",
       "      <td>2</td>\n",
       "      <td>3</td>\n",
       "      <td>0.740385</td>\n",
       "      <td>1</td>\n",
       "    </tr>\n",
       "    <tr>\n",
       "      <th>889</th>\n",
       "      <td>26.000000</td>\n",
       "      <td>0.593220</td>\n",
       "      <td>0.553571</td>\n",
       "      <td>30.0000</td>\n",
       "      <td>0</td>\n",
       "      <td>1</td>\n",
       "      <td>0.189236</td>\n",
       "      <td>0</td>\n",
       "    </tr>\n",
       "    <tr>\n",
       "      <th>890</th>\n",
       "      <td>32.000000</td>\n",
       "      <td>0.299854</td>\n",
       "      <td>0.389610</td>\n",
       "      <td>7.7500</td>\n",
       "      <td>0</td>\n",
       "      <td>3</td>\n",
       "      <td>0.189236</td>\n",
       "      <td>0</td>\n",
       "    </tr>\n",
       "  </tbody>\n",
       "</table>\n",
       "<p>888 rows × 8 columns</p>\n",
       "</div>"
      ],
      "text/plain": [
       "           Age     Cabin  Embarked     Fare  Parch  Pclass       Sex  SibSp\n",
       "0    22.000000  0.299854  0.337481   7.2500      0       3  0.189236      1\n",
       "1    38.000000  0.593220  0.553571  71.2833      0       1  0.740385      1\n",
       "2    26.000000  0.299854  0.337481   7.9250      0       3  0.740385      0\n",
       "3    35.000000  0.593220  0.337481  53.1000      0       1  0.740385      1\n",
       "4    35.000000  0.299854  0.337481   8.0500      0       3  0.189236      0\n",
       "..         ...       ...       ...      ...    ...     ...       ...    ...\n",
       "886  27.000000  0.299854  0.337481  13.0000      0       2  0.189236      0\n",
       "887  19.000000  0.733333  0.337481  30.0000      0       1  0.740385      0\n",
       "888  29.620492  0.299854  0.337481  23.4500      2       3  0.740385      1\n",
       "889  26.000000  0.593220  0.553571  30.0000      0       1  0.189236      0\n",
       "890  32.000000  0.299854  0.389610   7.7500      0       3  0.189236      0\n",
       "\n",
       "[888 rows x 8 columns]"
      ]
     },
     "execution_count": 204,
     "metadata": {},
     "output_type": "execute_result"
    }
   ],
   "source": [
    "# На самом деле этот метод реализует Mean encoding\n",
    "from category_encoders.target_encoder import TargetEncoder as ce_TargetEncoder\n",
    "\n",
    "ce_TargetEncoder1 = ce_TargetEncoder()\n",
    "data_MEAN_ENC = ce_TargetEncoder1.fit_transform(data[data.columns.difference(['Survived'])], data['Survived'])\n",
    "data_MEAN_ENC"
   ]
  },
  {
   "cell_type": "code",
   "execution_count": 205,
   "id": "7435371a-4f50-4702-9f8f-a133a67fdef4",
   "metadata": {},
   "outputs": [
    {
     "data": {
      "text/plain": [
       "array(['male', 'female'], dtype=object)"
      ]
     },
     "execution_count": 205,
     "metadata": {},
     "output_type": "execute_result"
    }
   ],
   "source": [
    "# Проверка для поля \"Пол\"\n",
    "data['Sex'].unique()"
   ]
  },
  {
   "cell_type": "code",
   "execution_count": 206,
   "id": "be86a20c-e14d-41f2-a292-98820c4aac9a",
   "metadata": {},
   "outputs": [
    {
     "data": {
      "text/plain": [
       "array([0.18923611, 0.74038462])"
      ]
     },
     "execution_count": 206,
     "metadata": {},
     "output_type": "execute_result"
    }
   ],
   "source": [
    "data_MEAN_ENC['Sex'].unique()"
   ]
  },
  {
   "cell_type": "code",
   "execution_count": 207,
   "id": "87936bfc-bbd3-4e70-a4f2-ab398c04ef89",
   "metadata": {},
   "outputs": [
    {
     "name": "stdout",
     "output_type": "stream",
     "text": [
      "male - 0.1892361111111111\n",
      "female - 0.7403846153846154\n"
     ]
    }
   ],
   "source": [
    "def check_mean_encoding(field):\n",
    "    for s in data[field].unique():\n",
    "        data_filter = data[data[field]==s]\n",
    "        if data_filter.shape[0] > 0:\n",
    "            prob = sum(data_filter['Survived']) / data_filter.shape[0]\n",
    "            print(s, '-' , prob)\n",
    "            \n",
    "check_mean_encoding('Sex')"
   ]
  },
  {
   "cell_type": "code",
   "execution_count": 208,
   "id": "163998ae-9b80-4eaf-8576-450f05501a47",
   "metadata": {},
   "outputs": [
    {
     "data": {
      "text/plain": [
       "array([0.29985444, 0.59322034, 0.75      , 0.49444562, 0.75757576,\n",
       "       0.4666666 , 0.73333333, 0.61538319])"
      ]
     },
     "execution_count": 208,
     "metadata": {},
     "output_type": "execute_result"
    }
   ],
   "source": [
    "# Проверка для поля \"Каюта\"\n",
    "data_MEAN_ENC['Cabin'].unique()"
   ]
  },
  {
   "cell_type": "code",
   "execution_count": 209,
   "id": "35a20d06-52b9-46f1-a6f8-45eb08283276",
   "metadata": {},
   "outputs": [
    {
     "name": "stdout",
     "output_type": "stream",
     "text": [
      "n - 0.29985443959243085\n",
      "C - 0.5932203389830508\n",
      "E - 0.75\n",
      "G - 0.5\n",
      "D - 0.7575757575757576\n",
      "A - 0.4666666666666667\n",
      "B - 0.7333333333333333\n",
      "F - 0.6153846153846154\n"
     ]
    }
   ],
   "source": [
    "check_mean_encoding('Cabin')"
   ]
  },
  {
   "cell_type": "markdown",
   "id": "f9053ba6-cfdc-423c-aabc-469905b6adbd",
   "metadata": {
    "toc-hr-collapsed": true
   },
   "source": [
    "### Weight of evidence (WoE) encoding"
   ]
  },
  {
   "cell_type": "markdown",
   "id": "95c1a913-d54f-4105-9bf7-9b57203d08f4",
   "metadata": {},
   "source": [
    "$$\n",
    "WoE = ln(\\frac{Пропорция\\ хороших\\ событий}{Пропорция\\ плохих\\ событий})\n",
    "$$\n",
    "\n",
    "$$\n",
    "Пропорция\\ хороших\\ (плохих)\\ событий = \\frac{Количество\\ хороших\\ (плохих)\\ событий\\ для\\ заданного\\ значения\\ категории}{Общее\\ количество\\ хороших\\ (плохих)\\ событий})\n",
    "$$\n",
    "\n",
    "Кодирование признака управляется значением целевого признака, возникает монотонная зависимость между кодируемым признаком и целевым признаком.\n",
    "\n",
    "**Преимущества:**\n",
    "- Наличие монотонной зависимости.\n",
    "- Хорошо подходит для логистической регресии.\n",
    "**Недостатки:**\n",
    "- Может привести к переобучению."
   ]
  },
  {
   "cell_type": "markdown",
   "id": "f044359a-db4f-430a-a7a5-4c2b2ce6bdf5",
   "metadata": {},
   "source": [
    "#### Использование библиотеки [Сategory Encoders](https://contrib.scikit-learn.org/category_encoders/index.html)"
   ]
  },
  {
   "cell_type": "code",
   "execution_count": 210,
   "id": "a52a97dc-6ac1-4d94-aa32-2afaf93e9077",
   "metadata": {},
   "outputs": [
    {
     "data": {
      "text/html": [
       "<div>\n",
       "<style scoped>\n",
       "    .dataframe tbody tr th:only-of-type {\n",
       "        vertical-align: middle;\n",
       "    }\n",
       "\n",
       "    .dataframe tbody tr th {\n",
       "        vertical-align: top;\n",
       "    }\n",
       "\n",
       "    .dataframe thead th {\n",
       "        text-align: right;\n",
       "    }\n",
       "</style>\n",
       "<table border=\"1\" class=\"dataframe\">\n",
       "  <thead>\n",
       "    <tr style=\"text-align: right;\">\n",
       "      <th></th>\n",
       "      <th>Age</th>\n",
       "      <th>Cabin</th>\n",
       "      <th>Embarked</th>\n",
       "      <th>Fare</th>\n",
       "      <th>Parch</th>\n",
       "      <th>Pclass</th>\n",
       "      <th>Sex</th>\n",
       "      <th>SibSp</th>\n",
       "    </tr>\n",
       "  </thead>\n",
       "  <tbody>\n",
       "    <tr>\n",
       "      <th>0</th>\n",
       "      <td>22.000000</td>\n",
       "      <td>-0.370118</td>\n",
       "      <td>-0.197181</td>\n",
       "      <td>7.2500</td>\n",
       "      <td>0</td>\n",
       "      <td>3</td>\n",
       "      <td>-0.972880</td>\n",
       "      <td>1</td>\n",
       "    </tr>\n",
       "    <tr>\n",
       "      <th>1</th>\n",
       "      <td>38.000000</td>\n",
       "      <td>0.839751</td>\n",
       "      <td>0.687669</td>\n",
       "      <td>71.2833</td>\n",
       "      <td>0</td>\n",
       "      <td>1</td>\n",
       "      <td>1.515126</td>\n",
       "      <td>1</td>\n",
       "    </tr>\n",
       "    <tr>\n",
       "      <th>2</th>\n",
       "      <td>26.000000</td>\n",
       "      <td>-0.370118</td>\n",
       "      <td>-0.197181</td>\n",
       "      <td>7.9250</td>\n",
       "      <td>0</td>\n",
       "      <td>3</td>\n",
       "      <td>1.515126</td>\n",
       "      <td>0</td>\n",
       "    </tr>\n",
       "    <tr>\n",
       "      <th>3</th>\n",
       "      <td>35.000000</td>\n",
       "      <td>0.839751</td>\n",
       "      <td>-0.197181</td>\n",
       "      <td>53.1000</td>\n",
       "      <td>0</td>\n",
       "      <td>1</td>\n",
       "      <td>1.515126</td>\n",
       "      <td>1</td>\n",
       "    </tr>\n",
       "    <tr>\n",
       "      <th>4</th>\n",
       "      <td>35.000000</td>\n",
       "      <td>-0.370118</td>\n",
       "      <td>-0.197181</td>\n",
       "      <td>8.0500</td>\n",
       "      <td>0</td>\n",
       "      <td>3</td>\n",
       "      <td>-0.972880</td>\n",
       "      <td>0</td>\n",
       "    </tr>\n",
       "    <tr>\n",
       "      <th>...</th>\n",
       "      <td>...</td>\n",
       "      <td>...</td>\n",
       "      <td>...</td>\n",
       "      <td>...</td>\n",
       "      <td>...</td>\n",
       "      <td>...</td>\n",
       "      <td>...</td>\n",
       "      <td>...</td>\n",
       "    </tr>\n",
       "    <tr>\n",
       "      <th>886</th>\n",
       "      <td>27.000000</td>\n",
       "      <td>-0.370118</td>\n",
       "      <td>-0.197181</td>\n",
       "      <td>13.0000</td>\n",
       "      <td>0</td>\n",
       "      <td>2</td>\n",
       "      <td>-0.972880</td>\n",
       "      <td>0</td>\n",
       "    </tr>\n",
       "    <tr>\n",
       "      <th>887</th>\n",
       "      <td>19.000000</td>\n",
       "      <td>1.436519</td>\n",
       "      <td>-0.197181</td>\n",
       "      <td>30.0000</td>\n",
       "      <td>0</td>\n",
       "      <td>1</td>\n",
       "      <td>1.515126</td>\n",
       "      <td>0</td>\n",
       "    </tr>\n",
       "    <tr>\n",
       "      <th>888</th>\n",
       "      <td>29.620492</td>\n",
       "      <td>-0.370118</td>\n",
       "      <td>-0.197181</td>\n",
       "      <td>23.4500</td>\n",
       "      <td>2</td>\n",
       "      <td>3</td>\n",
       "      <td>1.515126</td>\n",
       "      <td>1</td>\n",
       "    </tr>\n",
       "    <tr>\n",
       "      <th>889</th>\n",
       "      <td>26.000000</td>\n",
       "      <td>0.839751</td>\n",
       "      <td>0.687669</td>\n",
       "      <td>30.0000</td>\n",
       "      <td>0</td>\n",
       "      <td>1</td>\n",
       "      <td>-0.972880</td>\n",
       "      <td>0</td>\n",
       "    </tr>\n",
       "    <tr>\n",
       "      <th>890</th>\n",
       "      <td>32.000000</td>\n",
       "      <td>-0.370118</td>\n",
       "      <td>0.037894</td>\n",
       "      <td>7.7500</td>\n",
       "      <td>0</td>\n",
       "      <td>3</td>\n",
       "      <td>-0.972880</td>\n",
       "      <td>0</td>\n",
       "    </tr>\n",
       "  </tbody>\n",
       "</table>\n",
       "<p>888 rows × 8 columns</p>\n",
       "</div>"
      ],
      "text/plain": [
       "           Age     Cabin  Embarked     Fare  Parch  Pclass       Sex  SibSp\n",
       "0    22.000000 -0.370118 -0.197181   7.2500      0       3 -0.972880      1\n",
       "1    38.000000  0.839751  0.687669  71.2833      0       1  1.515126      1\n",
       "2    26.000000 -0.370118 -0.197181   7.9250      0       3  1.515126      0\n",
       "3    35.000000  0.839751 -0.197181  53.1000      0       1  1.515126      1\n",
       "4    35.000000 -0.370118 -0.197181   8.0500      0       3 -0.972880      0\n",
       "..         ...       ...       ...      ...    ...     ...       ...    ...\n",
       "886  27.000000 -0.370118 -0.197181  13.0000      0       2 -0.972880      0\n",
       "887  19.000000  1.436519 -0.197181  30.0000      0       1  1.515126      0\n",
       "888  29.620492 -0.370118 -0.197181  23.4500      2       3  1.515126      1\n",
       "889  26.000000  0.839751  0.687669  30.0000      0       1 -0.972880      0\n",
       "890  32.000000 -0.370118  0.037894   7.7500      0       3 -0.972880      0\n",
       "\n",
       "[888 rows x 8 columns]"
      ]
     },
     "execution_count": 210,
     "metadata": {},
     "output_type": "execute_result"
    }
   ],
   "source": [
    "from category_encoders.woe import WOEEncoder as ce_WOEEncoder\n",
    "\n",
    "ce_WOEEncoder1 = ce_WOEEncoder()\n",
    "data_WOE_ENC = ce_WOEEncoder1.fit_transform(data[data.columns.difference(['Survived'])], data['Survived'])\n",
    "data_WOE_ENC"
   ]
  },
  {
   "cell_type": "code",
   "execution_count": 211,
   "id": "17b9edf5-3255-4f55-856c-cacb4d387ea0",
   "metadata": {},
   "outputs": [
    {
     "data": {
      "text/plain": [
       "array(['male', 'female'], dtype=object)"
      ]
     },
     "execution_count": 211,
     "metadata": {},
     "output_type": "execute_result"
    }
   ],
   "source": [
    "# Проверка для поля \"Пол\"\n",
    "data['Sex'].unique()"
   ]
  },
  {
   "cell_type": "code",
   "execution_count": 212,
   "id": "4809af37-9ac8-422a-909e-d52b1e6a41ab",
   "metadata": {},
   "outputs": [
    {
     "data": {
      "text/plain": [
       "array([-0.97288039,  1.51512567])"
      ]
     },
     "execution_count": 212,
     "metadata": {},
     "output_type": "execute_result"
    }
   ],
   "source": [
    "data_WOE_ENC['Sex'].unique()"
   ]
  },
  {
   "cell_type": "code",
   "execution_count": 214,
   "id": "31774368-8bc8-4ec1-970c-eaa9f3ffde05",
   "metadata": {},
   "outputs": [
    {
     "name": "stdout",
     "output_type": "stream",
     "text": [
      "male - -0.977651706101945\n",
      "female - 1.5252982251871632\n"
     ]
    }
   ],
   "source": [
    "def check_woe_encoding(field):\n",
    "    data_ones = data[data['Survived'] == 1].shape[0]\n",
    "    data_zeros = data[data['Survived'] == 0].shape[0]\n",
    "    \n",
    "    for s in data[field].unique():\n",
    "        data_filter = data[data[field]==s]\n",
    "        if data_filter.shape[0] > 0:\n",
    "            \n",
    "            filter_data_ones = data_filter[data_filter['Survived'] == 1].shape[0]\n",
    "            filter_data_zeros = data_filter[data_filter['Survived'] == 0].shape[0]\n",
    "\n",
    "            good = filter_data_ones / data_ones\n",
    "            bad = filter_data_zeros / data_zeros\n",
    "            \n",
    "            woe = np.log(good/bad)\n",
    "            print(s, '-' , woe)\n",
    "\n",
    "check_woe_encoding('Sex')"
   ]
  },
  {
   "cell_type": "code",
   "execution_count": 215,
   "id": "c98fe19c-7c1e-456b-a296-7eddfcf6e83a",
   "metadata": {},
   "outputs": [
    {
     "data": {
      "text/plain": [
       "array([-0.37011778,  0.83975065,  1.49675879,  0.47510754,  1.5359795 ,\n",
       "        0.35732451,  1.43651871,  0.88057265])"
      ]
     },
     "execution_count": 215,
     "metadata": {},
     "output_type": "execute_result"
    }
   ],
   "source": [
    "# Проверка для поля \"Каюта\"\n",
    "data_WOE_ENC['Cabin'].unique()"
   ]
  },
  {
   "cell_type": "code",
   "execution_count": 216,
   "id": "9d51ff3e-5b86-422c-89e9-6850d408cc60",
   "metadata": {},
   "outputs": [
    {
     "name": "stdout",
     "output_type": "stream",
     "text": [
      "n - -0.3706614319783718\n",
      "C - 0.8546239004792764\n",
      "E - 1.5759419580059182\n",
      "G - 0.4773296693378085\n",
      "D - 1.6167639525261734\n",
      "A - 0.3437982767132859\n",
      "B - 1.4889305810162885\n",
      "F - 0.9473332985835441\n"
     ]
    }
   ],
   "source": [
    "check_woe_encoding('Cabin')"
   ]
  },
  {
   "cell_type": "markdown",
   "id": "fea9c5d2-8e25-4869-8f95-0a68c2e7f5d2",
   "metadata": {
    "toc-hr-collapsed": true
   },
   "source": [
    "### Helmert encoding"
   ]
  },
  {
   "cell_type": "markdown",
   "id": "bb6562eb-5ab7-4050-86f1-2c3a178a94b5",
   "metadata": {},
   "source": [
    "Используется для упорядоченных категориальных переменных.\n",
    "\n",
    "Cравнивает каждый уровень категориальной переменной со средним значением последующих уровней.\n",
    "\n",
    "[Детальное пояснение алгоритма кодирования](https://stats.stackexchange.com/questions/411134/how-to-calculate-helmert-coding)."
   ]
  },
  {
   "cell_type": "markdown",
   "id": "8e18a7c0-82fe-4e7f-baa4-bffa6d8ab8be",
   "metadata": {},
   "source": [
    "#### Использование библиотеки [Сategory Encoders](https://contrib.scikit-learn.org/category_encoders/index.html)"
   ]
  },
  {
   "cell_type": "code",
   "execution_count": 217,
   "id": "c6145ce6-4d67-4e4f-b7e1-2b6c8c6f9ee4",
   "metadata": {},
   "outputs": [
    {
     "data": {
      "text/html": [
       "<div>\n",
       "<style scoped>\n",
       "    .dataframe tbody tr th:only-of-type {\n",
       "        vertical-align: middle;\n",
       "    }\n",
       "\n",
       "    .dataframe tbody tr th {\n",
       "        vertical-align: top;\n",
       "    }\n",
       "\n",
       "    .dataframe thead th {\n",
       "        text-align: right;\n",
       "    }\n",
       "</style>\n",
       "<table border=\"1\" class=\"dataframe\">\n",
       "  <thead>\n",
       "    <tr style=\"text-align: right;\">\n",
       "      <th></th>\n",
       "      <th>intercept</th>\n",
       "      <th>Age</th>\n",
       "      <th>Cabin_0</th>\n",
       "      <th>Cabin_1</th>\n",
       "      <th>Cabin_2</th>\n",
       "      <th>Cabin_3</th>\n",
       "      <th>Cabin_4</th>\n",
       "      <th>Cabin_5</th>\n",
       "      <th>Cabin_6</th>\n",
       "      <th>Embarked_0</th>\n",
       "      <th>Embarked_1</th>\n",
       "      <th>Fare</th>\n",
       "      <th>Parch</th>\n",
       "      <th>Pclass</th>\n",
       "      <th>Sex_0</th>\n",
       "      <th>SibSp</th>\n",
       "    </tr>\n",
       "  </thead>\n",
       "  <tbody>\n",
       "    <tr>\n",
       "      <th>0</th>\n",
       "      <td>1</td>\n",
       "      <td>22.000000</td>\n",
       "      <td>-1.0</td>\n",
       "      <td>-1.0</td>\n",
       "      <td>-1.0</td>\n",
       "      <td>-1.0</td>\n",
       "      <td>-1.0</td>\n",
       "      <td>-1.0</td>\n",
       "      <td>-1.0</td>\n",
       "      <td>-1.0</td>\n",
       "      <td>-1.0</td>\n",
       "      <td>7.2500</td>\n",
       "      <td>0</td>\n",
       "      <td>3</td>\n",
       "      <td>-1.0</td>\n",
       "      <td>1</td>\n",
       "    </tr>\n",
       "    <tr>\n",
       "      <th>1</th>\n",
       "      <td>1</td>\n",
       "      <td>38.000000</td>\n",
       "      <td>1.0</td>\n",
       "      <td>-1.0</td>\n",
       "      <td>-1.0</td>\n",
       "      <td>-1.0</td>\n",
       "      <td>-1.0</td>\n",
       "      <td>-1.0</td>\n",
       "      <td>-1.0</td>\n",
       "      <td>1.0</td>\n",
       "      <td>-1.0</td>\n",
       "      <td>71.2833</td>\n",
       "      <td>0</td>\n",
       "      <td>1</td>\n",
       "      <td>1.0</td>\n",
       "      <td>1</td>\n",
       "    </tr>\n",
       "    <tr>\n",
       "      <th>2</th>\n",
       "      <td>1</td>\n",
       "      <td>26.000000</td>\n",
       "      <td>-1.0</td>\n",
       "      <td>-1.0</td>\n",
       "      <td>-1.0</td>\n",
       "      <td>-1.0</td>\n",
       "      <td>-1.0</td>\n",
       "      <td>-1.0</td>\n",
       "      <td>-1.0</td>\n",
       "      <td>-1.0</td>\n",
       "      <td>-1.0</td>\n",
       "      <td>7.9250</td>\n",
       "      <td>0</td>\n",
       "      <td>3</td>\n",
       "      <td>1.0</td>\n",
       "      <td>0</td>\n",
       "    </tr>\n",
       "    <tr>\n",
       "      <th>3</th>\n",
       "      <td>1</td>\n",
       "      <td>35.000000</td>\n",
       "      <td>1.0</td>\n",
       "      <td>-1.0</td>\n",
       "      <td>-1.0</td>\n",
       "      <td>-1.0</td>\n",
       "      <td>-1.0</td>\n",
       "      <td>-1.0</td>\n",
       "      <td>-1.0</td>\n",
       "      <td>-1.0</td>\n",
       "      <td>-1.0</td>\n",
       "      <td>53.1000</td>\n",
       "      <td>0</td>\n",
       "      <td>1</td>\n",
       "      <td>1.0</td>\n",
       "      <td>1</td>\n",
       "    </tr>\n",
       "    <tr>\n",
       "      <th>4</th>\n",
       "      <td>1</td>\n",
       "      <td>35.000000</td>\n",
       "      <td>-1.0</td>\n",
       "      <td>-1.0</td>\n",
       "      <td>-1.0</td>\n",
       "      <td>-1.0</td>\n",
       "      <td>-1.0</td>\n",
       "      <td>-1.0</td>\n",
       "      <td>-1.0</td>\n",
       "      <td>-1.0</td>\n",
       "      <td>-1.0</td>\n",
       "      <td>8.0500</td>\n",
       "      <td>0</td>\n",
       "      <td>3</td>\n",
       "      <td>-1.0</td>\n",
       "      <td>0</td>\n",
       "    </tr>\n",
       "    <tr>\n",
       "      <th>...</th>\n",
       "      <td>...</td>\n",
       "      <td>...</td>\n",
       "      <td>...</td>\n",
       "      <td>...</td>\n",
       "      <td>...</td>\n",
       "      <td>...</td>\n",
       "      <td>...</td>\n",
       "      <td>...</td>\n",
       "      <td>...</td>\n",
       "      <td>...</td>\n",
       "      <td>...</td>\n",
       "      <td>...</td>\n",
       "      <td>...</td>\n",
       "      <td>...</td>\n",
       "      <td>...</td>\n",
       "      <td>...</td>\n",
       "    </tr>\n",
       "    <tr>\n",
       "      <th>886</th>\n",
       "      <td>1</td>\n",
       "      <td>27.000000</td>\n",
       "      <td>-1.0</td>\n",
       "      <td>-1.0</td>\n",
       "      <td>-1.0</td>\n",
       "      <td>-1.0</td>\n",
       "      <td>-1.0</td>\n",
       "      <td>-1.0</td>\n",
       "      <td>-1.0</td>\n",
       "      <td>-1.0</td>\n",
       "      <td>-1.0</td>\n",
       "      <td>13.0000</td>\n",
       "      <td>0</td>\n",
       "      <td>2</td>\n",
       "      <td>-1.0</td>\n",
       "      <td>0</td>\n",
       "    </tr>\n",
       "    <tr>\n",
       "      <th>887</th>\n",
       "      <td>1</td>\n",
       "      <td>19.000000</td>\n",
       "      <td>0.0</td>\n",
       "      <td>0.0</td>\n",
       "      <td>0.0</td>\n",
       "      <td>0.0</td>\n",
       "      <td>0.0</td>\n",
       "      <td>6.0</td>\n",
       "      <td>-1.0</td>\n",
       "      <td>-1.0</td>\n",
       "      <td>-1.0</td>\n",
       "      <td>30.0000</td>\n",
       "      <td>0</td>\n",
       "      <td>1</td>\n",
       "      <td>1.0</td>\n",
       "      <td>0</td>\n",
       "    </tr>\n",
       "    <tr>\n",
       "      <th>888</th>\n",
       "      <td>1</td>\n",
       "      <td>29.620492</td>\n",
       "      <td>-1.0</td>\n",
       "      <td>-1.0</td>\n",
       "      <td>-1.0</td>\n",
       "      <td>-1.0</td>\n",
       "      <td>-1.0</td>\n",
       "      <td>-1.0</td>\n",
       "      <td>-1.0</td>\n",
       "      <td>-1.0</td>\n",
       "      <td>-1.0</td>\n",
       "      <td>23.4500</td>\n",
       "      <td>2</td>\n",
       "      <td>3</td>\n",
       "      <td>1.0</td>\n",
       "      <td>1</td>\n",
       "    </tr>\n",
       "    <tr>\n",
       "      <th>889</th>\n",
       "      <td>1</td>\n",
       "      <td>26.000000</td>\n",
       "      <td>1.0</td>\n",
       "      <td>-1.0</td>\n",
       "      <td>-1.0</td>\n",
       "      <td>-1.0</td>\n",
       "      <td>-1.0</td>\n",
       "      <td>-1.0</td>\n",
       "      <td>-1.0</td>\n",
       "      <td>1.0</td>\n",
       "      <td>-1.0</td>\n",
       "      <td>30.0000</td>\n",
       "      <td>0</td>\n",
       "      <td>1</td>\n",
       "      <td>-1.0</td>\n",
       "      <td>0</td>\n",
       "    </tr>\n",
       "    <tr>\n",
       "      <th>890</th>\n",
       "      <td>1</td>\n",
       "      <td>32.000000</td>\n",
       "      <td>-1.0</td>\n",
       "      <td>-1.0</td>\n",
       "      <td>-1.0</td>\n",
       "      <td>-1.0</td>\n",
       "      <td>-1.0</td>\n",
       "      <td>-1.0</td>\n",
       "      <td>-1.0</td>\n",
       "      <td>0.0</td>\n",
       "      <td>2.0</td>\n",
       "      <td>7.7500</td>\n",
       "      <td>0</td>\n",
       "      <td>3</td>\n",
       "      <td>-1.0</td>\n",
       "      <td>0</td>\n",
       "    </tr>\n",
       "  </tbody>\n",
       "</table>\n",
       "<p>888 rows × 16 columns</p>\n",
       "</div>"
      ],
      "text/plain": [
       "     intercept        Age  Cabin_0  Cabin_1  Cabin_2  Cabin_3  Cabin_4  \\\n",
       "0            1  22.000000     -1.0     -1.0     -1.0     -1.0     -1.0   \n",
       "1            1  38.000000      1.0     -1.0     -1.0     -1.0     -1.0   \n",
       "2            1  26.000000     -1.0     -1.0     -1.0     -1.0     -1.0   \n",
       "3            1  35.000000      1.0     -1.0     -1.0     -1.0     -1.0   \n",
       "4            1  35.000000     -1.0     -1.0     -1.0     -1.0     -1.0   \n",
       "..         ...        ...      ...      ...      ...      ...      ...   \n",
       "886          1  27.000000     -1.0     -1.0     -1.0     -1.0     -1.0   \n",
       "887          1  19.000000      0.0      0.0      0.0      0.0      0.0   \n",
       "888          1  29.620492     -1.0     -1.0     -1.0     -1.0     -1.0   \n",
       "889          1  26.000000      1.0     -1.0     -1.0     -1.0     -1.0   \n",
       "890          1  32.000000     -1.0     -1.0     -1.0     -1.0     -1.0   \n",
       "\n",
       "     Cabin_5  Cabin_6  Embarked_0  Embarked_1     Fare  Parch  Pclass  Sex_0  \\\n",
       "0       -1.0     -1.0        -1.0        -1.0   7.2500      0       3   -1.0   \n",
       "1       -1.0     -1.0         1.0        -1.0  71.2833      0       1    1.0   \n",
       "2       -1.0     -1.0        -1.0        -1.0   7.9250      0       3    1.0   \n",
       "3       -1.0     -1.0        -1.0        -1.0  53.1000      0       1    1.0   \n",
       "4       -1.0     -1.0        -1.0        -1.0   8.0500      0       3   -1.0   \n",
       "..       ...      ...         ...         ...      ...    ...     ...    ...   \n",
       "886     -1.0     -1.0        -1.0        -1.0  13.0000      0       2   -1.0   \n",
       "887      6.0     -1.0        -1.0        -1.0  30.0000      0       1    1.0   \n",
       "888     -1.0     -1.0        -1.0        -1.0  23.4500      2       3    1.0   \n",
       "889     -1.0     -1.0         1.0        -1.0  30.0000      0       1   -1.0   \n",
       "890     -1.0     -1.0         0.0         2.0   7.7500      0       3   -1.0   \n",
       "\n",
       "     SibSp  \n",
       "0        1  \n",
       "1        1  \n",
       "2        0  \n",
       "3        1  \n",
       "4        0  \n",
       "..     ...  \n",
       "886      0  \n",
       "887      0  \n",
       "888      1  \n",
       "889      0  \n",
       "890      0  \n",
       "\n",
       "[888 rows x 16 columns]"
      ]
     },
     "execution_count": 217,
     "metadata": {},
     "output_type": "execute_result"
    }
   ],
   "source": [
    "from category_encoders.helmert import HelmertEncoder as ce_HelmertEncoder\n",
    "\n",
    "ce_HelmertEncoder1 = ce_HelmertEncoder()\n",
    "data_HELM_ENC = ce_HelmertEncoder1.fit_transform(data[data.columns.difference(['Survived'])], data['Survived'])\n",
    "data_HELM_ENC"
   ]
  },
  {
   "cell_type": "markdown",
   "id": "e3e4d7f6-50c2-4709-b912-efe8ed0860bd",
   "metadata": {},
   "source": [
    "### Обучение моделей с различными вариантами предобработки признаков"
   ]
  },
  {
   "cell_type": "code",
   "execution_count": 218,
   "id": "81f36280-1fa6-4eb6-a5d4-838b617c1e03",
   "metadata": {},
   "outputs": [],
   "source": [
    "from sklearn.linear_model import LogisticRegression\n",
    "from sklearn.ensemble import RandomForestClassifier\n",
    "from sklearn.neighbors import KNeighborsClassifier\n",
    "from sklearn.tree import DecisionTreeClassifier\n",
    "from sklearn.ensemble import GradientBoostingClassifier\n",
    "from sklearn.model_selection import train_test_split\n",
    "from sklearn.metrics import roc_auc_score\n",
    "\n",
    "class MetricLogger:\n",
    "    \n",
    "    def __init__(self):\n",
    "        self.df = pd.DataFrame(\n",
    "            {'metric': pd.Series([], dtype='str'),\n",
    "            'alg': pd.Series([], dtype='str'),\n",
    "            'value': pd.Series([], dtype='float')})\n",
    "\n",
    "    def add(self, metric, alg, value):\n",
    "        \"\"\"\n",
    "        Добавление значения\n",
    "        \"\"\"\n",
    "        # Удаление значения если оно уже было ранее добавлено\n",
    "        self.df.drop(self.df[(self.df['metric']==metric)&(self.df['alg']==alg)].index, inplace = True)\n",
    "        # Добавление нового значения\n",
    "        temp = [{'metric':metric, 'alg':alg, 'value':value}]\n",
    "        self.df = self.df.append(temp, ignore_index=True)\n",
    "\n",
    "    def get_data_for_metric(self, metric, ascending=True):\n",
    "        \"\"\"\n",
    "        Формирование данных с фильтром по метрике\n",
    "        \"\"\"\n",
    "        temp_data = self.df[self.df['metric']==metric]\n",
    "        temp_data_2 = temp_data.sort_values(by='value', ascending=ascending)\n",
    "        return temp_data_2['alg'].values, temp_data_2['value'].values\n",
    "    \n",
    "    def plot(self, str_header, metric, ascending=True, figsize=(5, 5)):\n",
    "        \"\"\"\n",
    "        Вывод графика\n",
    "        \"\"\"\n",
    "        array_labels, array_metric = self.get_data_for_metric(metric, ascending)\n",
    "        fig, ax1 = plt.subplots(figsize=figsize)\n",
    "        pos = np.arange(len(array_metric))\n",
    "        rects = ax1.barh(pos, array_metric,\n",
    "                         align='center',\n",
    "                         height=0.5, \n",
    "                         tick_label=array_labels)\n",
    "        ax1.set_title(str_header)\n",
    "        for a,b in zip(pos, array_metric):\n",
    "            plt.text(0.5, a-0.05, str(round(b,3)), color='white')\n",
    "        plt.show()   "
   ]
  },
  {
   "cell_type": "code",
   "execution_count": 219,
   "id": "fc52174b-1478-49c3-bcd8-0e67c1e5a3b0",
   "metadata": {},
   "outputs": [],
   "source": [
    "clas_models_dict = {'LogR': LogisticRegression(max_iter=1000), \n",
    "                    'KNN_5':KNeighborsClassifier(n_neighbors=5),\n",
    "                    'Tree':DecisionTreeClassifier(),\n",
    "                    'GB': GradientBoostingClassifier(),\n",
    "                    'RF':RandomForestClassifier(n_estimators=50, random_state=1, max_depth=3)}\n",
    "\n",
    "X_data_dict = {'One-Hot encoding': data_OHE, \n",
    "               'Count encoding': data_COUNT_ENC,\n",
    "               'Frequency encoding': data_FREQ_ENC, \n",
    "               'Mean encoding': data_MEAN_ENC,\n",
    "               'Weight of evidence encoding': data_WOE_ENC,\n",
    "               'Helmert encoding': data_HELM_ENC}"
   ]
  },
  {
   "cell_type": "code",
   "execution_count": 220,
   "id": "d86e8e58-e5a1-46ba-bc23-64271a241cfc",
   "metadata": {},
   "outputs": [],
   "source": [
    "def test_models(clas_models_dict, X_data_dict, y_data):\n",
    "    \n",
    "    logger = MetricLogger()\n",
    "    \n",
    "    for model_name, model in clas_models_dict.items():\n",
    "        \n",
    "        for data_name, X_data in X_data_dict.items():\n",
    "    \n",
    "            X_train, X_test, y_train, y_test = train_test_split(\n",
    "                X_data, y_data, test_size=0.3, random_state=1)\n",
    "        \n",
    "            model.fit(X_train, y_train)\n",
    "            pred1 = model.predict_proba(X_train)\n",
    "            pred2 = model.predict_proba(X_test)\n",
    "            roc_auc = roc_auc_score(y_test, pred2[:, 1])\n",
    "            logger.add(model_name, data_name, roc_auc)\n",
    "            \n",
    "    return logger"
   ]
  },
  {
   "cell_type": "code",
   "execution_count": 221,
   "id": "6e9e45bd-ceed-4534-9629-e4659160c26e",
   "metadata": {},
   "outputs": [
    {
     "name": "stderr",
     "output_type": "stream",
     "text": [
      "/tmp/ipykernel_11413/3784991673.py:25: FutureWarning: The frame.append method is deprecated and will be removed from pandas in a future version. Use pandas.concat instead.\n",
      "  self.df = self.df.append(temp, ignore_index=True)\n",
      "/tmp/ipykernel_11413/3784991673.py:25: FutureWarning: The frame.append method is deprecated and will be removed from pandas in a future version. Use pandas.concat instead.\n",
      "  self.df = self.df.append(temp, ignore_index=True)\n",
      "/tmp/ipykernel_11413/3784991673.py:25: FutureWarning: The frame.append method is deprecated and will be removed from pandas in a future version. Use pandas.concat instead.\n",
      "  self.df = self.df.append(temp, ignore_index=True)\n",
      "/tmp/ipykernel_11413/3784991673.py:25: FutureWarning: The frame.append method is deprecated and will be removed from pandas in a future version. Use pandas.concat instead.\n",
      "  self.df = self.df.append(temp, ignore_index=True)\n",
      "/tmp/ipykernel_11413/3784991673.py:25: FutureWarning: The frame.append method is deprecated and will be removed from pandas in a future version. Use pandas.concat instead.\n",
      "  self.df = self.df.append(temp, ignore_index=True)\n",
      "/tmp/ipykernel_11413/3784991673.py:25: FutureWarning: The frame.append method is deprecated and will be removed from pandas in a future version. Use pandas.concat instead.\n",
      "  self.df = self.df.append(temp, ignore_index=True)\n",
      "/tmp/ipykernel_11413/3784991673.py:25: FutureWarning: The frame.append method is deprecated and will be removed from pandas in a future version. Use pandas.concat instead.\n",
      "  self.df = self.df.append(temp, ignore_index=True)\n",
      "/tmp/ipykernel_11413/3784991673.py:25: FutureWarning: The frame.append method is deprecated and will be removed from pandas in a future version. Use pandas.concat instead.\n",
      "  self.df = self.df.append(temp, ignore_index=True)\n",
      "/tmp/ipykernel_11413/3784991673.py:25: FutureWarning: The frame.append method is deprecated and will be removed from pandas in a future version. Use pandas.concat instead.\n",
      "  self.df = self.df.append(temp, ignore_index=True)\n",
      "/tmp/ipykernel_11413/3784991673.py:25: FutureWarning: The frame.append method is deprecated and will be removed from pandas in a future version. Use pandas.concat instead.\n",
      "  self.df = self.df.append(temp, ignore_index=True)\n",
      "/tmp/ipykernel_11413/3784991673.py:25: FutureWarning: The frame.append method is deprecated and will be removed from pandas in a future version. Use pandas.concat instead.\n",
      "  self.df = self.df.append(temp, ignore_index=True)\n",
      "/tmp/ipykernel_11413/3784991673.py:25: FutureWarning: The frame.append method is deprecated and will be removed from pandas in a future version. Use pandas.concat instead.\n",
      "  self.df = self.df.append(temp, ignore_index=True)\n",
      "/tmp/ipykernel_11413/3784991673.py:25: FutureWarning: The frame.append method is deprecated and will be removed from pandas in a future version. Use pandas.concat instead.\n",
      "  self.df = self.df.append(temp, ignore_index=True)\n",
      "/tmp/ipykernel_11413/3784991673.py:25: FutureWarning: The frame.append method is deprecated and will be removed from pandas in a future version. Use pandas.concat instead.\n",
      "  self.df = self.df.append(temp, ignore_index=True)\n",
      "/tmp/ipykernel_11413/3784991673.py:25: FutureWarning: The frame.append method is deprecated and will be removed from pandas in a future version. Use pandas.concat instead.\n",
      "  self.df = self.df.append(temp, ignore_index=True)\n",
      "/tmp/ipykernel_11413/3784991673.py:25: FutureWarning: The frame.append method is deprecated and will be removed from pandas in a future version. Use pandas.concat instead.\n",
      "  self.df = self.df.append(temp, ignore_index=True)\n",
      "/tmp/ipykernel_11413/3784991673.py:25: FutureWarning: The frame.append method is deprecated and will be removed from pandas in a future version. Use pandas.concat instead.\n",
      "  self.df = self.df.append(temp, ignore_index=True)\n",
      "/tmp/ipykernel_11413/3784991673.py:25: FutureWarning: The frame.append method is deprecated and will be removed from pandas in a future version. Use pandas.concat instead.\n",
      "  self.df = self.df.append(temp, ignore_index=True)\n",
      "/tmp/ipykernel_11413/3784991673.py:25: FutureWarning: The frame.append method is deprecated and will be removed from pandas in a future version. Use pandas.concat instead.\n",
      "  self.df = self.df.append(temp, ignore_index=True)\n",
      "/tmp/ipykernel_11413/3784991673.py:25: FutureWarning: The frame.append method is deprecated and will be removed from pandas in a future version. Use pandas.concat instead.\n",
      "  self.df = self.df.append(temp, ignore_index=True)\n",
      "/tmp/ipykernel_11413/3784991673.py:25: FutureWarning: The frame.append method is deprecated and will be removed from pandas in a future version. Use pandas.concat instead.\n",
      "  self.df = self.df.append(temp, ignore_index=True)\n",
      "/tmp/ipykernel_11413/3784991673.py:25: FutureWarning: The frame.append method is deprecated and will be removed from pandas in a future version. Use pandas.concat instead.\n",
      "  self.df = self.df.append(temp, ignore_index=True)\n",
      "/tmp/ipykernel_11413/3784991673.py:25: FutureWarning: The frame.append method is deprecated and will be removed from pandas in a future version. Use pandas.concat instead.\n",
      "  self.df = self.df.append(temp, ignore_index=True)\n",
      "/tmp/ipykernel_11413/3784991673.py:25: FutureWarning: The frame.append method is deprecated and will be removed from pandas in a future version. Use pandas.concat instead.\n",
      "  self.df = self.df.append(temp, ignore_index=True)\n",
      "/tmp/ipykernel_11413/3784991673.py:25: FutureWarning: The frame.append method is deprecated and will be removed from pandas in a future version. Use pandas.concat instead.\n",
      "  self.df = self.df.append(temp, ignore_index=True)\n",
      "/tmp/ipykernel_11413/3784991673.py:25: FutureWarning: The frame.append method is deprecated and will be removed from pandas in a future version. Use pandas.concat instead.\n",
      "  self.df = self.df.append(temp, ignore_index=True)\n",
      "/tmp/ipykernel_11413/3784991673.py:25: FutureWarning: The frame.append method is deprecated and will be removed from pandas in a future version. Use pandas.concat instead.\n",
      "  self.df = self.df.append(temp, ignore_index=True)\n",
      "/tmp/ipykernel_11413/3784991673.py:25: FutureWarning: The frame.append method is deprecated and will be removed from pandas in a future version. Use pandas.concat instead.\n",
      "  self.df = self.df.append(temp, ignore_index=True)\n",
      "/tmp/ipykernel_11413/3784991673.py:25: FutureWarning: The frame.append method is deprecated and will be removed from pandas in a future version. Use pandas.concat instead.\n",
      "  self.df = self.df.append(temp, ignore_index=True)\n"
     ]
    },
    {
     "name": "stdout",
     "output_type": "stream",
     "text": [
      "CPU times: user 3.71 s, sys: 46.2 ms, total: 3.75 s\n",
      "Wall time: 3.55 s\n"
     ]
    },
    {
     "name": "stderr",
     "output_type": "stream",
     "text": [
      "/tmp/ipykernel_11413/3784991673.py:25: FutureWarning: The frame.append method is deprecated and will be removed from pandas in a future version. Use pandas.concat instead.\n",
      "  self.df = self.df.append(temp, ignore_index=True)\n"
     ]
    }
   ],
   "source": [
    "%%time\n",
    "logger = test_models(clas_models_dict, X_data_dict, data['Survived'])"
   ]
  },
  {
   "cell_type": "code",
   "execution_count": 222,
   "id": "190f4950-a04a-4553-99ee-88e338dd17ea",
   "metadata": {},
   "outputs": [
    {
     "data": {
      "image/png": "[encoded data removed]",
      "text/plain": [
       "<Figure size 504x432 with 1 Axes>"
      ]
     },
     "metadata": {},
     "output_type": "display_data"
    },
    {
     "data": {
      "image/png": "[encoded data removed]",
      "text/plain": [
       "<Figure size 504x432 with 1 Axes>"
      ]
     },
     "metadata": {},
     "output_type": "display_data"
    },
    {
     "data": {
      "image/png": "[encoded data removed]",
      "text/plain": [
       "<Figure size 504x432 with 1 Axes>"
      ]
     },
     "metadata": {},
     "output_type": "display_data"
    },
    {
     "data": {
      "image/png": "[encoded data removed]",
      "text/plain": [
       "<Figure size 504x432 with 1 Axes>"
      ]
     },
     "metadata": {},
     "output_type": "display_data"
    },
    {
     "data": {
      "image/png": "[encoded data removed]",
      "text/plain": [
       "<Figure size 504x432 with 1 Axes>"
      ]
     },
     "metadata": {},
     "output_type": "display_data"
    }
   ],
   "source": [
    "# Построим графики метрик качества модели\n",
    "for model in clas_models_dict:\n",
    "    logger.plot('Модель: ' + model, model, figsize=(7, 6))"
   ]
  },
  {
   "cell_type": "code",
   "execution_count": null,
   "id": "855d2fc6-f433-4511-b0bb-decd0fc63e47",
   "metadata": {},
   "outputs": [],
   "source": []
  },
  {
   "cell_type": "code",
   "execution_count": null,
   "id": "8507fb44-8501-4b6e-852e-80046682d352",
   "metadata": {},
   "outputs": [],
   "source": []
  },
  {
   "cell_type": "code",
   "execution_count": null,
   "id": "723d4db0-408f-49ac-be70-bb7e29ae4d3a",
   "metadata": {},
   "outputs": [],
   "source": []
  },
  {
   "cell_type": "markdown",
   "id": "1f7e1cf4-1082-4a9a-b341-088b7122b7ad",
   "metadata": {},
   "source": [
    "## Нормализация числовых признаков"
   ]
  },
  {
   "cell_type": "markdown",
   "id": "eadb31fa-eb5b-4ffe-bf9d-a2f92bcfe905",
   "metadata": {},
   "source": [
    "## Обработка выбросов"
   ]
  },
  {
   "cell_type": "markdown",
   "id": "cfdd493e-3ad8-426b-bc44-f7336f73fd01",
   "metadata": {
    "jp-MarkdownHeadingCollapsed": true,
    "tags": []
   },
   "source": [
    "## Масштабирование признаков"
   ]
  },
  {
   "cell_type": "markdown",
   "id": "c4b8191f-237d-45b0-b7b0-b7ba69fb5430",
   "metadata": {},
   "source": [
    "Термины \"масштабирование\" и \"нормализация\" часто используются как синонимы, но это неверно. Масштабирование предполагает изменение диапазона измерения величины, а нормализация - изменение распределения этой величины. В этом разделе рассматривается только масштабирование.\n",
    "\n",
    "Если признаки лежат в различных диапазонах, то необходимо их нормализовать. Как правило, применяют два подхода:\n",
    "\n",
    "- MinMax масштабирование:\n",
    "$$x_{новый} = \\frac{x_{старый}−min(X)}{max(X)−min(X)}$$\n",
    "В этом случае значения лежат в диапазоне от 0 до 1.\n",
    "\n",
    "\n",
    "- Масштабирование данных на основе Z-оценки:\n",
    "$$x_{новый} = \\frac{x_{старый}−AVG(X)}{σ(X)}$$\n",
    "В этом случае большинство значений попадает в диапазон от -3 до 3.\n",
    "\n",
    "где X - матрица объект-признак, AVG(X) - среднее значение, σ - среднеквадратичное отклонение."
   ]
  },
  {
   "cell_type": "code",
   "execution_count": 75,
   "id": "292921af-d398-4329-a0a4-63815a3a3ee0",
   "metadata": {},
   "outputs": [],
   "source": [
    "from sklearn.preprocessing import MinMaxScaler, StandardScaler, Normalizer"
   ]
  },
  {
   "cell_type": "markdown",
   "id": "6d11cd36-3a34-4db9-86db-751a93eee7c6",
   "metadata": {},
   "source": [
    "### MinMax масштабирование"
   ]
  },
  {
   "cell_type": "code",
   "execution_count": 77,
   "id": "c30a4b56-1703-485a-a2ea-079c9fd2d4a7",
   "metadata": {},
   "outputs": [],
   "source": [
    "sc1 = MinMaxScaler()\n",
    "sc1_data = sc1.fit_transform(data[['SalePrice']])"
   ]
  },
  {
   "cell_type": "code",
   "execution_count": 78,
   "id": "a1cd8f1d-8d8a-44d1-9162-49407e7e6786",
   "metadata": {},
   "outputs": [
    {
     "data": {
      "image/png": "[encoded data removed]",
      "text/plain": [
       "<Figure size 432x288 with 1 Axes>"
      ]
     },
     "metadata": {
      "needs_background": "light"
     },
     "output_type": "display_data"
    }
   ],
   "source": [
    "plt.hist(data['SalePrice'], 50)\n",
    "plt.show()"
   ]
  },
  {
   "cell_type": "code",
   "execution_count": 79,
   "id": "8449b30d-9e29-481b-9a8a-002de0fdac4c",
   "metadata": {},
   "outputs": [
    {
     "data": {
      "image/png": "[encoded data removed]",
      "text/plain": [
       "<Figure size 432x288 with 1 Axes>"
      ]
     },
     "metadata": {
      "needs_background": "light"
     },
     "output_type": "display_data"
    }
   ],
   "source": [
    "plt.hist(sc1_data, 50)\n",
    "plt.show()"
   ]
  },
  {
   "cell_type": "markdown",
   "id": "dbfef666-934e-4573-9862-f5bc6e516f8d",
   "metadata": {},
   "source": [
    "#### Масштабирование данных на основе Z-оценки - StandardScaler"
   ]
  },
  {
   "cell_type": "code",
   "execution_count": 80,
   "id": "eb6b4ec5-4aa3-402d-85b5-b0bbfb24c7da",
   "metadata": {},
   "outputs": [],
   "source": [
    "sc2 = StandardScaler()\n",
    "sc2_data = sc2.fit_transform(data[['SalePrice']])"
   ]
  },
  {
   "cell_type": "code",
   "execution_count": 81,
   "id": "17cc911f-849d-4ccf-81e4-30316dc8fff0",
   "metadata": {},
   "outputs": [
    {
     "data": {
      "image/png": "[encoded data removed]",
      "text/plain": [
       "<Figure size 432x288 with 1 Axes>"
      ]
     },
     "metadata": {
      "needs_background": "light"
     },
     "output_type": "display_data"
    }
   ],
   "source": [
    "plt.hist(sc2_data, 50)\n",
    "plt.show()"
   ]
  },
  {
   "cell_type": "markdown",
   "id": "03a6ed39-c23c-40e0-8e8b-1cee84b7722b",
   "metadata": {},
   "source": [
    "## Отбор признаков (Feature selection)"
   ]
  },
  {
   "cell_type": "code",
   "execution_count": null,
   "id": "bc6552ac-9ac9-42fa-909f-14b0b25686bb",
   "metadata": {},
   "outputs": [],
   "source": []
  },
  {
   "cell_type": "code",
   "execution_count": null,
   "id": "633cf9e0-2d36-44e9-a798-b5f9f41936d1",
   "metadata": {},
   "outputs": [],
   "source": []
  },
  {
   "cell_type": "code",
   "execution_count": null,
   "id": "899afda9-c60e-41a5-9508-ad5b1480b3bb",
   "metadata": {},
   "outputs": [],
   "source": []
  },
  {
   "cell_type": "code",
   "execution_count": null,
   "id": "bb781869-1979-4ed9-9352-d0f5d4cf0599",
   "metadata": {},
   "outputs": [],
   "source": []
  },
  {
   "cell_type": "code",
   "execution_count": null,
   "id": "4c183ae1-d03a-4b53-8b01-d31b49c4d2cc",
   "metadata": {},
   "outputs": [],
   "source": []
  },
  {
   "cell_type": "code",
   "execution_count": null,
   "id": "d2601fc6-ef6b-438c-b89e-6c7394d56fdc",
   "metadata": {},
   "outputs": [],
   "source": []
  },
  {
   "cell_type": "markdown",
   "id": "cde8b634",
   "metadata": {},
   "source": [
    "# Предварительная обработка данных"
   ]
  },
  {
   "cell_type": "markdown",
   "id": "25e25eb0",
   "metadata": {},
   "source": [
    "## Поиск неявных дубликатов"
   ]
  },
  {
   "cell_type": "markdown",
   "id": "4c8f9926",
   "metadata": {},
   "source": [
    "Как упоминалось ранее, для «gender» 49 различных значений, и было подозрение, что некоторые из этих значений не следует рассматривать как разные категории. В конечном итоге для простоты мы разделим данные на 3 категории: мужчина, женщина и другие (сюда вошли те категории, которые можно однозначно исключить из предыдущих двух, для примера - трансгендер).\n",
    "\n",
    "Если бы требовалось создать механизм предварительной обработки, который мог бы очищать входящие данные, требовалось бы воспользоваться более умным подходом. Но так как наша задача — это работа с уже имеющемся датасетом, то мы просто используем этот подход с заменой определенных типов."
   ]
  },
  {
   "cell_type": "markdown",
   "id": "dc562096",
   "metadata": {},
   "source": [
    "```python\n",
    "male_terms = [\"male\", \"m\", \"mal\", \"msle\", \"malr\", \"mail\", \"make\", \"cis male\", \"man\", \"maile\", \"male (cis)\", \"cis man\"] \n",
    "female_terms = [\"female\", \"f\", \"woman\", \"femake\", \"femaile\", \"femake\", \"cis female\", \"cis-female/femme\", \"female (cis)\", \"femail\", \"cis woman\"] \n",
    "\n",
    "def clean_gender(response): \n",
    "    if response.lower().rstrip() in male_terms: \n",
    "        return \"Male\" \n",
    "    elif response.lower().rstrip() in female_terms: \n",
    "        return \"Female\" \n",
    "    else:  \n",
    "        return \"Other\" \n",
    "\n",
    "df['Gender'] = df[\"Gender\"].apply(lambda x: clean_gender(x)) \n",
    "```"
   ]
  },
  {
   "cell_type": "markdown",
   "id": "39a9a4f7",
   "metadata": {},
   "source": [
    "## Обработка нулевых значений"
   ]
  },
  {
   "cell_type": "markdown",
   "id": "e403056a",
   "metadata": {},
   "source": [
    "В любом наборе данных реального мира всегда есть несколько нулевых значений. На самом деле не имеет значения, является ли это регрессией, классификацией или любой другой проблемой, ни одна модель не может обрабатывать эти значения NULL или NaN самостоятельно, поэтому нам нужно вмешаться.\n",
    "\n",
    "В питоне NULL представлен NaN. Так что не запутайтесь между этими двумя, их можно использовать взаимозаменяемо.\n",
    "\n",
    "Прежде всего, нам нужно проверить, есть ли у нас нулевые значения в нашем наборе данных или нет. Мы можем сделать это с помощью метода isnull ()."
   ]
  },
  {
   "cell_type": "markdown",
   "id": "bff4d22a",
   "metadata": {},
   "source": [
    "```python\n",
    "df.isnull()  \n",
    "```"
   ]
  },
  {
   "cell_type": "markdown",
   "id": "90f84f09",
   "metadata": {},
   "source": [
    "Есть разные способы решения этой проблемы. Самый простой способ решить эту проблему - удалить строки или столбцы, содержащие нулевые значения."
   ]
  },
  {
   "cell_type": "markdown",
   "id": "75f53640",
   "metadata": {},
   "source": [
    "```python\n",
    "df.dropna()\n",
    "```"
   ]
  },
  {
   "cell_type": "markdown",
   "id": "2f8e815d",
   "metadata": {},
   "source": [
    "dropna () принимает различные параметры, такие как:\n",
    "\n",
    "1. axis - мы можем указать axis = 0, если мы хотим удалить строки, и axis = 1, если мы хотим удалить столбцы.\n",
    "2. how - если мы укажем how = ‘all’, тогда строки и столбцы будут отброшены только в том случае, если все значения равны NaN. По умолчанию для how задано значение any.\n",
    "3. thresh - определяет пороговое значение, поэтому, если мы укажем thresh = 5, то строки, имеющие менее 5 реальных значений, будут отброшены.\n",
    "4. Подмножество - если у нас есть 4 столбца A, B, C и D, то если мы укажем subset = [‘C’], то будут удалены только те строки, которые имеют значение C в виде NaN.\n",
    "5. На месте - по умолчанию никакие изменения не будут внесены в ваш фрейм данных. Поэтому, если вы хотите, чтобы эти изменения отразились на вашем фрейме данных, вам нужно использовать inplace = True."
   ]
  },
  {
   "cell_type": "markdown",
   "id": "a116600c",
   "metadata": {},
   "source": [
    "Однако это не лучший вариант удаления строк и столбцов из нашего набора данных, так как это может привести к потере ценной информации. Если у вас есть 300K точек данных, то удаление 2–3 строк не сильно повлияет на ваш набор данных, но если у вас есть только 100 точек данных, из которых 20 имеют значения NaN для определенного поля, вы не можете просто отбросить эти строки. В реальных наборах данных может случиться так, что у вас есть большое количество значений NaN для определенного поля."
   ]
  },
  {
   "cell_type": "markdown",
   "id": "127ea466",
   "metadata": {},
   "source": [
    "Например - предположим, что мы собираем данные из опроса, тогда возможно, что может быть необязательное поле, которое, скажем, 20% людей оставит пустым. Итак, когда мы получаем набор данных, мы должны понимать, что оставшиеся 80% данных все еще полезно, поэтому вместо того, чтобы отбрасывать эти значения, нам нужно как-то заменить недостающие 20% -ые значения Мы можем сделать это с помощью **Вменение** или заменить их на отрицательное число которое не встречается в таблице например -1.\n",
    "\n"
   ]
  },
  {
   "cell_type": "markdown",
   "id": "b7956148",
   "metadata": {},
   "source": [
    "### Вменение "
   ]
  },
  {
   "cell_type": "markdown",
   "id": "43021e07",
   "metadata": {},
   "source": [
    "Импутация - это просто процесс подстановки пропущенных значений в нашем наборе данных. Мы можем сделать это, определив нашу собственную настраиваемую функцию, или мы можем просто выполнить импутацию, используяImputerкласс предоставлен sklearn."
   ]
  },
  {
   "cell_type": "markdown",
   "id": "7f9df8a4",
   "metadata": {},
   "source": [
    "```python\n",
    "from sklearn.preprocessing import Imputer\n",
    "\n",
    "imputer = Imputer(missing_values='NaN' ,strategy='mean')\n",
    "imputer = imputer.fit(df[['C','D']])\n",
    "df[['C','D']] = imputer.transform(df[['C','D']])\n",
    "```"
   ]
  },
  {
   "cell_type": "markdown",
   "id": "a1a71dff",
   "metadata": {},
   "source": [
    "Здесь у нас есть два столбца с пропущенными значениями: C и D.\n",
    "\n",
    "Значения здесь используется возвращаемое пустое представление фрейма данных.\n",
    "Будут возвращены только значения во фрейме данных, метки осей будут удалены."
   ]
  },
  {
   "cell_type": "code",
   "execution_count": null,
   "id": "276cfe59",
   "metadata": {},
   "outputs": [],
   "source": []
  },
  {
   "cell_type": "markdown",
   "id": "6652028f",
   "metadata": {},
   "source": [
    "## Пропуски"
   ]
  },
  {
   "cell_type": "markdown",
   "id": "1c6b32a7",
   "metadata": {},
   "source": [
    "Очень часто случается так, что в наборе данных пропущены те или иные значения. Данные с пропусками чаще всего нельзя просто так взять передать в модель. Самый простой способ избавиться от пропусков в данных — просто удалить строки, в которых есть пропущенные значения. Но бывают случаи, когда такое удаление строк может привести к потере большого количества информации."
   ]
  },
  {
   "cell_type": "markdown",
   "id": "d9715528",
   "metadata": {},
   "source": [
    "Помимо удаления строк существуют иные, более \"стойкие\" к потере обучающей информации, методы. Прежде чем рассмотреть эти методы, отмечу, что признаки можно поделить на категориальные и численные."
   ]
  },
  {
   "cell_type": "markdown",
   "id": "2db2bd56",
   "metadata": {},
   "source": [
    "### Пропуски в категориальных признаках"
   ]
  },
  {
   "cell_type": "markdown",
   "id": "08a5870a",
   "metadata": {},
   "source": [
    "полнить пропуски в категориальных признаках можно следующими способами:\n",
    "* Заменить пропущенное значение новой категорией \"Неизвестно\".\n",
    "* Заменить пропущенное значение наиболее популярным значением."
   ]
  },
  {
   "cell_type": "markdown",
   "id": "98e4f475",
   "metadata": {},
   "source": [
    "### Пропуски в численных признаках"
   ]
  },
  {
   "cell_type": "markdown",
   "id": "a770ebe6",
   "metadata": {},
   "source": [
    "Если имеем дело с численными признаками, можно применить следующие подходы:\n",
    "* Заменить пропущенное значение средним значением.\n",
    "* Заменить пропущенное значение медианой. Если в данных присутствуют выбросы, этот способ замены пропусков является предпочтительным."
   ]
  },
  {
   "cell_type": "markdown",
   "id": "5fb98d52",
   "metadata": {},
   "source": [
    "## Выбросы"
   ]
  },
  {
   "cell_type": "markdown",
   "id": "52966811",
   "metadata": {},
   "source": [
    "В данных могут присутствовать значения, являющиеся выбросами. Это, как правило, не ошибки. Однако, своими значениями они \"шокируют\" модель."
   ]
  },
  {
   "cell_type": "markdown",
   "id": "ea6aaa76",
   "metadata": {},
   "source": [
    "Для того, чтобы определить, является ли значение выбросом, пользуются характеристикой выборки, называемой интерквартильным размахом. Определяется он следующим образом:\n",
    "$$\n",
    "IQR=Q_3 - Q_1\n",
    "$$"
   ]
  },
  {
   "cell_type": "markdown",
   "id": "12fb6172",
   "metadata": {},
   "source": [
    "где $Q_1$ — первая квартиль — такое значение признака, меньше которого ровно 25% всех значений признаков. $Q_3$ — третья квартиль — значение, меньше которого ровно 75% всех значений признака.\n",
    "\n"
   ]
  },
  {
   "cell_type": "markdown",
   "id": "da3d5a0b",
   "metadata": {},
   "source": [
    "Для того, чтобы понять, является ли значение выбросом, можно воспользоваться эвристикой: выбросы лежат за пределами следующего интервала:\n",
    "\n",
    "$$[ Q_1 -1.5IQR, Q_3 + 1.5IQR ]$$\n",
    "\n",
    "Чаще всего от выбросов в обучающей выборке лучше всего избавляться."
   ]
  },
  {
   "cell_type": "markdown",
   "id": "72bae7cd",
   "metadata": {},
   "source": [
    "## Нормализация"
   ]
  },
  {
   "cell_type": "markdown",
   "id": "6a8475f0",
   "metadata": {},
   "source": [
    "Нормализация — это приведение всех значений признака к новому диапазону. Например, к диапазону [0, 1]. Это полезно, поскольку значения признаков могут изменяться в очень большом диапазоне. Причем, значения разных признаков могут отличаться на несколько порядков. А после нормализации они все будут находиться в узком (и, часто, едином) диапазоне."
   ]
  },
  {
   "cell_type": "markdown",
   "id": "0fc85f7f",
   "metadata": {},
   "source": [
    "Наиболее популярным способом нормализации является нормализация методом минимакса. Для того, чтобы применить этот метод, должно быть известно максимальное и минимальное значение признака. Проблема в том, что эти значения известны не всегда.\n",
    "\n",
    "$$ x_{new} = \\frac{ x_{old} - x_{min}} {x_{max} - x_{min}} $$"
   ]
  },
  {
   "cell_type": "markdown",
   "id": "a4f39cd7",
   "metadata": {},
   "source": [
    "Также довольно популярным методом является Z-нормализация. Диапазон новых значений для Z-нормализации выглядит следующим образом:\n",
    "\n",
    "$$(-3σ[X], 3σ[X]),$$\n",
    "\n",
    "где $σ[X]$ — среднеквадратическое отклонение признака X."
   ]
  },
  {
   "cell_type": "markdown",
   "id": "48d8100b",
   "metadata": {},
   "source": [
    "Выполняется Z-нормализация по формуле ниже.\n",
    "\n",
    "$$x_{new} = \\frac{x_{old} - M[X]} {σ[X]}$$\n",
    "\n",
    "где M[X] — математическое ожидание признака X.\n",
    "\n",
    "Отмечу, что в случае применения Z-нормализации к нескольким признакам, диапазон значений для них будет разным."
   ]
  },
  {
   "cell_type": "markdown",
   "id": "83a7b2bb",
   "metadata": {},
   "source": [
    "## One-hot encoding"
   ]
  },
  {
   "cell_type": "markdown",
   "id": "5a34ef98",
   "metadata": {},
   "source": [
    "Это способ предварительной обработки категориальных признаков. Многие модели плохо работают с категориальными признаками как таковыми. Дело в том, что слово \"Российская Федерация\" нельзя просто взять и умножить на какое-нибудь число. Но многие модели работают именно так: берется коэффициент и на него умножается значение признака. Аналогичная операция выполняется с остальными признаками. Все результаты суммируются. На основе значения суммы делается вывод о принадлежности объекта к тому или иному классу (такие модели называются линейными)."
   ]
  },
  {
   "cell_type": "markdown",
   "id": "3baade81",
   "metadata": {},
   "source": [
    "Однако, как поступать с признаками, значения которых нельзя выразить численно? Можно заменить их значения численным идентификатором. Например, вместо значения \"Российская Федерация\" использовать значение 1, а вместо \"Великобритания\" — 2. Тогда линейная модель будет работать. Но, если поступить таким образом, будет утеряно свойство категориальности признака. Иными словами, модель будет пытаться сравнивать идентификаторы признаков между собой. Но они не сравнимы по значению."
   ]
  },
  {
   "cell_type": "markdown",
   "id": "a426c918",
   "metadata": {},
   "source": [
    "Чтобы бороться с этой проблемой, был придуман способ преобразовать исходный признак в несколько новых, бинарных признаков. Например, можно признак \"Страна\" превратить в 4 новых бинарных признака следующим образом:"
   ]
  },
  {
   "cell_type": "markdown",
   "id": "50051a20",
   "metadata": {},
   "source": [
    "| ID | Имя     | Страна Российская Федерация | Страна_Великобритания |Страна Северная Корея | Страна_Бразилия |\n",
    "| -- |  ------ | --------------------------- | --------------------- | -------------------- | --------------- |\n",
    "| 1  | Иван    | 1                           | 0                     | 0                    | 0               |\n",
    "| 2  | Майкл   | 0                           | 1                     | 0                    | 0               |\n",
    "| 3  | Ким     | 0                           | 0                     | 1                    | 0               |\n",
    "| 4  | Олег    | 1                           | 0                     | 0                    | 0               |\n",
    "| 5  | Педро   | 0                           | 0                     | 0                    | 1               |\n",
    "| 6  | Валерий | 1                           | 0                     | 0                    | 0               |"
   ]
  },
  {
   "cell_type": "markdown",
   "id": "2efce3f0",
   "metadata": {},
   "source": [
    "Для каждого из этих признаков линейная модель будет использовать независимый коэффициент и, таким образом, не будет сравнивать категориальные значения одного и того же признака между собой."
   ]
  },
  {
   "cell_type": "markdown",
   "id": "9f15d9df",
   "metadata": {},
   "source": [
    "One-Hot Encoding - довольно крутой и аккуратный хак, но с ним связана только одна проблема: Мультиколлинеарность. Поскольку вы все, должно быть, предположили, что это довольно тяжелое слово, поэтому его должно быть трудно понять, поэтому позвольте мне подтвердить ваше вновь сформировавшееся убеждение. Мультиколлинеарность - это действительно немного хитрая, но чрезвычайно важная концепция статистики. Здесь хорошо то, что нам не нужно понимать все мельчайшие детали мультиколлинеарности, нам просто нужно сосредоточиться на том, как это повлияет на нашу модель. Итак, давайте углубимся в эту концепцию мультиколлинеарности и как она повлияет на нашу модель."
   ]
  },
  {
   "cell_type": "markdown",
   "id": "ecaaa752",
   "metadata": {},
   "source": [
    "код:\n",
    "```python\n",
    "data = pd.get_dummies(df)\n",
    "data\n",
    "```"
   ]
  },
  {
   "cell_type": "markdown",
   "id": "f5165735",
   "metadata": {},
   "source": [
    "### Мультиколлинеарность"
   ]
  },
  {
   "cell_type": "markdown",
   "id": "c2356069",
   "metadata": {},
   "source": [
    "Мультиколлинеарность возникает в нашем наборе данных, когда у нас есть особенности, которые сильно зависят друг от друга. В этом случае у нас есть особенности -\n",
    "\n",
    "color_blue, color_green и color_white, которые все зависят друг от друга, и это может повлиять на нашу модель.\n",
    "\n",
    "* Основное влияние это окажет на то, что это может вызвать Граница решения изменить что может оказать огромное влияние на результат нашей модели.\n",
    "* В дополнение к этому, если у нас есть мультиколлинеарность в нашем наборе данных, мы не сможем использовать наш весовой вектор для вычисления важности функции."
   ]
  },
  {
   "cell_type": "markdown",
   "id": "6cf8dace",
   "metadata": {},
   "source": [
    "Чтобы избежать Multicollinearity\n",
    "\n",
    "Мы можем использовать drop_first = True, чтобы избежать проблемы мультиколлинеарности."
   ]
  },
  {
   "cell_type": "markdown",
   "id": "783b5c97",
   "metadata": {},
   "source": [
    "```python\n",
    "df_cat = pd.get_dummies(df_cat[['color','size','price']],drop_first=True)\n",
    "```\n"
   ]
  },
  {
   "cell_type": "markdown",
   "id": "edb0432d",
   "metadata": {},
   "source": [
    "Здесь drop_first удалит первый столбец цвета. Поэтому здесь color_blue будет удален, и у нас будут только color_green и color_white.\n",
    "\n",
    "Здесь важно отметить, что мы не теряем никакой информации, потому что если color_green и color_white равны 0, то это означает, что цвет должен быть синим. Таким образом, мы можем вывести всю информацию с помощью только этих 2 столбцов, следовательно, сильная взаимосвязь между этими тремя столбцами нарушена."
   ]
  },
  {
   "cell_type": "markdown",
   "id": "b620ac4e",
   "metadata": {
    "heading_collapsed": true
   },
   "source": [
    "## Разбор структурированных данных из JSON"
   ]
  },
  {
   "cell_type": "markdown",
   "id": "d0f8bacc",
   "metadata": {
    "hidden": true
   },
   "source": [
    "Попробуем «разобрать» json-подобный объект.\n",
    "Для этого воспользуемся pandas.json_normalize, который разбирает структурированные данные из JSON в табличный формат, а также json.load, который десериализует текст или байткод, содержащий json-документ в python-объекты. Чтобы применить эти методы ко всей серии, воспользуемся DataFrame.apply (метод не сильно быстрый, но нам требуется выполнить эту операцию всего один раз, поэтому, в данном случае, время смело приносим в жертву)."
   ]
  },
  {
   "cell_type": "markdown",
   "id": "99c08cb6",
   "metadata": {
    "hidden": true
   },
   "source": [
    "```python\n",
    "df_train_extracted = pd.io.json.json_normalize(\n",
    "    df_train['event_data'].apply(json.loads))\n",
    "```"
   ]
  },
  {
   "cell_type": "markdown",
   "id": "dbacd3b9",
   "metadata": {
    "hidden": true
   },
   "source": [
    "Проблема заключается в том, что не все json-подобные объекты удалось полностью разобрать, т.к. на самом деле они не отвечают стандарту json. Например, вот эти колонки остались неразобранными:"
   ]
  },
  {
   "cell_type": "markdown",
   "id": "38d66236",
   "metadata": {
    "hidden": true
   },
   "source": [
    "lower\tflowers\n",
    "0.0\t[0, 0, 0, 0, 0]\n",
    "0.0\t[0, 0, 0, 0, 8]\n",
    "0.0\t[8, 8, 8, 7, 8]\n",
    "shels\n",
    "[2, 3, 1]\n",
    "[2, 3, 2, 1]\n",
    "[2, 3, 2, 3, 2]"
   ]
  },
  {
   "cell_type": "markdown",
   "id": "d5c9954c",
   "metadata": {
    "hidden": true
   },
   "source": [
    "Мы видим списки с пропусками, пустые списки, списки неравной длины, списки словарей, а так-же списки с разным числом вложенных вловарей и даже кортежи списков. Все это возникло потому, что так когда-то кому-то было удобно складировать эти данные в базу данных. Теперь это придется разобрать вручную."
   ]
  },
  {
   "cell_type": "markdown",
   "id": "617c0b61",
   "metadata": {},
   "source": [
    "## Кодирование данных"
   ]
  },
  {
   "cell_type": "markdown",
   "id": "6df81671",
   "metadata": {},
   "source": [
    "На самом деле Pandas группирует и хранит “столбцы” блоками, разбитыми по типам. Иными словами float, int и objects хранятся раздельно, причем оптимизировано, без индексов. С числами все просто — столбцы в блоке объединяются в многомерный массив NumPy. При запросе значения происходит сопоставление индекса с массивом. С объектами немного сложнее. Все это означает, что разные объекты по-разному используют память."
   ]
  },
  {
   "cell_type": "markdown",
   "id": "d920342d",
   "metadata": {},
   "source": [
    "```python\n",
    "numerics_part.info(memory_usage='deep')\n",
    "\n",
    "<class 'pandas.core.frame.DataFrame'>\n",
    "RangeIndex: 200000 entries, 0 to 199999\n",
    "Data columns (total 66 columns):\n",
    "event_code                  200000 non-null int64\n",
    "event_count                 200000 non-null int64\n",
    "game_time                   196724 non-null float64\n",
    "total_duration              34617 non-null float64\n",
    "duration                    67500 non-null float64\n",
    "...\n",
    "end_position                4 non-null float64\n",
    "gate.row                    832 non-null float64\n",
    "gate.column                 832 non-null float64\n",
    "dinosaur_weight             1547 non-null float64\n",
    "dinosaur_count              1550 non-null float64\n",
    "dtypes: float64(64), int64(2)\n",
    "memory usage: 100.7 MB\n",
    "```"
   ]
  },
  {
   "cell_type": "markdown",
   "id": "ef670248",
   "metadata": {},
   "source": [
    "Изменим эту ситуацию и вот как: получим минимальное и максимальное значение в серии, затем сравним его с машинными лимитами для типов Numpy, после чего заменим на наименьшее."
   ]
  },
  {
   "cell_type": "markdown",
   "id": "33b5577e",
   "metadata": {},
   "source": [
    "```python\n",
    "numerics = ['int16', 'int32', 'int64', 'float16', 'float32', 'float64'] \n",
    "for col in df.columns:\n",
    "    col_type = df[col].dtypes\n",
    "    if col_type in numerics:\n",
    "        c_min = df[col].min()\n",
    "        c_max = df[col].max()\n",
    "        if str(col_type)[:3] == 'int':\n",
    "            # последовательно сравниваем от наименьшего инта начиная с np.int8\n",
    "            # наверх и переопределяем тип для серии\n",
    "            if c_min > np.iinfo(np.int8).min and c_max < np.iinfo(np.int8).max:\n",
    "                df[col] = df[col].astype(np.int8)\n",
    "            elif c_min > np.iinfo(np.int16).min and c_max < np.iinfo(np.int16).max:\n",
    "            # и т.д.\n",
    "        else:\n",
    "            # аналогично для float\n",
    "```"
   ]
  },
  {
   "cell_type": "markdown",
   "id": "1a272744",
   "metadata": {},
   "source": [
    "Мы выполнили самопальный вариант понижающего преобразования, выиграв 74.4Mb."
   ]
  },
  {
   "cell_type": "markdown",
   "id": "f39c3db7",
   "metadata": {},
   "source": [
    "```python\n",
    "numerics_part.info(memory_usage='deep', max_cols=0)\n",
    "\n",
    "<class 'pandas.core.frame.DataFrame'>\n",
    "RangeIndex: 200000 entries, 0 to 199999\n",
    "Columns: 66 entries, event_code to dinosaur_count\n",
    "dtypes: float16(61), float32(3), int16(2)\n",
    "memory usage: 26.3 MB\n",
    "```"
   ]
  },
  {
   "cell_type": "markdown",
   "id": "a47c9619",
   "metadata": {},
   "source": [
    "Но у нас все еще есть проблема:\n",
    "\n",
    "Оказывается, везде в датасете использовано число с плавающей точкой, хотя на самом деле никакой потребности в этом нет - в этих данных все числа целые. Исправим эту ситуацию:"
   ]
  },
  {
   "cell_type": "markdown",
   "id": "e0b70bd8",
   "metadata": {},
   "source": [
    "```python\n",
    "numerics_part.fillna(value=-1, inplace=True)\n",
    "numerics_part = numerics_part.astype(int)\n",
    "```"
   ]
  },
  {
   "cell_type": "markdown",
   "id": "90e036e8",
   "metadata": {},
   "source": [
    "**Переходим к объектам.** Тип object в Pandas хранит строковое представление. Строки хранятся фрагментировано - значение в ячейке по сути является указателем. При этом резервируется много памяти и это для нас плохо."
   ]
  },
  {
   "cell_type": "markdown",
   "id": "b263e109",
   "metadata": {},
   "source": [
    "Pandas предоставляет подтип category, который отображает строковые данные на индекс в int, а это то, что нам нужно, т.к. данные будут храниться не в виде указателя, а в виде словаря, в котором целочисленным значениям сопоставлены уникальным значениям данных. Перегоним наши объекты в «категории»:"
   ]
  },
  {
   "cell_type": "markdown",
   "id": "b298a3af",
   "metadata": {},
   "source": [
    "```python\n",
    "# subtype categoty\n",
    "def object_to_category(part):\n",
    "    converted_objects_part = pd.DataFrame()\n",
    "    unconverted_objects_part = pd.DataFrame()\n",
    "    total = len(part)\n",
    "    for col in part.columns:\n",
    "        try:\n",
    "            unic = len(part[col].unique())\n",
    "            if (unic / total) < 0.05:\n",
    "                converted_objects_part.loc[:,col] = part[col].astype('category')\n",
    "            else:\n",
    "                converted_objects_part.loc[:,col] = part[col]\n",
    "        except TypeError:\n",
    "            # unhashable objects can't be categorised\n",
    "            unconverted_objects_part.loc[:,col] = part[col]\n",
    "    return converted_objects_part, unconverted_objects_part\n",
    "```"
   ]
  },
  {
   "cell_type": "markdown",
   "id": "f089b14b",
   "metadata": {},
   "source": [
    "Мы отбросим часть объектов, т.к. договорились ранее не работать с нераспакованной частью json"
   ]
  },
  {
   "cell_type": "markdown",
   "id": "c099b041",
   "metadata": {},
   "source": [
    "```python\n",
    "converted_objects_part, unconverted_objects_part = object_to_category(objects_part)\n",
    "converted_objects_part.info(memory_usage='deep')\n",
    "\n",
    "<class 'pandas.core.frame.DataFrame'>\n",
    "RangeIndex: 200000 entries, 0 to 199999\n",
    "Data columns (total 39 columns):\n",
    "version                2345 non-null category\n",
    "description            69717 non-null category\n",
    "identifier             68610 non-null category\n",
    "...\n",
    "crystal_id             2090 non-null category\n",
    "location               1180 non-null category\n",
    "gate.side              832 non-null category\n",
    "dtypes: category(39)\n",
    "memory usage: 7.9 MB\n",
    "```"
   ]
  },
  {
   "cell_type": "markdown",
   "id": "1bb3681e",
   "metadata": {},
   "source": [
    "Временную метку оптимизируем с помощью функции pandas pd.to_datetime. Параметр format позволяет задать тип представления временной отметки. Дефолтный вот такой: “%d/%m/%Y”. Теперь метка будет выглядеть так:"
   ]
  },
  {
   "cell_type": "markdown",
   "id": "27177c31",
   "metadata": {},
   "source": [
    "```python\n",
    "df_train['timestamp'] = pd.to_datetime(df_train['timestamp'])\n",
    "df_train['timestamp']\n",
    "\n",
    "0        2019-09-06 17:53:46.937000+00:00\n",
    "1        2019-09-06 17:54:17.519000+00:00\n",
    "2        2019-09-06 17:54:56.302000+00:00\n",
    "...\n",
    "199997   2019-08-02 00:06:37.107000+00:00\n",
    "199998   2019-08-02 00:06:38.480000+00:00\n",
    "199999   2019-08-02 00:06:40.684000+00:00\n",
    "Name: timestamp, Length: 200000, dtype: datetime64[ns, UTC]\n",
    "```"
   ]
  },
  {
   "cell_type": "code",
   "execution_count": null,
   "id": "06995ecf",
   "metadata": {},
   "outputs": [],
   "source": []
  }
 ],
 "metadata": {
  "kernelspec": {
   "display_name": "Python 3 (ipykernel)",
   "language": "python",
   "name": "python3"
  },
  "language_info": {
   "codemirror_mode": {
    "name": "ipython",
    "version": 3
   },
   "file_extension": ".py",
   "mimetype": "text/x-python",
   "name": "python",
   "nbconvert_exporter": "python",
   "pygments_lexer": "ipython3",
   "version": "3.9.12"
  },
  "toc": {
   "base_numbering": 1,
   "nav_menu": {},
   "number_sections": true,
   "sideBar": true,
   "skip_h1_title": false,
   "title_cell": "Table of Contents",
   "title_sidebar": "Contents",
   "toc_cell": false,
   "toc_position": {},
   "toc_section_display": true,
   "toc_window_display": true
  }
 },
 "nbformat": 4,
 "nbformat_minor": 5
}
