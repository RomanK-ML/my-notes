{
 "cells": [
  {
   "cell_type": "markdown",
   "source": [
    "# Дисперсия\n",
    "\n",
    "Дисперсия - это мера разброса значений случайной величины X относительно ее математического ожидания M(X). Дисперсия показывает, насколько в среднем значения сосредоточены, сгруппированы около M(X).\n",
    "$D(X) = M(X^2) - (M(X))^2$\n",
    "\n",
    "$\\mu$ - Мат. ожидание\n",
    "$n$ - Количество значений\n",
    "$f$ - частота, количество повторений"
   ],
   "metadata": {
    "collapsed": false,
    "pycharm": {
     "name": "#%% md\n"
    }
   }
  },
  {
   "cell_type": "markdown",
   "source": [
    "## Простая дисперсия\n",
    "\n",
    "Простая дисперсия (для несгруппированных данных) вычисляется по формуле:\n",
    "\n",
    "\n",
    "$\n",
    "\\delta^2 = D = \\frac{\\sum (x - \\mu)^2}{n}\n",
    "$"
   ],
   "metadata": {
    "collapsed": false,
    "pycharm": {
     "name": "#%% md\n"
    }
   }
  },
  {
   "cell_type": "markdown",
   "source": [
    "## Взвешенная дисперсия\n",
    "\n",
    "Взвешенная дисперсия (для вариационного ряда):\n",
    "\n",
    "\n",
    "$\n",
    "\\delta^2 = D = \\frac{\\sum (x - \\overline{x})^2 * f}{\\sum f}\n",
    "$"
   ],
   "metadata": {
    "collapsed": false,
    "pycharm": {
     "name": "#%% md\n"
    }
   }
  },
  {
   "cell_type": "markdown",
   "source": [
    "# Стандартное отклонение\n",
    "\n",
    "$\\delta = \\sqrt D $"
   ],
   "metadata": {
    "collapsed": false,
    "pycharm": {
     "name": "#%% md\n"
    }
   }
  },
  {
   "cell_type": "code",
   "execution_count": null,
   "outputs": [],
   "source": [],
   "metadata": {
    "collapsed": false,
    "pycharm": {
     "name": "#%%\n"
    }
   }
  }
 ],
 "metadata": {
  "kernelspec": {
   "display_name": "Python 3",
   "language": "python",
   "name": "python3"
  },
  "language_info": {
   "codemirror_mode": {
    "name": "ipython",
    "version": 2
   },
   "file_extension": ".py",
   "mimetype": "text/x-python",
   "name": "python",
   "nbconvert_exporter": "python",
   "pygments_lexer": "ipython2",
   "version": "2.7.6"
  }
 },
 "nbformat": 4,
 "nbformat_minor": 0
}