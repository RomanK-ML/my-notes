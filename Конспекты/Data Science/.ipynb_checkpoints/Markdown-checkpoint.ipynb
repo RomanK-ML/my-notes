{
 "cells": [
  {
   "cell_type": "markdown",
   "id": "97674323-71d5-46d3-8b82-7922abf822d1",
   "metadata": {},
   "source": [
    "# Заголовки"
   ]
  },
  {
   "cell_type": "raw",
   "id": "ada235b3-9d74-44e8-9659-72bf2a51012f",
   "metadata": {},
   "source": [
    "# H1\n",
    "## H2\n",
    "### H3\n",
    "#### H4\n",
    "##### H5\n",
    "###### H6"
   ]
  },
  {
   "cell_type": "markdown",
   "id": "0c9bc842-8949-4c0f-88ae-09d692b69705",
   "metadata": {},
   "source": [
    "# Списки"
   ]
  },
  {
   "cell_type": "markdown",
   "id": "4f8138c2-1b46-41ca-b38a-8fd7fac7d48b",
   "metadata": {},
   "source": [
    "Нумерованный список:\n",
    "\n",
    "1. Первый пункт нумерованного списка\n",
    "    1. Второй пункт\n",
    "    1. Второй пункт\n",
    "2. Сами числа не имеют значения, лишь бы это были цифры\n",
    "3. И еще один пункт.\n",
    "\n",
    "Ненумерованный список:\n",
    "- Первый пункт ненумерованного списка\n",
    "- Второй пункт\n",
    "    - Ненумерованный вложенный список.\n",
    "- И еще один пункт."
   ]
  },
  {
   "cell_type": "markdown",
   "id": "c65eb7da-8fe3-4008-89c1-20f49f0eca4f",
   "metadata": {},
   "source": [
    "Нумерованный список:\n",
    "\n",
    "1. Первый пункт нумерованного списка\n",
    "    1. Второй пункт\n",
    "    1. Второй пункт\n",
    "2. Сами числа не имеют значения, лишь бы это были цифры\n",
    "3. И еще один пункт.\n",
    "\n",
    "Ненумерованный список:\n",
    "- Первый пункт ненумерованного списка\n",
    "- Второй пункт\n",
    "    - Ненумерованный вложенный список.\n",
    "- И еще один пункт."
   ]
  },
  {
   "cell_type": "markdown",
   "id": "f1e9fcac-4908-44b3-98b4-92ace2896575",
   "metadata": {},
   "source": [
    "# Ссылки"
   ]
  },
  {
   "cell_type": "markdown",
   "id": "38a9e4a3-a474-431c-a534-90a8118025a0",
   "metadata": {},
   "source": [
    "[ссылка на yandex.ru](https://yandex.ru)."
   ]
  },
  {
   "cell_type": "markdown",
   "id": "954c27c9-7ff0-4198-bb16-b27e1cdd0a9e",
   "metadata": {},
   "source": [
    "[ссылка на yandex.ru](https://yandex.ru)."
   ]
  },
  {
   "cell_type": "markdown",
   "id": "470890f6-0534-4887-9336-4dad40948b91",
   "metadata": {},
   "source": [
    "# Изображения"
   ]
  },
  {
   "cell_type": "markdown",
   "id": "6241d0e2-a1ee-4a6a-9185-d110e0d1804f",
   "metadata": {},
   "source": [
    "![альт картинки](http://static.diy.ru/media/uploaded/bn/2012/12/19/valyanie-iz-shersti-novogodnyaya-yolka-svoimi-rukami.jpg \"опциональный тайтл картинки\")"
   ]
  },
  {
   "cell_type": "markdown",
   "id": "fbb3f74d-4b17-433e-bdbb-610918eac6d4",
   "metadata": {},
   "source": [
    "![альт картинки](http://static.diy.ru/media/uploaded/bn/2012/12/19/valyanie-iz-shersti-novogodnyaya-yolka-svoimi-rukami.jpg \"опциональный тайтл картинки\")"
   ]
  },
  {
   "cell_type": "markdown",
   "id": "a5a754ec-0c2e-438d-808f-b396d299e3a2",
   "metadata": {},
   "source": [
    "# Изображения в ссылках"
   ]
  },
  {
   "cell_type": "markdown",
   "id": "4af40619-819e-448f-9483-9318b1d79280",
   "metadata": {},
   "source": [
    "[![логотип](http://static.diy.ru/media/uploaded/bn/2012/12/19/valyanie-iz-shersti-novogodnyaya-yolka-svoimi-rukami.jpg \"логотип\")](http://static.diy.ru/media/uploaded/bn/2012/12/19/valyanie-iz-shersti-novogodnyaya-yolka-svoimi-rukami.jpg)"
   ]
  },
  {
   "cell_type": "markdown",
   "id": "3791bd0c-ac11-4a2b-a68e-4f13b72f910b",
   "metadata": {},
   "source": [
    "[![логотип](http://static.diy.ru/media/uploaded/bn/2012/12/19/valyanie-iz-shersti-novogodnyaya-yolka-svoimi-rukami.jpg \"логотип\")](http://static.diy.ru/media/uploaded/bn/2012/12/19/valyanie-iz-shersti-novogodnyaya-yolka-svoimi-rukami.jpg)"
   ]
  },
  {
   "cell_type": "markdown",
   "id": "4cbae531-842c-4034-a443-c8f3f53b307c",
   "metadata": {},
   "source": [
    "# Ссылки сносками"
   ]
  },
  {
   "cell_type": "markdown",
   "id": "e0a76db2-e119-4aec-8a85-86f9bc404575",
   "metadata": {},
   "source": [
    "I get 10 times more traffic from [Google][1] than from\n",
    "[Yahoo][2] or [MSN][3].\n",
    "\n",
    "[1]: http://google.com/        \"Google\"\n",
    "[2]: http://search.yahoo.com/  \"Yahoo Search\"\n",
    "[3]: http://search.msn.com/    \"MSN Search\""
   ]
  },
  {
   "cell_type": "markdown",
   "id": "28cc9ee8-bed6-4173-9718-df035686ce70",
   "metadata": {},
   "source": [
    "I get 10 times more traffic from [Google][1] than from\n",
    "[Yahoo][2] or [MSN][3].\n",
    "\n",
    "[1]: http://google.com/        \"Google\"\n",
    "[2]: http://search.yahoo.com/  \"Yahoo Search\"\n",
    "[3]: http://search.msn.com/    \"MSN Search\""
   ]
  },
  {
   "cell_type": "markdown",
   "id": "5eff010b-3782-43d7-a271-cb810145a1dc",
   "metadata": {},
   "source": [
    "# Сноски"
   ]
  },
  {
   "cell_type": "markdown",
   "id": "9602c12c-c4e7-4e50-b2c6-a86166e29586",
   "metadata": {},
   "source": [
    "**Markdown**[^wiki_markdown] — облегчённый язык разметки.\n",
    "[^wiki_markdown]: [ru.wikipedia.org](/wiki/Markdown \"ru.wikipedia.org\")"
   ]
  },
  {
   "cell_type": "markdown",
   "id": "3fdbb40c-2b5b-4e41-ac79-a100816e5f37",
   "metadata": {},
   "source": [
    "**Markdown**[^wiki_markdown] — облегчённый язык разметки.\n",
    "[^wiki_markdown]: [ru.wikipedia.org](/wiki/Markdown \"ru.wikipedia.org\")"
   ]
  },
  {
   "cell_type": "markdown",
   "id": "5e08a481-13a7-46ef-adaa-eade4fc92ce5",
   "metadata": {},
   "source": [
    "# Определения"
   ]
  },
  {
   "cell_type": "markdown",
   "id": "f8699256-b610-440f-ab0a-d5303065b7da",
   "metadata": {},
   "source": [
    "Apple\n",
    ":   Pomaceous fruit of plants of the genus Malus in \n",
    "    the family Rosaceae.\n",
    "\n",
    "Orange\n",
    ":   The fruit of an evergreen tree of the genus Citrus."
   ]
  },
  {
   "cell_type": "markdown",
   "id": "a0f8aad3-a00e-4948-956f-1e1ce6d00c9e",
   "metadata": {},
   "source": [
    "Apple\n",
    ":   Pomaceous fruit of plants of the genus Malus in \n",
    "    the family Rosaceae.\n",
    "\n",
    "Orange\n",
    ":   The fruit of an evergreen tree of the genus Citrus."
   ]
  },
  {
   "cell_type": "markdown",
   "id": "bd0a5835-3fc2-4acf-9254-15079fde0b60",
   "metadata": {},
   "source": [
    "# Фрагмент кода"
   ]
  },
  {
   "cell_type": "markdown",
   "id": "9864622e-7fb9-4509-801c-ec7d0e98c6eb",
   "metadata": {},
   "source": [
    "```javascript\n",
    "var s = \"Подсветка JavaScript\";\n",
    "alert(s);\n",
    "```\n",
    " \n",
    "```python\n",
    "s = \"Подсветка Python\"\n",
    "print s\n",
    "```\n",
    " \n",
    "```\n",
    "Язык не указан, синтаксис не подсвечен.\n",
    "Но мы вставим в него <b>тег</b>.\n",
    "```"
   ]
  },
  {
   "cell_type": "markdown",
   "id": "189b602f-686d-4da8-8bd0-8f5735aaa085",
   "metadata": {},
   "source": [
    "```javascript\n",
    "var s = \"Подсветка JavaScript\";\n",
    "alert(s);\n",
    "```\n",
    " \n",
    "```python\n",
    "s = \"Подсветка Python\"\n",
    "print s\n",
    "```\n",
    " \n",
    "```\n",
    "Язык не указан, синтаксис не подсвечен.\n",
    "Но мы вставим в него <b>тег</b>.\n",
    "```"
   ]
  },
  {
   "cell_type": "markdown",
   "id": "4f71c17c-a899-41af-ba79-2be0f43f0bf8",
   "metadata": {},
   "source": [
    "# Горизонтальная линия"
   ]
  },
  {
   "cell_type": "markdown",
   "id": "a5611059-5a83-4ce7-b746-304a690d750f",
   "metadata": {},
   "source": [
    "* * *\n",
    "***\n",
    "- - -\n",
    "---------------------------------------"
   ]
  },
  {
   "cell_type": "markdown",
   "id": "5ac5e381-123e-48b7-bcb0-b5f456bfd28c",
   "metadata": {},
   "source": [
    "* * *\n",
    "***\n",
    "- - -\n",
    "---------------------------------------"
   ]
  },
  {
   "cell_type": "markdown",
   "id": "f847ff88-0424-4672-8f2a-71b5405c7a6a",
   "metadata": {},
   "source": [
    "# Таблицы"
   ]
  },
  {
   "cell_type": "markdown",
   "id": "a9974e45-0d97-45f8-8bae-6d496638602f",
   "metadata": {},
   "source": [
    "Обязательно требуют заголовок и настройки выравнивания (второй строкой). Выравнивание задаётся двоеточием. Колонки задаются вертикальным палками (|)\n",
    "\n",
    "| Tables        | Are           | Cool  |\n",
    "| ------------- |:-------------:| -----:|\n",
    "| col 3 is      | right-aligned | $1600 |\n",
    "| col 2 is      | centered      |   $12 |\n",
    "| zebra stripes | are neat      |    $1 |\n",
    "\n",
    "Внешние вертикальные палки (|) задавать необзяательно, также не требуется подгонять колонки под один размер. Можно использовать стили, описанные выше.\n",
    "\n",
    "Markdown | Less | Pretty\n",
    "--- | --- | ---\n",
    "*Still* | `renders` | **nicely**\n",
    "1 | 2 | 3\n"
   ]
  },
  {
   "cell_type": "markdown",
   "id": "7cad4c56-9582-4386-b81a-de674b3081cf",
   "metadata": {},
   "source": [
    "# Встроенный HTML"
   ]
  },
  {
   "cell_type": "markdown",
   "id": "4a24bf4c-96d3-44d5-a5e5-897b2f007713",
   "metadata": {},
   "source": [
    "<dl>\n",
    "  <dt>Список определений</dt>\n",
    "  <dd>Это то, что люди иногда используют.</dd>\n",
    "\n",
    "  <dt>Markdown внутри HTML</dt>\n",
    "  <dd>Работает *не очень** хорошо. Используйте HTML-<em>теги</em>.</dd>\n",
    "</dl>"
   ]
  },
  {
   "cell_type": "markdown",
   "id": "9be1d214-77f7-4254-8c94-e81c70361bc4",
   "metadata": {},
   "source": [
    "<dl>\n",
    "  <dt>Список определений</dt>\n",
    "  <dd>Это то, что люди иногда используют.</dd>\n",
    "\n",
    "  <dt>Markdown внутри HTML</dt>\n",
    "  <dd>Работает *не очень** хорошо. Используйте HTML-<em>теги</em>.</dd>\n",
    "</dl>"
   ]
  },
  {
   "cell_type": "markdown",
   "id": "be9db014-894a-44bc-b13e-9c366d3f890c",
   "metadata": {},
   "source": [
    "# Видео Youtube"
   ]
  },
  {
   "cell_type": "markdown",
   "id": "e7252fe9-fdf5-47fc-afd6-2acb5a27390f",
   "metadata": {},
   "source": [
    "<a href=\"http://www.youtube.com/watch?feature=player_embedded&v=ID_ВИДЕОРОЛИКА_НА_YOUTUBE\" target=\"_blank\"><img src=\"http://img.youtube.com/vi/ID_ВИДЕОРОЛИКА_НА_YOUTUBE/0.jpg\" \n",
    "alt=\"ALT-ТЕКСТ ИЗОБРАЖЕНИЯ\" width=\"240\" height=\"180\" border=\"10\" /></a>\n",
    "\n",
    "<a href=\"http://www.youtube.com/watch?feature=player_embedded&v=ID_ВИДЕОРОЛИКА_НА_YOUTUBE\" target=\"_blank\"><img src=\"http://img.youtube.com/vi/ID_ВИДЕОРОЛИКА_НА_YOUTUBE/0.jpg\" \n",
    "alt=\"ALT-ТЕКСТ ИЗОБРАЖЕНИЯ\" width=\"240\" height=\"180\" border=\"10\" /></a>"
   ]
  },
  {
   "cell_type": "markdown",
   "id": "614748ac-1965-4186-a5d9-2c72757499c6",
   "metadata": {},
   "source": [
    "<a href=\"http://www.youtube.com/watch?feature=player_embedded&v=ID_ВИДЕОРОЛИКА_НА_YOUTUBE\" target=\"_blank\"><img src=\"http://img.youtube.com/vi/ID_ВИДЕОРОЛИКА_НА_YOUTUBE/0.jpg\" \n",
    "alt=\"ALT-ТЕКСТ ИЗОБРАЖЕНИЯ\" width=\"240\" height=\"180\" border=\"10\" /></a>\n",
    "\n",
    "<a href=\"http://www.youtube.com/watch?feature=player_embedded&v=ID_ВИДЕОРОЛИКА_НА_YOUTUBE\" target=\"_blank\"><img src=\"http://img.youtube.com/vi/ID_ВИДЕОРОЛИКА_НА_YOUTUBE/0.jpg\" \n",
    "alt=\"ALT-ТЕКСТ ИЗОБРАЖЕНИЯ\" width=\"240\" height=\"180\" border=\"10\" /></a>"
   ]
  },
  {
   "cell_type": "markdown",
   "id": "44db0c5c-a004-4326-ad6b-4ae879760d95",
   "metadata": {},
   "source": [
    "# Формулы"
   ]
  },
  {
   "cell_type": "markdown",
   "id": "ac60e07e-6da2-4d93-b987-30a49d5fb2a3",
   "metadata": {},
   "source": [
    "Возведение в степень:  \n",
    "$x$, $x^2$, $x^3$\n",
    "\n",
    "Нижняя нумерация:  \n",
    "$w = [w_0, w_1]$  \n",
    "$y=w_1x+w_0$\n",
    "\n",
    "y с крышечкой:  \n",
    "$y_i-\\hat{y_i}$\n",
    "\n",
    "$$\n",
    "X_{scaled} = \\frac{X - X_{\\min}}{X_{\\max} - X_{\\min}}\n",
    "$$  \n",
    "\n",
    "$$\n",
    "\\text{absolute error} = |y_1 - \\hat{y}_1| + |y_2 - \\hat{y}_2| + \\ldots\n",
    "$$  \n",
    "\n",
    "$$\n",
    "\\text{absolute error} = (y_1 - \\hat{y}_1)^2 + (y_2 - \\hat{y}_2)^2 + \\ldots\n",
    "$$\n",
    "\n",
    "$$\n",
    "\\text{absolute error} = (y_1 - \\hat{y}_1)^2 + (y_2 - \\hat{y}_2)^2 + \\ldots\n",
    "$$\n",
    "\n",
    "$$\n",
    "D = \\{(x_i, y_i) \\}_{i=\\overline{1,N}}\n",
    "$$\n",
    "\n",
    "$$\n",
    "L(\\hat{y}, y) = \\frac{1}{N}\\sum_{i=1}^{N}\\left(y_i - \\hat{y_i}\\right)^2 = \\frac{1}{N}\\sum_{i=1}^{N}\\left(y_i -  \\sum_{j=1}^{n}w_jx_i^j\\right)^2\n",
    "$$\n",
    "\n",
    "$$\n",
    "\\overline{w} = \\left(X^TX\\right)^{-1}X^T\\overline{y}\n",
    "$$\n",
    "\n",
    "$$\n",
    "\\left\\{\n",
    "\\begin{array}{l}\n",
    "y^1 = w_1x^1_1 + w_0x^1_0 \\\\\n",
    "y^2 = w_1x^2_1 + w_0x^2_0 \\\\\n",
    "y^3 = w_1x^3_1 + w_0x^3_0 \\\\\n",
    "y^4 = w_1x^4_1 + w_0x^4_0 \\\\\n",
    "\\end{array}\n",
    "\\right.\n",
    "$$\n",
    "\n",
    "$$\n",
    "dist = \\sqrt{(x_1-y_1)^2 + (x_2 - y_2)^2 + \\ldots + (x_n - y_n)^2}\n",
    "$$\n",
    "\n",
    "$$\n",
    "logloss = -\\frac{1}{l} \\cdot \\sum_{i=1}^{l} (y_i \\cdot log(\\hat{y}_i) + (1 - y_i) \\cdot log(1 - \\hat{y}_i))\n",
    "$$"
   ]
  },
  {
   "cell_type": "markdown",
   "id": "ceef06ee-cd03-46b0-9ebc-d22b63810920",
   "metadata": {},
   "source": [
    "Возведение в степень:  \n",
    "$x$, $x^2$, $x^3$\n",
    "\n",
    "Нижняя нумерация:  \n",
    "$w = [w_0, w_1]$  \n",
    "$y=w_1x+w_0$\n",
    "\n",
    "y с крышечкой:  \n",
    "$y_i-\\hat{y_i}$\n",
    "\n",
    "$$\n",
    "X_{scaled} = \\frac{X - X_{\\min}}{X_{\\max} - X_{\\min}}\n",
    "$$  \n",
    "\n",
    "$$\n",
    "\\text{absolute error} = |y_1 - \\hat{y}_1| + |y_2 - \\hat{y}_2| + \\ldots\n",
    "$$  \n",
    "\n",
    "$$\n",
    "\\text{absolute error} = (y_1 - \\hat{y}_1)^2 + (y_2 - \\hat{y}_2)^2 + \\ldots\n",
    "$$\n",
    "\n",
    "$$\n",
    "\\text{absolute error} = (y_1 - \\hat{y}_1)^2 + (y_2 - \\hat{y}_2)^2 + \\ldots\n",
    "$$\n",
    "\n",
    "$$\n",
    "D = \\{(x_i, y_i) \\}_{i=\\overline{1,N}}\n",
    "$$\n",
    "\n",
    "$$\n",
    "L(\\hat{y}, y) = \\frac{1}{N}\\sum_{i=1}^{N}\\left(y_i - \\hat{y_i}\\right)^2 = \\frac{1}{N}\\sum_{i=1}^{N}\\left(y_i -  \\sum_{j=1}^{n}w_jx_i^j\\right)^2\n",
    "$$\n",
    "\n",
    "$$\n",
    "\\overline{w} = \\left(X^TX\\right)^{-1}X^T\\overline{y}\n",
    "$$\n",
    "\n",
    "$$\n",
    "\\left\\{\n",
    "\\begin{array}{l}\n",
    "y^1 = w_1x^1_1 + w_0x^1_0 \\\\\n",
    "y^2 = w_1x^2_1 + w_0x^2_0 \\\\\n",
    "y^3 = w_1x^3_1 + w_0x^3_0 \\\\\n",
    "y^4 = w_1x^4_1 + w_0x^4_0 \\\\\n",
    "\\end{array}\n",
    "\\right.\n",
    "$$"
   ]
  },
  {
   "cell_type": "code",
   "execution_count": null,
   "id": "d4c53c33-447b-4ae2-aa00-b0906e016bf1",
   "metadata": {},
   "outputs": [],
   "source": []
  },
  {
   "cell_type": "code",
   "execution_count": null,
   "id": "17bc0549-dba3-4955-bb91-e02e24031851",
   "metadata": {},
   "outputs": [],
   "source": []
  }
 ],
 "metadata": {
  "kernelspec": {
   "display_name": "Python 3 (ipykernel)",
   "language": "python",
   "name": "python3"
  },
  "language_info": {
   "codemirror_mode": {
    "name": "ipython",
    "version": 3
   },
   "file_extension": ".py",
   "mimetype": "text/x-python",
   "name": "python",
   "nbconvert_exporter": "python",
   "pygments_lexer": "ipython3",
   "version": "3.9.12"
  }
 },
 "nbformat": 4,
 "nbformat_minor": 5
}
