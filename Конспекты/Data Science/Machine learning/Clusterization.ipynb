{
 "cells": [
  {
   "cell_type": "markdown",
   "id": "6a74f273-1a62-41b2-825e-219dc28b175a",
   "metadata": {
    "pycharm": {
     "name": "#%% md\n"
    }
   },
   "source": [
    "# Загрузка данных"
   ]
  },
  {
   "cell_type": "code",
   "execution_count": 4,
   "id": "d0b4770f-a199-45ed-aef3-771cadbca91c",
   "metadata": {
    "pycharm": {
     "name": "#%%\n"
    }
   },
   "outputs": [],
   "source": [
    "import numpy as np\n",
    "import pandas as pd\n",
    "import matplotlib.pyplot as plt\n",
    "import seaborn as sns\n",
    "%matplotlib inline"
   ]
  },
  {
   "cell_type": "code",
   "execution_count": 5,
   "id": "afd6b987-b358-4649-bb1d-7453e956391b",
   "metadata": {
    "pycharm": {
     "name": "#%%\n"
    }
   },
   "outputs": [
    {
     "data": {
      "text/html": [
       "<div>\n",
       "<style scoped>\n",
       "    .dataframe tbody tr th:only-of-type {\n",
       "        vertical-align: middle;\n",
       "    }\n",
       "\n",
       "    .dataframe tbody tr th {\n",
       "        vertical-align: top;\n",
       "    }\n",
       "\n",
       "    .dataframe thead th {\n",
       "        text-align: right;\n",
       "    }\n",
       "</style>\n",
       "<table border=\"1\" class=\"dataframe\">\n",
       "  <thead>\n",
       "    <tr style=\"text-align: right;\">\n",
       "      <th></th>\n",
       "      <th>fixed acidity</th>\n",
       "      <th>volatile acidity</th>\n",
       "      <th>citric acid</th>\n",
       "      <th>residual sugar</th>\n",
       "      <th>chlorides</th>\n",
       "      <th>free sulfur dioxide</th>\n",
       "      <th>total sulfur dioxide</th>\n",
       "      <th>density</th>\n",
       "      <th>pH</th>\n",
       "      <th>sulphates</th>\n",
       "      <th>alcohol</th>\n",
       "      <th>quality</th>\n",
       "    </tr>\n",
       "  </thead>\n",
       "  <tbody>\n",
       "    <tr>\n",
       "      <th>0</th>\n",
       "      <td>7.4</td>\n",
       "      <td>0.700</td>\n",
       "      <td>0.00</td>\n",
       "      <td>1.9</td>\n",
       "      <td>0.076</td>\n",
       "      <td>11.0</td>\n",
       "      <td>34.0</td>\n",
       "      <td>0.99780</td>\n",
       "      <td>3.51</td>\n",
       "      <td>0.56</td>\n",
       "      <td>9.4</td>\n",
       "      <td>5</td>\n",
       "    </tr>\n",
       "    <tr>\n",
       "      <th>1</th>\n",
       "      <td>7.8</td>\n",
       "      <td>0.880</td>\n",
       "      <td>0.00</td>\n",
       "      <td>2.6</td>\n",
       "      <td>0.098</td>\n",
       "      <td>25.0</td>\n",
       "      <td>67.0</td>\n",
       "      <td>0.99680</td>\n",
       "      <td>3.20</td>\n",
       "      <td>0.68</td>\n",
       "      <td>9.8</td>\n",
       "      <td>5</td>\n",
       "    </tr>\n",
       "    <tr>\n",
       "      <th>2</th>\n",
       "      <td>7.8</td>\n",
       "      <td>0.760</td>\n",
       "      <td>0.04</td>\n",
       "      <td>2.3</td>\n",
       "      <td>0.092</td>\n",
       "      <td>15.0</td>\n",
       "      <td>54.0</td>\n",
       "      <td>0.99700</td>\n",
       "      <td>3.26</td>\n",
       "      <td>0.65</td>\n",
       "      <td>9.8</td>\n",
       "      <td>5</td>\n",
       "    </tr>\n",
       "    <tr>\n",
       "      <th>3</th>\n",
       "      <td>11.2</td>\n",
       "      <td>0.280</td>\n",
       "      <td>0.56</td>\n",
       "      <td>1.9</td>\n",
       "      <td>0.075</td>\n",
       "      <td>17.0</td>\n",
       "      <td>60.0</td>\n",
       "      <td>0.99800</td>\n",
       "      <td>3.16</td>\n",
       "      <td>0.58</td>\n",
       "      <td>9.8</td>\n",
       "      <td>6</td>\n",
       "    </tr>\n",
       "    <tr>\n",
       "      <th>4</th>\n",
       "      <td>7.4</td>\n",
       "      <td>0.700</td>\n",
       "      <td>0.00</td>\n",
       "      <td>1.9</td>\n",
       "      <td>0.076</td>\n",
       "      <td>11.0</td>\n",
       "      <td>34.0</td>\n",
       "      <td>0.99780</td>\n",
       "      <td>3.51</td>\n",
       "      <td>0.56</td>\n",
       "      <td>9.4</td>\n",
       "      <td>5</td>\n",
       "    </tr>\n",
       "    <tr>\n",
       "      <th>...</th>\n",
       "      <td>...</td>\n",
       "      <td>...</td>\n",
       "      <td>...</td>\n",
       "      <td>...</td>\n",
       "      <td>...</td>\n",
       "      <td>...</td>\n",
       "      <td>...</td>\n",
       "      <td>...</td>\n",
       "      <td>...</td>\n",
       "      <td>...</td>\n",
       "      <td>...</td>\n",
       "      <td>...</td>\n",
       "    </tr>\n",
       "    <tr>\n",
       "      <th>1594</th>\n",
       "      <td>6.2</td>\n",
       "      <td>0.600</td>\n",
       "      <td>0.08</td>\n",
       "      <td>2.0</td>\n",
       "      <td>0.090</td>\n",
       "      <td>32.0</td>\n",
       "      <td>44.0</td>\n",
       "      <td>0.99490</td>\n",
       "      <td>3.45</td>\n",
       "      <td>0.58</td>\n",
       "      <td>10.5</td>\n",
       "      <td>5</td>\n",
       "    </tr>\n",
       "    <tr>\n",
       "      <th>1595</th>\n",
       "      <td>5.9</td>\n",
       "      <td>0.550</td>\n",
       "      <td>0.10</td>\n",
       "      <td>2.2</td>\n",
       "      <td>0.062</td>\n",
       "      <td>39.0</td>\n",
       "      <td>51.0</td>\n",
       "      <td>0.99512</td>\n",
       "      <td>3.52</td>\n",
       "      <td>0.76</td>\n",
       "      <td>11.2</td>\n",
       "      <td>6</td>\n",
       "    </tr>\n",
       "    <tr>\n",
       "      <th>1596</th>\n",
       "      <td>6.3</td>\n",
       "      <td>0.510</td>\n",
       "      <td>0.13</td>\n",
       "      <td>2.3</td>\n",
       "      <td>0.076</td>\n",
       "      <td>29.0</td>\n",
       "      <td>40.0</td>\n",
       "      <td>0.99574</td>\n",
       "      <td>3.42</td>\n",
       "      <td>0.75</td>\n",
       "      <td>11.0</td>\n",
       "      <td>6</td>\n",
       "    </tr>\n",
       "    <tr>\n",
       "      <th>1597</th>\n",
       "      <td>5.9</td>\n",
       "      <td>0.645</td>\n",
       "      <td>0.12</td>\n",
       "      <td>2.0</td>\n",
       "      <td>0.075</td>\n",
       "      <td>32.0</td>\n",
       "      <td>44.0</td>\n",
       "      <td>0.99547</td>\n",
       "      <td>3.57</td>\n",
       "      <td>0.71</td>\n",
       "      <td>10.2</td>\n",
       "      <td>5</td>\n",
       "    </tr>\n",
       "    <tr>\n",
       "      <th>1598</th>\n",
       "      <td>6.0</td>\n",
       "      <td>0.310</td>\n",
       "      <td>0.47</td>\n",
       "      <td>3.6</td>\n",
       "      <td>0.067</td>\n",
       "      <td>18.0</td>\n",
       "      <td>42.0</td>\n",
       "      <td>0.99549</td>\n",
       "      <td>3.39</td>\n",
       "      <td>0.66</td>\n",
       "      <td>11.0</td>\n",
       "      <td>6</td>\n",
       "    </tr>\n",
       "  </tbody>\n",
       "</table>\n",
       "<p>1599 rows × 12 columns</p>\n",
       "</div>"
      ],
      "text/plain": [
       "      fixed acidity  volatile acidity  citric acid  residual sugar  chlorides  \\\n",
       "0               7.4             0.700         0.00             1.9      0.076   \n",
       "1               7.8             0.880         0.00             2.6      0.098   \n",
       "2               7.8             0.760         0.04             2.3      0.092   \n",
       "3              11.2             0.280         0.56             1.9      0.075   \n",
       "4               7.4             0.700         0.00             1.9      0.076   \n",
       "...             ...               ...          ...             ...        ...   \n",
       "1594            6.2             0.600         0.08             2.0      0.090   \n",
       "1595            5.9             0.550         0.10             2.2      0.062   \n",
       "1596            6.3             0.510         0.13             2.3      0.076   \n",
       "1597            5.9             0.645         0.12             2.0      0.075   \n",
       "1598            6.0             0.310         0.47             3.6      0.067   \n",
       "\n",
       "      free sulfur dioxide  total sulfur dioxide  density    pH  sulphates  \\\n",
       "0                    11.0                  34.0  0.99780  3.51       0.56   \n",
       "1                    25.0                  67.0  0.99680  3.20       0.68   \n",
       "2                    15.0                  54.0  0.99700  3.26       0.65   \n",
       "3                    17.0                  60.0  0.99800  3.16       0.58   \n",
       "4                    11.0                  34.0  0.99780  3.51       0.56   \n",
       "...                   ...                   ...      ...   ...        ...   \n",
       "1594                 32.0                  44.0  0.99490  3.45       0.58   \n",
       "1595                 39.0                  51.0  0.99512  3.52       0.76   \n",
       "1596                 29.0                  40.0  0.99574  3.42       0.75   \n",
       "1597                 32.0                  44.0  0.99547  3.57       0.71   \n",
       "1598                 18.0                  42.0  0.99549  3.39       0.66   \n",
       "\n",
       "      alcohol  quality  \n",
       "0         9.4        5  \n",
       "1         9.8        5  \n",
       "2         9.8        5  \n",
       "3         9.8        6  \n",
       "4         9.4        5  \n",
       "...       ...      ...  \n",
       "1594     10.5        5  \n",
       "1595     11.2        6  \n",
       "1596     11.0        6  \n",
       "1597     10.2        5  \n",
       "1598     11.0        6  \n",
       "\n",
       "[1599 rows x 12 columns]"
      ]
     },
     "execution_count": 5,
     "metadata": {},
     "output_type": "execute_result"
    }
   ],
   "source": [
    "df = pd.read_csv(\"data/wineqr/wineqr.csv\")\n",
    "df"
   ]
  },
  {
   "cell_type": "code",
   "execution_count": 6,
   "id": "05bfc24a-1d1c-4b09-9f88-aca5f4695b19",
   "metadata": {
    "pycharm": {
     "name": "#%%\n"
    }
   },
   "outputs": [
    {
     "data": {
      "text/plain": [
       "5    681\n",
       "6    638\n",
       "7    199\n",
       "4     53\n",
       "8     18\n",
       "3     10\n",
       "Name: quality, dtype: int64"
      ]
     },
     "execution_count": 6,
     "metadata": {},
     "output_type": "execute_result"
    }
   ],
   "source": [
    "df[\"quality\"].value_counts()"
   ]
  },
  {
   "cell_type": "code",
   "execution_count": 7,
   "id": "138f1a92-0167-40d4-adbf-9add7c965cd2",
   "metadata": {
    "pycharm": {
     "name": "#%%\n"
    }
   },
   "outputs": [
    {
     "data": {
      "text/html": [
       "<div>\n",
       "<style scoped>\n",
       "    .dataframe tbody tr th:only-of-type {\n",
       "        vertical-align: middle;\n",
       "    }\n",
       "\n",
       "    .dataframe tbody tr th {\n",
       "        vertical-align: top;\n",
       "    }\n",
       "\n",
       "    .dataframe thead th {\n",
       "        text-align: right;\n",
       "    }\n",
       "</style>\n",
       "<table border=\"1\" class=\"dataframe\">\n",
       "  <thead>\n",
       "    <tr style=\"text-align: right;\">\n",
       "      <th></th>\n",
       "      <th>fixed acidity</th>\n",
       "      <th>volatile acidity</th>\n",
       "      <th>citric acid</th>\n",
       "      <th>residual sugar</th>\n",
       "      <th>chlorides</th>\n",
       "      <th>free sulfur dioxide</th>\n",
       "      <th>total sulfur dioxide</th>\n",
       "      <th>density</th>\n",
       "      <th>pH</th>\n",
       "      <th>sulphates</th>\n",
       "      <th>alcohol</th>\n",
       "    </tr>\n",
       "  </thead>\n",
       "  <tbody>\n",
       "    <tr>\n",
       "      <th>0</th>\n",
       "      <td>-0.528360</td>\n",
       "      <td>0.961877</td>\n",
       "      <td>-1.391472</td>\n",
       "      <td>-0.453218</td>\n",
       "      <td>-0.243707</td>\n",
       "      <td>-0.466193</td>\n",
       "      <td>-0.379133</td>\n",
       "      <td>0.558274</td>\n",
       "      <td>1.288643</td>\n",
       "      <td>-0.579207</td>\n",
       "      <td>-0.960246</td>\n",
       "    </tr>\n",
       "    <tr>\n",
       "      <th>1</th>\n",
       "      <td>-0.298547</td>\n",
       "      <td>1.967442</td>\n",
       "      <td>-1.391472</td>\n",
       "      <td>0.043416</td>\n",
       "      <td>0.223875</td>\n",
       "      <td>0.872638</td>\n",
       "      <td>0.624363</td>\n",
       "      <td>0.028261</td>\n",
       "      <td>-0.719933</td>\n",
       "      <td>0.128950</td>\n",
       "      <td>-0.584777</td>\n",
       "    </tr>\n",
       "    <tr>\n",
       "      <th>2</th>\n",
       "      <td>-0.298547</td>\n",
       "      <td>1.297065</td>\n",
       "      <td>-1.186070</td>\n",
       "      <td>-0.169427</td>\n",
       "      <td>0.096353</td>\n",
       "      <td>-0.083669</td>\n",
       "      <td>0.229047</td>\n",
       "      <td>0.134264</td>\n",
       "      <td>-0.331177</td>\n",
       "      <td>-0.048089</td>\n",
       "      <td>-0.584777</td>\n",
       "    </tr>\n",
       "    <tr>\n",
       "      <th>3</th>\n",
       "      <td>1.654856</td>\n",
       "      <td>-1.384443</td>\n",
       "      <td>1.484154</td>\n",
       "      <td>-0.453218</td>\n",
       "      <td>-0.264960</td>\n",
       "      <td>0.107592</td>\n",
       "      <td>0.411500</td>\n",
       "      <td>0.664277</td>\n",
       "      <td>-0.979104</td>\n",
       "      <td>-0.461180</td>\n",
       "      <td>-0.584777</td>\n",
       "    </tr>\n",
       "    <tr>\n",
       "      <th>4</th>\n",
       "      <td>-0.528360</td>\n",
       "      <td>0.961877</td>\n",
       "      <td>-1.391472</td>\n",
       "      <td>-0.453218</td>\n",
       "      <td>-0.243707</td>\n",
       "      <td>-0.466193</td>\n",
       "      <td>-0.379133</td>\n",
       "      <td>0.558274</td>\n",
       "      <td>1.288643</td>\n",
       "      <td>-0.579207</td>\n",
       "      <td>-0.960246</td>\n",
       "    </tr>\n",
       "    <tr>\n",
       "      <th>...</th>\n",
       "      <td>...</td>\n",
       "      <td>...</td>\n",
       "      <td>...</td>\n",
       "      <td>...</td>\n",
       "      <td>...</td>\n",
       "      <td>...</td>\n",
       "      <td>...</td>\n",
       "      <td>...</td>\n",
       "      <td>...</td>\n",
       "      <td>...</td>\n",
       "      <td>...</td>\n",
       "    </tr>\n",
       "    <tr>\n",
       "      <th>1594</th>\n",
       "      <td>-1.217796</td>\n",
       "      <td>0.403229</td>\n",
       "      <td>-0.980669</td>\n",
       "      <td>-0.382271</td>\n",
       "      <td>0.053845</td>\n",
       "      <td>1.542054</td>\n",
       "      <td>-0.075043</td>\n",
       "      <td>-0.978765</td>\n",
       "      <td>0.899886</td>\n",
       "      <td>-0.461180</td>\n",
       "      <td>0.072294</td>\n",
       "    </tr>\n",
       "    <tr>\n",
       "      <th>1595</th>\n",
       "      <td>-1.390155</td>\n",
       "      <td>0.123905</td>\n",
       "      <td>-0.877968</td>\n",
       "      <td>-0.240375</td>\n",
       "      <td>-0.541259</td>\n",
       "      <td>2.211469</td>\n",
       "      <td>0.137820</td>\n",
       "      <td>-0.862162</td>\n",
       "      <td>1.353436</td>\n",
       "      <td>0.601055</td>\n",
       "      <td>0.729364</td>\n",
       "    </tr>\n",
       "    <tr>\n",
       "      <th>1596</th>\n",
       "      <td>-1.160343</td>\n",
       "      <td>-0.099554</td>\n",
       "      <td>-0.723916</td>\n",
       "      <td>-0.169427</td>\n",
       "      <td>-0.243707</td>\n",
       "      <td>1.255161</td>\n",
       "      <td>-0.196679</td>\n",
       "      <td>-0.533554</td>\n",
       "      <td>0.705508</td>\n",
       "      <td>0.542042</td>\n",
       "      <td>0.541630</td>\n",
       "    </tr>\n",
       "    <tr>\n",
       "      <th>1597</th>\n",
       "      <td>-1.390155</td>\n",
       "      <td>0.654620</td>\n",
       "      <td>-0.775267</td>\n",
       "      <td>-0.382271</td>\n",
       "      <td>-0.264960</td>\n",
       "      <td>1.542054</td>\n",
       "      <td>-0.075043</td>\n",
       "      <td>-0.676657</td>\n",
       "      <td>1.677400</td>\n",
       "      <td>0.305990</td>\n",
       "      <td>-0.209308</td>\n",
       "    </tr>\n",
       "    <tr>\n",
       "      <th>1598</th>\n",
       "      <td>-1.332702</td>\n",
       "      <td>-1.216849</td>\n",
       "      <td>1.021999</td>\n",
       "      <td>0.752894</td>\n",
       "      <td>-0.434990</td>\n",
       "      <td>0.203223</td>\n",
       "      <td>-0.135861</td>\n",
       "      <td>-0.666057</td>\n",
       "      <td>0.511130</td>\n",
       "      <td>0.010924</td>\n",
       "      <td>0.541630</td>\n",
       "    </tr>\n",
       "  </tbody>\n",
       "</table>\n",
       "<p>1599 rows × 11 columns</p>\n",
       "</div>"
      ],
      "text/plain": [
       "      fixed acidity  volatile acidity  citric acid  residual sugar  chlorides  \\\n",
       "0         -0.528360          0.961877    -1.391472       -0.453218  -0.243707   \n",
       "1         -0.298547          1.967442    -1.391472        0.043416   0.223875   \n",
       "2         -0.298547          1.297065    -1.186070       -0.169427   0.096353   \n",
       "3          1.654856         -1.384443     1.484154       -0.453218  -0.264960   \n",
       "4         -0.528360          0.961877    -1.391472       -0.453218  -0.243707   \n",
       "...             ...               ...          ...             ...        ...   \n",
       "1594      -1.217796          0.403229    -0.980669       -0.382271   0.053845   \n",
       "1595      -1.390155          0.123905    -0.877968       -0.240375  -0.541259   \n",
       "1596      -1.160343         -0.099554    -0.723916       -0.169427  -0.243707   \n",
       "1597      -1.390155          0.654620    -0.775267       -0.382271  -0.264960   \n",
       "1598      -1.332702         -1.216849     1.021999        0.752894  -0.434990   \n",
       "\n",
       "      free sulfur dioxide  total sulfur dioxide   density        pH  \\\n",
       "0               -0.466193             -0.379133  0.558274  1.288643   \n",
       "1                0.872638              0.624363  0.028261 -0.719933   \n",
       "2               -0.083669              0.229047  0.134264 -0.331177   \n",
       "3                0.107592              0.411500  0.664277 -0.979104   \n",
       "4               -0.466193             -0.379133  0.558274  1.288643   \n",
       "...                   ...                   ...       ...       ...   \n",
       "1594             1.542054             -0.075043 -0.978765  0.899886   \n",
       "1595             2.211469              0.137820 -0.862162  1.353436   \n",
       "1596             1.255161             -0.196679 -0.533554  0.705508   \n",
       "1597             1.542054             -0.075043 -0.676657  1.677400   \n",
       "1598             0.203223             -0.135861 -0.666057  0.511130   \n",
       "\n",
       "      sulphates   alcohol  \n",
       "0     -0.579207 -0.960246  \n",
       "1      0.128950 -0.584777  \n",
       "2     -0.048089 -0.584777  \n",
       "3     -0.461180 -0.584777  \n",
       "4     -0.579207 -0.960246  \n",
       "...         ...       ...  \n",
       "1594  -0.461180  0.072294  \n",
       "1595   0.601055  0.729364  \n",
       "1596   0.542042  0.541630  \n",
       "1597   0.305990 -0.209308  \n",
       "1598   0.010924  0.541630  \n",
       "\n",
       "[1599 rows x 11 columns]"
      ]
     },
     "execution_count": 7,
     "metadata": {},
     "output_type": "execute_result"
    }
   ],
   "source": [
    "from sklearn.preprocessing import StandardScaler\n",
    "\n",
    "y = df[\"quality\"]\n",
    "x = df.drop(\"quality\", axis=1)\n",
    "scaler = StandardScaler()\n",
    "\n",
    "x = pd.DataFrame(scaler.fit_transform(x), columns=x.columns, index=x.index)\n",
    "x"
   ]
  },
  {
   "cell_type": "code",
   "execution_count": 8,
   "id": "47804c93-cf18-4166-8698-bbc3cb0b3803",
   "metadata": {
    "pycharm": {
     "name": "#%%\n"
    }
   },
   "outputs": [
    {
     "data": {
      "text/plain": [
       "<AxesSubplot:>"
      ]
     },
     "execution_count": 8,
     "metadata": {},
     "output_type": "execute_result"
    },
    {
     "data": {
      "image/png": "[encoded data removed]",
      "text/plain": [
       "<Figure size 1152x1152 with 2 Axes>"
      ]
     },
     "metadata": {
      "needs_background": "light"
     },
     "output_type": "display_data"
    }
   ],
   "source": [
    "plt.figure(figsize=(16,16))\n",
    "sns.heatmap(x.corr(), annot=True, fmt='.2f')"
   ]
  },
  {
   "cell_type": "code",
   "execution_count": 9,
   "id": "59c58412-9c20-4f63-becc-35aedd833ae3",
   "metadata": {
    "pycharm": {
     "name": "#%%\n"
    }
   },
   "outputs": [],
   "source": [
    "from sklearn.model_selection import train_test_split\n",
    "\n",
    "x_train, x_valid, y_train, y_valid = train_test_split(x, y, test_size=0.2, random_state=10)"
   ]
  },
  {
   "cell_type": "markdown",
   "id": "d49165f3-8607-4c39-a672-e6d7fc46736a",
   "metadata": {
    "pycharm": {
     "name": "#%% md\n"
    }
   },
   "source": [
    "# Обучение моделей"
   ]
  },
  {
   "cell_type": "markdown",
   "id": "0771fc6f-211a-42d8-9159-9ce21e0eddac",
   "metadata": {
    "pycharm": {
     "name": "#%% md\n"
    }
   },
   "source": [
    "## AffinityPropagation"
   ]
  },
  {
   "cell_type": "code",
   "execution_count": 10,
   "id": "66e60ea7-83e9-49cc-a030-878aa516a93c",
   "metadata": {
    "pycharm": {
     "name": "#%%\n"
    }
   },
   "outputs": [],
   "source": [
    "from sklearn.cluster import AffinityPropagation\n",
    "from sklearn.metrics import adjusted_mutual_info_score\n",
    "\n",
    "model =  AffinityPropagation().fit(x_train)\n",
    "\n",
    "y_pred_train = model.predict(x_train)\n",
    "y_pred_valid = model.predict(x_valid)\n",
    "\n",
    "#adj_train = adjusted_mutual_info_score(y_pred_train, y_train)\n",
    "#adj_valid = adjusted_mutual_info_score(y_pred_valid, y_valid)\n",
    "\n",
    "#print(\"ADJ train: %.2f\" %adj_train)\n",
    "#print(\"ADJ valid: %.2f\" %adj_valid)"
   ]
  },
  {
   "cell_type": "markdown",
   "id": "75890f8f-93a0-4fd2-a0e9-dbb12f043b97",
   "metadata": {
    "pycharm": {
     "name": "#%% md\n"
    }
   },
   "source": [
    "## AgglomerativeClustering"
   ]
  },
  {
   "cell_type": "code",
   "execution_count": 11,
   "id": "268f2a7c-e53c-4067-85ae-a83e16607780",
   "metadata": {
    "pycharm": {
     "name": "#%%\n"
    }
   },
   "outputs": [
    {
     "name": "stderr",
     "output_type": "stream",
     "text": [
      "/home/roman/anaconda3/lib/python3.9/site-packages/sklearn/cluster/_affinity_propagation.py:250: ConvergenceWarning: Affinity propagation did not converge, this model will not have any cluster centers.\n",
      "  warnings.warn(\n",
      "/home/roman/anaconda3/lib/python3.9/site-packages/sklearn/cluster/_affinity_propagation.py:528: ConvergenceWarning: This model does not have any cluster centers because affinity propagation did not converge. Labeling every sample as '-1'.\n",
      "  warnings.warn(\n",
      "/home/roman/anaconda3/lib/python3.9/site-packages/sklearn/cluster/_affinity_propagation.py:528: ConvergenceWarning: This model does not have any cluster centers because affinity propagation did not converge. Labeling every sample as '-1'.\n",
      "  warnings.warn(\n"
     ]
    },
    {
     "data": {
      "text/plain": [
       "array([-1, -1, -1, ..., -1, -1, -1])"
      ]
     },
     "execution_count": 11,
     "metadata": {},
     "output_type": "execute_result"
    }
   ],
   "source": [
    "from sklearn.cluster import AffinityPropagation\n",
    "from sklearn.metrics import adjusted_mutual_info_score\n",
    "\n",
    "model =  AffinityPropagation().fit(x_train)\n",
    "\n",
    "y_pred_train = model.predict(x_train)\n",
    "y_pred_valid = model.predict(x_valid)\n",
    "\n",
    "#adj_train = adjusted_mutual_info_score(y_pred_train, y_train)\n",
    "#adj_valid = adjusted_mutual_info_score(y_pred_valid, y_valid)\n",
    "\n",
    "#print(\"ADJ train: %.2f\" %adj_train)\n",
    "#print(\"ADJ valid: %.2f\" %adj_valid)\n",
    "y_pred_train"
   ]
  },
  {
   "cell_type": "markdown",
   "id": "3770dfc9-c338-449b-af49-40b821de401a",
   "metadata": {
    "pycharm": {
     "name": "#%% md\n"
    }
   },
   "source": [
    "## Birch"
   ]
  },
  {
   "cell_type": "code",
   "execution_count": 12,
   "id": "2ebb1981-9dfd-457d-80e0-eb66d93f6141",
   "metadata": {
    "pycharm": {
     "name": "#%%\n"
    }
   },
   "outputs": [
    {
     "data": {
      "text/plain": [
       "array([1, 0, 2, 0, 1, 1, 1, 1, 2, 3, 1, 0, 0, 5, 3, 0, 0, 0, 3, 3, 0, 0,\n",
       "       0, 0, 3, 0, 2, 3, 2, 0, 3, 0, 0, 1, 1, 0, 1, 3, 1, 0, 0, 0, 3, 2,\n",
       "       3, 1, 2, 0, 1, 3, 3, 1, 1, 1, 0, 0, 0, 3, 3, 3, 1, 3, 1, 1, 3, 3,\n",
       "       0, 0, 3, 2, 0, 0, 0, 3, 0, 0, 2, 3, 0, 1, 1, 3, 0, 3, 1, 0, 3, 0,\n",
       "       0, 3, 1, 1, 0, 0, 0, 0, 3, 0, 2, 1, 1, 0, 3, 0, 0, 0, 0, 0, 1, 0,\n",
       "       3, 1, 2, 0, 3, 3, 3, 3, 1, 2, 0, 3, 0, 3, 0, 0, 3, 3, 3, 3, 1, 3,\n",
       "       0, 0, 3, 1, 0, 3, 3, 2, 1, 0, 3, 0, 0, 0, 1, 3, 1, 1, 0, 2, 1, 2,\n",
       "       2, 3, 2, 3, 0, 0, 1, 1, 1, 2, 2, 1, 1, 1, 0, 0, 0, 1, 1, 0, 3, 3,\n",
       "       0, 3, 3, 1, 0, 0, 0, 0, 0, 0, 0, 1, 0, 0, 3, 3, 2, 1, 1, 2, 0, 2,\n",
       "       1, 0, 3, 2, 2, 3, 3, 0, 0, 1, 3, 1, 0, 2, 0, 3, 0, 0, 1, 0, 3, 3,\n",
       "       1, 1, 4, 3, 1, 0, 0, 0, 3, 3, 0, 1, 0, 3, 3, 0, 3, 0, 0, 0, 3, 0,\n",
       "       0, 1, 2, 2, 0, 3, 1, 2, 0, 0, 0, 3, 0, 3, 1, 2, 1, 1, 3, 0, 1, 3,\n",
       "       0, 1, 3, 1, 0, 2, 3, 0, 0, 3, 2, 3, 3, 3, 2, 0, 2, 1, 0, 1, 1, 0,\n",
       "       2, 1, 3, 2, 1, 3, 1, 0, 0, 1, 3, 0, 3, 0, 0, 2, 0, 1, 0, 1, 3, 1,\n",
       "       1, 0, 0, 4, 0, 0, 3, 0, 1, 1, 3, 0])"
      ]
     },
     "execution_count": 12,
     "metadata": {},
     "output_type": "execute_result"
    }
   ],
   "source": [
    "from sklearn.cluster import Birch\n",
    "from sklearn.metrics import adjusted_mutual_info_score\n",
    "\n",
    "model =  Birch(n_clusters=6).fit(x_train)\n",
    "\n",
    "y_pred_train = model.predict(x_train)\n",
    "y_pred_valid = model.predict(x_valid)\n",
    "\n",
    "#y_pred_train\n",
    "y_pred_valid"
   ]
  },
  {
   "cell_type": "markdown",
   "id": "52777cfa-92bc-40c8-b245-d99f6824cbdf",
   "metadata": {
    "pycharm": {
     "name": "#%% md\n"
    }
   },
   "source": [
    "## DBSCAN"
   ]
  },
  {
   "cell_type": "code",
   "execution_count": 13,
   "id": "09390111-234a-48e5-afcc-dc9c46b87d66",
   "metadata": {
    "pycharm": {
     "name": "#%%\n"
    }
   },
   "outputs": [
    {
     "data": {
      "text/plain": [
       "array([-1, -1, -1, ..., -1, -1, -1])"
      ]
     },
     "execution_count": 13,
     "metadata": {},
     "output_type": "execute_result"
    }
   ],
   "source": [
    "from sklearn.cluster import DBSCAN\n",
    "from sklearn.metrics import adjusted_mutual_info_score\n",
    "\n",
    "model = DBSCAN().fit(x_train)\n",
    "\n",
    "y_pred_train = model.labels_\n",
    "y_pred_valid = model.labels_\n",
    "\n",
    "#y_pred_train\n",
    "y_pred_valid"
   ]
  },
  {
   "cell_type": "markdown",
   "id": "53e9d9ae-432e-4174-9598-8f9aa85c009a",
   "metadata": {
    "pycharm": {
     "name": "#%% md\n"
    }
   },
   "source": [
    "## KMeans"
   ]
  },
  {
   "cell_type": "code",
   "execution_count": 14,
   "id": "782bfe8f-0b96-4e4c-a5b1-3f4e71c02574",
   "metadata": {
    "pycharm": {
     "name": "#%%\n"
    }
   },
   "outputs": [
    {
     "data": {
      "text/plain": [
       "array([0, 0, 3, 0, 0, 3, 3, 5, 3, 5, 3, 0, 0, 4, 0, 0, 5, 2, 5, 0, 0, 2,\n",
       "       0, 0, 0, 0, 3, 0, 3, 0, 5, 5, 0, 2, 2, 0, 3, 5, 2, 0, 2, 2, 0, 3,\n",
       "       5, 3, 3, 2, 2, 5, 5, 2, 2, 3, 0, 2, 0, 5, 0, 5, 2, 5, 2, 3, 0, 0,\n",
       "       5, 0, 5, 3, 2, 0, 0, 5, 0, 0, 3, 3, 2, 3, 2, 5, 2, 5, 3, 0, 0, 0,\n",
       "       0, 5, 3, 2, 2, 0, 5, 0, 0, 0, 3, 2, 2, 0, 5, 2, 0, 0, 0, 2, 3, 0,\n",
       "       5, 2, 3, 0, 0, 5, 0, 5, 5, 3, 0, 5, 2, 5, 5, 0, 0, 5, 5, 0, 0, 5,\n",
       "       2, 2, 5, 2, 2, 3, 5, 3, 3, 0, 5, 5, 0, 5, 5, 0, 1, 3, 0, 3, 5, 3,\n",
       "       3, 5, 3, 0, 0, 2, 3, 2, 3, 3, 3, 1, 2, 2, 0, 2, 0, 2, 3, 2, 0, 3,\n",
       "       0, 0, 5, 2, 2, 0, 0, 0, 0, 0, 0, 3, 0, 0, 0, 0, 3, 2, 3, 3, 0, 3,\n",
       "       3, 2, 2, 3, 3, 5, 5, 0, 5, 3, 0, 3, 0, 3, 0, 5, 2, 0, 3, 0, 0, 0,\n",
       "       0, 3, 1, 2, 3, 0, 2, 0, 5, 5, 0, 3, 0, 5, 5, 0, 5, 0, 0, 0, 0, 0,\n",
       "       0, 2, 3, 3, 0, 0, 5, 3, 0, 2, 0, 5, 0, 5, 3, 1, 2, 2, 3, 0, 3, 5,\n",
       "       0, 3, 5, 2, 2, 3, 5, 2, 0, 3, 3, 5, 3, 0, 3, 0, 3, 3, 0, 2, 5, 0,\n",
       "       3, 3, 5, 3, 2, 5, 2, 0, 0, 2, 0, 0, 0, 0, 2, 3, 2, 3, 2, 3, 5, 3,\n",
       "       2, 0, 0, 1, 2, 0, 0, 2, 3, 2, 5, 0], dtype=int32)"
      ]
     },
     "execution_count": 14,
     "metadata": {},
     "output_type": "execute_result"
    }
   ],
   "source": [
    "from sklearn.cluster import KMeans\n",
    "from sklearn.metrics import adjusted_mutual_info_score\n",
    "\n",
    "model = KMeans(n_clusters=6, random_state=10).fit(x_train)\n",
    "\n",
    "y_pred_train = model.predict(x_train)\n",
    "y_pred_valid = model.predict(x_valid)\n",
    "\n",
    "#y_pred_train\n",
    "y_pred_valid"
   ]
  },
  {
   "cell_type": "markdown",
   "id": "25feac6b-97ad-4884-aaf9-749f6715bcff",
   "metadata": {
    "pycharm": {
     "name": "#%% md\n"
    }
   },
   "source": [
    "## BisectingKMeans"
   ]
  },
  {
   "cell_type": "code",
   "execution_count": 15,
   "id": "f38941cb-6199-413b-99c8-26dad1ae6a55",
   "metadata": {
    "pycharm": {
     "name": "#%%\n"
    }
   },
   "outputs": [
    {
     "ename": "ImportError",
     "evalue": "cannot import name 'BisectingKMeans' from 'sklearn.cluster' (/home/roman/anaconda3/lib/python3.9/site-packages/sklearn/cluster/__init__.py)",
     "output_type": "error",
     "traceback": [
      "\u001B[0;31m---------------------------------------------------------------------------\u001B[0m",
      "\u001B[0;31mImportError\u001B[0m                               Traceback (most recent call last)",
      "Input \u001B[0;32mIn [15]\u001B[0m, in \u001B[0;36m<cell line: 1>\u001B[0;34m()\u001B[0m\n\u001B[0;32m----> 1\u001B[0m \u001B[38;5;28;01mfrom\u001B[39;00m \u001B[38;5;21;01msklearn\u001B[39;00m\u001B[38;5;21;01m.\u001B[39;00m\u001B[38;5;21;01mcluster\u001B[39;00m \u001B[38;5;28;01mimport\u001B[39;00m BisectingKMeans\n\u001B[1;32m      2\u001B[0m \u001B[38;5;28;01mfrom\u001B[39;00m \u001B[38;5;21;01msklearn\u001B[39;00m\u001B[38;5;21;01m.\u001B[39;00m\u001B[38;5;21;01mmetrics\u001B[39;00m \u001B[38;5;28;01mimport\u001B[39;00m adjusted_mutual_info_score\n\u001B[1;32m      4\u001B[0m model \u001B[38;5;241m=\u001B[39m BisectingKMeans(n_clusters\u001B[38;5;241m=\u001B[39m\u001B[38;5;241m6\u001B[39m, random_state\u001B[38;5;241m=\u001B[39m\u001B[38;5;241m10\u001B[39m)\u001B[38;5;241m.\u001B[39mfit(x_train)\n",
      "\u001B[0;31mImportError\u001B[0m: cannot import name 'BisectingKMeans' from 'sklearn.cluster' (/home/roman/anaconda3/lib/python3.9/site-packages/sklearn/cluster/__init__.py)"
     ]
    }
   ],
   "source": [
    "from sklearn.cluster import BisectingKMeans\n",
    "from sklearn.metrics import adjusted_mutual_info_score\n",
    "\n",
    "model = BisectingKMeans(n_clusters=6, random_state=10).fit(x_train)\n",
    "\n",
    "y_pred_train = model.predict(x_train)\n",
    "y_pred_valid = model.predict(x_valid)\n",
    "\n",
    "#y_pred_train\n",
    "y_pred_validv"
   ]
  },
  {
   "cell_type": "markdown",
   "id": "9391ca1c-fef4-42b9-95c8-1525b0856e98",
   "metadata": {
    "pycharm": {
     "name": "#%% md\n"
    }
   },
   "source": [
    "## MiniBatchKMeans"
   ]
  },
  {
   "cell_type": "code",
   "execution_count": 16,
   "id": "8962e23a-bc46-4454-bbe3-0f4eb7998de8",
   "metadata": {
    "pycharm": {
     "name": "#%%\n"
    }
   },
   "outputs": [
    {
     "data": {
      "text/plain": [
       "array([2, 0, 1, 0, 2, 1, 1, 3, 2, 3, 1, 0, 0, 4, 2, 0, 3, 0, 3, 3, 0, 0,\n",
       "       0, 0, 0, 0, 1, 0, 1, 0, 3, 0, 0, 0, 1, 0, 1, 3, 2, 0, 0, 0, 2, 1,\n",
       "       3, 1, 2, 0, 0, 3, 3, 1, 3, 1, 0, 0, 0, 3, 0, 3, 0, 3, 3, 2, 2, 2,\n",
       "       3, 0, 3, 1, 0, 0, 0, 3, 0, 0, 2, 3, 0, 2, 1, 3, 0, 3, 2, 0, 2, 0,\n",
       "       0, 3, 1, 2, 0, 0, 3, 0, 2, 0, 2, 2, 2, 0, 3, 0, 0, 0, 2, 0, 1, 0,\n",
       "       3, 1, 1, 0, 0, 3, 2, 3, 3, 1, 0, 3, 0, 2, 3, 0, 0, 3, 3, 0, 2, 3,\n",
       "       0, 0, 3, 1, 0, 2, 3, 1, 2, 0, 3, 3, 0, 3, 3, 0, 5, 2, 0, 1, 3, 1,\n",
       "       1, 3, 1, 0, 0, 0, 1, 1, 1, 1, 1, 5, 1, 1, 0, 0, 0, 1, 3, 0, 0, 2,\n",
       "       0, 2, 3, 0, 0, 0, 0, 0, 0, 0, 0, 1, 0, 0, 0, 2, 1, 0, 2, 2, 0, 1,\n",
       "       1, 0, 3, 1, 2, 3, 3, 0, 3, 2, 3, 1, 0, 1, 0, 3, 0, 2, 1, 0, 0, 3,\n",
       "       2, 1, 5, 3, 1, 0, 0, 0, 3, 3, 0, 1, 0, 3, 3, 0, 3, 0, 0, 0, 0, 0,\n",
       "       0, 1, 1, 1, 2, 2, 3, 1, 0, 0, 0, 3, 0, 3, 1, 5, 1, 2, 2, 3, 1, 3,\n",
       "       0, 2, 2, 3, 0, 2, 3, 0, 0, 1, 1, 3, 2, 2, 2, 0, 1, 1, 0, 3, 3, 0,\n",
       "       1, 2, 3, 1, 0, 3, 1, 0, 0, 1, 0, 0, 0, 0, 3, 1, 0, 1, 0, 1, 3, 1,\n",
       "       2, 0, 0, 5, 0, 0, 0, 0, 1, 1, 3, 0], dtype=int32)"
      ]
     },
     "execution_count": 16,
     "metadata": {},
     "output_type": "execute_result"
    }
   ],
   "source": [
    "from sklearn.cluster import MiniBatchKMeans\n",
    "from sklearn.metrics import adjusted_mutual_info_score\n",
    "\n",
    "model = MiniBatchKMeans(n_clusters=6, random_state=10).fit(x_train)\n",
    "\n",
    "y_pred_train = model.predict(x_train)\n",
    "y_pred_valid = model.predict(x_valid)\n",
    "\n",
    "#y_pred_train\n",
    "y_pred_valid"
   ]
  },
  {
   "cell_type": "markdown",
   "id": "ef45e34b-71f5-494a-b92f-c7a08e3de268",
   "metadata": {
    "pycharm": {
     "name": "#%% md\n"
    }
   },
   "source": [
    "## MeanShift"
   ]
  },
  {
   "cell_type": "code",
   "execution_count": 17,
   "id": "6478a3c8-c1ff-446b-8fbf-e9d0217642df",
   "metadata": {
    "pycharm": {
     "name": "#%%\n"
    }
   },
   "outputs": [
    {
     "data": {
      "text/plain": [
       "array([ 1,  0, 41,  0,  0,  3,  3, 40, 40, 86,  1,  0,  0,  2,  0, 75, 81,\n",
       "        0, 60, 75,  0,  0,  0,  0,  0,  0, 10,  0,  1, 82, 69, 81,  0,  1,\n",
       "        1,  0,  1,  0,  1,  0,  0,  0,  0, 41, 46,  3,  1, 81,  5, 34,  1,\n",
       "        1, 72,  1,  0,  5,  0, 47,  0, 69,  0,  9,  1,  1,  0,  0, 86,  0,\n",
       "        0, 13,  0,  0,  0,  0,  0,  0,  1, 46,  0,  1,  1, 15,  0,  0,  1,\n",
       "        0,  0, 75,  0, 33,  1,  1,  5, 82, 81,  0,  0,  0, 41,  1,  1,  0,\n",
       "       33, 92,  0,  0,  0,  5,  1,  0,  0,  1, 31,  0,  0,  0,  0, 86, 21,\n",
       "        8,  0, 86,  0,  0, 81, 12,  0,  0, 47, 90,  7, 69, 28,  0,  0,  1,\n",
       "       92,  0, 47, 13,  1,  0,  0,  0,  0,  0, 33, 82,  6, 73,  0, 13, 59,\n",
       "       41, 31,  4, 13,  0,  4,  5,  1,  1,  1, 13,  1, 24,  3,  1,  0,  5,\n",
       "        0, 72,  1, 72,  0, 44, 58,  0,  0,  1,  5, 81,  0,  0,  0,  0,  0,\n",
       "        3,  0,  0,  0,  1, 41,  1,  7,  1,  0,  1,  1, 81,  1, 41,  1, 33,\n",
       "       33,  0, 81,  1, 44,  3,  0, 13,  0, 59, 12,  0, 15,  0,  0,  0, 73,\n",
       "        1, 16,  0,  1, 86, 86,  0,  9, 86, 58,  1,  0,  0,  4, 81,  0, 64,\n",
       "        0,  0,  0,  0, 90,  1, 13, 41,  0,  0, 59, 15,  0, 86,  0, 86, 76,\n",
       "        0, 73, 43,  1,  1,  1,  0,  1,  0,  0,  1,  0,  1,  0, 13,  4,  5,\n",
       "        0,  1, 13,  0, 45,  0, 41,  0,  1,  1,  0,  1, 33,  0, 13,  1, 33,\n",
       "        1,  0, 15,  1,  0,  0,  1, 75,  0,  0,  0, 72, 41,  5, 13,  0,  3,\n",
       "        0,  3,  1, 76,  0, 16, 81, 90,  0,  5,  3,  1, 81, 75])"
      ]
     },
     "execution_count": 17,
     "metadata": {},
     "output_type": "execute_result"
    }
   ],
   "source": [
    "from sklearn.cluster import MeanShift\n",
    "from sklearn.metrics import adjusted_mutual_info_score\n",
    "\n",
    "model = MeanShift(bandwidth=2).fit(x_train)\n",
    "\n",
    "y_pred_train = model.predict(x_train)\n",
    "y_pred_valid = model.predict(x_valid)\n",
    "\n",
    "#y_pred_train\n",
    "y_pred_valid"
   ]
  },
  {
   "cell_type": "markdown",
   "id": "3f3522f5-d7e1-436a-a2f5-caf3f87c705a",
   "metadata": {
    "pycharm": {
     "name": "#%% md\n"
    }
   },
   "source": [
    "## OPTICS"
   ]
  },
  {
   "cell_type": "code",
   "execution_count": 18,
   "id": "8c5ab302-baa0-4bda-a49d-80fead5dc213",
   "metadata": {
    "pycharm": {
     "name": "#%%\n"
    }
   },
   "outputs": [
    {
     "data": {
      "text/plain": [
       "array([-1, 10, -1, ..., -1, 19, 28])"
      ]
     },
     "execution_count": 18,
     "metadata": {},
     "output_type": "execute_result"
    }
   ],
   "source": [
    "from sklearn.cluster import OPTICS\n",
    "from sklearn.metrics import adjusted_mutual_info_score\n",
    "\n",
    "model = OPTICS().fit(x_train)\n",
    "\n",
    "y_pred_train = model.labels_\n",
    "y_pred_valid = model.labels_\n",
    "\n",
    "#y_pred_train\n",
    "y_pred_valid"
   ]
  },
  {
   "cell_type": "code",
   "execution_count": null,
   "id": "4f8fccc0-1554-4586-a3ed-5eca60012f25",
   "metadata": {
    "pycharm": {
     "name": "#%%\n"
    }
   },
   "outputs": [],
   "source": []
  }
 ],
 "metadata": {
  "kernelspec": {
   "display_name": "Python 3 (ipykernel)",
   "language": "python",
   "name": "python3"
  },
  "language_info": {
   "codemirror_mode": {
    "name": "ipython",
    "version": 3
   },
   "file_extension": ".py",
   "mimetype": "text/x-python",
   "name": "python",
   "nbconvert_exporter": "python",
   "pygments_lexer": "ipython3",
   "version": "3.9.12"
  },
  "toc": {
   "base_numbering": 1,
   "nav_menu": {},
   "number_sections": true,
   "sideBar": true,
   "skip_h1_title": false,
   "title_cell": "Table of Contents",
   "title_sidebar": "Contents",
   "toc_cell": false,
   "toc_position": {},
   "toc_section_display": true,
   "toc_window_display": false
  }
 },
 "nbformat": 4,
 "nbformat_minor": 5
}