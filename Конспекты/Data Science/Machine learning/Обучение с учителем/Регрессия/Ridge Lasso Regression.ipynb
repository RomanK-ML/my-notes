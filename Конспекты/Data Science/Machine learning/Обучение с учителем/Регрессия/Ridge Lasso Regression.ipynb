{
 "cells": [
  {
   "cell_type": "markdown",
   "id": "cd0089b5",
   "metadata": {},
   "source": [
    "# Регулризация"
   ]
  },
  {
   "cell_type": "markdown",
   "id": "61be5465",
   "metadata": {},
   "source": [
    "Регуляризация - это способ борьбы с таким явлением как \"переобучение\".\n",
    "\n",
    "Пример оверфиттинга проще всего привести в виде картинки. Пусть вы решаете задачу классификации на два класса ( о которой уже знаете с первых уроков этого курса)\n",
    "* сначала модель, которая обучена не совсем хорошо (underfit) - разделяющая линия прямая и много \"красных\" точек неправильно классифицированы\n",
    "* затем хорошо обученная модель (normal) - есть какой-то баланс\n",
    "* переобученная модель (overfit) - разделяющая линия слишком сильно \"облизывает\" обучающие данные.\n",
    " \n",
    "![overfit_example](https://248006.selcdn.ru/public/Data-science-3/img/overfit_example.png)\n",
    "\n",
    "Чем же плохо переобучение? Когда в модель придут \"новые\" точки, то качество модели будет низким, потому что модель слишком сильно подогналась под обучающие данные. В этом случае говорят, что падает \"обобщающая способность\" - модель не получается обощить на новые данные."
   ]
  },
  {
   "cell_type": "markdown",
   "id": "1f4aa5b5",
   "metadata": {},
   "source": [
    "**Как бороться с переобучением линейной регрессии?** Нам надо как-то \"наказать\" модель за то, что она слишком сильно подгоняется под обучающую выборку. Это можно сделать помощью регуляризации! Регуляризация - это специальная модификация модели линейной регрессии. В стандартной библиотеки sklearn есть два класса, в которых реализована регуляризация:\n",
    "* sklearn.linear_model.Ridge, ссылка на доку https://scikit-learn.org/stable/modules/generated/sklearn.linear_model.Ridge.html\n",
    "* sklearn.linear_model.Lasso, ссылка на доку https://scikit-learn.org/stable/modules/generated/sklearn.linear_model.Lasso.html\n",
    "\n",
    "Чем отличаются эти два класса мы узнаем в следующих уроках этого модуля. Мы уже знакомы с классом `sklearn.linear_model.LinearRegression`, с который вообще не требует никаких параметров при создании, а вот классы `Ridge` и `Lasso` принимают на вход т.н. параметр регуляризации *alpha*, который принимает значения от $0$ до $1$ - чем ближе к единице, тем регуляризация сильнее, тем сильнее наказываем модель за сильную \"подгонку\" под обучающие данные."
   ]
  },
  {
   "cell_type": "markdown",
   "id": "424802b3",
   "metadata": {},
   "source": [
    "## Формулы"
   ]
  },
  {
   "cell_type": "markdown",
   "id": "24b7c7db",
   "metadata": {},
   "source": [
    "Как регуляризация появляется в формулах?\n",
    "\n",
    "Мы уже умеем определять, что модель переобучилась - нужно обучать на тренировочном сете, а метрику качества считать на валидационном.\n"
   ]
  },
  {
   "cell_type": "code",
   "execution_count": 9,
   "id": "17773bfc",
   "metadata": {},
   "outputs": [
    {
     "data": {
      "image/png": "[encoded data removed]",
      "text/plain": [
       "<Figure size 432x288 with 1 Axes>"
      ]
     },
     "metadata": {
      "needs_background": "light"
     },
     "output_type": "display_data"
    }
   ],
   "source": [
    "# основной график\n",
    "plt.scatter(data.x_train, data.y_train, 40, 'g', 'o', alpha=0.8)\n",
    "plt.show()"
   ]
  },
  {
   "cell_type": "markdown",
   "id": "ebfdc6cc",
   "metadata": {},
   "source": [
    "Обучим полиномиальную регрессию для разных степеней полинома. Мы уже знаем, что для полиномиальной модели порядка $n$ в матрицу фичей $X$ добавляются степени фичей (например, в случае обучения регрессии на единственной фиче модуль приобретёт вид $y = w_0 + w_1x +w_2x^2 + \\ldots + w_nx^n$).\n",
    "\n",
    "Кроме прочей информации будем вычислять т.н. *норму вектора* - это просто корень из суммы квадратов коэффициентов линейной регрессии. Чтобы избавиться от корня, будем вычислять квадрат нормы, обозначается как $\\|w\\|^2$.\n",
    "\n",
    "* https://www.youtube.com/watch?time_continue=1&v=b0dgsaYbOVI\n",
    "* https://www.youtube.com/watch?time_continue=262&v=05j0DOCRnjI\n",
    "* [Статья про норму вектора на википедии](https://ru.wikipedia.org/wiki/Норма_(математика))"
   ]
  },
  {
   "cell_type": "markdown",
   "id": "6f3a67e2",
   "metadata": {},
   "source": [
    "Норма вектора обозначется двумя вертикальными линиями:\n",
    "$$\n",
    "\\|w\\|^2 = w_1^2+\\ldots+w_n^2\n",
    "$$\n",
    "\n",
    "Для вычисления этой метрики используем [функцию norm из numpy](https://docs.scipy.org/doc/numpy-1.15.0/reference/generated/numpy.linalg.norm.html)."
   ]
  },
  {
   "cell_type": "code",
   "execution_count": 10,
   "id": "7f0f959c",
   "metadata": {},
   "outputs": [],
   "source": [
    "from sklearn.linear_model import LinearRegression\n",
    "from numpy.linalg import norm\n",
    "from sklearn.metrics import mean_squared_error\n",
    "from sklearn.model_selection import train_test_split\n",
    "\n",
    "\n",
    "def generate_degrees(source_data: list, degree: int):\n",
    "    \"\"\"Функция, которая принимает на вход одномерный массив, а возвращает n-мерный\n",
    "    Для каждой степени от 1 до  degree возводим x в эту степень\n",
    "    \"\"\"\n",
    "    return np.array([\n",
    "          source_data**n for n in range(1, degree + 1)  \n",
    "    ]).T\n",
    "\n",
    "def train_polynomial(degree, data):\n",
    "    \"\"\"Генерим данные, тренируем модель  \n",
    "    дополнительно рисуем график\n",
    "    \"\"\"\n",
    "    X = generate_degrees(data['x_train'], degree)\n",
    "    y = data.y_train.values\n",
    "    X_train, X_valid, y_train, y_valid = train_test_split(X, y, test_size=0.2, random_state=10)\n",
    "    model = LinearRegression().fit(X_train, y_train)\n",
    "    y_pred = model.predict(X_valid)\n",
    "    y_pred_train = model.predict(X_train)\n",
    "    error_valid = mean_squared_error(y_valid, y_pred)\n",
    "    error_train = mean_squared_error(y_train, y_pred_train)\n",
    "    print(\n",
    "        \"Степень полинома %d\\nОшибка на валидации %.3f\\nОшибка на обучении %.3f\" %\n",
    "        (degree, error_valid, error_train)\n",
    "    )\n",
    "    order_test = np.argsort(X_valid[:,0])\n",
    "    plt.scatter(X_valid[:,0][order_test], y_valid[order_test], 40, 'r', 'o', alpha=0.8)\n",
    "    print(\"Норма вектора весов \\t||w|| = %.2f\" % (norm(model.coef_)))\n",
    "    # визуализируем решение\n",
    "    x_linspace = np.linspace(data['x_train'].min(), data['x_train'].max(), num=100)\n",
    "    y_linspace = model.predict(generate_degrees(x_linspace, degree))\n",
    "    plt.plot(x_linspace, y_linspace)\n",
    "    return error_valid, error_train, norm(model.coef_)\n",
    "\n",
    "degrees = []\n",
    "valid_errors = []\n",
    "train_errors = []\n",
    "w_norm = []"
   ]
  },
  {
   "cell_type": "code",
   "execution_count": 18,
   "id": "2aaae171",
   "metadata": {},
   "outputs": [
    {
     "name": "stdout",
     "output_type": "stream",
     "text": [
      "Степень полинома 3\n",
      "Ошибка на валидации 0.051\n",
      "Ошибка на обучении 0.077\n",
      "Норма вектора весов \t||w|| = 2.19\n"
     ]
    },
    {
     "data": {
      "image/png": "[encoded data removed]",
      "text/plain": [
       "<Figure size 432x288 with 1 Axes>"
      ]
     },
     "metadata": {
      "needs_background": "light"
     },
     "output_type": "display_data"
    }
   ],
   "source": [
    "degree = 3\n",
    "\n",
    "error_valid, error_train, coef_norm = train_polynomial(degree, data)\n",
    "\n",
    "degrees.append(degree)\n",
    "valid_errors.append(error_valid)\n",
    "train_errors.append(error_train)\n",
    "w_norm.append(coef_norm)"
   ]
  },
  {
   "cell_type": "code",
   "execution_count": 19,
   "id": "e4cecb28",
   "metadata": {},
   "outputs": [
    {
     "name": "stdout",
     "output_type": "stream",
     "text": [
      "Степень полинома 5\n",
      "Ошибка на валидации 0.063\n",
      "Ошибка на обучении 0.069\n",
      "Норма вектора весов \t||w|| = 3.31\n"
     ]
    },
    {
     "data": {
      "image/png": "[encoded data removed]",
      "text/plain": [
       "<Figure size 432x288 with 1 Axes>"
      ]
     },
     "metadata": {
      "needs_background": "light"
     },
     "output_type": "display_data"
    }
   ],
   "source": [
    "degree = 5\n",
    "\n",
    "error_valid, error_train, coef_norm = train_polynomial(degree, data)\n",
    "\n",
    "degrees.append(degree)\n",
    "valid_errors.append(error_valid)\n",
    "train_errors.append(error_train)\n",
    "w_norm.append(coef_norm)"
   ]
  },
  {
   "cell_type": "code",
   "execution_count": 23,
   "id": "84d72948",
   "metadata": {},
   "outputs": [
    {
     "name": "stdout",
     "output_type": "stream",
     "text": [
      "Степень полинома 10\n",
      "Ошибка на валидации 0.122\n",
      "Ошибка на обучении 0.052\n",
      "Норма вектора весов \t||w|| = 120.14\n"
     ]
    },
    {
     "data": {
      "image/png": "[encoded data removed]",
      "text/plain": [
       "<Figure size 432x288 with 1 Axes>"
      ]
     },
     "metadata": {
      "needs_background": "light"
     },
     "output_type": "display_data"
    }
   ],
   "source": [
    "degree = 10\n",
    "\n",
    "error_valid, error_train, coef_norm = train_polynomial(degree, data)\n",
    "\n",
    "degrees.append(degree)\n",
    "valid_errors.append(error_valid)\n",
    "train_errors.append(error_train)\n",
    "w_norm.append(coef_norm)"
   ]
  },
  {
   "cell_type": "code",
   "execution_count": 21,
   "id": "9243d61c",
   "metadata": {},
   "outputs": [
    {
     "data": {
      "image/png": "[encoded data removed]",
      "text/plain": [
       "<Figure size 432x288 with 1 Axes>"
      ]
     },
     "metadata": {
      "needs_background": "light"
     },
     "output_type": "display_data"
    }
   ],
   "source": [
    "from matplotlib import pyplot\n",
    "%matplotlib inline\n",
    "\n",
    "fig, ax = plt.subplots()\n",
    "ax.plot(degrees, valid_errors, 'k--', label='Validation error')\n",
    "ax.plot(degrees, train_errors, 'k:', label='Train error')\n",
    "\n",
    "legend = ax.legend(loc='upper center', shadow=True, fontsize='x-large')\n",
    "\n",
    "plt.show()"
   ]
  },
  {
   "cell_type": "markdown",
   "id": "4033aea5",
   "metadata": {},
   "source": [
    "На графике можно заметить, как с ростом степени полинома ошибка на валидации начинает расти, а на обучении, наоборот, падать. Одновременно с ухудшением качества модели на валидации можно заметить, как растёт норма вектора коэффициентов $w$ -  от значения $2.19$ до значения $120.14$, то есть большие по модулю величины коэффициентов свидетельствуют о том, что модель переобучается. \n",
    "\n",
    "Мы хотели узнать, в какой точке модель будет получается сбалансированной и не \"оверфиттится\". Эта точка - там, где две линии ошибок пересекаются. В этой точке, которая соответствует степени полинома *degree=5*, модель достаточно хороша на обучении и не слишком плоха на валидации."
   ]
  },
  {
   "cell_type": "markdown",
   "id": "764acd01",
   "metadata": {},
   "source": [
    "Мы подобрались к главному вопросу этого модуля: почему случается переобучение с точки зрения математики? Вспомним, что мы получаем предсказания модели, используя коэффициенты регрессии, в виде\n",
    "\n",
    "$$\n",
    "\\hat{y} = w_0x_0 + \\ldots w_nx_n\n",
    "$$\n",
    "\n",
    "По этой формуле видно, что величина коэффициентов $w$ по модулю сильно влияет на предсказания - чем больше коэффициенты линейной регрессии $w=[w_1,\\ldots,w_n]$, тем больше таргет $y$ при одинаковом значении $x$, зависимость линейная.\n",
    "\n",
    "Вспомним, что аналитическая формула для нахождения коэффициентов регрессии выглядит вот так \n",
    "$$\n",
    "\\overline{w} = \\left(X^TX\\right)^{-1}X^TY\n",
    "$$\n",
    "\n",
    "Такое решение получается, когда мы минимизируем функцию ошибок ($N$ - число обучающих примеров):\n",
    "\n",
    "$$\n",
    "L(y,w) = \\sum_{i=1}^{N}\\left(y_i - \\hat{y_i}\\right)^2\n",
    "$$\n",
    "\n",
    "В эксперименте с полиномиальной регрессией мы выяснили простое правило - чем больше квадраты коэффициентов регрессии, тем хуже качество. Как же нам заставить модель делать коэффициенты поменьше, чтобы качество не страдало?\n",
    "\n",
    "Самое простое решение, которое приходит на ум - каким-то образом \"наказывать\" нашу модель за слишком большие значения коэффициентов линейной регрессии $w$. Давайте добавим в функцию качества модели $L(y, w)$ дополнительное слагаемое, которое содержит квадрат нормы вектора весов $\\|w\\|^2$:\n",
    "\n",
    "$$\n",
    "L(y,w) = \\sum_{i=1}^{N}\\left(y_i - \\hat{y_i}\\right)^2 + \\alpha \\cdot \\sum_{i=1}^{k}w_i^2 = \\sum_{i=1}^{N}\\left(y_i - \\hat{y_i}\\right)^2 + \\alpha \\cdot \\|w\\|^2\n",
    "$$\n",
    "\n",
    "С помощью этого трюка мы минимизируем функцию $L(x,w)$ как бы в двух направлениях:\n",
    "* уменьшаем ошибку $y-\\hat{y}$ (первый компонент формулы)\n",
    "* следим за нормой коэффициентов регрессии $\\|w\\|^2$ - модель вынуждена делать коэффициенты как можно меньшими, потому что их размер влияет на функцию ошибки $L(x,w)$\n",
    "\n",
    "Эксперимент показал: чем больше $\\|w\\|^2$, тем сильнее переобучение. Следовательно, сделав коэффициенты более маленькими, мы уменьшим переобучение!"
   ]
  },
  {
   "cell_type": "markdown",
   "id": "89a18118",
   "metadata": {},
   "source": [
    "Такой процесс добавления слегаемых в целевую функцию называется *регуляризацией*. Регуляризация - это наложение дополнительных ограничений на целевую функцию $L(y, w)$. Добавляя в функцию качества $L$ сумму квадратов коэффициентов регрессии мы \"принуждаем\" нашу модель к тому, чтобы веса $w=[w_1,\\ldots,w_k]$ были как можно более меньшими по модулю. Вернёмся к формуле целевой функции регуляризованной линейной регрессии:\n",
    "$$\n",
    "L(y,w) = \\sum_{i=1}^{N}\\left(y_i - \\hat{y_i}\\right)^2 + \\alpha \\cdot \\|w\\|^2\n",
    "$$\n",
    "\n",
    "В этой формуле\n",
    "* $\\alpha$ - параметр регуляризации. Он принимает значения от $0$ до $1$: чем ближе к $1$ - тем сильнее регуляризация, тем сильнее уменьшаются веса линейной регрессии\n",
    "* квадрат нормы коэффициентов линейной регрессии: $\\|w\\|^2 = \\sum_{i=1}^{k}w_i^2$"
   ]
  },
  {
   "cell_type": "markdown",
   "id": "186e2740",
   "metadata": {},
   "source": [
    "# Подготовка"
   ]
  },
  {
   "cell_type": "markdown",
   "id": "b8ea9b12",
   "metadata": {},
   "source": [
    "## Импорт библиотек"
   ]
  },
  {
   "cell_type": "code",
   "execution_count": 8,
   "id": "9a564a79",
   "metadata": {},
   "outputs": [],
   "source": [
    "import numpy as np\n",
    "import pandas as pd\n",
    "import matplotlib.pyplot as plt\n",
    "%matplotlib inline\n",
    "\n",
    "from sklearn.model_selection import train_test_split\n",
    "from sklearn.linear_model import Ridge, Lasso\n",
    "from sklearn.metrics import mean_squared_error"
   ]
  },
  {
   "cell_type": "markdown",
   "id": "b8149b56",
   "metadata": {},
   "source": [
    "## Загрузка данных"
   ]
  },
  {
   "cell_type": "code",
   "execution_count": 2,
   "id": "cbdb802d",
   "metadata": {},
   "outputs": [
    {
     "data": {
      "text/html": [
       "<div>\n",
       "<style scoped>\n",
       "    .dataframe tbody tr th:only-of-type {\n",
       "        vertical-align: middle;\n",
       "    }\n",
       "\n",
       "    .dataframe tbody tr th {\n",
       "        vertical-align: top;\n",
       "    }\n",
       "\n",
       "    .dataframe thead th {\n",
       "        text-align: right;\n",
       "    }\n",
       "</style>\n",
       "<table border=\"1\" class=\"dataframe\">\n",
       "  <thead>\n",
       "    <tr style=\"text-align: right;\">\n",
       "      <th></th>\n",
       "      <th>x_train</th>\n",
       "      <th>y_train</th>\n",
       "    </tr>\n",
       "  </thead>\n",
       "  <tbody>\n",
       "    <tr>\n",
       "      <th>0</th>\n",
       "      <td>0.138368</td>\n",
       "      <td>0.838812</td>\n",
       "    </tr>\n",
       "    <tr>\n",
       "      <th>1</th>\n",
       "      <td>0.157237</td>\n",
       "      <td>0.889313</td>\n",
       "    </tr>\n",
       "    <tr>\n",
       "      <th>2</th>\n",
       "      <td>0.188684</td>\n",
       "      <td>1.430040</td>\n",
       "    </tr>\n",
       "    <tr>\n",
       "      <th>3</th>\n",
       "      <td>0.685553</td>\n",
       "      <td>1.717309</td>\n",
       "    </tr>\n",
       "    <tr>\n",
       "      <th>4</th>\n",
       "      <td>0.874237</td>\n",
       "      <td>2.032588</td>\n",
       "    </tr>\n",
       "  </tbody>\n",
       "</table>\n",
       "</div>"
      ],
      "text/plain": [
       "    x_train   y_train\n",
       "0  0.138368  0.838812\n",
       "1  0.157237  0.889313\n",
       "2  0.188684  1.430040\n",
       "3  0.685553  1.717309\n",
       "4  0.874237  2.032588"
      ]
     },
     "execution_count": 2,
     "metadata": {},
     "output_type": "execute_result"
    }
   ],
   "source": [
    "data = pd.read_csv('non_linear.csv', sep=',')\n",
    "data.head()"
   ]
  },
  {
   "cell_type": "markdown",
   "id": "168a1092",
   "metadata": {},
   "source": [
    "# Ridge"
   ]
  },
  {
   "cell_type": "code",
   "execution_count": 3,
   "id": "6b318bf9",
   "metadata": {},
   "outputs": [],
   "source": [
    "def generate_degrees(source_data: list, degree: int):\n",
    "    \"\"\"Функция, которая принимает на вход одномерный массив, а возвращает n-мерный\n",
    "    Для каждой степени от 1 до  degree возводим x в эту степень\n",
    "    \"\"\"\n",
    "    return np.array([\n",
    "          source_data**n for n in range(1, degree + 1)  \n",
    "    ]).T"
   ]
  },
  {
   "cell_type": "code",
   "execution_count": 4,
   "id": "d8e40a5e",
   "metadata": {},
   "outputs": [
    {
     "name": "stdout",
     "output_type": "stream",
     "text": [
      "Качество на валидации: 0.125\n",
      "Качество на обучении: 0.051\n"
     ]
    }
   ],
   "source": [
    "degree = 12\n",
    "X = generate_degrees(data['x_train'], degree)\n",
    "y = data.y_train.values\n",
    "X_train, X_valid, y_train, y_valid = train_test_split(X, y, test_size=0.2, random_state=10)\n",
    "model = Ridge(alpha=0).fit(X_train, y_train)\n",
    "y_pred = model.predict(X_valid)\n",
    "y_pred_train = model.predict(X_train)\n",
    "print(\"Качество на валидации: %.3f\" % mean_squared_error(y_valid, y_pred))\n",
    "print(\"Качество на обучении: %.3f\" % mean_squared_error(y_train, y_pred_train))"
   ]
  },
  {
   "cell_type": "code",
   "execution_count": 6,
   "id": "82f1be8f",
   "metadata": {},
   "outputs": [
    {
     "name": "stdout",
     "output_type": "stream",
     "text": [
      "Качество на валидации: 0.077\n",
      "Качество на обучении: 0.058\n"
     ]
    },
    {
     "name": "stderr",
     "output_type": "stream",
     "text": [
      "/home/roman/anaconda3/lib/python3.9/site-packages/sklearn/linear_model/_ridge.py:157: LinAlgWarning: Ill-conditioned matrix (rcond=5.80566e-22): result may not be accurate.\n",
      "  return linalg.solve(A, Xy, sym_pos=True, overwrite_a=True).T\n"
     ]
    }
   ],
   "source": [
    "degree = 12\n",
    "X = generate_degrees(data['x_train'], degree)\n",
    "y = data.y_train.values\n",
    "X_train, X_valid, y_train, y_valid = train_test_split(X, y, test_size=0.2, random_state=10)\n",
    "model = Ridge(alpha=0.01).fit(X_train, y_train)\n",
    "y_pred = model.predict(X_valid)\n",
    "y_pred_train = model.predict(X_train)\n",
    "print(\"Качество на валидации: %.3f\" % mean_squared_error(y_valid, y_pred))\n",
    "print(\"Качество на обучении: %.3f\" % mean_squared_error(y_train, y_pred_train))"
   ]
  },
  {
   "cell_type": "code",
   "execution_count": null,
   "id": "190887bf",
   "metadata": {},
   "outputs": [],
   "source": []
  }
 ],
 "metadata": {
  "kernelspec": {
   "display_name": "Python 3 (ipykernel)",
   "language": "python",
   "name": "python3"
  },
  "language_info": {
   "codemirror_mode": {
    "name": "ipython",
    "version": 3
   },
   "file_extension": ".py",
   "mimetype": "text/x-python",
   "name": "python",
   "nbconvert_exporter": "python",
   "pygments_lexer": "ipython3",
   "version": "3.9.12"
  },
  "toc": {
   "base_numbering": 1,
   "nav_menu": {},
   "number_sections": true,
   "sideBar": true,
   "skip_h1_title": false,
   "title_cell": "Table of Contents",
   "title_sidebar": "Contents",
   "toc_cell": false,
   "toc_position": {},
   "toc_section_display": true,
   "toc_window_display": false
  }
 },
 "nbformat": 4,
 "nbformat_minor": 5
}
