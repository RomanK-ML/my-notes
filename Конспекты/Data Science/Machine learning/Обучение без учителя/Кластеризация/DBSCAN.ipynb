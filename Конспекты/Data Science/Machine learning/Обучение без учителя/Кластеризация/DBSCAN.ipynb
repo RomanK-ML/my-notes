{
 "cells": [
  {
   "cell_type": "markdown",
   "id": "ea6ef130",
   "metadata": {},
   "source": [
    "# Алгоритм DBSCAN"
   ]
  },
  {
   "cell_type": "markdown",
   "id": "4364b2f6",
   "metadata": {},
   "source": [
    "Алгоритм k-средних хорошо справляется с задачей кластеризации в случае, когда кластеры линейно разделимы и представляют собой отдельные скопления точек.\n",
    "\n",
    "Однако, часто никаких отдельных множеств нет и кластеры плавно переходят друг в друга, но при этом хорошо видны области, где плотность точек (количество на единицу площади) больше, чем в других областях. на картинке ниже кластеры как бы \"проникают\" друг в друга. Поэтому алгорим DBSCAN, о котором мы и поговорим в этом уроке, справляется хорошо, а вот у K-means серьёзные проблемы - он находить три кластера вместо двух:\n",
    "\n",
    "![kmeans_vs_dbcan](https://248006.selcdn.ru/public/DS.%20Block%202.%20M7/kmeans_vs_dbcan.png)"
   ]
  },
  {
   "cell_type": "markdown",
   "id": "cc2ae31a",
   "metadata": {},
   "source": [
    "DBSCAN (Density-based spatial clustering of applications with noise, плотностной алгоритм пространственной кластеризации с присутствием шума) принимает на вход два параметра\n",
    "\n",
    "* $\\varepsilon$ - радиус окрестности, в котором мы ищем соседей каждой точки\n",
    "* пороговое значение $k$ количества соседей внутри радиуса $\\varepsilon$\n",
    "\n",
    "Оба этих параметра подбираются на валидационной выборке с помощью процедуры GridSearch, с которой вы познакомились в уроке про линейную регрессию."
   ]
  },
  {
   "cell_type": "markdown",
   "id": "391cd68f",
   "metadata": {},
   "source": [
    "Как  будет работать этот алгоритм? В первом приближении можно сказать, что мы будем ориентироваться на плотность точек: если в какой-то точке пространства точки лежат очень \"густо\" - там скорее всего, кластер. Если густота точек снижается, то мы, видимо, попали на границу кластера. А вот если у точки совсем нет соседей - наверное, это какой-то выброс и такая точка вообще ни в один кластер не входит."
   ]
  },
  {
   "cell_type": "markdown",
   "id": "6e8d4099",
   "metadata": {},
   "source": [
    "Алгоритм построения кластеров\n",
    "следующий\n",
    "\n",
    "1. Для каждой точки считаем, сколько у нее есть соседей в том радиусе, который указывали в параметрах (назовем число соседей $m$)\n",
    "1. Каждая точка, у которой соседей достаточно много (т.е. $m \\ge k$, которое мы тоже указывали в параметрах), будет считаться \"внутри кластера\" и называться опорной\n",
    "1. Остальные точки поделим на две группы. \n",
    "    1. Если соседей в том же радиусе у них мало, но среди этих соседей есть точка, которая \"внутри кластера\" (мы все такие нашли на предыдущем шаге) - это точка будет считаться лежащей на границе кластера\n",
    "    1. Все остальные будут считаться выбросами\n",
    "1. Теперь объединим точки в кластеры. Возьмем любую из опорных точек и объединим ее со всеми ее соседями, которые при этом тоже являются опорными. Так получается первый кластер. Будем повторять это для оставшихся опорных точек, формируя кластер за кластером, пока не опорные точки не закончатся"
   ]
  },
  {
   "cell_type": "markdown",
   "id": "73f2cb06",
   "metadata": {},
   "source": [
    "Алгоритм визуализирован на картинке\n",
    "\n",
    "![dbscan.img](https://248006.selcdn.ru/public/DS.%20Block%202.%20M7/dbscan.png)"
   ]
  },
  {
   "cell_type": "markdown",
   "id": "1d4b5e8e",
   "metadata": {},
   "source": [
    "Такая схема алгоритма проста для понимания, но сложна в реализации. На практике кластеры  будут формироваться итеративно:\n",
    "\n",
    "1. Берём случайную точку из датасета. Если меньше $k$ соседей в окрестности, то помечаем её как возможный `outlier` \n",
    "1. Добавляем её в список опорных элементов, если это возможно, исключаем из списка точек, которые надо обойти\n",
    "    1. Создаём новый кластер, в который добавляем эту точку - например, в виде массива с порядковыми номерами элементов из исходного датасета\n",
    "    1. Обходим всех соседей этой \"опорной\" точки. Если сосед уже в списке потенциальных `outliers` или у него меньше $k$ соседей в окрестности, то ничего не делаем. Иначе новая точка присоединяется к тому же кластеру, что и текущая.\n",
    "1. Повторяем шаги, пока в датасете не исчерпаются данные\n",
    "\n",
    "После окончания работы алгоритма у нас все точки окажутся разделёнными на две части: опорные и выбросы."
   ]
  },
  {
   "cell_type": "markdown",
   "id": "960c2fee",
   "metadata": {},
   "source": [
    "# Создание модели"
   ]
  },
  {
   "cell_type": "code",
   "execution_count": 5,
   "id": "3b3b4973",
   "metadata": {},
   "outputs": [],
   "source": [
    "import pickle\n",
    "import numpy as np\n",
    "import matplotlib\n",
    "import matplotlib.pyplot as plt\n",
    "\n",
    "# данные получены с помощью функции make_classification \n",
    "with open('clustering.pkl', 'rb') as f:\n",
    "    data_clustering = pickle.load(f)\n",
    "\n",
    "X = np.array(data_clustering['X'])\n",
    "Y = np.array(data_clustering['Y'])"
   ]
  },
  {
   "cell_type": "code",
   "execution_count": 6,
   "id": "ed2fd5bd",
   "metadata": {},
   "outputs": [],
   "source": [
    "from sklearn.cluster import DBSCAN\n",
    "\n",
    "db = DBSCAN(eps=0.6, min_samples=10).fit(X)\n",
    "core_samples_mask = np.zeros_like(db.labels_, dtype=bool)\n",
    "core_samples_mask[db.core_sample_indices_] = True"
   ]
  },
  {
   "cell_type": "code",
   "execution_count": 7,
   "id": "5f043135",
   "metadata": {},
   "outputs": [
    {
     "data": {
      "image/png": "[encoded data removed]",
      "text/plain": [
       "<Figure size 432x288 with 1 Axes>"
      ]
     },
     "metadata": {
      "needs_background": "light"
     },
     "output_type": "display_data"
    }
   ],
   "source": [
    "labels = db.labels_\n",
    "\n",
    "plt.scatter(X[:, 0], X[:, 1], s=40, c=labels, marker='o', alpha=0.8, label='data')\n",
    "plt.show()"
   ]
  },
  {
   "cell_type": "code",
   "execution_count": null,
   "id": "750d00ee",
   "metadata": {},
   "outputs": [],
   "source": []
  }
 ],
 "metadata": {
  "kernelspec": {
   "display_name": "Python 3 (ipykernel)",
   "language": "python",
   "name": "python3"
  },
  "language_info": {
   "codemirror_mode": {
    "name": "ipython",
    "version": 3
   },
   "file_extension": ".py",
   "mimetype": "text/x-python",
   "name": "python",
   "nbconvert_exporter": "python",
   "pygments_lexer": "ipython3",
   "version": "3.9.12"
  },
  "toc": {
   "base_numbering": 1,
   "nav_menu": {},
   "number_sections": true,
   "sideBar": true,
   "skip_h1_title": false,
   "title_cell": "Table of Contents",
   "title_sidebar": "Contents",
   "toc_cell": false,
   "toc_position": {},
   "toc_section_display": true,
   "toc_window_display": false
  }
 },
 "nbformat": 4,
 "nbformat_minor": 5
}
