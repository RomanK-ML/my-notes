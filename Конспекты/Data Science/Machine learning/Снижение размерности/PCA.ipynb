{
 "cells": [
  {
   "cell_type": "markdown",
   "id": "fbd1f564",
   "metadata": {},
   "source": [
    "# Применение PCA для снижения размерности"
   ]
  },
  {
   "cell_type": "markdown",
   "id": "6bf274ae",
   "metadata": {},
   "source": [
    "Воспользуемся для задачи снижения размерности готовым в sklearn алгоритмом PCA. Загрузим датасет для экспериментов:"
   ]
  },
  {
   "cell_type": "code",
   "execution_count": 2,
   "id": "cae625c6",
   "metadata": {},
   "outputs": [
    {
     "data": {
      "image/png": "[encoded data removed]",
      "text/plain": [
       "<Figure size 432x288 with 1 Axes>"
      ]
     },
     "metadata": {
      "needs_background": "light"
     },
     "output_type": "display_data"
    }
   ],
   "source": [
    "import numpy as np\n",
    "import matplotlib.pyplot as plt\n",
    "import pickle\n",
    "%matplotlib inline\n",
    "\n",
    "with open('eigen.pkl', 'rb') as f:\n",
    "    X = pickle.load(f)\n",
    "\n",
    "plt.plot(X[:,0], X[:,1], 'x')\n",
    "plt.axis('equal')\n",
    "plt.show()"
   ]
  },
  {
   "cell_type": "markdown",
   "id": "fe431675",
   "metadata": {},
   "source": [
    "Применяем алгоритм `sklearn.decomposition.PCA` к набору данных:"
   ]
  },
  {
   "cell_type": "code",
   "execution_count": 3,
   "id": "759b8e2c",
   "metadata": {},
   "outputs": [
    {
     "data": {
      "text/plain": [
       "array([[5.28331909],\n",
       "       [3.84284422],\n",
       "       [5.88859559],\n",
       "       [8.07409089],\n",
       "       [4.16799935],\n",
       "       [3.8592636 ],\n",
       "       [4.17040423],\n",
       "       [3.86884344],\n",
       "       [5.65483844],\n",
       "       [3.16278418]])"
      ]
     },
     "execution_count": 3,
     "metadata": {},
     "output_type": "execute_result"
    }
   ],
   "source": [
    "from sklearn.decomposition import PCA\n",
    "\n",
    "pca = PCA(n_components=1).fit(X)\n",
    "X_pca = pca.transform(X)\n",
    "X_pca[:10]"
   ]
  },
  {
   "cell_type": "markdown",
   "id": "90ecf54a",
   "metadata": {},
   "source": [
    "*Мы* сжали с помощью PCA двумерные данные в одномерный массив. \n",
    "\n",
    "![pca_arrays](https://248006.selcdn.ru/public/DS.%20Block%202.%20M8/pca_arrays.png)"
   ]
  },
  {
   "cell_type": "markdown",
   "id": "d54944d5",
   "metadata": {},
   "source": [
    "Давайте визуализируем этот массив - для этого надо произвести обратное преобразование из одномерного массива в двумерный. Отобразим \"восстановленные\" данные на графике (вторая картинка - исходный, несжатый массив):"
   ]
  },
  {
   "cell_type": "code",
   "execution_count": 4,
   "id": "12f62731",
   "metadata": {},
   "outputs": [
    {
     "data": {
      "image/png": "[encoded data removed]",
      "text/plain": [
       "<Figure size 432x288 with 2 Axes>"
      ]
     },
     "metadata": {
      "needs_background": "light"
     },
     "output_type": "display_data"
    }
   ],
   "source": [
    "X_new = pca.inverse_transform(X_pca)\n",
    "\n",
    "plt.figure(1)\n",
    "plt.subplot(211)\n",
    "plt.plot(X_new[:,0], X_new[:,1], 'x')\n",
    "\n",
    "plt.subplot(212)\n",
    "plt.plot(X[:,0], X[:,1], 'o')\n",
    "plt.show()"
   ]
  },
  {
   "cell_type": "markdown",
   "id": "a9a2c331",
   "metadata": {},
   "source": [
    "Алгоритм PCA выявил, что переменная от $x_2$ линейным образом зависит от переменной $x_1$ - то есть вместо переменной $x_2$ можно использовать линейное преобразование $x_2 = x_1w_1 + w_0$ (эта переменная на первом графике). \"Сжатые данные\" представляют собой график линейной функции $x_2 = ax_1 + b$. \n",
    "\n",
    "Данные, представляли собой облако точек, но алгоритм PCA ужал их до одномерного случая. Другие интересные визуализации можно [глянуть по ссылке](https://jakevdp.github.io/PythonDataScienceHandbook/05.09-principal-component-analysis.html)"
   ]
  },
  {
   "cell_type": "markdown",
   "id": "b007ba74",
   "metadata": {},
   "source": [
    "Как применять этот алгоритм на практике? PCA можно применить к любым данным, но как определить, что вам *действительно* нужно сжимать размерность?\n",
    "\n",
    "* обучаете свой алгоритм (например, линейную регрессию) на исходных данных и вычисляете качество решения по MSE (например)\n",
    "* сжимаете данные с помощью PCA\n",
    "* снова обучаете линейную регрессию с теми же параметрами, проверяете качество решения MSE. Если качество выросло - PCA сжал данные \"правильно\", пропали шумы. Если качество уменьшилось - PCA сказывается негативно, вместо убирания шумов вы теряете часть информации"
   ]
  },
  {
   "cell_type": "markdown",
   "id": "792ab0e6",
   "metadata": {},
   "source": [
    "Остался один интересный вопрос: как подобрать, сколько главных компонент оставить? Воспользуйтесь процедурой GridSearch: компонент нужно оставить столько, чтобы качество вашего алгоритма на отложенной выборке было максимальным.\n",
    "\n",
    "Ну и еще скажу, что существует один подводный камень в PCA: плохо работает, когда переменные в разных масштабах, например: количество минут пользователя на сервисе (live time) и цена, которую он платит за подписку - цена намного меньше по абсолютным значением, чем количество минут. Выход: выполнять *Z-преобразование* переменных."
   ]
  },
  {
   "cell_type": "markdown",
   "id": "11c6fc75",
   "metadata": {
    "heading_collapsed": true
   },
   "source": [
    "# Реализация алгоритма PCA"
   ]
  },
  {
   "cell_type": "markdown",
   "id": "85d57177",
   "metadata": {
    "hidden": true
   },
   "source": [
    "Вычисление главных компонент сводится к вычислению собственных векторов и собственных значений ковариационной матрицы исходных данных. Чтобы реализовать этот алгоритм, введём понятие ковариации.\n",
    "\n",
    "Ковариация признаков $X_i$ и $X_j$:\n",
    "\n",
    "$$\n",
    "cov(X_i, X_j) = E[(X_i-\\mu_i)(X_j-\\mu_j)] = E[X_iX_j] - \\mu_i\\mu_j\n",
    "$$\n",
    "\n",
    "На диагонали этой матрицы стоят дисперсии признаков, т.к. $cov[X_iX_i] = D[X_i]$.\n",
    "\n",
    "Для экспериментов загрузим из пикла случайный датасет небольшого размера"
   ]
  },
  {
   "cell_type": "code",
   "execution_count": 5,
   "id": "6f34f006",
   "metadata": {
    "hidden": true
   },
   "outputs": [
    {
     "data": {
      "image/png": "[encoded data removed]",
      "text/plain": [
       "<Figure size 432x288 with 1 Axes>"
      ]
     },
     "metadata": {
      "needs_background": "light"
     },
     "output_type": "display_data"
    }
   ],
   "source": [
    "import numpy as np\n",
    "import matplotlib.pyplot as plt\n",
    "%matplotlib inline\n",
    "\n",
    "with open('eigen.pkl', 'rb') as f:\n",
    "    X = pickle.load(f)\n",
    "    \n",
    "plt.plot(X[:,0], X[:,1], 'x')\n",
    "plt.axis('equal')\n",
    "plt.show()"
   ]
  },
  {
   "cell_type": "markdown",
   "id": "97eafe14",
   "metadata": {
    "hidden": true
   },
   "source": [
    "Мы получили две фичи $x_1$ и $x_2$, которые сильно коррелируют друг с другом (потому что мы их специально сгенерировали таким образом). Объединим их в уже известную нам матрицу *объекты-признаки* наблюдений размеров $N \\times 2$.\n",
    "\n",
    "Формула ковариации подсказывает, что для упрощения вычислений данные предварительно нужно центрировать, то есть вычесть из каждого столбца матрицы наблюдений среднее. На графике видно, что данные при этом не изменили свою форму, зато немного \"съехали\" в сторону начала координат."
   ]
  },
  {
   "cell_type": "code",
   "execution_count": 6,
   "id": "66c530f4",
   "metadata": {
    "hidden": true
   },
   "outputs": [
    {
     "data": {
      "image/png": "[encoded data removed]",
      "text/plain": [
       "<Figure size 432x288 with 1 Axes>"
      ]
     },
     "metadata": {
      "needs_background": "light"
     },
     "output_type": "display_data"
    }
   ],
   "source": [
    "# Центрируем координаты\n",
    "mean_val = X.mean(axis=0)\n",
    "N = X.shape[0]\n",
    "X_centered = X.copy() - mean_val\n",
    "\n",
    "plt.plot(X_centered[:,0], X_centered[:,1], 'x')\n",
    "plt.axis('equal')\n",
    "plt.show()"
   ]
  },
  {
   "cell_type": "markdown",
   "id": "7ea4aa9d",
   "metadata": {
    "hidden": true
   },
   "source": [
    "Выборочная ковариация вычисляется как сумма квадратичных отклонений:\n",
    "$$\n",
    "\\left\\{\n",
    "\\begin{array}{c}\n",
    "cov(X_i, X_i) = Var(X_i) = \\frac{\\sum_{i=1}^{N}\\left(x_i - \\overline{x_i}\\right)^2}{n-1}\\\\\n",
    "cov(X_i, X_j) = \\frac{\\sum_{i=1}^{N}\\left(x_i - \\overline{x_i}\\right)\\left(x_j - \\overline{x_j}\\right)}{n-1}\n",
    "\\end{array}\n",
    "\\right.\n",
    "$$\n",
    "\n",
    "В нашем случае данные центрированы, то есть отклонение от точки совпадает с значением этой точки, то есть ковариационную матрицу можно вычислить просто с помощью матричного умножения (неплохой пример с этими формулами можно [найти тут](https://towardsdatascience.com/let-us-understand-the-correlation-matrix-and-covariance-matrix-d42e6b643c22)):"
   ]
  },
  {
   "cell_type": "code",
   "execution_count": 7,
   "id": "7d822a02",
   "metadata": {
    "hidden": true
   },
   "outputs": [
    {
     "name": "stdout",
     "output_type": "stream",
     "text": [
      "Ковариационная матрица:\n",
      "[[8.85047897 6.81117445]\n",
      " [6.81117445 9.95969352]]\n",
      "\n",
      "Ковариационная матрица из numpy:\n",
      "[[8.85047897 6.81117445]\n",
      " [6.81117445 9.95969352]]\n",
      "\n"
     ]
    }
   ],
   "source": [
    "# вычисляем ковариационную матрицу \"по определению\"\n",
    "X_cov = X_centered.T.dot(\n",
    "    X_centered\n",
    ") / (N-1)\n",
    "print(\"Ковариационная матрица:\\n{}\\n\".format(\n",
    "    X_cov)\n",
    ")\n",
    "# готовая реализация из numpy\n",
    "print(\"Ковариационная матрица из numpy:\\n{}\\n\".format(\n",
    "    np.cov(X_centered, rowvar=0))\n",
    ")"
   ]
  },
  {
   "cell_type": "markdown",
   "id": "16a3b468",
   "metadata": {
    "hidden": true
   },
   "source": [
    "Вычисленная \"по определению\" матрица ковариации совпадает с реализацией из numpy - мы на правильном пути! Кстати, можно заметить что матрица является симметричной, а так же что все её элементы - положительные числа.\n",
    "\n",
    "В линейной алгебре существует концепция \"собственных векторов\"(eigenvectors) и \"собственных чисел\"(igenvalues). Если по-простому, то у матрицы $A$ существует собственный вектор $w_i$ и собственное число $\\lambda_i$, если выполняется соотношение\n",
    "$$\n",
    "Aw_i = \\lambda_iw_i\n",
    "$$\n",
    "\n",
    "Есть несколько особенностей: СВ и СЗ существуют только у квадратных матриц, причём количество собственных значений соответствует размерности матрицы $n$.\n",
    "\n",
    "Итак, мы хотим найти такие векторы (те самые главные компоненты), при проекции (то есть умножении) на которые наши данные сохранят максимальную долю своей дисперсии. Эти векторы являются просто собственными векторами ковариационной матрицы! Мы используем это утверждение как факт, а математическим обоснованием этого факта является [соотношение Релея](https://ru.wikipedia.org/wiki/Отношение_Рэлея)\n",
    "\n",
    "В `numpy` есть функция для вычисления СВ, СЗ (которая является обёрткой над системным пакетом [LAPACK](https://ru.wikipedia.org/wiki/LAPACK ))"
   ]
  },
  {
   "cell_type": "code",
   "execution_count": 8,
   "id": "ff9aac12",
   "metadata": {
    "hidden": true
   },
   "outputs": [
    {
     "name": "stdout",
     "output_type": "stream",
     "text": [
      "lambda_0 =2.57136935073713, w = [-0.7352406   0.67780621]\n",
      "lambda_1 =16.238803136510406, w = [-0.67780621 -0.7352406 ]\n",
      "\n"
     ]
    }
   ],
   "source": [
    "from numpy import linalg\n",
    "\n",
    "eigenvalues, eigenvectors = linalg.eig(X_cov)\n",
    "\n",
    "print(''.join(\n",
    "    'lambda_{} ={}, w = {}\\n'.format(eig_id,eigenvalues[eig_id], eigenvectors[:,eig_id]) \n",
    "    for eig_id in range(eigenvalues.size))\n",
    ")"
   ]
  },
  {
   "cell_type": "markdown",
   "id": "d59d021e",
   "metadata": {
    "hidden": true
   },
   "source": [
    "Отобразим оба вектора на графике, ведь у matplotlib есть специальная функция для отрисовки векторных полей"
   ]
  },
  {
   "cell_type": "code",
   "execution_count": 10,
   "id": "e3a65b7a",
   "metadata": {
    "hidden": true
   },
   "outputs": [
    {
     "ename": "ValueError",
     "evalue": "Argument U has a size 2 which does not match 1, the number of arrow positions",
     "output_type": "error",
     "traceback": [
      "\u001b[0;31m---------------------------------------------------------------------------\u001b[0m",
      "\u001b[0;31mValueError\u001b[0m                                Traceback (most recent call last)",
      "Input \u001b[0;32mIn [10]\u001b[0m, in \u001b[0;36m<cell line: 4>\u001b[0;34m()\u001b[0m\n\u001b[1;32m      1\u001b[0m origin \u001b[38;5;241m=\u001b[39m X_centered\u001b[38;5;241m.\u001b[39mmean(axis\u001b[38;5;241m=\u001b[39m\u001b[38;5;241m0\u001b[39m) \u001b[38;5;66;03m# начало координат\u001b[39;00m\n\u001b[1;32m      3\u001b[0m \u001b[38;5;66;03m# транспонируем матрицу собственных векторов, чтобы собственный вектор соответствовал строке\u001b[39;00m\n\u001b[0;32m----> 4\u001b[0m \u001b[43mplt\u001b[49m\u001b[38;5;241;43m.\u001b[39;49m\u001b[43mquiver\u001b[49m\u001b[43m(\u001b[49m\u001b[38;5;241;43m*\u001b[39;49m\u001b[43morigin\u001b[49m\u001b[43m,\u001b[49m\u001b[43m \u001b[49m\u001b[38;5;241;43m*\u001b[39;49m\u001b[43meigenvectors\u001b[49m\u001b[38;5;241;43m.\u001b[39;49m\u001b[43mT\u001b[49m\u001b[43m,\u001b[49m\u001b[43m \u001b[49m\u001b[43mcolor\u001b[49m\u001b[38;5;241;43m=\u001b[39;49m\u001b[43m[\u001b[49m\u001b[38;5;124;43m'\u001b[39;49m\u001b[38;5;124;43mr\u001b[39;49m\u001b[38;5;124;43m'\u001b[39;49m\u001b[43m,\u001b[49m\u001b[38;5;124;43m'\u001b[39;49m\u001b[38;5;124;43mb\u001b[39;49m\u001b[38;5;124;43m'\u001b[39;49m\u001b[43m,\u001b[49m\u001b[38;5;124;43m'\u001b[39;49m\u001b[38;5;124;43mg\u001b[39;49m\u001b[38;5;124;43m'\u001b[39;49m\u001b[43m]\u001b[49m\u001b[43m,\u001b[49m\u001b[43m \u001b[49m\u001b[43mscale\u001b[49m\u001b[38;5;241;43m=\u001b[39;49m\u001b[43meigenvalues\u001b[49m\u001b[43m)\u001b[49m\n\u001b[1;32m      5\u001b[0m plt\u001b[38;5;241m.\u001b[39mplot(X_centered[:,\u001b[38;5;241m0\u001b[39m], X_centered[:,\u001b[38;5;241m1\u001b[39m], \u001b[38;5;124m'\u001b[39m\u001b[38;5;124mx\u001b[39m\u001b[38;5;124m'\u001b[39m)\n",
      "File \u001b[0;32m~/anaconda3/lib/python3.9/site-packages/matplotlib/pyplot.py:2788\u001b[0m, in \u001b[0;36mquiver\u001b[0;34m(data, *args, **kwargs)\u001b[0m\n\u001b[1;32m   2786\u001b[0m \u001b[38;5;129m@_copy_docstring_and_deprecators\u001b[39m(Axes\u001b[38;5;241m.\u001b[39mquiver)\n\u001b[1;32m   2787\u001b[0m \u001b[38;5;28;01mdef\u001b[39;00m \u001b[38;5;21mquiver\u001b[39m(\u001b[38;5;241m*\u001b[39margs, data\u001b[38;5;241m=\u001b[39m\u001b[38;5;28;01mNone\u001b[39;00m, \u001b[38;5;241m*\u001b[39m\u001b[38;5;241m*\u001b[39mkwargs):\n\u001b[0;32m-> 2788\u001b[0m     __ret \u001b[38;5;241m=\u001b[39m \u001b[43mgca\u001b[49m\u001b[43m(\u001b[49m\u001b[43m)\u001b[49m\u001b[38;5;241;43m.\u001b[39;49m\u001b[43mquiver\u001b[49m\u001b[43m(\u001b[49m\n\u001b[1;32m   2789\u001b[0m \u001b[43m        \u001b[49m\u001b[38;5;241;43m*\u001b[39;49m\u001b[43margs\u001b[49m\u001b[43m,\u001b[49m\u001b[43m \u001b[49m\u001b[38;5;241;43m*\u001b[39;49m\u001b[38;5;241;43m*\u001b[39;49m\u001b[43m(\u001b[49m\u001b[43m{\u001b[49m\u001b[38;5;124;43m\"\u001b[39;49m\u001b[38;5;124;43mdata\u001b[39;49m\u001b[38;5;124;43m\"\u001b[39;49m\u001b[43m:\u001b[49m\u001b[43m \u001b[49m\u001b[43mdata\u001b[49m\u001b[43m}\u001b[49m\u001b[43m \u001b[49m\u001b[38;5;28;43;01mif\u001b[39;49;00m\u001b[43m \u001b[49m\u001b[43mdata\u001b[49m\u001b[43m \u001b[49m\u001b[38;5;129;43;01mis\u001b[39;49;00m\u001b[43m \u001b[49m\u001b[38;5;129;43;01mnot\u001b[39;49;00m\u001b[43m \u001b[49m\u001b[38;5;28;43;01mNone\u001b[39;49;00m\u001b[43m \u001b[49m\u001b[38;5;28;43;01melse\u001b[39;49;00m\u001b[43m \u001b[49m\u001b[43m{\u001b[49m\u001b[43m}\u001b[49m\u001b[43m)\u001b[49m\u001b[43m,\u001b[49m\n\u001b[1;32m   2790\u001b[0m \u001b[43m        \u001b[49m\u001b[38;5;241;43m*\u001b[39;49m\u001b[38;5;241;43m*\u001b[39;49m\u001b[43mkwargs\u001b[49m\u001b[43m)\u001b[49m\n\u001b[1;32m   2791\u001b[0m     sci(__ret)\n\u001b[1;32m   2792\u001b[0m     \u001b[38;5;28;01mreturn\u001b[39;00m __ret\n",
      "File \u001b[0;32m~/anaconda3/lib/python3.9/site-packages/matplotlib/__init__.py:1412\u001b[0m, in \u001b[0;36m_preprocess_data.<locals>.inner\u001b[0;34m(ax, data, *args, **kwargs)\u001b[0m\n\u001b[1;32m   1409\u001b[0m \u001b[38;5;129m@functools\u001b[39m\u001b[38;5;241m.\u001b[39mwraps(func)\n\u001b[1;32m   1410\u001b[0m \u001b[38;5;28;01mdef\u001b[39;00m \u001b[38;5;21minner\u001b[39m(ax, \u001b[38;5;241m*\u001b[39margs, data\u001b[38;5;241m=\u001b[39m\u001b[38;5;28;01mNone\u001b[39;00m, \u001b[38;5;241m*\u001b[39m\u001b[38;5;241m*\u001b[39mkwargs):\n\u001b[1;32m   1411\u001b[0m     \u001b[38;5;28;01mif\u001b[39;00m data \u001b[38;5;129;01mis\u001b[39;00m \u001b[38;5;28;01mNone\u001b[39;00m:\n\u001b[0;32m-> 1412\u001b[0m         \u001b[38;5;28;01mreturn\u001b[39;00m \u001b[43mfunc\u001b[49m\u001b[43m(\u001b[49m\u001b[43max\u001b[49m\u001b[43m,\u001b[49m\u001b[43m \u001b[49m\u001b[38;5;241;43m*\u001b[39;49m\u001b[38;5;28;43mmap\u001b[39;49m\u001b[43m(\u001b[49m\u001b[43msanitize_sequence\u001b[49m\u001b[43m,\u001b[49m\u001b[43m \u001b[49m\u001b[43margs\u001b[49m\u001b[43m)\u001b[49m\u001b[43m,\u001b[49m\u001b[43m \u001b[49m\u001b[38;5;241;43m*\u001b[39;49m\u001b[38;5;241;43m*\u001b[39;49m\u001b[43mkwargs\u001b[49m\u001b[43m)\u001b[49m\n\u001b[1;32m   1414\u001b[0m     bound \u001b[38;5;241m=\u001b[39m new_sig\u001b[38;5;241m.\u001b[39mbind(ax, \u001b[38;5;241m*\u001b[39margs, \u001b[38;5;241m*\u001b[39m\u001b[38;5;241m*\u001b[39mkwargs)\n\u001b[1;32m   1415\u001b[0m     auto_label \u001b[38;5;241m=\u001b[39m (bound\u001b[38;5;241m.\u001b[39marguments\u001b[38;5;241m.\u001b[39mget(label_namer)\n\u001b[1;32m   1416\u001b[0m                   \u001b[38;5;129;01mor\u001b[39;00m bound\u001b[38;5;241m.\u001b[39mkwargs\u001b[38;5;241m.\u001b[39mget(label_namer))\n",
      "File \u001b[0;32m~/anaconda3/lib/python3.9/site-packages/matplotlib/axes/_axes.py:4988\u001b[0m, in \u001b[0;36mAxes.quiver\u001b[0;34m(self, *args, **kwargs)\u001b[0m\n\u001b[1;32m   4986\u001b[0m \u001b[38;5;66;03m# Make sure units are handled for x and y values\u001b[39;00m\n\u001b[1;32m   4987\u001b[0m args \u001b[38;5;241m=\u001b[39m \u001b[38;5;28mself\u001b[39m\u001b[38;5;241m.\u001b[39m_quiver_units(args, kwargs)\n\u001b[0;32m-> 4988\u001b[0m q \u001b[38;5;241m=\u001b[39m \u001b[43mmquiver\u001b[49m\u001b[38;5;241;43m.\u001b[39;49m\u001b[43mQuiver\u001b[49m\u001b[43m(\u001b[49m\u001b[38;5;28;43mself\u001b[39;49m\u001b[43m,\u001b[49m\u001b[43m \u001b[49m\u001b[38;5;241;43m*\u001b[39;49m\u001b[43margs\u001b[49m\u001b[43m,\u001b[49m\u001b[43m \u001b[49m\u001b[38;5;241;43m*\u001b[39;49m\u001b[38;5;241;43m*\u001b[39;49m\u001b[43mkwargs\u001b[49m\u001b[43m)\u001b[49m\n\u001b[1;32m   4989\u001b[0m \u001b[38;5;28mself\u001b[39m\u001b[38;5;241m.\u001b[39madd_collection(q, autolim\u001b[38;5;241m=\u001b[39m\u001b[38;5;28;01mTrue\u001b[39;00m)\n\u001b[1;32m   4990\u001b[0m \u001b[38;5;28mself\u001b[39m\u001b[38;5;241m.\u001b[39m_request_autoscale_view()\n",
      "File \u001b[0;32m~/anaconda3/lib/python3.9/site-packages/matplotlib/quiver.py:510\u001b[0m, in \u001b[0;36mQuiver.__init__\u001b[0;34m(self, ax, scale, headwidth, headlength, headaxislength, minshaft, minlength, units, scale_units, angles, width, color, pivot, *args, **kw)\u001b[0m\n\u001b[1;32m    507\u001b[0m \u001b[38;5;28msuper\u001b[39m()\u001b[38;5;241m.\u001b[39m\u001b[38;5;21m__init__\u001b[39m([], offsets\u001b[38;5;241m=\u001b[39m\u001b[38;5;28mself\u001b[39m\u001b[38;5;241m.\u001b[39mXY, transOffset\u001b[38;5;241m=\u001b[39m\u001b[38;5;28mself\u001b[39m\u001b[38;5;241m.\u001b[39mtransform,\n\u001b[1;32m    508\u001b[0m                  closed\u001b[38;5;241m=\u001b[39m\u001b[38;5;28;01mFalse\u001b[39;00m, \u001b[38;5;241m*\u001b[39m\u001b[38;5;241m*\u001b[39mkw)\n\u001b[1;32m    509\u001b[0m \u001b[38;5;28mself\u001b[39m\u001b[38;5;241m.\u001b[39mpolykw \u001b[38;5;241m=\u001b[39m kw\n\u001b[0;32m--> 510\u001b[0m \u001b[38;5;28;43mself\u001b[39;49m\u001b[38;5;241;43m.\u001b[39;49m\u001b[43mset_UVC\u001b[49m\u001b[43m(\u001b[49m\u001b[43mU\u001b[49m\u001b[43m,\u001b[49m\u001b[43m \u001b[49m\u001b[43mV\u001b[49m\u001b[43m,\u001b[49m\u001b[43m \u001b[49m\u001b[43mC\u001b[49m\u001b[43m)\u001b[49m\n\u001b[1;32m    511\u001b[0m \u001b[38;5;28mself\u001b[39m\u001b[38;5;241m.\u001b[39m_initialized \u001b[38;5;241m=\u001b[39m \u001b[38;5;28;01mFalse\u001b[39;00m\n\u001b[1;32m    513\u001b[0m weak_self \u001b[38;5;241m=\u001b[39m weakref\u001b[38;5;241m.\u001b[39mref(\u001b[38;5;28mself\u001b[39m)  \u001b[38;5;66;03m# Prevent closure over the real self.\u001b[39;00m\n",
      "File \u001b[0;32m~/anaconda3/lib/python3.9/site-packages/matplotlib/quiver.py:579\u001b[0m, in \u001b[0;36mQuiver.set_UVC\u001b[0;34m(self, U, V, C)\u001b[0m\n\u001b[1;32m    577\u001b[0m \u001b[38;5;28;01mfor\u001b[39;00m name, var \u001b[38;5;129;01min\u001b[39;00m \u001b[38;5;28mzip\u001b[39m((\u001b[38;5;124m'\u001b[39m\u001b[38;5;124mU\u001b[39m\u001b[38;5;124m'\u001b[39m, \u001b[38;5;124m'\u001b[39m\u001b[38;5;124mV\u001b[39m\u001b[38;5;124m'\u001b[39m, \u001b[38;5;124m'\u001b[39m\u001b[38;5;124mC\u001b[39m\u001b[38;5;124m'\u001b[39m), (U, V, C)):\n\u001b[1;32m    578\u001b[0m     \u001b[38;5;28;01mif\u001b[39;00m \u001b[38;5;129;01mnot\u001b[39;00m (var \u001b[38;5;129;01mis\u001b[39;00m \u001b[38;5;28;01mNone\u001b[39;00m \u001b[38;5;129;01mor\u001b[39;00m var\u001b[38;5;241m.\u001b[39msize \u001b[38;5;241m==\u001b[39m \u001b[38;5;28mself\u001b[39m\u001b[38;5;241m.\u001b[39mN \u001b[38;5;129;01mor\u001b[39;00m var\u001b[38;5;241m.\u001b[39msize \u001b[38;5;241m==\u001b[39m \u001b[38;5;241m1\u001b[39m):\n\u001b[0;32m--> 579\u001b[0m         \u001b[38;5;28;01mraise\u001b[39;00m \u001b[38;5;167;01mValueError\u001b[39;00m(\u001b[38;5;124mf\u001b[39m\u001b[38;5;124m'\u001b[39m\u001b[38;5;124mArgument \u001b[39m\u001b[38;5;132;01m{\u001b[39;00mname\u001b[38;5;132;01m}\u001b[39;00m\u001b[38;5;124m has a size \u001b[39m\u001b[38;5;132;01m{\u001b[39;00mvar\u001b[38;5;241m.\u001b[39msize\u001b[38;5;132;01m}\u001b[39;00m\u001b[38;5;124m'\u001b[39m\n\u001b[1;32m    580\u001b[0m                          \u001b[38;5;124mf\u001b[39m\u001b[38;5;124m'\u001b[39m\u001b[38;5;124m which does not match \u001b[39m\u001b[38;5;132;01m{\u001b[39;00m\u001b[38;5;28mself\u001b[39m\u001b[38;5;241m.\u001b[39mN\u001b[38;5;132;01m}\u001b[39;00m\u001b[38;5;124m,\u001b[39m\u001b[38;5;124m'\u001b[39m\n\u001b[1;32m    581\u001b[0m                          \u001b[38;5;124m'\u001b[39m\u001b[38;5;124m the number of arrow positions\u001b[39m\u001b[38;5;124m'\u001b[39m)\n\u001b[1;32m    583\u001b[0m mask \u001b[38;5;241m=\u001b[39m ma\u001b[38;5;241m.\u001b[39mmask_or(U\u001b[38;5;241m.\u001b[39mmask, V\u001b[38;5;241m.\u001b[39mmask, copy\u001b[38;5;241m=\u001b[39m\u001b[38;5;28;01mFalse\u001b[39;00m, shrink\u001b[38;5;241m=\u001b[39m\u001b[38;5;28;01mTrue\u001b[39;00m)\n\u001b[1;32m    584\u001b[0m \u001b[38;5;28;01mif\u001b[39;00m C \u001b[38;5;129;01mis\u001b[39;00m \u001b[38;5;129;01mnot\u001b[39;00m \u001b[38;5;28;01mNone\u001b[39;00m:\n",
      "\u001b[0;31mValueError\u001b[0m: Argument U has a size 2 which does not match 1, the number of arrow positions"
     ]
    },
    {
     "data": {
      "image/png": "[encoded data removed]",
      "text/plain": [
       "<Figure size 432x288 with 1 Axes>"
      ]
     },
     "metadata": {
      "needs_background": "light"
     },
     "output_type": "display_data"
    }
   ],
   "source": [
    "origin = X_centered.mean(axis=0) # начало координат\n",
    "\n",
    "# транспонируем матрицу собственных векторов, чтобы собственный вектор соответствовал строке\n",
    "plt.quiver(*origin, *eigenvectors.T, color=['r','b','g'], scale=eigenvalues)\n",
    "plt.plot(X_centered[:,0], X_centered[:,1], 'x')"
   ]
  },
  {
   "cell_type": "markdown",
   "id": "b3d30388",
   "metadata": {
    "hidden": true
   },
   "source": [
    "У нас два признака, которым  соответствуют два собственных вектора. Выберем собственный вектор, который соответствует максимальному собственному значению и умножим на него нашу матрицу наблюдений. То есть у нас были двумерные данные, а мы перешли к одномерным"
   ]
  },
  {
   "cell_type": "code",
   "execution_count": 11,
   "id": "59381ca5",
   "metadata": {
    "hidden": true
   },
   "outputs": [
    {
     "data": {
      "text/plain": [
       "[<matplotlib.lines.Line2D at 0x7f30179cc4c0>]"
      ]
     },
     "execution_count": 11,
     "metadata": {},
     "output_type": "execute_result"
    },
    {
     "data": {
      "image/png": "[encoded data removed]",
      "text/plain": [
       "<Figure size 432x288 with 1 Axes>"
      ]
     },
     "metadata": {
      "needs_background": "light"
     },
     "output_type": "display_data"
    }
   ],
   "source": [
    "# первой главной компоненте соответствует самое больше собственное значение\n",
    "max_eigenval = np.argmax(eigenvalues)\n",
    "# главная компонента, соответствующая первому собственному значению\n",
    "max_eigenvec = eigenvectors[:,max_eigenval].reshape(-1,1)\n",
    "\n",
    "# X_redused = X.dot(max_eigenvec.reshape(1,-1).T)\n",
    "X_redused = X.dot(max_eigenvec)\n",
    "\n",
    "plt.plot(X_redused, np.zeros(N), 'x')"
   ]
  },
  {
   "cell_type": "markdown",
   "id": "71313147",
   "metadata": {
    "hidden": true
   },
   "source": [
    "Произведём обратное преобразование - перейдем от одномерного случая к двумерному"
   ]
  },
  {
   "cell_type": "code",
   "execution_count": 12,
   "id": "34ae45f0",
   "metadata": {
    "hidden": true
   },
   "outputs": [
    {
     "data": {
      "image/png": "[encoded data removed]",
      "text/plain": [
       "<Figure size 432x288 with 1 Axes>"
      ]
     },
     "metadata": {
      "needs_background": "light"
     },
     "output_type": "display_data"
    }
   ],
   "source": [
    "X_inverse = X_redused.dot(max_eigenvec.reshape(1,-1))\n",
    "\n",
    "plt.plot(X_inverse[:,0], X_inverse[:,1], 'x')\n",
    "\n",
    "plt.show()"
   ]
  },
  {
   "cell_type": "markdown",
   "id": "f8729b3c",
   "metadata": {
    "hidden": true
   },
   "source": [
    "Мы спроецировали наши данные из двумерного пространства в одномерное - из плоскости на линию -  с помощью алгоритма PCA. Видно, что проекция сохраняет в каком-то виде структуру данных (сгущения данных, например, становятся более отчётливо видны).\n",
    "\n",
    "Свойства главных компонент:\n",
    "\n",
    "* каждая главная компонента имеет максимально возможную дисперсию.  Все главные компоненты пронумерованы, с ростом номера главной компоненты уменьшается и доля дисперсии, которую \"объясняет\" эта компонента\n",
    "* Корреляция между двумя любыми компонентами равна нулю (т.е. они некоррелированы)"
   ]
  },
  {
   "cell_type": "code",
   "execution_count": null,
   "id": "c94381a6",
   "metadata": {
    "hidden": true
   },
   "outputs": [],
   "source": []
  }
 ],
 "metadata": {
  "kernelspec": {
   "display_name": "Python 3 (ipykernel)",
   "language": "python",
   "name": "python3"
  },
  "language_info": {
   "codemirror_mode": {
    "name": "ipython",
    "version": 3
   },
   "file_extension": ".py",
   "mimetype": "text/x-python",
   "name": "python",
   "nbconvert_exporter": "python",
   "pygments_lexer": "ipython3",
   "version": "3.9.12"
  },
  "toc": {
   "base_numbering": 1,
   "nav_menu": {},
   "number_sections": true,
   "sideBar": true,
   "skip_h1_title": false,
   "title_cell": "Table of Contents",
   "title_sidebar": "Contents",
   "toc_cell": false,
   "toc_position": {},
   "toc_section_display": true,
   "toc_window_display": false
  }
 },
 "nbformat": 4,
 "nbformat_minor": 5
}
