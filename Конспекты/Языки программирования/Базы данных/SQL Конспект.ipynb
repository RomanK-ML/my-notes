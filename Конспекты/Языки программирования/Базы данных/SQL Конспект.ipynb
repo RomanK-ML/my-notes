{
 "cells": [
  {
   "cell_type": "code",
   "execution_count": 66,
   "id": "c8e486c8-78a4-4d5a-9f32-f6b5c822d8a5",
   "metadata": {
    "pycharm": {
     "name": "#%%\n"
    }
   },
   "outputs": [],
   "source": [
    "import pandas as pd\n",
    "import numpy as np\n",
    "import sqlite3\n",
    "import mysql.connector\n",
    "import psycopg2\n",
    "import os"
   ]
  },
  {
   "cell_type": "markdown",
   "source": [
    "# Подключение к БД"
   ],
   "metadata": {
    "collapsed": false,
    "pycharm": {
     "name": "#%% md\n"
    }
   }
  },
  {
   "cell_type": "code",
   "execution_count": 67,
   "outputs": [],
   "source": [
    "db_config = {\n",
    "    \"mysql\":{\n",
    "        \"host\": \"localhost\",\n",
    "        \"port\": 3306,\n",
    "        \"user\": \"root\",\n",
    "        \"pass\": \"\",\n",
    "        \"database\": \"Test_bd\",\n",
    "    },\n",
    "    \"postgresql\":{\n",
    "        \"host\": \"localhost\",\n",
    "        \"port\": 5432,\n",
    "        \"user\": \"postgres\",\n",
    "        \"pass\": \"\",\n",
    "        \"database\": \"Test_bd\",\n",
    "\n",
    "    },\n",
    "    \"mongodb\":{\n",
    "        \"host\": \"localhost\",\n",
    "        \"port\": 27017,\n",
    "        \"user\": \"\",\n",
    "        \"pass\": \"\",\n",
    "        \"database\": \"\",\n",
    "    }\n",
    "}"
   ],
   "metadata": {
    "collapsed": false,
    "pycharm": {
     "name": "#%%\n"
    }
   }
  },
  {
   "cell_type": "code",
   "execution_count": 68,
   "outputs": [
    {
     "data": {
      "text/plain": "3306"
     },
     "execution_count": 68,
     "metadata": {},
     "output_type": "execute_result"
    }
   ],
   "source": [
    "db_config[\"mysql\"][\"port\"]"
   ],
   "metadata": {
    "collapsed": false,
    "pycharm": {
     "name": "#%%\n"
    }
   }
  },
  {
   "cell_type": "code",
   "execution_count": 69,
   "id": "8b978904-28de-44d5-852b-4d9d47d297d2",
   "metadata": {
    "pycharm": {
     "name": "#%%\n"
    }
   },
   "outputs": [
    {
     "data": {
      "text/plain": "'3.37.2'"
     },
     "execution_count": 69,
     "metadata": {},
     "output_type": "execute_result"
    }
   ],
   "source": [
    "sqlite3.sqlite_version"
   ]
  },
  {
   "cell_type": "code",
   "execution_count": 70,
   "id": "ae231235-b897-4b38-b72d-d044845b2c17",
   "metadata": {
    "pycharm": {
     "name": "#%%\n"
    }
   },
   "outputs": [],
   "source": [
    "sqlite3_con = sqlite3.connect('db')\n",
    "mysql_con = mysql.connector.connect(\n",
    "    host = db_config[\"mysql\"][\"host\"],\n",
    "    port = db_config[\"mysql\"][\"port\"],\n",
    "    user = db_config[\"mysql\"][\"user\"],\n",
    "    passwd = db_config[\"mysql\"][\"pass\"],\n",
    "    database = db_config[\"mysql\"][\"database\"]\n",
    ")\n",
    "postgresql_con = psycopg2.connect(\n",
    "    host = db_config[\"postgresql\"][\"host\"],\n",
    "    port = db_config[\"postgresql\"][\"port\"],\n",
    "    user = db_config[\"postgresql\"][\"user\"],\n",
    "    password = db_config[\"postgresql\"][\"pass\"],\n",
    "    database = db_config[\"postgresql\"][\"database\"],\n",
    ")"
   ]
  },
  {
   "cell_type": "code",
   "execution_count": 71,
   "outputs": [
    {
     "name": "stdout",
     "output_type": "stream",
     "text": [
      "\n",
      "SQLite3\n",
      "   client_id\n",
      "0        210\n",
      "1        929\n",
      "2        200\n",
      "3         45\n",
      "4        358\n",
      "\n",
      "MySQL\n",
      "   Name\n",
      "0  Oleg\n",
      "1   Bob\n",
      "\n",
      "PostgreSQL\n",
      "   id  Name\n",
      "0   0   Bob\n",
      "1   1  John\n"
     ]
    },
    {
     "name": "stderr",
     "output_type": "stream",
     "text": [
      "C:\\Users\\Роман\\AppData\\Local\\Temp\\ipykernel_17860\\1047846932.py:2: UserWarning: pandas only supports SQLAlchemy connectable (engine/connection) or database string URI or sqlite3 DBAPI2 connection. Other DBAPI2 objects are not tested. Please consider using SQLAlchemy.\n",
      "  my_sql_result_df = pd.read_sql('''SELECT users.Name FROM users limit 5''', mysql_con)\n",
      "C:\\Users\\Роман\\AppData\\Local\\Temp\\ipykernel_17860\\1047846932.py:3: UserWarning: pandas only supports SQLAlchemy connectable (engine/connection) or database string URI or sqlite3 DBAPI2 connection. Other DBAPI2 objects are not tested. Please consider using SQLAlchemy.\n",
      "  postgresql_result_df = pd.read_sql('''SELECT * FROM users limit 5''', postgresql_con)\n"
     ]
    }
   ],
   "source": [
    "sqlite3_result_df = pd.read_sql('''SELECT Credit.client_id FROM Credit limit 5''', sqlite3_con)\n",
    "my_sql_result_df = pd.read_sql('''SELECT users.Name FROM users limit 5''', mysql_con)\n",
    "postgresql_result_df = pd.read_sql('''SELECT * FROM users limit 5''', postgresql_con)\n",
    "print(\"\\nSQLite3\")\n",
    "print(sqlite3_result_df)\n",
    "print(\"\\nMySQL\")\n",
    "print(my_sql_result_df)\n",
    "print(\"\\nPostgreSQL\")\n",
    "print(postgresql_result_df)"
   ],
   "metadata": {
    "collapsed": false,
    "pycharm": {
     "name": "#%%\n"
    }
   }
  },
  {
   "cell_type": "markdown",
   "source": [
    "# Команды SQL"
   ],
   "metadata": {
    "collapsed": false,
    "pycharm": {
     "name": "#%% md\n"
    }
   }
  },
  {
   "cell_type": "markdown",
   "source": [
    "## Data Definition Language — язык определения данных"
   ],
   "metadata": {
    "collapsed": false,
    "pycharm": {
     "name": "#%% md\n"
    }
   }
  },
  {
   "cell_type": "markdown",
   "source": [
    "### CREATE\n",
    "Создает новую таблицу, представление таблицы или другой объект в БД"
   ],
   "metadata": {
    "collapsed": false,
    "pycharm": {
     "name": "#%% md\n"
    }
   }
  },
  {
   "cell_type": "code",
   "execution_count": 26,
   "outputs": [],
   "source": [],
   "metadata": {
    "collapsed": false,
    "pycharm": {
     "name": "#%%\n"
    }
   }
  },
  {
   "cell_type": "markdown",
   "source": [
    "### ALTER\n",
    "Модифицирует существующий в БД объект, такой как таблица"
   ],
   "metadata": {
    "collapsed": false,
    "pycharm": {
     "name": "#%% md\n"
    }
   }
  },
  {
   "cell_type": "code",
   "execution_count": 26,
   "outputs": [],
   "source": [],
   "metadata": {
    "collapsed": false,
    "pycharm": {
     "name": "#%%\n"
    }
   }
  },
  {
   "cell_type": "markdown",
   "source": [
    "### DROP\n",
    "Удаляет существующую таблицу, представление таблицы или другой объект в БД"
   ],
   "metadata": {
    "collapsed": false,
    "pycharm": {
     "name": "#%% md\n"
    }
   }
  },
  {
   "cell_type": "code",
   "execution_count": 26,
   "outputs": [],
   "source": [],
   "metadata": {
    "collapsed": false,
    "pycharm": {
     "name": "#%%\n"
    }
   }
  },
  {
   "cell_type": "markdown",
   "source": [
    "## Data Manipulation Language — язык изменения данных"
   ],
   "metadata": {
    "collapsed": false,
    "pycharm": {
     "name": "#%% md\n"
    }
   }
  },
  {
   "cell_type": "markdown",
   "source": [
    "### SELECT\n",
    "Извлекает записи из одной или нескольких таблиц"
   ],
   "metadata": {
    "collapsed": false,
    "pycharm": {
     "name": "#%% md\n"
    }
   }
  },
  {
   "cell_type": "code",
   "execution_count": 27,
   "outputs": [
    {
     "name": "stdout",
     "output_type": "stream",
     "text": [
      "    age     sex job housing saving_accounts checking_account credit_amount  \\\n",
      "0    33    male   2     own                                           3074   \n",
      "1    43    male   1     own          little           little          1344   \n",
      "2    52    male   2     own      quite rich                            936   \n",
      "3    35  female   3     own          little                           1393   \n",
      "4    28    male   2     own          little                            776   \n",
      "..   ..     ...  ..     ...             ...              ...           ...   \n",
      "995  65    male   2    free          little           little          2600   \n",
      "996  30    male   3     own          little         moderate          4455   \n",
      "997  33    male   2     own          little         moderate          6403   \n",
      "998  29  female   2     own                                           5003   \n",
      "999  44    male   2     own        moderate         moderate          1804   \n",
      "\n",
      "    duration    purpose default          contract_dt client_id  \n",
      "0          9   radio/TV       0  2008-06-29 18:52:00       210  \n",
      "1         12        car       0  2007-05-20 18:30:19       929  \n",
      "2          9  education       0  2008-04-27 08:23:07       200  \n",
      "3         11        car       0  2007-05-06 10:58:22        45  \n",
      "4         12   radio/TV       0  2007-07-21 13:22:14       358  \n",
      "..       ...        ...     ...                  ...       ...  \n",
      "995       18   radio/TV       1  2007-12-16 20:17:19       624  \n",
      "996       36   business       1  2007-07-12 14:08:58       181  \n",
      "997       24   radio/TV       0  2008-04-08 03:24:26       730  \n",
      "998       21        car       1  2007-11-29 15:51:45       557  \n",
      "999       12        car       0  2007-08-14 09:05:33        23  \n",
      "\n",
      "[1000 rows x 12 columns]\n"
     ]
    },
    {
     "name": "stderr",
     "output_type": "stream",
     "text": [
      "C:\\Users\\Роман\\AppData\\Local\\Temp\\ipykernel_17860\\3773345162.py:3: UserWarning: pandas only supports SQLAlchemy connectable (engine/connection) or database string URI or sqlite3 DBAPI2 connection. Other DBAPI2 objects are not tested. Please consider using SQLAlchemy.\n",
      "  print(pd.read_sql(query_sql, mysql_con))\n"
     ]
    }
   ],
   "source": [
    "query_sql = '''SELECT * FROM german_credit'''\n",
    "\n",
    "print(pd.read_sql(query_sql, mysql_con))"
   ],
   "metadata": {
    "collapsed": false,
    "pycharm": {
     "name": "#%%\n"
    }
   }
  },
  {
   "cell_type": "markdown",
   "source": [
    "### INSERT\n",
    "Создает записи"
   ],
   "metadata": {
    "collapsed": false,
    "pycharm": {
     "name": "#%% md\n"
    }
   }
  },
  {
   "cell_type": "code",
   "execution_count": 27,
   "outputs": [],
   "source": [],
   "metadata": {
    "collapsed": false,
    "pycharm": {
     "name": "#%%\n"
    }
   }
  },
  {
   "cell_type": "markdown",
   "source": [
    "### UPDATE\n",
    "\n",
    "Модифицирует записи"
   ],
   "metadata": {
    "collapsed": false,
    "pycharm": {
     "name": "#%% md\n"
    }
   }
  },
  {
   "cell_type": "code",
   "execution_count": 27,
   "outputs": [],
   "source": [],
   "metadata": {
    "collapsed": false,
    "pycharm": {
     "name": "#%%\n"
    }
   }
  },
  {
   "cell_type": "markdown",
   "source": [
    "### DELETE\n",
    "Удаляет записи"
   ],
   "metadata": {
    "collapsed": false,
    "pycharm": {
     "name": "#%% md\n"
    }
   }
  },
  {
   "cell_type": "code",
   "execution_count": 27,
   "outputs": [],
   "source": [],
   "metadata": {
    "collapsed": false,
    "pycharm": {
     "name": "#%%\n"
    }
   }
  },
  {
   "cell_type": "markdown",
   "source": [
    "## Data Control Language — язык управления данными"
   ],
   "metadata": {
    "collapsed": false,
    "pycharm": {
     "name": "#%% md\n"
    }
   }
  },
  {
   "cell_type": "markdown",
   "source": [
    "### GRANT\n",
    "Наделяет пользователя правами"
   ],
   "metadata": {
    "collapsed": false,
    "pycharm": {
     "name": "#%% md\n"
    }
   }
  },
  {
   "cell_type": "code",
   "execution_count": 27,
   "outputs": [],
   "source": [],
   "metadata": {
    "collapsed": false,
    "pycharm": {
     "name": "#%%\n"
    }
   }
  },
  {
   "cell_type": "markdown",
   "source": [
    "### REVOKE\n",
    "Отменяет права пользователя"
   ],
   "metadata": {
    "collapsed": false,
    "pycharm": {
     "name": "#%% md\n"
    }
   }
  },
  {
   "cell_type": "code",
   "execution_count": 27,
   "outputs": [],
   "source": [],
   "metadata": {
    "collapsed": false,
    "pycharm": {
     "name": "#%%\n"
    }
   }
  },
  {
   "cell_type": "markdown",
   "source": [
    "## Операторы"
   ],
   "metadata": {
    "collapsed": false,
    "pycharm": {
     "name": "#%% md\n"
    }
   }
  },
  {
   "cell_type": "markdown",
   "source": [
    "### WHERE\n",
    "Используется, когда нужно отфильтровать данные по нужному условию."
   ],
   "metadata": {
    "collapsed": false,
    "pycharm": {
     "name": "#%% md\n"
    }
   }
  },
  {
   "cell_type": "code",
   "execution_count": 31,
   "outputs": [
    {
     "name": "stdout",
     "output_type": "stream",
     "text": [
      "    age     sex job housing saving_accounts checking_account credit_amount  \\\n",
      "0    42  female   2    rent            rich             rich           409   \n",
      "1    35    male   2    free          little           little          3386   \n",
      "2    46    male   2    free      quite rich                            727   \n",
      "3    47    male   2    free          little                           5103   \n",
      "4    39    male   3    rent          little           little          3345   \n",
      "..   ..     ...  ..     ...             ...              ...           ...   \n",
      "106  37    male   2    rent          little           little          3676   \n",
      "107  48    male   2    free                                           9277   \n",
      "108  31  female   2    rent                                           2901   \n",
      "109  31    male   2    rent          little           little          2302   \n",
      "110  48  female   1    free        moderate             rich          1240   \n",
      "\n",
      "    duration              purpose default          contract_dt client_id  \n",
      "0         12             radio/TV       0  2008-06-05 05:31:13        27  \n",
      "1         12                  car       1  2007-11-16 10:55:10       457  \n",
      "2         10            education       0  2007-07-06 20:47:24       354  \n",
      "3         24             radio/TV       0  2007-10-25 09:51:21       683  \n",
      "4         24  furniture/equipment       1  2007-11-11 15:12:09       919  \n",
      "..       ...                  ...     ...                  ...       ...  \n",
      "106        6                  car       0  2008-06-05 22:58:54       617  \n",
      "107       24                  car       0  2008-05-23 11:15:16       881  \n",
      "108       10                  car       0  2008-01-21 10:08:36       767  \n",
      "109       36             radio/TV       1  2008-01-14 12:37:15       528  \n",
      "110       10                  car       1  2007-10-24 10:39:34       611  \n",
      "\n",
      "[111 rows x 12 columns]\n"
     ]
    },
    {
     "name": "stderr",
     "output_type": "stream",
     "text": [
      "C:\\Users\\Роман\\AppData\\Local\\Temp\\ipykernel_17860\\902897306.py:5: UserWarning: pandas only supports SQLAlchemy connectable (engine/connection) or database string URI or sqlite3 DBAPI2 connection. Other DBAPI2 objects are not tested. Please consider using SQLAlchemy.\n",
      "  print(pd.read_sql(query_sql, mysql_con))\n"
     ]
    }
   ],
   "source": [
    "query_sql = '''SELECT * FROM german_credit AS credit\n",
    "WHERE credit.age > 30 AND credit.age < 50 AND credit.housing IN ('free', 'rent')\n",
    "'''\n",
    "\n",
    "print(pd.read_sql(query_sql, mysql_con))"
   ],
   "metadata": {
    "collapsed": false,
    "pycharm": {
     "name": "#%%\n"
    }
   }
  },
  {
   "cell_type": "markdown",
   "source": [
    "### LIKE\n",
    "Оператор LIKE принимает шаблон строки, которому должно соответствовать выражение."
   ],
   "metadata": {
    "collapsed": false,
    "pycharm": {
     "name": "#%% md\n"
    }
   }
  },
  {
   "cell_type": "code",
   "execution_count": 32,
   "outputs": [
    {
     "name": "stdout",
     "output_type": "stream",
     "text": [
      "    age     sex job housing saving_accounts checking_account credit_amount  \\\n",
      "0    52    male   2     own      quite rich                            936   \n",
      "1    46    male   2    free      quite rich                            727   \n",
      "2    39    male   3    rent          little           little          3345   \n",
      "3    44    male   2     own          little           little          1478   \n",
      "4    31    male   1     own          little           little          3108   \n",
      "..   ..     ...  ..     ...             ...              ...           ...   \n",
      "126  61    male   2    free                         moderate          1239   \n",
      "127  50    male   2     own          little                           1574   \n",
      "128  35    male   3     own          little                           3780   \n",
      "129  47    male   2     own          little                           1393   \n",
      "130  55  female   3     own                             rich          1424   \n",
      "\n",
      "    duration              purpose default          contract_dt client_id  \n",
      "0          9            education       0  2008-04-27 08:23:07       200  \n",
      "1         10            education       0  2007-07-06 20:47:24       354  \n",
      "2         24  furniture/equipment       1  2007-11-11 15:12:09       919  \n",
      "3         15  furniture/equipment       0  2007-09-23 07:36:29       479  \n",
      "4         30  furniture/equipment       1  2007-11-21 23:06:14       766  \n",
      "..       ...                  ...     ...                  ...       ...  \n",
      "126       18            education       0  2008-06-08 08:21:02       360  \n",
      "127       12  furniture/equipment       0  2007-05-19 06:27:51       281  \n",
      "128       18  furniture/equipment       0  2007-06-14 01:02:50       824  \n",
      "129       12            education       0  2007-08-06 05:12:05       635  \n",
      "130       12  furniture/equipment       0  2007-12-02 14:39:04       448  \n",
      "\n",
      "[131 rows x 12 columns]\n"
     ]
    },
    {
     "name": "stderr",
     "output_type": "stream",
     "text": [
      "C:\\Users\\Роман\\AppData\\Local\\Temp\\ipykernel_17860\\3010810278.py:6: UserWarning: pandas only supports SQLAlchemy connectable (engine/connection) or database string URI or sqlite3 DBAPI2 connection. Other DBAPI2 objects are not tested. Please consider using SQLAlchemy.\n",
      "  print(pd.read_sql(query_sql, mysql_con))\n"
     ]
    }
   ],
   "source": [
    "query_sql = '''SELECT * FROM german_credit AS credit\n",
    "WHERE (credit.purpose LIKE '%furn%' OR credit.purpose LIKE '%edu%')\n",
    "AND credit.age > 30\n",
    "'''\n",
    "\n",
    "print(pd.read_sql(query_sql, mysql_con))"
   ],
   "metadata": {
    "collapsed": false,
    "pycharm": {
     "name": "#%%\n"
    }
   }
  },
  {
   "cell_type": "markdown",
   "source": [
    "### CASE WHEN\n",
    "Функция CASE проверяет значение некоторого выражение, и в зависимости от результата проверки может возвращать тот или иной результат.\n"
   ],
   "metadata": {
    "collapsed": false,
    "pycharm": {
     "name": "#%% md\n"
    }
   }
  },
  {
   "cell_type": "code",
   "execution_count": 35,
   "outputs": [
    {
     "name": "stdout",
     "output_type": "stream",
     "text": [
      "    age  case\n",
      "0    33     1\n",
      "1    43     1\n",
      "2    52     1\n",
      "3    35     1\n",
      "4    28     0\n",
      "..   ..   ...\n",
      "995  65     1\n",
      "996  30     0\n",
      "997  33     1\n",
      "998  29     0\n",
      "999  44     1\n",
      "\n",
      "[1000 rows x 2 columns]\n"
     ]
    },
    {
     "name": "stderr",
     "output_type": "stream",
     "text": [
      "C:\\Users\\Роман\\AppData\\Local\\Temp\\ipykernel_17860\\2452833466.py:6: UserWarning: pandas only supports SQLAlchemy connectable (engine/connection) or database string URI or sqlite3 DBAPI2 connection. Other DBAPI2 objects are not tested. Please consider using SQLAlchemy.\n",
      "  print(pd.read_sql(query_sql, mysql_con))\n"
     ]
    }
   ],
   "source": [
    "query_sql = '''SELECT credit.age,\n",
    "CASE WHEN credit.age > 30 THEN 1 ELSE 0 END AS 'case'\n",
    "FROM german_credit AS credit\n",
    "'''\n",
    "\n",
    "print(pd.read_sql(query_sql, mysql_con))"
   ],
   "metadata": {
    "collapsed": false,
    "pycharm": {
     "name": "#%%\n"
    }
   }
  },
  {
   "cell_type": "markdown",
   "source": [
    "### UNION ALL\n",
    "Оператор UNION соединяет два однотипных набора в один"
   ],
   "metadata": {
    "collapsed": false,
    "pycharm": {
     "name": "#%% md\n"
    }
   }
  },
  {
   "cell_type": "code",
   "execution_count": null,
   "outputs": [],
   "source": [],
   "metadata": {
    "collapsed": false,
    "pycharm": {
     "name": "#%%\n"
    }
   }
  },
  {
   "cell_type": "markdown",
   "source": [
    "### GROUP BY\n",
    "Оператор GROUP BY определяет, как строки будут группироваться."
   ],
   "metadata": {
    "collapsed": false,
    "pycharm": {
     "name": "#%% md\n"
    }
   }
  },
  {
   "cell_type": "code",
   "execution_count": 36,
   "outputs": [
    {
     "name": "stdout",
     "output_type": "stream",
     "text": [
      "      sex  count  avg_credit_amount\n",
      "0    male    690        3448.040580\n",
      "1  female    310        2877.774194\n"
     ]
    },
    {
     "name": "stderr",
     "output_type": "stream",
     "text": [
      "C:\\Users\\Роман\\AppData\\Local\\Temp\\ipykernel_17860\\4137482928.py:6: UserWarning: pandas only supports SQLAlchemy connectable (engine/connection) or database string URI or sqlite3 DBAPI2 connection. Other DBAPI2 objects are not tested. Please consider using SQLAlchemy.\n",
      "  print(pd.read_sql(query_sql, mysql_con))\n"
     ]
    }
   ],
   "source": [
    "query_sql = '''SELECT credit.sex, count(*) AS 'count', avg(credit.credit_amount) AS 'avg_credit_amount'\n",
    "FROM german_credit AS credit\n",
    "GROUP BY credit.sex\n",
    "'''\n",
    "\n",
    "print(pd.read_sql(query_sql, mysql_con))"
   ],
   "metadata": {
    "collapsed": false,
    "pycharm": {
     "name": "#%%\n"
    }
   }
  },
  {
   "cell_type": "code",
   "execution_count": null,
   "outputs": [],
   "source": [],
   "metadata": {
    "collapsed": false,
    "pycharm": {
     "name": "#%%\n"
    }
   }
  },
  {
   "cell_type": "markdown",
   "source": [
    "## Подзапросы\n",
    "Это запросы, вложенные в другой запрос"
   ],
   "metadata": {
    "collapsed": false,
    "pycharm": {
     "name": "#%% md\n"
    }
   }
  },
  {
   "cell_type": "markdown",
   "source": [
    "### Обычные"
   ],
   "metadata": {
    "collapsed": false,
    "pycharm": {
     "name": "#%% md\n"
    }
   }
  },
  {
   "cell_type": "code",
   "execution_count": 49,
   "outputs": [
    {
     "name": "stdout",
     "output_type": "stream",
     "text": [
      "   age  cnt\n",
      "0   33   33\n",
      "1   35   40\n",
      "2   28   43\n",
      "3   27   51\n",
      "4   29   37\n",
      "5   26   50\n",
      "6   34   32\n",
      "7   37   29\n",
      "8   32   34\n",
      "9   24   44\n",
      "10  36   39\n",
      "11  31   38\n",
      "12  30   40\n",
      "13  22   27\n",
      "14  23   48\n",
      "15  25   41\n"
     ]
    },
    {
     "name": "stderr",
     "output_type": "stream",
     "text": [
      "C:\\Users\\Роман\\AppData\\Local\\Temp\\ipykernel_17860\\1390045660.py:8: UserWarning: pandas only supports SQLAlchemy connectable (engine/connection) or database string URI or sqlite3 DBAPI2 connection. Other DBAPI2 objects are not tested. Please consider using SQLAlchemy.\n",
      "  print(pd.read_sql(query_sql, mysql_con))\n"
     ]
    }
   ],
   "source": [
    "query_sql = '''SELECT * FROM\n",
    "\n",
    "(SELECT credit.age, count(*) AS 'cnt' FROM german_credit AS credit\n",
    "GROUP BY credit.age) AS crd\n",
    "WHERE crd.cnt > 25\n",
    "'''\n",
    "\n",
    "print(pd.read_sql(query_sql, mysql_con))"
   ],
   "metadata": {
    "collapsed": false,
    "pycharm": {
     "name": "#%%\n"
    }
   }
  },
  {
   "cell_type": "markdown",
   "source": [
    "### CTE (with)"
   ],
   "metadata": {
    "collapsed": false,
    "pycharm": {
     "name": "#%% md\n"
    }
   }
  },
  {
   "cell_type": "code",
   "execution_count": 50,
   "outputs": [
    {
     "name": "stdout",
     "output_type": "stream",
     "text": [
      "   age  cnt\n",
      "0   33   33\n",
      "1   43   17\n",
      "2   35   40\n",
      "3   28   43\n",
      "4   27   51\n",
      "5   29   37\n",
      "6   42   22\n",
      "7   26   50\n",
      "8   48   12\n",
      "9   34   32\n",
      "10  46   18\n",
      "11  37   29\n",
      "12  21   14\n",
      "13  47   17\n",
      "14  39   21\n",
      "15  32   34\n",
      "16  44   17\n",
      "17  41   17\n",
      "18  24   44\n",
      "19  40   25\n",
      "20  36   39\n",
      "21  31   38\n",
      "22  30   40\n",
      "23  22   27\n",
      "24  50   12\n",
      "25  23   48\n",
      "26  45   15\n",
      "27  25   41\n",
      "28  49   14\n",
      "29  38   24\n"
     ]
    },
    {
     "name": "stderr",
     "output_type": "stream",
     "text": [
      "C:\\Users\\Роман\\AppData\\Local\\Temp\\ipykernel_17860\\463251661.py:9: UserWarning: pandas only supports SQLAlchemy connectable (engine/connection) or database string URI or sqlite3 DBAPI2 connection. Other DBAPI2 objects are not tested. Please consider using SQLAlchemy.\n",
      "  print(pd.read_sql(query_sql, mysql_con))\n"
     ]
    }
   ],
   "source": [
    "query_sql = '''\n",
    "WITH age_cnt AS (SELECT credit.age, count(*) AS 'cnt' FROM german_credit AS credit GROUP BY credit.age),\n",
    "\n",
    "age_cnt2 AS (SELECT * FROM age_cnt AS age_credit WHERE age_credit.age > 20)\n",
    "\n",
    "SELECT * FROM age_cnt2 AS age_credit2 WHERE age_credit2.cnt > 10\n",
    "'''\n",
    "\n",
    "print(pd.read_sql(query_sql, mysql_con))"
   ],
   "metadata": {
    "collapsed": false,
    "pycharm": {
     "name": "#%%\n"
    }
   }
  },
  {
   "cell_type": "markdown",
   "source": [
    "## Соединение таблиц"
   ],
   "metadata": {
    "collapsed": false,
    "pycharm": {
     "name": "#%% md\n"
    }
   }
  },
  {
   "cell_type": "markdown",
   "source": [
    "### LEFT JOIN"
   ],
   "metadata": {
    "collapsed": false,
    "pycharm": {
     "name": "#%% md\n"
    }
   }
  },
  {
   "cell_type": "code",
   "execution_count": 57,
   "outputs": [
    {
     "name": "stdout",
     "output_type": "stream",
     "text": [
      "    client_id     sex credit_amount\n",
      "0         210    male          3074\n",
      "1         929    male          1344\n",
      "2         200    male          None\n",
      "3          45  female          1393\n",
      "4         358    male           776\n",
      "..        ...     ...           ...\n",
      "995       624    male          None\n",
      "996       181    male          4455\n",
      "997       730    male          6403\n",
      "998       557  female          5003\n",
      "999        23    male          1804\n",
      "\n",
      "[1000 rows x 3 columns]\n"
     ]
    },
    {
     "name": "stderr",
     "output_type": "stream",
     "text": [
      "C:\\Users\\Роман\\AppData\\Local\\Temp\\ipykernel_17860\\2238999703.py:5: UserWarning: pandas only supports SQLAlchemy connectable (engine/connection) or database string URI or sqlite3 DBAPI2 connection. Other DBAPI2 objects are not tested. Please consider using SQLAlchemy.\n",
      "  print(pd.read_sql(query_sql, mysql_con))\n"
     ]
    }
   ],
   "source": [
    "query_sql = '''SELECT credit1.client_id, credit1.sex, credit2.credit_amount FROM german_credit AS credit1\n",
    "LEFT JOIN (SELECT credit.client_id, credit.credit_amount FROM german_credit AS credit) AS credit2 on credit1.client_id = credit2.client_id\n",
    "'''\n",
    "\n",
    "print(pd.read_sql(query_sql, mysql_con))"
   ],
   "metadata": {
    "collapsed": false,
    "pycharm": {
     "name": "#%%\n"
    }
   }
  },
  {
   "cell_type": "markdown",
   "source": [
    "### INNER JOIN"
   ],
   "metadata": {
    "collapsed": false,
    "pycharm": {
     "name": "#%% md\n"
    }
   }
  },
  {
   "cell_type": "code",
   "execution_count": 58,
   "outputs": [
    {
     "name": "stdout",
     "output_type": "stream",
     "text": [
      "    client_id     sex credit_amount\n",
      "0         929    male          1344\n",
      "1         200    male           936\n",
      "2          45  female          1393\n",
      "3         358    male           776\n",
      "4          86  female          1295\n",
      "..        ...     ...           ...\n",
      "427       611  female          1240\n",
      "428       151    male          1924\n",
      "429       448  female          1424\n",
      "430       551    male          1750\n",
      "431        23    male          1804\n",
      "\n",
      "[432 rows x 3 columns]\n"
     ]
    },
    {
     "name": "stderr",
     "output_type": "stream",
     "text": [
      "C:\\Users\\Роман\\AppData\\Local\\Temp\\ipykernel_17860\\4042608774.py:5: UserWarning: pandas only supports SQLAlchemy connectable (engine/connection) or database string URI or sqlite3 DBAPI2 connection. Other DBAPI2 objects are not tested. Please consider using SQLAlchemy.\n",
      "  print(pd.read_sql(query_sql, mysql_con))\n"
     ]
    }
   ],
   "source": [
    "query_sql = '''SELECT credit1.client_id, credit1.sex, credit2.credit_amount FROM german_credit AS credit1\n",
    "INNER JOIN (SELECT credit.client_id, credit.credit_amount FROM german_credit AS credit WHERE credit.credit_amount < 2000) AS credit2 on credit1.client_id = credit2.client_id\n",
    "'''\n",
    "\n",
    "print(pd.read_sql(query_sql, mysql_con))"
   ],
   "metadata": {
    "collapsed": false,
    "pycharm": {
     "name": "#%%\n"
    }
   }
  },
  {
   "cell_type": "markdown",
   "source": [
    "## Оконные функции"
   ],
   "metadata": {
    "collapsed": false,
    "pycharm": {
     "name": "#%% md\n"
    }
   }
  },
  {
   "cell_type": "markdown",
   "source": [
    "### SUM"
   ],
   "metadata": {
    "collapsed": false,
    "pycharm": {
     "name": "#%% md\n"
    }
   }
  },
  {
   "cell_type": "code",
   "execution_count": 75,
   "outputs": [
    {
     "name": "stdout",
     "output_type": "stream",
     "text": [
      "     age     sex  job housing saving_accounts checking_account  credit_amount  \\\n",
      "0     41  female    1     own            rich                             250   \n",
      "1     27  female    2     own          little           little            343   \n",
      "2     52  female    1     own        moderate                             362   \n",
      "3     58  female    1     own          little           little            385   \n",
      "4     23  female    2    rent          little             rich            392   \n",
      "..   ...     ...  ...     ...             ...              ...            ...   \n",
      "995   68    male    3     own          little           little          14896   \n",
      "996   21    male    2     own          little                           15653   \n",
      "997   23    male    2     own          little         moderate          15672   \n",
      "998   43    male    3     own          little           little          15857   \n",
      "999   58    male    2    rent          little         moderate          15945   \n",
      "\n",
      "     duration              purpose  default contract_dt  client_id    cum_sum  \n",
      "0           6                  car        0  2007-05-17        725      250.0  \n",
      "1           6  domestic appliances        0  2007-11-11        458      593.0  \n",
      "2           6                  car        0  2007-07-18        379      955.0  \n",
      "3          12             radio/TV        0  2007-08-13        590     1340.0  \n",
      "4          15            education        0  2008-06-02        111     1732.0  \n",
      "..        ...                  ...      ...         ...        ...        ...  \n",
      "995         6                  car        1  2008-05-09        917  2316021.0  \n",
      "996        60             radio/TV        0  2008-04-26        637  2331674.0  \n",
      "997        48             business        1  2007-11-30        887  2347346.0  \n",
      "998        36      vacation/others        0  2007-05-16        818  2363203.0  \n",
      "999        54             business        1  2007-08-04         95  2379148.0  \n",
      "\n",
      "[1000 rows x 13 columns]\n"
     ]
    },
    {
     "name": "stderr",
     "output_type": "stream",
     "text": [
      "C:\\Users\\Роман\\AppData\\Local\\Temp\\ipykernel_17860\\1740306418.py:5: UserWarning: pandas only supports SQLAlchemy connectable (engine/connection) or database string URI or sqlite3 DBAPI2 connection. Other DBAPI2 objects are not tested. Please consider using SQLAlchemy.\n",
      "  print(pd.read_sql(query_sql, mysql_con))\n"
     ]
    }
   ],
   "source": [
    "query_sql = '''SELECT credit.*,\n",
    "SUM(credit.credit_amount) over (PARTITION BY credit.sex ORDER BY credit.credit_amount) AS cum_sum\n",
    "FROM german_credit AS credit'''\n",
    "\n",
    "print(pd.read_sql(query_sql, mysql_con))"
   ],
   "metadata": {
    "collapsed": false,
    "pycharm": {
     "name": "#%%\n"
    }
   }
  },
  {
   "cell_type": "markdown",
   "source": [
    "### RANK"
   ],
   "metadata": {
    "collapsed": false,
    "pycharm": {
     "name": "#%% md\n"
    }
   }
  },
  {
   "cell_type": "code",
   "execution_count": 79,
   "outputs": [
    {
     "name": "stdout",
     "output_type": "stream",
     "text": [
      "     age     sex  job housing saving_accounts checking_account  credit_amount  \\\n",
      "0     32  female    3     own          little         moderate          18424   \n",
      "1     60  female    3    free        moderate         moderate          14782   \n",
      "2     38  female    3    free          little         moderate          12976   \n",
      "3     44  female    3    free          little         moderate          12579   \n",
      "4     24  female    1    rent        moderate                           11590   \n",
      "..   ...     ...  ...     ...             ...              ...            ...   \n",
      "995   39    male    1     own          little                             426   \n",
      "996   38    male    2     own                         moderate            368   \n",
      "997   45    male    1     own          little           little            339   \n",
      "998   52    male    2     own      quite rich           little            338   \n",
      "999   22    male    1    rent          little         moderate            276   \n",
      "\n",
      "     duration          purpose  default contract_dt  client_id  rnk  \n",
      "0          48  vacation/others        1  2007-12-21        915    1  \n",
      "1          60  vacation/others        1  2007-06-11        374    2  \n",
      "2          18              car        1  2008-02-08        381    3  \n",
      "3          24              car        1  2007-06-20         18    4  \n",
      "4          48              car        1  2008-02-29        333    5  \n",
      "..        ...              ...      ...         ...        ...  ...  \n",
      "995         6         radio/TV        0  2008-04-24         26  686  \n",
      "996         6         radio/TV        0  2007-06-25        493  687  \n",
      "997        12        education        0  2007-06-23        157  688  \n",
      "998         6         radio/TV        0  2007-07-13        177  689  \n",
      "999         9              car        0  2007-10-08        309  690  \n",
      "\n",
      "[1000 rows x 13 columns]\n"
     ]
    },
    {
     "name": "stderr",
     "output_type": "stream",
     "text": [
      "C:\\Users\\Роман\\AppData\\Local\\Temp\\ipykernel_17860\\4287232851.py:5: UserWarning: pandas only supports SQLAlchemy connectable (engine/connection) or database string URI or sqlite3 DBAPI2 connection. Other DBAPI2 objects are not tested. Please consider using SQLAlchemy.\n",
      "  print(pd.read_sql(query_sql, mysql_con))\n"
     ]
    }
   ],
   "source": [
    "query_sql = '''SELECT credit.*,\n",
    "rank() over (PARTITION BY credit.sex ORDER BY credit.credit_amount desc) AS rnk\n",
    "FROM german_credit AS credit'''\n",
    "\n",
    "print(pd.read_sql(query_sql, mysql_con))"
   ],
   "metadata": {
    "collapsed": false,
    "pycharm": {
     "name": "#%%\n"
    }
   }
  },
  {
   "cell_type": "markdown",
   "source": [
    "### ROW_NUMBER"
   ],
   "metadata": {
    "collapsed": false,
    "pycharm": {
     "name": "#%% md\n"
    }
   }
  },
  {
   "cell_type": "code",
   "execution_count": 82,
   "outputs": [
    {
     "name": "stdout",
     "output_type": "stream",
     "text": [
      "     age     sex  job housing saving_accounts checking_account  credit_amount  \\\n",
      "0     32  female    3     own          little         moderate          18424   \n",
      "1     60  female    3    free        moderate         moderate          14782   \n",
      "2     38  female    3    free          little         moderate          12976   \n",
      "3     44  female    3    free          little         moderate          12579   \n",
      "4     24  female    1    rent        moderate                           11590   \n",
      "..   ...     ...  ...     ...             ...              ...            ...   \n",
      "995   39    male    1     own          little                             426   \n",
      "996   38    male    2     own                         moderate            368   \n",
      "997   45    male    1     own          little           little            339   \n",
      "998   52    male    2     own      quite rich           little            338   \n",
      "999   22    male    1    rent          little         moderate            276   \n",
      "\n",
      "     duration          purpose  default contract_dt  client_id  row_n  \n",
      "0          48  vacation/others        1  2007-12-21        915      1  \n",
      "1          60  vacation/others        1  2007-06-11        374      2  \n",
      "2          18              car        1  2008-02-08        381      3  \n",
      "3          24              car        1  2007-06-20         18      4  \n",
      "4          48              car        1  2008-02-29        333      5  \n",
      "..        ...              ...      ...         ...        ...    ...  \n",
      "995         6         radio/TV        0  2008-04-24         26    686  \n",
      "996         6         radio/TV        0  2007-06-25        493    687  \n",
      "997        12        education        0  2007-06-23        157    688  \n",
      "998         6         radio/TV        0  2007-07-13        177    689  \n",
      "999         9              car        0  2007-10-08        309    690  \n",
      "\n",
      "[1000 rows x 13 columns]\n"
     ]
    },
    {
     "name": "stderr",
     "output_type": "stream",
     "text": [
      "C:\\Users\\Роман\\AppData\\Local\\Temp\\ipykernel_17860\\3903374365.py:5: UserWarning: pandas only supports SQLAlchemy connectable (engine/connection) or database string URI or sqlite3 DBAPI2 connection. Other DBAPI2 objects are not tested. Please consider using SQLAlchemy.\n",
      "  print(pd.read_sql(query_sql, mysql_con))\n"
     ]
    }
   ],
   "source": [
    "query_sql = '''SELECT credit.*,\n",
    "row_number() over (PARTITION BY credit.sex ORDER BY credit.credit_amount desc) AS row_n\n",
    "FROM german_credit AS credit'''\n",
    "\n",
    "print(pd.read_sql(query_sql, mysql_con))"
   ],
   "metadata": {
    "collapsed": false,
    "pycharm": {
     "name": "#%%\n"
    }
   }
  },
  {
   "cell_type": "code",
   "execution_count": null,
   "outputs": [],
   "source": [],
   "metadata": {
    "collapsed": false,
    "pycharm": {
     "name": "#%%\n"
    }
   }
  },
  {
   "cell_type": "code",
   "execution_count": null,
   "outputs": [],
   "source": [],
   "metadata": {
    "collapsed": false,
    "pycharm": {
     "name": "#%%\n"
    }
   }
  },
  {
   "cell_type": "code",
   "execution_count": null,
   "outputs": [],
   "source": [],
   "metadata": {
    "collapsed": false,
    "pycharm": {
     "name": "#%%\n"
    }
   }
  },
  {
   "cell_type": "code",
   "execution_count": null,
   "outputs": [],
   "source": [],
   "metadata": {
    "collapsed": false,
    "pycharm": {
     "name": "#%%\n"
    }
   }
  },
  {
   "cell_type": "markdown",
   "source": [
    "## Встроенные функции"
   ],
   "metadata": {
    "collapsed": false,
    "pycharm": {
     "name": "#%% md\n"
    }
   }
  },
  {
   "cell_type": "code",
   "execution_count": 28,
   "outputs": [],
   "source": [],
   "metadata": {
    "collapsed": false,
    "pycharm": {
     "name": "#%%\n"
    }
   }
  }
 ],
 "metadata": {
  "kernelspec": {
   "display_name": "Python 3 (ipykernel)",
   "language": "python",
   "name": "python3"
  },
  "language_info": {
   "codemirror_mode": {
    "name": "ipython",
    "version": 3
   },
   "file_extension": ".py",
   "mimetype": "text/x-python",
   "name": "python",
   "nbconvert_exporter": "python",
   "pygments_lexer": "ipython3",
   "version": "3.9.12"
  }
 },
 "nbformat": 4,
 "nbformat_minor": 5
}